{
 "cells": [
  {
   "cell_type": "markdown",
   "id": "2be3d86e",
   "metadata": {},
   "source": [
    "## Level 1 – Welcome Message for a Dataset\n"
   ]
  },
  {
   "cell_type": "code",
   "execution_count": 1,
   "id": "ca78b71f",
   "metadata": {},
   "outputs": [
    {
     "name": "stdout",
     "output_type": "stream",
     "text": [
      "Loading dataset: <sales_2024>...\n"
     ]
    }
   ],
   "source": [
    "# Write a function that takes a dataset name as a string\n",
    "# and returns: \"Loading dataset: <dataset_name>...\"\n",
    "# Example: load_message(\"sales_2024\") → \"Loading dataset: sales_2024...\"\n",
    "sales_2024 = {200, 400, 340, 2000}\n",
    "\n",
    "\n",
    "def loadingData(nama_dataset):\n",
    "    print(f\"Loading dataset: <{nama_dataset}>...\")\n",
    "\n",
    "\n",
    "loadingData(\"sales_2024\")"
   ]
  },
  {
   "cell_type": "markdown",
   "id": "4694c097",
   "metadata": {},
   "source": [
    "## Level 2 – Convert Celsius to Fahrenheit\n"
   ]
  },
  {
   "cell_type": "code",
   "execution_count": null,
   "id": "c828a150",
   "metadata": {},
   "outputs": [
    {
     "name": "stdout",
     "output_type": "stream",
     "text": [
      "Temperature in Fahrenheit is  104.0  °F\n"
     ]
    }
   ],
   "source": [
    "# In data preprocessing, you might need to convert temperature units.\n",
    "# Write a function that converts Celsius to Fahrenheit.\n",
    "# Formula: (°C × 9/5) + 32\n",
    "# Example: celsius_to_fahrenheit(25) → 77.0\n",
    "\n",
    "def convertCelc2Fahr(celciusNumb):\n",
    "    fahrenNumb = (celciusNumb * 9/5) + 32\n",
    "    print(\"Temperature in Fahrenheit is \", fahrenNumb, \" °F\")\n",
    "\n",
    "\n",
    "convertCelc2Fahr(40)"
   ]
  },
  {
   "cell_type": "markdown",
   "id": "8eddc6ab",
   "metadata": {},
   "source": [
    "## Level 3 – Format Currency\n"
   ]
  },
  {
   "cell_type": "code",
   "execution_count": 26,
   "id": "ff6fac9f",
   "metadata": {},
   "outputs": [
    {
     "name": "stdout",
     "output_type": "stream",
     "text": [
      "$1,234,500.50\n"
     ]
    }
   ],
   "source": [
    "# Often in data presentation, we want to display numbers as currency.\n",
    "# Write a function that takes a sales amount (float or int)\n",
    "# and returns it formatted as USD currency with commas and two decimal places.\n",
    "# Example: format_currency(1234567.891) → \"$1,234,567.89\"\n",
    "\n",
    "def salesResultUSD(sales):\n",
    "    sales_USD = float(sales)  # cek input valid/ tidak\n",
    "    # memisahkan yang desimal\n",
    "    bilangan_bulat = int(sales_USD)\n",
    "    bilangan_desimal = int((sales_USD - bilangan_bulat) * 100)\n",
    "\n",
    "    # untuk ambil index dari belakang ke depan\n",
    "    bilangan_bulat = str(bilangan_bulat)\n",
    "    index = -1\n",
    "    str_curr = \"\"\n",
    "\n",
    "    for h in bilangan_bulat:\n",
    "        str_curr = bilangan_bulat[index] + str_curr\n",
    "        index = index - 1\n",
    "        if ((index+1) % 3 == 0):\n",
    "            str_curr = \",\" + str_curr\n",
    "\n",
    "    str_curr = \"$\" + str_curr + \".\" + str(bilangan_desimal)\n",
    "    print(str_curr)\n",
    "\n",
    "\n",
    "salesResultUSD(1234500.5)\n",
    "# salesResultUSD(12500.2)\n",
    "# salesResultUSD(12500.9)"
   ]
  },
  {
   "cell_type": "code",
   "execution_count": null,
   "id": "bfbbe23e",
   "metadata": {},
   "outputs": [
    {
     "name": "stdout",
     "output_type": "stream",
     "text": [
      "65.0\n"
     ]
    }
   ],
   "source": [
    "# konversi currency AUD ke USD dan sebaliknya\n",
    "\n",
    "def convert_currency(amount, initial_cur, final_cur):\n",
    "    initial_cur = initial_cur.upper()\n",
    "    final_cur = final_cur.upper()\n",
    "\n",
    "    # punya database sendiri rate nya berapa\n",
    "    rate = {\n",
    "        \"AUD\": {\n",
    "            \"USD\": 0.65,\n",
    "            \"SGD\": 0.84\n",
    "        },\n",
    "        \"USD\": {\n",
    "            \"AUD\": 1.54\n",
    "        }\n",
    "    }\n",
    "\n",
    "    hasil = amount * rate[initial_cur][final_cur]\n",
    "    print(hasil)\n",
    "\n",
    "\n",
    "convert_currency(100, \"AUD\", \"USD\")"
   ]
  },
  {
   "cell_type": "markdown",
   "id": "28d0e493",
   "metadata": {},
   "source": [
    "notes: untuk mengambil currency rate secara \"live\" kita bisa pakai package punya orang yang namanya API\n",
    "\n",
    "seperti app yang sudah dibungkus, kita bisa send web request, dia bisa respond dan kasih data\n",
    "\n",
    "- banyak yang gratis\n",
    "- biasanya di request untuk login/ subscribe berbayar oleh\n",
    "\n",
    "untuk contoh currency diatas, kita bisa pakai API https://www.geeksforgeeks.org/python/currency-converter-in-python/\n"
   ]
  },
  {
   "cell_type": "code",
   "execution_count": null,
   "id": "5993fce7",
   "metadata": {},
   "outputs": [],
   "source": [
    "# range bisa dipakai untuk angka urut dari 0, +1 +1 seterusnya\n",
    "range(5)  # 0,1,2,3,4\n",
    "\n",
    "# bisa juga untuk hitungan nya increment nya bukan +1, custom increment\n",
    "range(100, 10)  # 0,10,20,30,...,90\n",
    "\n",
    "# bisa juga kita atur start dan end point nya, sambil atur increment nya\n",
    "# range(start, end, increment)\n",
    "range(100, 1000, 225)  # 100, 325, 550, 775\n",
    "range(1000, 250, -1000)  # 1000, 750, 500, 250, 0, -250, -500, -750"
   ]
  },
  {
   "cell_type": "markdown",
   "id": "e57d39e8",
   "metadata": {},
   "source": [
    "## Level 4 – Clean Column Name\n"
   ]
  },
  {
   "cell_type": "code",
   "execution_count": 39,
   "id": "7c17791b",
   "metadata": {},
   "outputs": [
    {
     "name": "stdout",
     "output_type": "stream",
     "text": [
      "total_sales\n"
     ]
    }
   ],
   "source": [
    "# In real datasets, column names can be messy.\n",
    "# Write a function that takes a column name string and:\n",
    "# - replaces spaces with underscores\n",
    "# - converts everything to lowercase\n",
    "# Example: clean_column_name(\"Total Sales\") → \"total_sales\"\n",
    "\n",
    "def clean_column_name(colname):\n",
    "    # ubah string colname menjadi snake_case\n",
    "    colname = colname.replace(\" \", \"_\")\n",
    "    colname = colname.lower()\n",
    "\n",
    "    print(colname)\n",
    "\n",
    "\n",
    "def clean_column_name(colname):\n",
    "    new_col_name = \"\"\n",
    "    for h in colname:\n",
    "        if (h == \" \"):\n",
    "            new_col_name = new_col_name + \"_\"\n",
    "        else:\n",
    "            new_col_name = new_col_name + h.lower()\n",
    "\n",
    "    # print(new_col_name)  # read-only\n",
    "    return new_col_name  # write, dikirim ke tempat function di invoke\n",
    "\n",
    "\n",
    "hasil_col_name = clean_column_name(\"Total Sales\")\n",
    "\n",
    "print(hasil_col_name)"
   ]
  },
  {
   "cell_type": "code",
   "execution_count": 40,
   "id": "a8d375a6",
   "metadata": {},
   "outputs": [
    {
     "data": {
      "text/plain": [
       "'total_sales'"
      ]
     },
     "execution_count": 40,
     "metadata": {},
     "output_type": "execute_result"
    }
   ],
   "source": [
    "hasil_col_name"
   ]
  },
  {
   "cell_type": "markdown",
   "id": "87c836d9",
   "metadata": {},
   "source": [
    "## Level 5 – Filter Above Threshold\n"
   ]
  },
  {
   "cell_type": "code",
   "execution_count": null,
   "id": "a33ab28d",
   "metadata": {},
   "outputs": [],
   "source": [
    "# Write a function that takes a list of numbers and a threshold,\n",
    "# and returns a new list containing only the numbers greater than the threshold.\n",
    "# Example: filter_above_threshold([5, 12, 7, 20], 10) → [12, 20]\n",
    "\n",
    "# numbersList = [5, 12, 7, 20]\n",
    "# threshold = 10\n",
    "\n",
    "\n",
    "def filter_above_threshold(numbersList, threshold):\n",
    "    hasil = []\n",
    "\n",
    "    for i in numbersList:\n",
    "        # print(i)\n",
    "        if i > threshold:\n",
    "            hasil = hasil + [i]\n",
    "\n",
    "        # print(hasil)\n",
    "\n",
    "    return hasil  # semua yg di return balik ke tempat function nya di invoke\n",
    "\n",
    "\n",
    "hasil_output = filter_above_threshold([5, 12, 7, 20], 10)"
   ]
  },
  {
   "cell_type": "code",
   "execution_count": null,
   "id": "fe274995",
   "metadata": {},
   "outputs": [
    {
     "name": "stdout",
     "output_type": "stream",
     "text": [
      "[12, 20]\n"
     ]
    }
   ],
   "source": [
    "print(hasil_output)  # print tidak menyimpan data ke variable"
   ]
  },
  {
   "cell_type": "markdown",
   "id": "9d14f250",
   "metadata": {},
   "source": [
    "## Level 6 – Top N Customers\n"
   ]
  },
  {
   "cell_type": "code",
   "execution_count": 57,
   "id": "1dc1cdb9",
   "metadata": {},
   "outputs": [
    {
     "name": "stdout",
     "output_type": "stream",
     "text": [
      "Top customer ke-1 adalah Charlie dengan value 400\n"
     ]
    },
    {
     "data": {
      "text/plain": [
       "[('Charlie', 400)]"
      ]
     },
     "execution_count": 57,
     "metadata": {},
     "output_type": "execute_result"
    }
   ],
   "source": [
    "# Write a function that takes a dictionary of customer: sales_value\n",
    "# and an integer n, and returns the top n customers by sales value\n",
    "# as a list of (customer, sales) tuples.\n",
    "# Example:\n",
    "# top_customers({\"Alice\": 300, \"Bob\": 150, \"Charlie\": 400}, 2)\n",
    "# → [(\"Charlie\", 400), (\"Alice\", 300)]\n",
    "\n",
    "def top_customers(dict_customers, n):\n",
    "    # dict_customers berisi nama_customer:sales_value\n",
    "    # n adalah jumlah customer yang diurutkan dari sales tertinggi ke terendah, top n customers\n",
    "\n",
    "    # hasil outputnya mau berbentuk list[] isi tuple(), tuplenya berisi nama dan sales_value customer\n",
    "\n",
    "    top_cust_list = []\n",
    "    for i in range(n):\n",
    "        # baca customer2nya\n",
    "        max_value = 0\n",
    "        max_cust = \"\"\n",
    "        for nama_cust in dict_customers:\n",
    "            sales_value = dict_customers[nama_cust]\n",
    "            # print(nama_cust, sales_value)\n",
    "\n",
    "            # ambil yang punya sales_value tertinggi\n",
    "            if (sales_value > max_value):\n",
    "                max_value = sales_value\n",
    "                max_cust = nama_cust\n",
    "\n",
    "        print(\n",
    "            f\"Top customer ke-{i+1} adalah {max_cust} dengan value {max_value}\")\n",
    "        top_cust_list = top_cust_list + [(max_cust, max_value)]\n",
    "\n",
    "        del dict_customers[max_cust]\n",
    "\n",
    "    return top_cust_list\n",
    "\n",
    "\n",
    "top_customers({\"Alice\": 300, \"Bob\": 150, \"Charlie\": 400}, 1)"
   ]
  },
  {
   "cell_type": "markdown",
   "id": "9165a9d0",
   "metadata": {},
   "source": [
    "## Extra - Modular Function\n",
    "\n",
    "Modular function adalah konsep dimana kita menggunakan beberapa function untuk melakukan suatu hal spesifik\n",
    "\n",
    "Umumnya kita gunakan function yang kegunaannya umum, tapi kita kombinasikan untuk keperluan kita yang lebih spesifik\n"
   ]
  },
  {
   "cell_type": "code",
   "execution_count": 71,
   "id": "9cc64d3c",
   "metadata": {},
   "outputs": [
    {
     "name": "stdout",
     "output_type": "stream",
     "text": [
      "IDR 127.528.908,00\n"
     ]
    }
   ],
   "source": [
    "# kalau kita perlu sebuah function untuk mengubah currency dari USD ke Rupiah misalnya,\n",
    "# sekalian tambahin format Rupiahnya juga jadi IDR 100.000.000,00\n",
    "# dari awalnya US$ 7,800.00\n",
    "\n",
    "# daripada 1 function besar dan panjang, kita bisa pakai beberapa function kecil\n",
    "\n",
    "def USDclean(value_USD):\n",
    "    value_USD = str(value_USD)\n",
    "    value_USD = value_USD.replace(\"U\", \"\")\n",
    "    value_USD = value_USD.replace(\"S\", \"\")\n",
    "    value_USD = value_USD.replace(\"$\", \"\")\n",
    "    value_USD = value_USD.replace(\"D\", \"\")\n",
    "    value_USD = value_USD.replace(\" \", \"\")\n",
    "    value_USD = value_USD.replace(\",\", \"\")\n",
    "    value_USD = float(value_USD)\n",
    "\n",
    "    return value_USD\n",
    "\n",
    "\n",
    "def convertUSDIDR(value_USD):\n",
    "    rateUSDIDR = 16349.86\n",
    "\n",
    "    value_USD = float(value_USD)\n",
    "    value_IDR = value_USD * rateUSDIDR\n",
    "\n",
    "    return value_IDR\n",
    "\n",
    "\n",
    "def formatIDR(value_IDR):\n",
    "    value_IDR = float(value_IDR)  # cek input valid/ tidak\n",
    "    # memisahkan yang desimal\n",
    "    bilangan_bulat = int(value_IDR)\n",
    "    bilangan_desimal = int((value_IDR - bilangan_bulat) * 100)\n",
    "\n",
    "    # untuk ambil index dari belakang ke depan\n",
    "    bilangan_bulat = str(bilangan_bulat)\n",
    "    index = -1\n",
    "    str_curr = \"\"\n",
    "\n",
    "    for h in bilangan_bulat:\n",
    "        str_curr = bilangan_bulat[index] + str_curr\n",
    "        index = index - 1\n",
    "\n",
    "        if (((index+1) % 3 == 0)):\n",
    "            str_curr = \".\" + str_curr\n",
    "\n",
    "    # delete leading .\n",
    "    if str_curr[0] == \".\":\n",
    "        str_curr = str_curr[1:]\n",
    "\n",
    "    str_dec = \"00\" if (bilangan_desimal == 0) else str(bilangan_desimal)\n",
    "    str_curr = \"IDR \" + str_curr + \",\" + str_dec\n",
    "    return str_curr\n",
    "\n",
    "\n",
    "value_USD = \"US$ 7,800.00\"\n",
    "angka_USD = USDclean(value_USD)\n",
    "angka_IDR = convertUSDIDR(angka_USD)\n",
    "value_IDR = formatIDR(angka_IDR)\n",
    "\n",
    "print(value_IDR)"
   ]
  }
 ],
 "metadata": {
  "kernelspec": {
   "display_name": "base",
   "language": "python",
   "name": "python3"
  },
  "language_info": {
   "codemirror_mode": {
    "name": "ipython",
    "version": 3
   },
   "file_extension": ".py",
   "mimetype": "text/x-python",
   "name": "python",
   "nbconvert_exporter": "python",
   "pygments_lexer": "ipython3",
   "version": "3.11.7"
  }
 },
 "nbformat": 4,
 "nbformat_minor": 5
}
