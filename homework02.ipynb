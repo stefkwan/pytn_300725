{
 "cells": [
  {
   "cell_type": "markdown",
   "id": "2be3d86e",
   "metadata": {},
   "source": [
    "## Level 1 – Welcome Message for a Dataset"
   ]
  },
  {
   "cell_type": "code",
   "execution_count": null,
   "id": "ca78b71f",
   "metadata": {},
   "outputs": [],
   "source": [
    "# Write a function that takes a dataset name as a string\n",
    "# and returns: \"Loading dataset: <dataset_name>...\"\n",
    "# Example: load_message(\"sales_2024\") → \"Loading dataset: sales_2024...\"\n"
   ]
  },
  {
   "cell_type": "markdown",
   "id": "4694c097",
   "metadata": {},
   "source": [
    "## Level 2 – Convert Celsius to Fahrenheit"
   ]
  },
  {
   "cell_type": "code",
   "execution_count": null,
   "id": "c828a150",
   "metadata": {},
   "outputs": [],
   "source": [
    "# In data preprocessing, you might need to convert temperature units.\n",
    "# Write a function that converts Celsius to Fahrenheit.\n",
    "# Formula: (°C × 9/5) + 32\n",
    "# Example: celsius_to_fahrenheit(25) → 77.0\n"
   ]
  },
  {
   "cell_type": "markdown",
   "id": "8eddc6ab",
   "metadata": {},
   "source": [
    "## Level 3 – Format Currency"
   ]
  },
  {
   "cell_type": "code",
   "execution_count": null,
   "id": "ff6fac9f",
   "metadata": {},
   "outputs": [],
   "source": [
    "# Often in data presentation, we want to display numbers as currency.\n",
    "# Write a function that takes a sales amount (float or int)\n",
    "# and returns it formatted as USD currency with commas and two decimal places.\n",
    "# Example: format_currency(1234567.891) → \"$1,234,567.89\"\n"
   ]
  },
  {
   "cell_type": "markdown",
   "id": "e57d39e8",
   "metadata": {},
   "source": [
    "## Level 4 – Clean Column Name"
   ]
  },
  {
   "cell_type": "code",
   "execution_count": null,
   "id": "7c17791b",
   "metadata": {},
   "outputs": [],
   "source": [
    "# In real datasets, column names can be messy.\n",
    "# Write a function that takes a column name string and:\n",
    "# - replaces spaces with underscores\n",
    "# - converts everything to lowercase\n",
    "# Example: clean_column_name(\"Total Sales\") → \"total_sales\"\n"
   ]
  },
  {
   "cell_type": "markdown",
   "id": "87c836d9",
   "metadata": {},
   "source": [
    "## Level 5 – Filter Above Threshold"
   ]
  },
  {
   "cell_type": "code",
   "execution_count": null,
   "id": "a33ab28d",
   "metadata": {},
   "outputs": [],
   "source": [
    "# Write a function that takes a list of numbers and a threshold,\n",
    "# and returns a new list containing only the numbers greater than the threshold.\n",
    "# Example: filter_above_threshold([5, 12, 7, 20], 10) → [12, 20]\n"
   ]
  },
  {
   "cell_type": "markdown",
   "id": "9d14f250",
   "metadata": {},
   "source": [
    "## Level 6 – Top N Customers"
   ]
  },
  {
   "cell_type": "code",
   "execution_count": null,
   "id": "1dc1cdb9",
   "metadata": {},
   "outputs": [],
   "source": [
    "# Write a function that takes a dictionary of customer: sales_value\n",
    "# and an integer n, and returns the top n customers by sales value\n",
    "# as a list of (customer, sales) tuples.\n",
    "# Example:\n",
    "# top_customers({\"Alice\": 300, \"Bob\": 150, \"Charlie\": 400}, 2)\n",
    "# → [(\"Charlie\", 400), (\"Alice\", 300)]\n"
   ]
  }
 ],
 "metadata": {
  "kernelspec": {
   "display_name": "Python 3",
   "language": "python",
   "name": "python3"
  },
  "language_info": {
   "name": "python",
   "pygments_lexer": "ipython3"
  }
 },
 "nbformat": 4,
 "nbformat_minor": 5
}
