{
 "cells": [
  {
   "cell_type": "markdown",
   "id": "2be3d86e",
   "metadata": {},
   "source": [
    "## Level 1 – Welcome Message for a Dataset"
   ]
  },
  {
   "cell_type": "code",
   "execution_count": null,
   "id": "1fc1c557",
   "metadata": {},
   "outputs": [],
   "source": []
  },
  {
   "cell_type": "code",
   "execution_count": 7,
   "id": "ca78b71f",
   "metadata": {},
   "outputs": [
    {
     "name": "stdout",
     "output_type": "stream",
     "text": [
      "Loading dataset: <sales_2024>...\n"
     ]
    }
   ],
   "source": [
    "# Write a function that takes a dataset name as a string\n",
    "# and returns: \"Loading dataset: <dataset_name>...\"\n",
    "# Example: load_message(\"sales_2024\") → \"Loading dataset: sales_2024...\"\n",
    "sales_2024 = {200,400,340,2000}\n",
    "def loadingData(sales_2024):\n",
    "    print(\"Loading dataset: <sales_2024>...\")\n",
    "\n",
    "loadingData(sales_2024)"
   ]
  },
  {
   "cell_type": "markdown",
   "id": "4694c097",
   "metadata": {},
   "source": [
    "## Level 2 – Convert Celsius to Fahrenheit"
   ]
  },
  {
   "cell_type": "code",
   "execution_count": 8,
   "id": "c828a150",
   "metadata": {},
   "outputs": [
    {
     "name": "stdout",
     "output_type": "stream",
     "text": [
      "Temperature in Fahrenheit is  104.0  °F\n"
     ]
    }
   ],
   "source": [
    "# In data preprocessing, you might need to convert temperature units.\n",
    "# Write a function that converts Celsius to Fahrenheit.\n",
    "# Formula: (°C × 9/5) + 32\n",
    "# Example: celsius_to_fahrenheit(25) → 77.0\n",
    "\n",
    "def convertCelc2Fahr(celciusNumb):\n",
    "    fahrenNumb = (celciusNumb * 9/5) + 32\n",
    "    print(\"Temperature in Fahrenheit is \", fahrenNumb, \" °F\")\n",
    "\n",
    "convertCelc2Fahr (40)\n"
   ]
  },
  {
   "cell_type": "markdown",
   "id": "8eddc6ab",
   "metadata": {},
   "source": [
    "## Level 3 – Format Currency"
   ]
  },
  {
   "cell_type": "code",
   "execution_count": 12,
   "id": "ff6fac9f",
   "metadata": {},
   "outputs": [
    {
     "name": "stdout",
     "output_type": "stream",
     "text": [
      "447.76119402985074\n"
     ]
    }
   ],
   "source": [
    "# Often in data presentation, we want to display numbers as currency.\n",
    "# Write a function that takes a sales amount (float or int)\n",
    "# and returns it formatted as USD currency with commas and two decimal places.\n",
    "# Example: format_currency(1234567.891) → \"$1,234,567.89\"\n",
    "\n",
    "def salesResultUSD(sales_AUD = input(\"please enter sales in AUD\")):\n",
    "    sales_USD = float(sales_AUD) / 0.67\n",
    "    print(float(sales_USD))\n",
    "\n",
    "salesResultUSD()"
   ]
  },
  {
   "cell_type": "markdown",
   "id": "e57d39e8",
   "metadata": {},
   "source": [
    "## Level 4 – Clean Column Name"
   ]
  },
  {
   "cell_type": "code",
   "execution_count": null,
   "id": "7c17791b",
   "metadata": {},
   "outputs": [],
   "source": [
    "# In real datasets, column names can be messy.\n",
    "# Write a function that takes a column name string and:\n",
    "# - replaces spaces with underscores\n",
    "# - converts everything to lowercase\n",
    "# Example: clean_column_name(\"Total Sales\") → \"total_sales\"\n"
   ]
  },
  {
   "cell_type": "markdown",
   "id": "87c836d9",
   "metadata": {},
   "source": [
    "## Level 5 – Filter Above Threshold"
   ]
  },
  {
   "cell_type": "code",
   "execution_count": 13,
   "id": "a33ab28d",
   "metadata": {},
   "outputs": [
    {
     "data": {
      "text/plain": [
       "{}"
      ]
     },
     "execution_count": 13,
     "metadata": {},
     "output_type": "execute_result"
    }
   ],
   "source": [
    "# Write a function that takes a list of numbers and a threshold,\n",
    "# and returns a new list containing only the numbers greater than the threshold.\n",
    "# Example: filter_above_threshold([5, 12, 7, 20], 10) → [12, 20]\n",
    "\n",
    "numbersList = {5,12,7,20}\n",
    "\n",
    "hasil_output = {}\n",
    "def greaterthan(numbersList,thresholdN):\n",
    "    for i in numbersList:\n",
    "        if i > thresholdN:\n",
    "            hasil_output[i] = hasil_output[i] + 1\n",
    "        else:\n",
    "            hasil_output[i] = 1\n",
    "hasil_output\n",
    "\n"
   ]
  },
  {
   "cell_type": "markdown",
   "id": "9d14f250",
   "metadata": {},
   "source": [
    "## Level 6 – Top N Customers"
   ]
  },
  {
   "cell_type": "code",
   "execution_count": null,
   "id": "1dc1cdb9",
   "metadata": {},
   "outputs": [],
   "source": [
    "# Write a function that takes a dictionary of customer: sales_value\n",
    "# and an integer n, and returns the top n customers by sales value\n",
    "# as a list of (customer, sales) tuples.\n",
    "# Example:\n",
    "# top_customers({\"Alice\": 300, \"Bob\": 150, \"Charlie\": 400}, 2)\n",
    "# → [(\"Charlie\", 400), (\"Alice\", 300)]\n"
   ]
  }
 ],
 "metadata": {
  "kernelspec": {
   "display_name": "base",
   "language": "python",
   "name": "python3"
  },
  "language_info": {
   "codemirror_mode": {
    "name": "ipython",
    "version": 3
   },
   "file_extension": ".py",
   "mimetype": "text/x-python",
   "name": "python",
   "nbconvert_exporter": "python",
   "pygments_lexer": "ipython3",
   "version": "3.13.5"
  }
 },
 "nbformat": 4,
 "nbformat_minor": 5
}
