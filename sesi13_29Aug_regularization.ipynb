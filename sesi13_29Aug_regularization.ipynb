{
 "cells": [
  {
   "cell_type": "markdown",
   "id": "5eede092",
   "metadata": {},
   "source": [
    "# Regularization\n",
    "\n",
    "teknik untuk membuat model lebih \"halus\" supaya tidak overfit. Teknik umum termasuk:\n",
    "\n",
    "- L1: Lasso Regression\n",
    "- L2: Ridge Regression\n",
    "- Elastic Net (gabungan L1 dan L2)\n"
   ]
  },
  {
   "cell_type": "code",
   "execution_count": 17,
   "id": "5bcedf8b",
   "metadata": {},
   "outputs": [],
   "source": [
    "import pandas as pd\n",
    "import numpy as np\n",
    "import matplotlib.pyplot as plt\n",
    "\n",
    "from sklearn.preprocessing import LabelEncoder, PolynomialFeatures\n",
    "from sklearn.model_selection import train_test_split\n",
    "\n",
    "from sklearn.linear_model import LinearRegression, Ridge, Lasso, ElasticNet\n",
    "from sklearn.metrics import root_mean_squared_error\n",
    "\n",
    "from sklearn.decomposition import PCA"
   ]
  },
  {
   "cell_type": "code",
   "execution_count": 2,
   "id": "e0ff4500",
   "metadata": {},
   "outputs": [
    {
     "name": "stdout",
     "output_type": "stream",
     "text": [
      "<class 'pandas.core.frame.DataFrame'>\n",
      "RangeIndex: 1338 entries, 0 to 1337\n",
      "Data columns (total 7 columns):\n",
      " #   Column    Non-Null Count  Dtype  \n",
      "---  ------    --------------  -----  \n",
      " 0   age       1338 non-null   int64  \n",
      " 1   sex       1338 non-null   object \n",
      " 2   bmi       1338 non-null   float64\n",
      " 3   children  1338 non-null   int64  \n",
      " 4   smoker    1338 non-null   object \n",
      " 5   region    1338 non-null   object \n",
      " 6   charges   1338 non-null   float64\n",
      "dtypes: float64(2), int64(2), object(3)\n",
      "memory usage: 73.3+ KB\n"
     ]
    }
   ],
   "source": [
    "# kita coba dengan data insurance\n",
    "df_insurance = pd.read_csv(\"dataset/insurance.csv\")\n",
    "df_insurance.info()"
   ]
  },
  {
   "cell_type": "code",
   "execution_count": 3,
   "id": "cf66408b",
   "metadata": {},
   "outputs": [
    {
     "data": {
      "text/html": [
       "<div>\n",
       "<style scoped>\n",
       "    .dataframe tbody tr th:only-of-type {\n",
       "        vertical-align: middle;\n",
       "    }\n",
       "\n",
       "    .dataframe tbody tr th {\n",
       "        vertical-align: top;\n",
       "    }\n",
       "\n",
       "    .dataframe thead th {\n",
       "        text-align: right;\n",
       "    }\n",
       "</style>\n",
       "<table border=\"1\" class=\"dataframe\">\n",
       "  <thead>\n",
       "    <tr style=\"text-align: right;\">\n",
       "      <th></th>\n",
       "      <th>age</th>\n",
       "      <th>sex</th>\n",
       "      <th>bmi</th>\n",
       "      <th>children</th>\n",
       "      <th>smoker</th>\n",
       "      <th>region</th>\n",
       "      <th>charges</th>\n",
       "    </tr>\n",
       "  </thead>\n",
       "  <tbody>\n",
       "    <tr>\n",
       "      <th>0</th>\n",
       "      <td>19</td>\n",
       "      <td>female</td>\n",
       "      <td>27.900</td>\n",
       "      <td>0</td>\n",
       "      <td>yes</td>\n",
       "      <td>southwest</td>\n",
       "      <td>16884.92400</td>\n",
       "    </tr>\n",
       "    <tr>\n",
       "      <th>1</th>\n",
       "      <td>18</td>\n",
       "      <td>male</td>\n",
       "      <td>33.770</td>\n",
       "      <td>1</td>\n",
       "      <td>no</td>\n",
       "      <td>southeast</td>\n",
       "      <td>1725.55230</td>\n",
       "    </tr>\n",
       "    <tr>\n",
       "      <th>2</th>\n",
       "      <td>28</td>\n",
       "      <td>male</td>\n",
       "      <td>33.000</td>\n",
       "      <td>3</td>\n",
       "      <td>no</td>\n",
       "      <td>southeast</td>\n",
       "      <td>4449.46200</td>\n",
       "    </tr>\n",
       "    <tr>\n",
       "      <th>3</th>\n",
       "      <td>33</td>\n",
       "      <td>male</td>\n",
       "      <td>22.705</td>\n",
       "      <td>0</td>\n",
       "      <td>no</td>\n",
       "      <td>northwest</td>\n",
       "      <td>21984.47061</td>\n",
       "    </tr>\n",
       "    <tr>\n",
       "      <th>4</th>\n",
       "      <td>32</td>\n",
       "      <td>male</td>\n",
       "      <td>28.880</td>\n",
       "      <td>0</td>\n",
       "      <td>no</td>\n",
       "      <td>northwest</td>\n",
       "      <td>3866.85520</td>\n",
       "    </tr>\n",
       "  </tbody>\n",
       "</table>\n",
       "</div>"
      ],
      "text/plain": [
       "   age     sex     bmi  children smoker     region      charges\n",
       "0   19  female  27.900         0    yes  southwest  16884.92400\n",
       "1   18    male  33.770         1     no  southeast   1725.55230\n",
       "2   28    male  33.000         3     no  southeast   4449.46200\n",
       "3   33    male  22.705         0     no  northwest  21984.47061\n",
       "4   32    male  28.880         0     no  northwest   3866.85520"
      ]
     },
     "execution_count": 3,
     "metadata": {},
     "output_type": "execute_result"
    }
   ],
   "source": [
    "df_insurance.head()"
   ]
  },
  {
   "cell_type": "code",
   "execution_count": 5,
   "id": "323d63f3",
   "metadata": {},
   "outputs": [],
   "source": [
    "# rapiin data, pisahkan fitur dan target\n",
    "X = df_insurance.drop(columns=['charges'])\n",
    "y = df_insurance['charges']"
   ]
  },
  {
   "cell_type": "code",
   "execution_count": 10,
   "id": "9b5776ba",
   "metadata": {},
   "outputs": [
    {
     "name": "stdout",
     "output_type": "stream",
     "text": [
      "sex ['female' 'male']\n",
      "smoker ['no' 'yes']\n",
      "region ['northeast' 'northwest' 'southeast' 'southwest']\n"
     ]
    }
   ],
   "source": [
    "# encode data jadi numerik\n",
    "encoder = LabelEncoder()\n",
    "X['sex'] = encoder.fit_transform(X['sex'])\n",
    "print('sex', encoder.classes_)\n",
    "\n",
    "encoder = LabelEncoder()\n",
    "X['smoker'] = encoder.fit_transform(X['smoker'])\n",
    "print('smoker', encoder.classes_)\n",
    "\n",
    "encoder = LabelEncoder()\n",
    "X['region'] = encoder.fit_transform(X['region'])\n",
    "print('region', encoder.classes_)"
   ]
  },
  {
   "cell_type": "code",
   "execution_count": 11,
   "id": "4710ec24",
   "metadata": {},
   "outputs": [
    {
     "data": {
      "text/html": [
       "<div>\n",
       "<style scoped>\n",
       "    .dataframe tbody tr th:only-of-type {\n",
       "        vertical-align: middle;\n",
       "    }\n",
       "\n",
       "    .dataframe tbody tr th {\n",
       "        vertical-align: top;\n",
       "    }\n",
       "\n",
       "    .dataframe thead th {\n",
       "        text-align: right;\n",
       "    }\n",
       "</style>\n",
       "<table border=\"1\" class=\"dataframe\">\n",
       "  <thead>\n",
       "    <tr style=\"text-align: right;\">\n",
       "      <th></th>\n",
       "      <th>age</th>\n",
       "      <th>sex</th>\n",
       "      <th>bmi</th>\n",
       "      <th>children</th>\n",
       "      <th>smoker</th>\n",
       "      <th>region</th>\n",
       "    </tr>\n",
       "  </thead>\n",
       "  <tbody>\n",
       "    <tr>\n",
       "      <th>0</th>\n",
       "      <td>19</td>\n",
       "      <td>0</td>\n",
       "      <td>27.900</td>\n",
       "      <td>0</td>\n",
       "      <td>1</td>\n",
       "      <td>3</td>\n",
       "    </tr>\n",
       "    <tr>\n",
       "      <th>1</th>\n",
       "      <td>18</td>\n",
       "      <td>1</td>\n",
       "      <td>33.770</td>\n",
       "      <td>1</td>\n",
       "      <td>0</td>\n",
       "      <td>2</td>\n",
       "    </tr>\n",
       "    <tr>\n",
       "      <th>2</th>\n",
       "      <td>28</td>\n",
       "      <td>1</td>\n",
       "      <td>33.000</td>\n",
       "      <td>3</td>\n",
       "      <td>0</td>\n",
       "      <td>2</td>\n",
       "    </tr>\n",
       "    <tr>\n",
       "      <th>3</th>\n",
       "      <td>33</td>\n",
       "      <td>1</td>\n",
       "      <td>22.705</td>\n",
       "      <td>0</td>\n",
       "      <td>0</td>\n",
       "      <td>1</td>\n",
       "    </tr>\n",
       "    <tr>\n",
       "      <th>4</th>\n",
       "      <td>32</td>\n",
       "      <td>1</td>\n",
       "      <td>28.880</td>\n",
       "      <td>0</td>\n",
       "      <td>0</td>\n",
       "      <td>1</td>\n",
       "    </tr>\n",
       "  </tbody>\n",
       "</table>\n",
       "</div>"
      ],
      "text/plain": [
       "   age  sex     bmi  children  smoker  region\n",
       "0   19    0  27.900         0       1       3\n",
       "1   18    1  33.770         1       0       2\n",
       "2   28    1  33.000         3       0       2\n",
       "3   33    1  22.705         0       0       1\n",
       "4   32    1  28.880         0       0       1"
      ]
     },
     "execution_count": 11,
     "metadata": {},
     "output_type": "execute_result"
    }
   ],
   "source": [
    "X.head()"
   ]
  },
  {
   "cell_type": "code",
   "execution_count": 13,
   "id": "dc9700d1",
   "metadata": {},
   "outputs": [
    {
     "name": "stdout",
     "output_type": "stream",
     "text": [
      "(936, 6) (936,)\n",
      "(402, 6) (402,)\n"
     ]
    }
   ],
   "source": [
    "# split data jadi train data dan test data\n",
    "X_train, X_test, y_train, y_test = train_test_split(\n",
    "    X, y, test_size=0.3, random_state=8)\n",
    "print(X_train.shape, y_train.shape)\n",
    "print(X_test.shape, y_test.shape)"
   ]
  },
  {
   "cell_type": "markdown",
   "id": "70a4e520",
   "metadata": {},
   "source": [
    "kita coba bandingkan model nya dibuat dengan 4 cara berbeda:\n",
    "\n",
    "- Linear Regression tanpa Regularization\n",
    "- dengan Ridge (L2)\n",
    "- dengan Lasso (L1)\n",
    "- ElasticNet (L1 + L2)\n",
    "\n",
    "Sekalian kita coba gunakan Pipeline supaya 4 model ini bisa kita jalankan dengan 1 set code, bukan copy paste 4 kali\n"
   ]
  },
  {
   "cell_type": "code",
   "execution_count": null,
   "id": "82793e59",
   "metadata": {},
   "outputs": [
    {
     "data": {
      "text/plain": [
       "[5829.388167655626, 5818.734090656937, 5828.77583723319, 8899.36228875477]"
      ]
     },
     "execution_count": 16,
     "metadata": {},
     "output_type": "execute_result"
    }
   ],
   "source": [
    "# perbandingan model dengan dan tanpa regularization\n",
    "model_linear = LinearRegression()\n",
    "model_ridge = Ridge()\n",
    "model_lasso = Lasso()\n",
    "model_elasticnet = ElasticNet()\n",
    "\n",
    "arr_models = [model_linear, model_ridge, model_lasso, model_elasticnet]\n",
    "arr_model_results = []\n",
    "for model in arr_models:\n",
    "    # latih model\n",
    "    model.fit(X_train, y_train)\n",
    "\n",
    "    # pakai model untuk membuat prediksi\n",
    "    y_pred = model.predict(X_test)\n",
    "\n",
    "    # dari hasil prediksi kita bisa test \"akurasi\" model ini misalnya dengan rmse\n",
    "    rmse = root_mean_squared_error(y_test, y_pred)\n",
    "    arr_model_results.append(rmse)\n",
    "\n",
    "arr_model_results"
   ]
  },
  {
   "cell_type": "markdown",
   "id": "3426e0ba",
   "metadata": {},
   "source": [
    "dari hasil rmse nya, terlihat kalau base error dari model linear kita di 5829, regularization hanya berefek sedikit L1 maupun L2 untuk mengurangi error tersebut, tapi elasticnet jadi bertambah banyak. kemungkinan justru elasticnet regularization nya berlebihan hingga model underfit.\n"
   ]
  },
  {
   "cell_type": "markdown",
   "id": "cb2b78c6",
   "metadata": {},
   "source": [
    "untuk dibuat visualisasi impact dari regularization, kita bisa coba gunakan polynomial regression dan gunakan 1 fitur saja\n",
    "\n",
    "kita bisa \"gabungkan\" semua fitur menjadi 1 menggunakan PCA, mengurangi dimensi data tanpa menghapus fitur\n",
    "\n",
    "1. PCA\n",
    "2. Polynomial Regression model\n",
    "3. Compare rmse: no regularization, L1, L2, L1+L2\n",
    "4. Visualize models\n"
   ]
  },
  {
   "cell_type": "code",
   "execution_count": null,
   "id": "13c09f2b",
   "metadata": {},
   "outputs": [],
   "source": [
    "# 1. PCA\n",
    "model_pca = PCA(n_components=1)\n",
    "\n",
    "# kita gunakan data awal lagi sebelum di split\n",
    "X_pca1 = model_pca.fit_transform(X)"
   ]
  },
  {
   "cell_type": "code",
   "execution_count": 20,
   "id": "81537ee9",
   "metadata": {},
   "outputs": [
    {
     "data": {
      "text/plain": [
       "(1338, 1)"
      ]
     },
     "execution_count": 20,
     "metadata": {},
     "output_type": "execute_result"
    }
   ],
   "source": [
    "X_pca1.shape"
   ]
  },
  {
   "cell_type": "code",
   "execution_count": 21,
   "id": "b6d81b43",
   "metadata": {},
   "outputs": [
    {
     "name": "stdout",
     "output_type": "stream",
     "text": [
      "(936, 1) (402, 1) (936,) (402,)\n"
     ]
    }
   ],
   "source": [
    "# split datanya yang sudah di pca\n",
    "X_train, X_test, y_train, y_test = train_test_split(\n",
    "    X_pca1, y, test_size=0.3, random_state=8)\n",
    "\n",
    "print(X_train.shape, X_test.shape, y_train.shape, y_test.shape)"
   ]
  },
  {
   "cell_type": "code",
   "execution_count": 41,
   "id": "849230f0",
   "metadata": {},
   "outputs": [],
   "source": [
    "# prep untuk buat model polynomial regression\n",
    "poly = PolynomialFeatures(degree=100)\n",
    "X_poly_train = poly.fit_transform(X_train)\n",
    "\n",
    "X_poly_test = poly.fit_transform(X_test)"
   ]
  },
  {
   "cell_type": "code",
   "execution_count": 44,
   "id": "60cac2ce",
   "metadata": {},
   "outputs": [
    {
     "name": "stdout",
     "output_type": "stream",
     "text": [
      "Linear 11660.917218004515\n",
      "Ridge 11637.180705542783\n",
      "Lasso 11103.388700197373\n",
      "ElasticNet 11130.881360068266\n"
     ]
    },
    {
     "name": "stderr",
     "output_type": "stream",
     "text": [
      "C:\\Users\\user\\AppData\\Roaming\\Python\\Python311\\site-packages\\sklearn\\linear_model\\_coordinate_descent.py:695: ConvergenceWarning: Objective did not converge. You might want to increase the number of iterations, check the scale of the features or consider increasing regularisation. Duality gap: 6.381e+10, tolerance: 1.398e+07\n",
      "  model = cd_fast.enet_coordinate_descent(\n",
      "C:\\Users\\user\\AppData\\Roaming\\Python\\Python311\\site-packages\\sklearn\\linear_model\\_coordinate_descent.py:695: ConvergenceWarning: Objective did not converge. You might want to increase the number of iterations, check the scale of the features or consider increasing regularisation. Duality gap: 6.391e+10, tolerance: 1.398e+07\n",
      "  model = cd_fast.enet_coordinate_descent(\n"
     ]
    }
   ],
   "source": [
    "# 2. Linear Regression (with Polynomial Features)\n",
    "\n",
    "models = {\n",
    "    \"Linear\": LinearRegression(),\n",
    "    \"Ridge\": Ridge(alpha=10),\n",
    "    \"Lasso\": Lasso(alpha=10),\n",
    "    \"ElasticNet\": ElasticNet(alpha=10, l1_ratio=0.5)\n",
    "}\n",
    "models_fitted = {}\n",
    "for name, model in models.items():\n",
    "    # latih model\n",
    "    model.fit(X_poly_train, y_train)\n",
    "\n",
    "    # simpan model yang sudah dilatih ke dictionary models_fitted\n",
    "    models_fitted[name] = model\n",
    "\n",
    "    # pakai model untuk membuat prediksi\n",
    "    y_pred = model.predict(X_poly_test)\n",
    "\n",
    "    # dari hasil prediksi kita bisa test \"akurasi\" model ini misalnya dengan rmse\n",
    "    rmse = root_mean_squared_error(y_test, y_pred)\n",
    "    print(name, rmse)"
   ]
  },
  {
   "cell_type": "markdown",
   "id": "5eab6472",
   "metadata": {},
   "source": [
    "rmse ke-4 model ini hampir sama jadi mungkin tidak terlihat perbedaan di hasil visualisasi nanti\n"
   ]
  },
  {
   "cell_type": "code",
   "execution_count": 45,
   "id": "8bc3d2c7",
   "metadata": {},
   "outputs": [
    {
     "data": {
      "text/plain": [
       "<matplotlib.collections.PathCollection at 0x14cced5fc10>"
      ]
     },
     "execution_count": 45,
     "metadata": {},
     "output_type": "execute_result"
    },
    {
     "data": {
      "image/png": "[encoded data removed]",
      "text/plain": [
       "<Figure size 640x480 with 1 Axes>"
      ]
     },
     "metadata": {},
     "output_type": "display_data"
    }
   ],
   "source": [
    "# X_pca1 dan y\n",
    "plt.scatter(X_pca1, y)\n",
    "\n",
    "X_poly = poly.fit_transform(X_pca1)\n",
    "y_pred_models = {\n",
    "    \"Linear\": models_fitted['Linear'].predict(X_poly),\n",
    "    \"Ridge\": models_fitted['Ridge'].predict(X_poly),\n",
    "    \"Lasso\": models_fitted['Lasso'].predict(X_poly),\n",
    "    \"ElasticNet\": models_fitted['ElasticNet'].predict(X_poly),\n",
    "}\n",
    "\n",
    "plt.scatter(X_pca1, y_pred_models['Linear'], color='red', marker=\".\")\n",
    "plt.scatter(X_pca1, y_pred_models['Ridge'], color='blue', marker=\".\")\n",
    "plt.scatter(X_pca1, y_pred_models['Lasso'], color='purple', marker=\".\")\n",
    "plt.scatter(X_pca1, y_pred_models['ElasticNet'], color='orange', marker=\".\")"
   ]
  },
  {
   "cell_type": "code",
   "execution_count": null,
   "id": "f691a7eb",
   "metadata": {},
   "outputs": [],
   "source": []
  }
 ],
 "metadata": {
  "kernelspec": {
   "display_name": "base",
   "language": "python",
   "name": "python3"
  },
  "language_info": {
   "codemirror_mode": {
    "name": "ipython",
    "version": 3
   },
   "file_extension": ".py",
   "mimetype": "text/x-python",
   "name": "python",
   "nbconvert_exporter": "python",
   "pygments_lexer": "ipython3",
   "version": "3.11.7"
  }
 },
 "nbformat": 4,
 "nbformat_minor": 5
}
