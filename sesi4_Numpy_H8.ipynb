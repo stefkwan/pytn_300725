{
  "nbformat": 4,
  "nbformat_minor": 0,
  "metadata": {
    "colab": {
      "provenance": []
    },
    "kernelspec": {
      "name": "python3",
      "display_name": "Python 3"
    },
    "language_info": {
      "name": "python"
    }
  },
  "cells": [
    {
      "cell_type": "markdown",
      "source": [
        "# Instalasi"
      ],
      "metadata": {
        "id": "JoXCDeoVKV3N"
      }
    },
    {
      "cell_type": "code",
      "execution_count": null,
      "metadata": {
        "id": "rV5DV_zcJ9lu"
      },
      "outputs": [],
      "source": [
        "!pip install numpy"
      ]
    },
    {
      "cell_type": "markdown",
      "source": [
        "# Dimensi dalam Array\n",
        "\n",
        "- Dimensi dalam array adalah satu tingkat kedalaman array (array bersarang).\n",
        "- array bersarang: adalah array yang memiliki array sebagai elemennya."
      ],
      "metadata": {
        "id": "D8sxjwmyKa5I"
      }
    },
    {
      "cell_type": "code",
      "source": [
        "import numpy as np"
      ],
      "metadata": {
        "id": "5ieGnwluKmE_"
      },
      "execution_count": null,
      "outputs": []
    },
    {
      "cell_type": "markdown",
      "source": [
        "## Array 0 Dimensi (0D)"
      ],
      "metadata": {
        "id": "YKTiRO_CLTe4"
      }
    },
    {
      "cell_type": "markdown",
      "source": [
        "Array 0-D, atau **Skalar**, adalah elemen dalam array. Setiap nilai dalam array adalah array 0-D."
      ],
      "metadata": {
        "id": "0S6oEtvsK5ZK"
      }
    },
    {
      "cell_type": "code",
      "source": [
        "# array 0 Dimensi\n",
        "arr = np.array(42)\n",
        "print(arr)"
      ],
      "metadata": {
        "colab": {
          "base_uri": "https://localhost:8080/"
        },
        "id": "lVQV16Z7K6ng",
        "outputId": "1052f3e8-103c-406b-b5fc-d721a3f9f711"
      },
      "execution_count": null,
      "outputs": [
        {
          "output_type": "stream",
          "name": "stdout",
          "text": [
            "42\n"
          ]
        }
      ]
    },
    {
      "cell_type": "markdown",
      "source": [
        "## Array 1 Dimensi (1D)"
      ],
      "metadata": {
        "id": "YYIufsUlLlZA"
      }
    },
    {
      "cell_type": "markdown",
      "source": [
        "Array dengan 1 dimensi (**vektor**) adalah array yang hanya memiliki satu sumbu (axis). Biasanya array ini disebut sebagai vektor karena elemen-elemennya hanya tersusun dalam satu baris."
      ],
      "metadata": {
        "id": "guYL8NgJLnXQ"
      }
    },
    {
      "cell_type": "code",
      "source": [
        "# Membuat array satu dimensi\n",
        "arr1 = np.array([1, 2, 3, 4])\n",
        "print(arr1)"
      ],
      "metadata": {
        "colab": {
          "base_uri": "https://localhost:8080/"
        },
        "id": "0mFPjJZLKnf4",
        "outputId": "19ec9344-beea-45e8-8f4f-f7eaa1cdca5c"
      },
      "execution_count": null,
      "outputs": [
        {
          "output_type": "stream",
          "name": "stdout",
          "text": [
            "[1 2 3 4]\n"
          ]
        }
      ]
    },
    {
      "cell_type": "markdown",
      "source": [
        "## Array 2 Dimensi (2D)"
      ],
      "metadata": {
        "id": "KgE53jCVLpxf"
      }
    },
    {
      "cell_type": "markdown",
      "source": [
        "Array dengan 2 dimensi adalah array yang memiliki dua sumbu (axis), seperti **matriks**. Dalam hal ini, array terdiri dari beberapa baris dan kolom."
      ],
      "metadata": {
        "id": "xwXdJOFbLr4N"
      }
    },
    {
      "cell_type": "code",
      "source": [
        "# Membuat array 2D\n",
        "arr_2d = np.array([[1, 2, 3], [4, 5, 6], [7, 8, 9]])\n",
        "print(arr_2d)\n"
      ],
      "metadata": {
        "colab": {
          "base_uri": "https://localhost:8080/"
        },
        "id": "ajEDr5MpKpcv",
        "outputId": "d16dad0a-ad25-48fe-a47b-cab4886d7707"
      },
      "execution_count": null,
      "outputs": [
        {
          "output_type": "stream",
          "name": "stdout",
          "text": [
            "[[1 2 3]\n",
            " [4 5 6]\n",
            " [7 8 9]]\n"
          ]
        }
      ]
    },
    {
      "cell_type": "markdown",
      "source": [
        "## Array 3 Dimensi (3D)"
      ],
      "metadata": {
        "id": "B_IQ5IgaL5Tw"
      }
    },
    {
      "cell_type": "markdown",
      "source": [
        "Array dengan 3 dimensi adalah array yang memiliki tiga sumbu. Array 3D memiliki \"kedalaman\" selain baris dan kolom."
      ],
      "metadata": {
        "id": "gTGMA8zfL7J5"
      }
    },
    {
      "cell_type": "code",
      "source": [
        "# Membuat array 3D\n",
        "arr_3d = np.array([[[1, 2], [3, 4]], [[5, 6], [7, 8]]])\n",
        "print(arr_3d)\n"
      ],
      "metadata": {
        "colab": {
          "base_uri": "https://localhost:8080/"
        },
        "id": "UppcT0jlL2oQ",
        "outputId": "a679de08-3ddd-41ab-b6c5-4b9fafef851f"
      },
      "execution_count": null,
      "outputs": [
        {
          "output_type": "stream",
          "name": "stdout",
          "text": [
            "[[[1 2]\n",
            "  [3 4]]\n",
            "\n",
            " [[5 6]\n",
            "  [7 8]]]\n"
          ]
        }
      ]
    },
    {
      "cell_type": "markdown",
      "source": [
        "# ndim & ndmin"
      ],
      "metadata": {
        "id": "39Ej12gsMU-R"
      }
    },
    {
      "cell_type": "markdown",
      "source": [
        "NumPy Arrays menyediakan ***ndim*** atribut yang mengembalikan bilangan bulat yang memberi tahu kita berapa banyak dimensi yang dimiliki array."
      ],
      "metadata": {
        "id": "J3dOi2PrMYHy"
      }
    },
    {
      "cell_type": "code",
      "source": [
        "a = np.array(42)\n",
        "b = np.array([1, 2, 3, 4, 5])\n",
        "c = np.array([[1, 2, 3], [4, 5, 6]])\n",
        "d = np.array([[[1, 2, 3], [4, 5, 6]], [[1, 2, 3], [4, 5, 6]]])\n",
        "print(a.ndim)\n",
        "print(b.ndim)\n",
        "print(c.ndim)\n",
        "print(d.ndim)"
      ],
      "metadata": {
        "colab": {
          "base_uri": "https://localhost:8080/"
        },
        "id": "p7GxyAD_L9Tk",
        "outputId": "6625b7c1-bb29-4140-97d1-12672a5655bf"
      },
      "execution_count": null,
      "outputs": [
        {
          "output_type": "stream",
          "name": "stdout",
          "text": [
            "0\n",
            "1\n",
            "2\n",
            "3\n"
          ]
        }
      ]
    },
    {
      "cell_type": "markdown",
      "source": [
        "Sebuah array dapat memiliki sejumlah dimensi.\n",
        "\n",
        "Saat array dibuat, Anda dapat menentukan **jumlah dimensi** dengan menggunakan ***ndmin*** argumen."
      ],
      "metadata": {
        "id": "NJRTzexMMegH"
      }
    },
    {
      "cell_type": "code",
      "source": [
        "arr = np.array([1, 2, 3, 4], ndmin=5)\n",
        "\n",
        "print(arr)\n",
        "print('number of dimensions :', arr.ndim)"
      ],
      "metadata": {
        "colab": {
          "base_uri": "https://localhost:8080/"
        },
        "id": "kukpX7_mMagn",
        "outputId": "e344ccc7-8624-425e-d0a6-2c40076c3bb6"
      },
      "execution_count": null,
      "outputs": [
        {
          "output_type": "stream",
          "name": "stdout",
          "text": [
            "[[[[[1 2 3 4]]]]]\n",
            "number of dimensions : 5\n"
          ]
        }
      ]
    },
    {
      "cell_type": "markdown",
      "source": [
        "# zeros, empty & random"
      ],
      "metadata": {
        "id": "YmqLK835MrGI"
      }
    },
    {
      "cell_type": "code",
      "source": [
        "print(np.zeros(6), \"\\n\")\n",
        "# print(np.ones(6),\"\\n\")\n",
        "\n",
        "#membuat array yang konten awalnya acak dan bergantung pada status memori.\n",
        "print(np.empty(6))\n",
        "\n",
        "b = np.empty(2, dtype = int)\n",
        "print(\"Matrix b : \\n\", b)\n",
        "\n",
        "a = np.empty([2, 2], dtype = int)\n",
        "print(\"\\nMatrix a : \\n\", a)\n",
        "\n",
        "c = np.empty([3, 3])\n",
        "print(\"\\nMatrix c : \\n\", c)"
      ],
      "metadata": {
        "colab": {
          "base_uri": "https://localhost:8080/"
        },
        "id": "i0Cc1hbrMhed",
        "outputId": "8fc12db0-f7ea-4bb9-dc63-be6cf73b16e1"
      },
      "execution_count": null,
      "outputs": [
        {
          "output_type": "stream",
          "name": "stdout",
          "text": [
            "[0. 0. 0. 0. 0. 0.] \n",
            "\n",
            "[0. 0. 0. 0. 0. 0.]\n",
            "Matrix b : \n",
            " [-9093133594791772939      132845646004120]\n",
            "\n",
            "Matrix a : \n",
            " [[     36405337             0]\n",
            " [5063766443163  103079215124]]\n",
            "\n",
            "Matrix c : \n",
            " [[1.846021e-316 0.000000e+000 0.000000e+000]\n",
            " [0.000000e+000 0.000000e+000 0.000000e+000]\n",
            " [0.000000e+000 0.000000e+000 0.000000e+000]]\n"
          ]
        }
      ]
    },
    {
      "cell_type": "code",
      "source": [
        "# contoh random\n",
        "print(np.random.random(6))"
      ],
      "metadata": {
        "colab": {
          "base_uri": "https://localhost:8080/"
        },
        "id": "gRwU9uHfM4N7",
        "outputId": "d1f030dd-3e11-45ce-b857-96de95cc76c8"
      },
      "execution_count": null,
      "outputs": [
        {
          "output_type": "stream",
          "name": "stdout",
          "text": [
            "[0.48863384 0.25685633 0.09760186 0.87496104 0.0210428  0.2826921 ]\n"
          ]
        }
      ]
    },
    {
      "cell_type": "code",
      "source": [
        "# random normal untuk membuar distribusi normal\n",
        "print(np.random.normal(0, 1, 6))"
      ],
      "metadata": {
        "colab": {
          "base_uri": "https://localhost:8080/"
        },
        "id": "bZnJeCleM5jz",
        "outputId": "19f4b935-40e3-428f-95fa-94461051c924"
      },
      "execution_count": null,
      "outputs": [
        {
          "output_type": "stream",
          "name": "stdout",
          "text": [
            "[ 1.63301664  0.77722507  2.35485844 -0.1308518  -0.20109293  1.11306569]\n"
          ]
        }
      ]
    },
    {
      "cell_type": "code",
      "source": [
        "# random uniform untuk membuar distribusi uniform\n",
        "print(np.random.uniform(0, 1, 6))"
      ],
      "metadata": {
        "colab": {
          "base_uri": "https://localhost:8080/"
        },
        "id": "Kh-LHPyBM-Y6",
        "outputId": "099f4a9d-01a1-4ea4-cc5f-3741a762d691"
      },
      "execution_count": null,
      "outputs": [
        {
          "output_type": "stream",
          "name": "stdout",
          "text": [
            "[0.02459463 0.48532022 0.28642348 0.09583729 0.99328257 0.14348315]\n"
          ]
        }
      ]
    },
    {
      "cell_type": "code",
      "source": [
        "# choice untuk memilih item tertentu secara acak dari beberapa item\n",
        "print(np.random.choice(['a', 'e', 'i', 'o', 'u'], size=10))"
      ],
      "metadata": {
        "colab": {
          "base_uri": "https://localhost:8080/"
        },
        "id": "NHqUHaxUNAeJ",
        "outputId": "d9d23b2a-2525-4ea2-ecae-13a8fdc47957"
      },
      "execution_count": null,
      "outputs": [
        {
          "output_type": "stream",
          "name": "stdout",
          "text": [
            "['i' 'a' 'i' 'o' 'i' 'e' 'a' 'u' 'e' 'u']\n"
          ]
        }
      ]
    },
    {
      "cell_type": "markdown",
      "source": [
        "# Slicing dan Indeksasi"
      ],
      "metadata": {
        "id": "njNgvGV7NZPw"
      }
    },
    {
      "cell_type": "markdown",
      "source": [
        "Slicing memungkinkan kita untuk mengambil bagian tertentu dari array."
      ],
      "metadata": {
        "id": "Q-XiJ8A_NmMl"
      }
    },
    {
      "cell_type": "code",
      "source": [
        "arr = np.array([10, 20, 30, 40, 50])\n",
        "\n",
        "# Mengambil elemen mulai dari index 1 hingga 3\n",
        "sliced_arr = arr[1:4]\n",
        "print(sliced_arr)  # Output: [20 30 40]\n"
      ],
      "metadata": {
        "colab": {
          "base_uri": "https://localhost:8080/"
        },
        "id": "4UH3V6fzNB6A",
        "outputId": "5097db9c-c78b-4f85-e832-51af27f1128e"
      },
      "execution_count": null,
      "outputs": [
        {
          "output_type": "stream",
          "name": "stdout",
          "text": [
            "[20 30 40]\n"
          ]
        }
      ]
    },
    {
      "cell_type": "code",
      "source": [
        "arr = np.array([1, 2, 3, 4, 5, 6, 7])\n",
        "\n",
        "print(arr[1:5])"
      ],
      "metadata": {
        "colab": {
          "base_uri": "https://localhost:8080/"
        },
        "id": "xf_hpkCCOXcK",
        "outputId": "995f520d-b3ab-482b-f289-8bea46a208e2"
      },
      "execution_count": null,
      "outputs": [
        {
          "output_type": "stream",
          "name": "stdout",
          "text": [
            "[2 3 4 5]\n"
          ]
        }
      ]
    },
    {
      "cell_type": "code",
      "source": [
        "arr = np.array([1, 2, 3, 4, 5, 6, 7])\n",
        "print(arr[1:5:2])"
      ],
      "metadata": {
        "colab": {
          "base_uri": "https://localhost:8080/"
        },
        "id": "FkjhQRJyOajY",
        "outputId": "d296bddb-d25b-45b4-e6ee-9a74c4a40e92"
      },
      "execution_count": null,
      "outputs": [
        {
          "output_type": "stream",
          "name": "stdout",
          "text": [
            "[2 4]\n"
          ]
        }
      ]
    },
    {
      "cell_type": "markdown",
      "source": [
        "Misalkan Anda memiliki code berikut:\n",
        "```\n",
        "import numpy as np\n",
        "\n",
        "arr = np.array([[1, 2, 3, 4, 5], [6, 7, 8, 9, 10]])\n",
        "```\n",
        "\n",
        "sekarang tugas Anda adalah memilih elemen-elemen dari array tersebut yang berada pada baris ke-2 (indeks 1) dan kolom ke-2 hingga kolom ke-4 (indeks 1 hingga 3, ingat bahwa Python menggunakan indexing berbasis nol)."
      ],
      "metadata": {
        "id": "8CmK2kBhOxH6"
      }
    },
    {
      "cell_type": "code",
      "source": [
        "arr = np.array([[1, 2, 3, 4, 5], [6, 7, 8, 9, 10]])\n",
        "\n",
        "print(arr[1, 1:4])"
      ],
      "metadata": {
        "colab": {
          "base_uri": "https://localhost:8080/"
        },
        "id": "_eNNdN-POgAV",
        "outputId": "de0279cf-e09e-4e05-d1a2-9801536b688d"
      },
      "execution_count": null,
      "outputs": [
        {
          "output_type": "stream",
          "name": "stdout",
          "text": [
            "[7 8 9]\n"
          ]
        }
      ]
    },
    {
      "cell_type": "code",
      "source": [
        "arr_2d = np.array([[1, 2, 3], [4, 5, 6], [7, 8, 9]])\n",
        "\n",
        "# Mengambil baris pertama\n",
        "first_row = arr_2d[0]\n",
        "print(first_row)  # Output: [1 2 3]"
      ],
      "metadata": {
        "colab": {
          "base_uri": "https://localhost:8080/"
        },
        "id": "Q0aofiisNndq",
        "outputId": "ef1f4fb4-2ed3-4fc7-b0b9-a1152b7a0bd4"
      },
      "execution_count": null,
      "outputs": [
        {
          "output_type": "stream",
          "name": "stdout",
          "text": [
            "[1 2 3]\n"
          ]
        }
      ]
    },
    {
      "cell_type": "code",
      "source": [
        "arr = np.array([1, 2, 3, 4])\n",
        "\n",
        "# Dapatkan elemen ketiga dan keempat dari array dan tambahkan keduanya.\n",
        "print(arr[2] + arr[3])"
      ],
      "metadata": {
        "colab": {
          "base_uri": "https://localhost:8080/"
        },
        "id": "TvLxuo78NpPa",
        "outputId": "bb5a5e9c-9286-4330-9da8-fde81386f192"
      },
      "execution_count": null,
      "outputs": [
        {
          "output_type": "stream",
          "name": "stdout",
          "text": [
            "7\n"
          ]
        }
      ]
    },
    {
      "cell_type": "code",
      "source": [
        "arr = np.array([[1,2,3,4,5], [6,7,8,9,10]])\n",
        "\n",
        "print('2nd element on 1st dim: ', arr[0, 1])"
      ],
      "metadata": {
        "colab": {
          "base_uri": "https://localhost:8080/"
        },
        "id": "hkWUA0FxN3p4",
        "outputId": "e57a6014-5a46-4e4d-8c83-0cf50a005e9b"
      },
      "execution_count": null,
      "outputs": [
        {
          "output_type": "stream",
          "name": "stdout",
          "text": [
            "2nd element on 1st dim:  2\n"
          ]
        }
      ]
    },
    {
      "cell_type": "code",
      "source": [
        "arr = np.array([[1,2,3,4,5], [6,7,8,9,10]])\n",
        "\n",
        "print('Last element from 2nd dim: ', arr[1, -1])"
      ],
      "metadata": {
        "colab": {
          "base_uri": "https://localhost:8080/"
        },
        "id": "Lq3GI7qiOM10",
        "outputId": "977370ca-b439-4ac9-d349-372edc820426"
      },
      "execution_count": null,
      "outputs": [
        {
          "output_type": "stream",
          "name": "stdout",
          "text": [
            "Last element from 2nd dim:  10\n"
          ]
        }
      ]
    },
    {
      "cell_type": "code",
      "source": [
        "# akses elemen ke-3 dari array ke-2 dari array ke-1\n",
        "arr = np.array([[[1, 2, 3], [4, 5, 6]], [[7, 8, 9], [10, 11, 12]]])\n",
        "print(arr[1, 0, 2])"
      ],
      "metadata": {
        "colab": {
          "base_uri": "https://localhost:8080/"
        },
        "id": "Y5KLPg3fN9OB",
        "outputId": "7ce1463e-d0ba-4776-bace-43086b3c075c"
      },
      "execution_count": null,
      "outputs": [
        {
          "output_type": "stream",
          "name": "stdout",
          "text": [
            "9\n"
          ]
        }
      ]
    },
    {
      "cell_type": "markdown",
      "source": [
        "# Copy & View"
      ],
      "metadata": {
        "id": "EJL5V2F-PRth"
      }
    },
    {
      "cell_type": "markdown",
      "source": [
        "Perbedaan utama antara **Copy** dan **View** array adalah bahwa **copy** adalah membuat array baru, dan **view** hanyalah tampilan array aslinya.\n"
      ],
      "metadata": {
        "id": "T-S_yxoiPTWe"
      }
    },
    {
      "cell_type": "markdown",
      "source": [
        "**View** adalah referensi ke array asli, artinya array view akan berbagi data dengan array asli. Jika Anda mengubah nilai dalam array view, nilai tersebut juga akan berubah di array asli, dan sebaliknya. Dengan kata lain, view tidak membuat salinan baru dari data; hanya memberikan \"pandangan\" atau \"referensi\" terhadap data yang ada.\n",
        "\n",
        "Ciri-ciri View:\n",
        "- View mengakses data yang sama dengan array asli.\n",
        "- Perubahan pada view akan mempengaruhi array asli.\n",
        "- Memiliki efisiensi memori yang lebih tinggi karena tidak menyalin data."
      ],
      "metadata": {
        "id": "5FQ3BUD8PkTW"
      }
    },
    {
      "cell_type": "code",
      "source": [
        "import numpy as np\n",
        "\n",
        "# Membuat array asli\n",
        "arr = np.array([1, 2, 3, 4, 5])\n",
        "\n",
        "# Membuat view (referensi) ke array\n",
        "view_arr = arr[1:4]\n",
        "\n",
        "# Menampilkan array asli dan view\n",
        "print(\"Array Asli:\", arr)\n",
        "print(\"Array View:\", view_arr)\n",
        "\n",
        "# Mengubah nilai pada view\n",
        "view_arr[0] = 99\n",
        "\n",
        "# Menampilkan array setelah perubahan pada view\n",
        "print(\"\\nSetelah mengubah view:\")\n",
        "print(\"Array Asli:\", arr)  # Array asli berubah\n",
        "print(\"Array View:\", view_arr)\n"
      ],
      "metadata": {
        "colab": {
          "base_uri": "https://localhost:8080/"
        },
        "id": "gAqTZxwcOQLA",
        "outputId": "eda4281d-0285-40e7-c480-d75633a4ea13"
      },
      "execution_count": null,
      "outputs": [
        {
          "output_type": "stream",
          "name": "stdout",
          "text": [
            "Array Asli: [1 2 3 4 5]\n",
            "Array View: [2 3 4]\n",
            "\n",
            "Setelah mengubah view:\n",
            "Array Asli: [ 1 99  3  4  5]\n",
            "Array View: [99  3  4]\n"
          ]
        }
      ]
    },
    {
      "cell_type": "markdown",
      "source": [
        "**Copy** adalah salinan independen dari array asli. Saat Anda membuat salinan dari sebuah array menggunakan metode copy(), NumPy membuat salinan baru dari data. Artinya, perubahan pada salinan tidak akan mempengaruhi array asli dan sebaliknya.\n",
        "\n",
        "Ciri-ciri Copy:\n",
        "- Copy membuat salinan terpisah dari data asli.\n",
        "- Perubahan pada copy tidak mempengaruhi array asli.\n",
        "- Menggunakan lebih banyak memori karena data disalin."
      ],
      "metadata": {
        "id": "9QcNEEycPxPh"
      }
    },
    {
      "cell_type": "code",
      "source": [
        "import numpy as np\n",
        "\n",
        "# Membuat array asli\n",
        "arr = np.array([1, 2, 3, 4, 5])\n",
        "\n",
        "# Membuat salinan array (copy)\n",
        "copy_arr = arr[1:4].copy()\n",
        "\n",
        "# Menampilkan array asli dan salinan\n",
        "print(\"Array Asli:\", arr)\n",
        "print(\"Array Copy:\", copy_arr)\n",
        "\n",
        "# Mengubah nilai pada copy\n",
        "copy_arr[0] = 99\n",
        "\n",
        "# Menampilkan array setelah perubahan pada copy\n",
        "print(\"\\nSetelah mengubah copy:\")\n",
        "print(\"Array Asli:\", arr)  # Array asli tidak berubah\n",
        "print(\"Array Copy:\", copy_arr)\n"
      ],
      "metadata": {
        "colab": {
          "base_uri": "https://localhost:8080/"
        },
        "id": "0WHgTe1GPrVg",
        "outputId": "6375c8d8-4b86-4b8e-a381-ca9371b7b03b"
      },
      "execution_count": null,
      "outputs": [
        {
          "output_type": "stream",
          "name": "stdout",
          "text": [
            "Array Asli: [1 2 3 4 5]\n",
            "Array Copy: [2 3 4]\n",
            "\n",
            "Setelah mengubah copy:\n",
            "Array Asli: [1 2 3 4 5]\n",
            "Array Copy: [99  3  4]\n"
          ]
        }
      ]
    },
    {
      "cell_type": "markdown",
      "source": [
        "#Array Shape\n",
        "\n"
      ],
      "metadata": {
        "id": "ZFypYiWlP6X5"
      }
    },
    {
      "cell_type": "markdown",
      "source": [
        "Array NumPy memiliki atribut yang disebut ***shape*** yang mengembalikan tuple dengan setiap indeks memiliki jumlah elemen yang sesuai."
      ],
      "metadata": {
        "id": "FxoPCcofP8Db"
      }
    },
    {
      "cell_type": "code",
      "source": [
        "arr = np.array([[1, 2, 3, 4], [5, 6, 7, 8]])\n",
        "\n",
        "print(arr.shape)"
      ],
      "metadata": {
        "colab": {
          "base_uri": "https://localhost:8080/"
        },
        "id": "tqs9vFooP1jq",
        "outputId": "8243d992-d3ad-46c3-924b-647e49cef91f"
      },
      "execution_count": null,
      "outputs": [
        {
          "output_type": "stream",
          "name": "stdout",
          "text": [
            "(2, 4)\n"
          ]
        }
      ]
    },
    {
      "cell_type": "code",
      "source": [
        "arr = np.array([1, 2, 3, 4], ndmin=5)\n",
        "\n",
        "print(arr)\n",
        "print('shape of array :', arr.shape)"
      ],
      "metadata": {
        "colab": {
          "base_uri": "https://localhost:8080/"
        },
        "id": "MTQcfR9eP9t5",
        "outputId": "0fde1072-ca25-4fb6-8dea-afce95659460"
      },
      "execution_count": null,
      "outputs": [
        {
          "output_type": "stream",
          "name": "stdout",
          "text": [
            "[[[[[1 2 3 4]]]]]\n",
            "shape of array : (1, 1, 1, 1, 4)\n"
          ]
        }
      ]
    },
    {
      "cell_type": "markdown",
      "source": [
        "#NumPy Array Reshaping\n",
        "\n",
        "\n",
        "\n"
      ],
      "metadata": {
        "id": "hnDrWRV7Qf5E"
      }
    },
    {
      "cell_type": "markdown",
      "source": [
        "- Reshaping berarti mengubah bentuk array.\n",
        "- Bentuk array adalah jumlah elemen dalam setiap dimensi.\n",
        "- Dengan membentuk kembali (reshaping) kita dapat menambah atau menghapus dimensi atau mengubah jumlah elemen di setiap dimensi."
      ],
      "metadata": {
        "id": "umKxUQfIQiHA"
      }
    },
    {
      "cell_type": "markdown",
      "source": [
        "Reshape Array 1D menjadi 2D:\n"
      ],
      "metadata": {
        "id": "nMKsG7zhRGz-"
      }
    },
    {
      "cell_type": "code",
      "source": [
        "arr = np.array([1, 2, 3, 4, 5, 6, 7, 8, 9, 10, 11, 12])\n",
        "reshaped_arr = arr.reshape(3, 4)\n",
        "print(reshaped_arr)"
      ],
      "metadata": {
        "colab": {
          "base_uri": "https://localhost:8080/"
        },
        "id": "wiUr-yQTQBUX",
        "outputId": "166c08db-f45d-47ba-9bba-a2d320d17a23"
      },
      "execution_count": null,
      "outputs": [
        {
          "output_type": "stream",
          "name": "stdout",
          "text": [
            "[[ 1  2  3  4]\n",
            " [ 5  6  7  8]\n",
            " [ 9 10 11 12]]\n"
          ]
        }
      ]
    },
    {
      "cell_type": "markdown",
      "source": [
        "Reshape Array 2D menjadi 1D:"
      ],
      "metadata": {
        "id": "hidfdAo2RNcB"
      }
    },
    {
      "cell_type": "code",
      "source": [
        "arr_2d = np.array([[1, 2, 3], [4, 5, 6], [7, 8, 9]])\n",
        "reshaped_arr = arr_2d.reshape(-1)\n",
        "print(reshaped_arr)"
      ],
      "metadata": {
        "colab": {
          "base_uri": "https://localhost:8080/"
        },
        "id": "cH40IAENRJLf",
        "outputId": "66a39933-369e-4abf-8041-fc1fde155719"
      },
      "execution_count": null,
      "outputs": [
        {
          "output_type": "stream",
          "name": "stdout",
          "text": [
            "[1 2 3 4 5 6 7 8 9]\n"
          ]
        }
      ]
    },
    {
      "cell_type": "markdown",
      "source": [
        "Reshape dengan Dimensi yang Tidak Sesuai:"
      ],
      "metadata": {
        "id": "IammWBruRS81"
      }
    },
    {
      "cell_type": "code",
      "source": [
        "arr = np.array([1, 2, 3, 4, 5, 6])\n",
        "try:\n",
        "    reshaped_arr = arr.reshape(2, 4)\n",
        "    print(reshaped_arr)\n",
        "except ValueError as e:\n",
        "    print(f\"Error: {e}\")\n"
      ],
      "metadata": {
        "colab": {
          "base_uri": "https://localhost:8080/"
        },
        "id": "EtxZSuuURQYm",
        "outputId": "a24efef1-91fa-4472-efcc-4700be0945b5"
      },
      "execution_count": null,
      "outputs": [
        {
          "output_type": "stream",
          "name": "stdout",
          "text": [
            "Error: cannot reshape array of size 6 into shape (2,4)\n"
          ]
        }
      ]
    },
    {
      "cell_type": "markdown",
      "source": [
        "# Unknown Dimension\n",
        "\n",
        "Anda diperbolehkan memiliki satu dimensi \"tidak diketahui\".\n",
        "\n",
        "Artinya Anda tidak perlu menentukan angka pasti untuk salah satu dimensi dalam metode reshape.\n"
      ],
      "metadata": {
        "id": "cQQ9gcCYRekD"
      }
    },
    {
      "cell_type": "markdown",
      "source": [
        "Contoh, konversi array 1D dengan 8 elemen ke array 3D dengan elemen 2x2:"
      ],
      "metadata": {
        "id": "mqwjWGAbRxF-"
      }
    },
    {
      "cell_type": "code",
      "source": [
        "arr = np.array([1, 2, 3, 4, 5, 6, 7, 8])\n",
        "newarr = arr.reshape(2, 2, -1)\n",
        "print(newarr)"
      ],
      "metadata": {
        "colab": {
          "base_uri": "https://localhost:8080/"
        },
        "id": "YGhIBDMjRV0T",
        "outputId": "c74dff2f-0dd3-408a-a3a9-f70a2068f677"
      },
      "execution_count": null,
      "outputs": [
        {
          "output_type": "stream",
          "name": "stdout",
          "text": [
            "[[[1 2]\n",
            "  [3 4]]\n",
            "\n",
            " [[5 6]\n",
            "  [7 8]]]\n"
          ]
        }
      ]
    },
    {
      "cell_type": "markdown",
      "source": [
        "# Flattening & Ravel"
      ],
      "metadata": {
        "id": "2hxnT-RVR9VY"
      }
    },
    {
      "cell_type": "markdown",
      "source": [
        "Flattening array berarti mengubah array multidimensi menjadi array 1D.\n",
        "\n",
        "Kita bisa gunakan reshape(-1)untuk melakukan ini."
      ],
      "metadata": {
        "id": "3oF1ZyvxSCw6"
      }
    },
    {
      "cell_type": "code",
      "source": [
        "arr = np.array([[1, 2, 3], [4, 5, 6]])\n",
        "newarr = arr.reshape(-1)\n",
        "print(newarr)"
      ],
      "metadata": {
        "colab": {
          "base_uri": "https://localhost:8080/"
        },
        "id": "9kUUt1IUR0Xy",
        "outputId": "dcc23326-38b6-4c3b-df70-0cec56b475c4"
      },
      "execution_count": null,
      "outputs": [
        {
          "output_type": "stream",
          "name": "stdout",
          "text": [
            "[1 2 3 4 5 6]\n"
          ]
        }
      ]
    },
    {
      "cell_type": "markdown",
      "source": [
        "Fungsi **flatten()** adalah fungsi yang digunakan untuk mengubah array dengan dimensi lebih tinggi (seperti array 2D, 3D, dll.) menjadi array 1D (vektor). Fungsi ini mengembalikan salinan baru dari array yang telah \"datar\" atau satu dimensi, tanpa memodifikasi array asli.\n",
        "\n",
        "syntax:\n",
        "```\n",
        "numpy.ndarray.flatten(order='C')\n",
        "```\n",
        "\n",
        "Parameter:\n",
        "\n",
        "- order: Opsional, menentukan urutan pengurutan elemen saat meratakan array.\n",
        "  - 'C': Pengurutan baris per baris (default).\n",
        "  - 'F': Pengurutan kolom per kolom (mirip dengan kolom dalam bahasa Fortran).\n",
        "\n"
      ],
      "metadata": {
        "id": "CS7UfFNaSHyj"
      }
    },
    {
      "cell_type": "code",
      "source": [
        "arr = np.array([\n",
        "    [1, 2, 3],\n",
        "     [4, 5, 6]\n",
        " ])\n",
        "newarr = arr.flatten()\n",
        "print(newarr)"
      ],
      "metadata": {
        "colab": {
          "base_uri": "https://localhost:8080/"
        },
        "id": "gdOKbu2ESGEN",
        "outputId": "b3c7c70a-492d-4c98-aa6f-d184dd282999"
      },
      "execution_count": null,
      "outputs": [
        {
          "output_type": "stream",
          "name": "stdout",
          "text": [
            "[1 2 3 4 5 6]\n"
          ]
        }
      ]
    },
    {
      "cell_type": "code",
      "source": [
        "arr = np.array([\n",
        "    [1, 2, 3],\n",
        "     [4, 5, 6]])\n",
        "newarr = arr.flatten(order='F')\n",
        "print(newarr)"
      ],
      "metadata": {
        "colab": {
          "base_uri": "https://localhost:8080/"
        },
        "id": "gvsG3KL5TLOa",
        "outputId": "f0304314-fe7f-4e52-ec4f-2cbb7bbacf4b"
      },
      "execution_count": null,
      "outputs": [
        {
          "output_type": "stream",
          "name": "stdout",
          "text": [
            "[1 4 2 5 3 6]\n"
          ]
        }
      ]
    },
    {
      "cell_type": "markdown",
      "source": [
        "**ravel()** adalah fungsi yang digunakan untuk mengubah array multidimensi menjadi array 1D, mirip dengan flatten(). Namun, ada perbedaan penting antara keduanya, yaitu terkait dengan salinan data.\n",
        "\n",
        "- ravel() mengembalikan view (referensi) dari array yang telah diratakan, jika memungkinkan. Artinya, jika array tersebut tidak membutuhkan alokasi ulang memori (misalnya, array sudah dalam bentuk yang dapat diratakan secara langsung), maka ravel() akan mengembalikan referensi ke data asli, bukan salinan baru.\n",
        "\n",
        "- flatten(), di sisi lain, selalu mengembalikan salinan baru dari array yang diratakan, sehingga perubahan pada array hasil ravel() atau array asli dapat mempengaruhi data yang sama jika ravel() mengembalikan view, sementara perubahan pada hasil flatten() tidak akan mempengaruhi array asli.\n",
        "\n",
        "syntax:\n",
        "```\n",
        "numpy.ndarray.ravel(order='C')\n",
        "```\n",
        "\n",
        "Parameter:\n",
        "\n",
        "- order: Opsional, menentukan urutan pengurutan elemen saat meratakan array.\n",
        "  - 'C': Pengurutan baris per baris (default).\n",
        "  - 'F': Pengurutan kolom per kolom (mirip dengan kolom dalam bahasa Fortran).\n"
      ],
      "metadata": {
        "id": "XaQ3DduASYQL"
      }
    },
    {
      "cell_type": "code",
      "source": [
        "import numpy as np\n",
        "x = np.array([[1, 2, 3], [4, 5, 6]])\n",
        "print(np.ravel(x))\n",
        "print(np.ravel(x, order='F'))\n",
        "print(np.ravel(x, order='C'))"
      ],
      "metadata": {
        "colab": {
          "base_uri": "https://localhost:8080/"
        },
        "id": "RoJNmldXSUrG",
        "outputId": "e7ddaa28-b270-42f1-a1cd-ff3c10bc2d05"
      },
      "execution_count": null,
      "outputs": [
        {
          "output_type": "stream",
          "name": "stdout",
          "text": [
            "[1 2 3 4 5 6]\n",
            "[1 4 2 5 3 6]\n",
            "[1 2 3 4 5 6]\n"
          ]
        }
      ]
    },
    {
      "cell_type": "markdown",
      "source": [
        "# Broadcasting"
      ],
      "metadata": {
        "id": "DnHF0OINVCgv"
      }
    },
    {
      "cell_type": "markdown",
      "source": [
        "Broadcasting adalah cara untuk melakukan operasi pada array yang memiliki bentuk atau dimensi yang berbeda.\n",
        "\n"
      ],
      "metadata": {
        "id": "W4e9XRsuVEzl"
      }
    },
    {
      "cell_type": "code",
      "source": [
        "arr = np.array([1, 2, 3])\n",
        "\n",
        "# Penambahan array scalar\n",
        "result = arr + 10\n",
        "print(result)  # Output: [11 12 13]\n"
      ],
      "metadata": {
        "colab": {
          "base_uri": "https://localhost:8080/"
        },
        "id": "ZgvftVgMSfeY",
        "outputId": "1ac2664b-e4c8-4cde-a2dc-135730656ba2"
      },
      "execution_count": null,
      "outputs": [
        {
          "output_type": "stream",
          "name": "stdout",
          "text": [
            "[11 12 13]\n"
          ]
        }
      ]
    },
    {
      "cell_type": "markdown",
      "source": [
        "Penjumlahan Array 1D dengan Array 2D:"
      ],
      "metadata": {
        "id": "jM_8QOQAVS69"
      }
    },
    {
      "cell_type": "code",
      "source": [
        "import numpy as np\n",
        "\n",
        "arr_1d = np.array([1, 2, 3])\n",
        "arr_2d = np.array([[4, 5, 6], [7, 8, 9]])\n",
        "\n",
        "result = arr_1d + arr_2d\n",
        "print(result)\n"
      ],
      "metadata": {
        "colab": {
          "base_uri": "https://localhost:8080/"
        },
        "id": "TKho-RpnVSOK",
        "outputId": "3cc2b1b6-d5a6-483b-ab1a-e2bbc501cfc9"
      },
      "execution_count": null,
      "outputs": [
        {
          "output_type": "stream",
          "name": "stdout",
          "text": [
            "[[ 5  7  9]\n",
            " [ 8 10 12]]\n"
          ]
        }
      ]
    },
    {
      "cell_type": "markdown",
      "source": [
        "Pengurangan Array 2D dengan Array 1D:"
      ],
      "metadata": {
        "id": "P_T7gMGXVb3r"
      }
    },
    {
      "cell_type": "code",
      "source": [
        "arr_2d = np.array([[10, 20, 30], [40, 50, 60]])\n",
        "arr_1d = np.array([1, 2, 3])\n",
        "\n",
        "result = arr_2d - arr_1d\n",
        "print(result)\n"
      ],
      "metadata": {
        "colab": {
          "base_uri": "https://localhost:8080/"
        },
        "id": "cxj16FqvVYfk",
        "outputId": "62f28ad6-6872-4dd5-bc16-2dd11d64cb5b"
      },
      "execution_count": null,
      "outputs": [
        {
          "output_type": "stream",
          "name": "stdout",
          "text": [
            "[[ 9 18 27]\n",
            " [39 48 57]]\n"
          ]
        }
      ]
    },
    {
      "cell_type": "markdown",
      "source": [
        "# Matriks"
      ],
      "metadata": {
        "id": "tpTfYv25Ve0u"
      }
    },
    {
      "cell_type": "markdown",
      "source": [
        "Ingatlah aturan berikut ketika melakukan operasi matriks:\n",
        "- Untuk melakukan penjumlahan matriks atau pengurangan matriks, dua matriks harus memiliki ukuran (dimensi) yang sama. Artinya, jumlah baris dan jumlah kolom kedua matriks harus identik.\n",
        "- Untuk perkalian matriks, syarat yang harus dipenuhi adalah jumlah kolom pada matriks pertama harus sama dengan jumlah baris pada matriks kedua.\n"
      ],
      "metadata": {
        "id": "j5qUufU9Vkze"
      }
    },
    {
      "cell_type": "code",
      "source": [
        "import numpy as np\n",
        "\n",
        "A = np.array([\n",
        "    [1, 2, 3],\n",
        "     [4, 5, 6]\n",
        "    ])\n",
        "\n",
        "B = np.array([\n",
        "    [7, 8, 9],\n",
        "     [10, 11, 12]\n",
        "    ])\n",
        "\n",
        "result = A + B\n",
        "print(result)"
      ],
      "metadata": {
        "colab": {
          "base_uri": "https://localhost:8080/"
        },
        "id": "2uuF3dFBVeGY",
        "outputId": "50f67fce-9c8a-4cdd-b059-1735d3bcb875"
      },
      "execution_count": null,
      "outputs": [
        {
          "output_type": "stream",
          "name": "stdout",
          "text": [
            "[[ 8 10 12]\n",
            " [14 16 18]]\n"
          ]
        }
      ]
    },
    {
      "cell_type": "code",
      "source": [
        "result = A - B\n",
        "print(result)"
      ],
      "metadata": {
        "colab": {
          "base_uri": "https://localhost:8080/"
        },
        "id": "ZnYfWY5xV0yQ",
        "outputId": "965451fe-fadb-4aeb-ab9d-c4c0d299f265"
      },
      "execution_count": null,
      "outputs": [
        {
          "output_type": "stream",
          "name": "stdout",
          "text": [
            "[[-6 -6 -6]\n",
            " [-6 -6 -6]]\n"
          ]
        }
      ]
    },
    {
      "cell_type": "code",
      "source": [
        "result = A / B\n",
        "print(result)"
      ],
      "metadata": {
        "colab": {
          "base_uri": "https://localhost:8080/"
        },
        "id": "Mx3oFt0lV3Le",
        "outputId": "502b326a-45b0-4b90-fcd5-7d77807f44be"
      },
      "execution_count": null,
      "outputs": [
        {
          "output_type": "stream",
          "name": "stdout",
          "text": [
            "[[0.14285714 0.25       0.33333333]\n",
            " [0.4        0.45454545 0.5       ]]\n"
          ]
        }
      ]
    },
    {
      "cell_type": "code",
      "source": [
        "result = A * B\n",
        "print(result)"
      ],
      "metadata": {
        "colab": {
          "base_uri": "https://localhost:8080/"
        },
        "id": "1XuqDjIuV5fA",
        "outputId": "fe031546-494a-4c03-9225-d9831fe1ee31"
      },
      "execution_count": null,
      "outputs": [
        {
          "output_type": "stream",
          "name": "stdout",
          "text": [
            "[[ 7 16 27]\n",
            " [40 55 72]]\n"
          ]
        }
      ]
    },
    {
      "cell_type": "markdown",
      "source": [
        "## Dot Product"
      ],
      "metadata": {
        "id": "wUZH2ZtAWj7F"
      }
    },
    {
      "cell_type": "markdown",
      "source": [
        "Untuk **dot product** (perkalian titik) antara dua matriks di NumPy, kita dapat menggunakan fungsi `np.dot()` atau operator `@`. **Dot product** untuk dua matriks \\( A \\) dan \\( B \\) dapat dilakukan jika jumlah kolom matriks pertama (A) sama dengan jumlah baris matriks kedua (B).\n",
        "\n",
        "Jika kita ingin menghitung **dot product** antara dua matriks **A** dan **B**, kita harus memastikan bahwa jumlah kolom pada matriks pertama (A) sama dengan jumlah baris pada matriks kedua (B). Dalam contoh yang Anda berikan, kedua matriks A dan B memiliki dimensi \\( 2 \\times 3 \\), yang berarti mereka tidak dapat langsung dikalikan menggunakan dot product standar, karena kolom A (3) tidak sama dengan baris B (2).\n",
        "\n",
        "Namun, jika kita ingin melakukan **dot product** dengan cara yang benar, kita dapat mengubah dimensi matriks tersebut agar memenuhi syarat atau melakukan perkalian antara dua matriks dengan dimensi yang sesuai.\n",
        "\n",
        "\n"
      ],
      "metadata": {
        "id": "8UwYjRPNWySf"
      }
    },
    {
      "cell_type": "markdown",
      "source": [
        "**Contoh: Dot Product Matriks yang Sesuai**\n",
        "\n",
        "Jika matriks A adalah ( 2 * 3 ) dan matriks B adalah ( 3 * 2 ), maka hasil dot product akan menghasilkan matriks ( 2 * 2 )."
      ],
      "metadata": {
        "id": "imk8GazKXrks"
      }
    },
    {
      "cell_type": "code",
      "source": [
        "import numpy as np\n",
        "\n",
        "# Matriks A berukuran 2x3\n",
        "A = np.array([\n",
        "    [1, 2, 3],\n",
        "    [4, 5, 6]\n",
        "])\n",
        "\n",
        "# Matriks B berukuran 3x2\n",
        "B = np.array([\n",
        "    [7, 8],\n",
        "    [9, 10],\n",
        "    [11, 12]\n",
        "])\n",
        "\n",
        "# Perkalian dot product\n",
        "result = np.dot(A, B)\n",
        "# Alternatif: result = A @ B\n",
        "\n",
        "print(result)"
      ],
      "metadata": {
        "colab": {
          "base_uri": "https://localhost:8080/"
        },
        "id": "QkAp6zkOWV2P",
        "outputId": "964d3164-1d5b-4fbf-9839-17f88309c023"
      },
      "execution_count": null,
      "outputs": [
        {
          "output_type": "stream",
          "name": "stdout",
          "text": [
            "[[ 58  64]\n",
            " [139 154]]\n"
          ]
        }
      ]
    },
    {
      "cell_type": "markdown",
      "source": [
        "# Perhitungan Dengan Formula"
      ],
      "metadata": {
        "id": "0_QP1Q5tXyxW"
      }
    },
    {
      "cell_type": "code",
      "source": [
        "import numpy as np\n",
        "\n",
        "# Array data\n",
        "data = np.array([1, 2, 3, 4, 5, 6, 7, 8, 9, 10])\n",
        "\n",
        "# Perhitungan Mean\n",
        "mean = np.mean(data)\n",
        "print(\"Mean (Rata-rata):\", mean)"
      ],
      "metadata": {
        "colab": {
          "base_uri": "https://localhost:8080/"
        },
        "id": "AswlBuokWVxW",
        "outputId": "87cb8c78-c112-4d52-bc8f-687548b959e6"
      },
      "execution_count": null,
      "outputs": [
        {
          "output_type": "stream",
          "name": "stdout",
          "text": [
            "Mean (Rata-rata): 5.5\n"
          ]
        }
      ]
    },
    {
      "cell_type": "code",
      "source": [
        "# Perhitungan Median\n",
        "median = np.median(data)\n",
        "print(\"Median:\", median)\n"
      ],
      "metadata": {
        "colab": {
          "base_uri": "https://localhost:8080/"
        },
        "id": "NLpiw5YZV6mZ",
        "outputId": "62cecc81-dc24-417e-e018-06c3b881f44a"
      },
      "execution_count": null,
      "outputs": [
        {
          "output_type": "stream",
          "name": "stdout",
          "text": [
            "Median: 5.5\n"
          ]
        }
      ]
    },
    {
      "cell_type": "markdown",
      "source": [
        "**Contoh : Hitung Accuracy dalam pada model prediksi**"
      ],
      "metadata": {
        "id": "P5MD2xIDYeYx"
      }
    },
    {
      "cell_type": "markdown",
      "source": [
        "Akurasi (accuracy) digunakan untuk mengukur seberapa baik model dalam memprediksi label yang benar. Rumus untuk menghitung akurasi adalah:\n",
        "\n",
        "$$\n",
        "\\text{Accuracy} = \\frac{\\text{Jumlah Prediksi yang Benar}}{\\text{Total Jumlah Data}}\n",
        "$$\n",
        "\n",
        "Dimana:\n",
        "- **Jumlah Prediksi yang Benar** adalah jumlah data yang diprediksi dengan benar oleh model (True Positives dan True Negatives).\n",
        "- **Total Jumlah Data** adalah jumlah keseluruhan data yang digunakan dalam prediksi."
      ],
      "metadata": {
        "id": "oCJRG0jwYzZ2"
      }
    },
    {
      "cell_type": "code",
      "source": [
        "# Prediksi model\n",
        "predictions = np.array([1, 0, 1, 1, 0, 1, 0, 0])\n",
        "\n",
        "# Label asli\n",
        "labels = np.array([1, 0, 0, 1, 0, 1, 1, 0])\n",
        "\n",
        "# Menghitung jumlah prediksi yang benar\n",
        "correct_predictions = np.sum(predictions == labels)\n",
        "\n",
        "# Menghitung total jumlah data\n",
        "total_data = len(labels)\n",
        "\n",
        "# Menghitung akurasi\n",
        "accuracy = correct_predictions / total_data\n",
        "print(f\"Accuracy: {accuracy:.2f}\")\n"
      ],
      "metadata": {
        "colab": {
          "base_uri": "https://localhost:8080/"
        },
        "id": "ilfY_B-EYOC6",
        "outputId": "539bbe92-94fd-4824-ffc4-5f72c5d08a81"
      },
      "execution_count": null,
      "outputs": [
        {
          "output_type": "stream",
          "name": "stdout",
          "text": [
            "Accuracy: 0.75\n"
          ]
        }
      ]
    },
    {
      "cell_type": "markdown",
      "source": [
        "# Latihan"
      ],
      "metadata": {
        "id": "9_YkM2-taXdZ"
      }
    },
    {
      "cell_type": "markdown",
      "source": [
        "1. Buatlah fungsi untuk menentukan nilai maksimum dan minimum dalam Array berikut:\n",
        "```\n",
        "data = np.array([3, 1, 4, 1, 5, 9, 2, 6, 5, 3, 5])\n",
        "```\n"
      ],
      "metadata": {
        "id": "CNGf6u6DaYWg"
      }
    },
    {
      "cell_type": "code",
      "source": [],
      "metadata": {
        "id": "W6gVAmsGbECW"
      },
      "execution_count": null,
      "outputs": []
    },
    {
      "cell_type": "markdown",
      "source": [
        "2. Buatlah sebuah fungsi yang menerima array 1D dan menghitung rata-rata hanya untuk angka positif dalam array tersebut. Jika tidak ada angka positif, kembalikan nilai None. Misalkan:\n",
        "  ```\n",
        "  data = np.array([-1, 2, 3, -4, 5, -6])\n",
        "  ```\n",
        "\n",
        "  output yang diharapkan:\n",
        "  ```\n",
        "  Average of Positive Numbers: 3.3333333333333335\n",
        "  ```\n"
      ],
      "metadata": {
        "id": "I83nJVAaal0q"
      }
    },
    {
      "cell_type": "code",
      "source": [],
      "metadata": {
        "id": "TGN0xNqPYowf"
      },
      "execution_count": null,
      "outputs": []
    },
    {
      "cell_type": "markdown",
      "source": [
        "3. Buatlah sebuah fungsi yang menerima array 1D dan angka target, lalu mengembalikan nilai yang paling dekat dengan target tersebut.\n",
        "\n",
        "  Petunjuk:\n",
        "  - Gunakan perbedaan absolut untuk menghitung jarak antara angka target dan setiap elemen dalam array.\n",
        "  - Temukan nilai yang memiliki jarak terdekat dengan target.\n",
        "\n",
        "  Misalkan datanya:\n",
        "  ```\n",
        "  data = np.array([1, 3, 7, 8, 12])\n",
        "  target_value = 6\n",
        "  ```\n",
        "  output yang diharapkan:\n",
        "  ```\n",
        "  The closest value to 6 is 7\n",
        "  ```"
      ],
      "metadata": {
        "id": "1obBg8EmbEd7"
      }
    },
    {
      "cell_type": "code",
      "source": [],
      "metadata": {
        "id": "40wklWgpbZyD"
      },
      "execution_count": null,
      "outputs": []
    }
  ]
}