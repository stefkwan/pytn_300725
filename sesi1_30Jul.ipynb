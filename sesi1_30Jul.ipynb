{
  "cells": [
    {
      "cell_type": "code",
      "execution_count": 1,
      "metadata": {
        "colab": {
          "base_uri": "https://localhost:8080/"
        },
        "id": "sF-9cFvHP6UQ",
        "outputId": "4fe93f19-0aae-4320-8921-b44ee3799f7c"
      },
      "outputs": [
        {
          "data": {
            "text/plain": [
              "1234"
            ]
          },
          "execution_count": 1,
          "metadata": {},
          "output_type": "execute_result"
        }
      ],
      "source": [
        "1234"
      ]
    },
    {
      "cell_type": "code",
      "execution_count": 1,
      "metadata": {},
      "outputs": [
        {
          "name": "stdout",
          "output_type": "stream",
          "text": [
            "hello all good people\n"
          ]
        }
      ],
      "source": [
        "print (\"hello all good people\")"
      ]
    },
    {
      "cell_type": "code",
      "execution_count": 3,
      "metadata": {
        "colab": {
          "base_uri": "https://localhost:8080/"
        },
        "id": "PHBNMSR4Uqvj",
        "outputId": "05b72c52-080f-4094-e354-56aefaa23279"
      },
      "outputs": [
        {
          "data": {
            "text/plain": [
              "34"
            ]
          },
          "execution_count": 3,
          "metadata": {},
          "output_type": "execute_result"
        }
      ],
      "source": [
        "0\n",
        "23\n",
        "34\n",
        "12\n",
        "34"
      ]
    },
    {
      "cell_type": "code",
      "execution_count": 4,
      "metadata": {
        "colab": {
          "base_uri": "https://localhost:8080/"
        },
        "id": "RPo-lXetUx9H",
        "outputId": "46605a8c-97b0-491f-9319-292cf31534ea"
      },
      "outputs": [
        {
          "name": "stdout",
          "output_type": "stream",
          "text": [
            "1\n",
            "2\n",
            "3\n"
          ]
        }
      ],
      "source": [
        "print(1)\n",
        "print(2)\n",
        "print(3)"
      ]
    },
    {
      "cell_type": "markdown",
      "metadata": {
        "id": "kNv865EpU881"
      },
      "source": [
        "berikut adalah contoh tipe data integer\n",
        "\n",
        "kita gunakan keyword \"print\" fungsi bawaan python untuk memperlihatkan angka integer di layar"
      ]
    },
    {
      "cell_type": "code",
      "execution_count": 5,
      "metadata": {
        "colab": {
          "base_uri": "https://localhost:8080/"
        },
        "id": "UTAnR4kSU4oo",
        "outputId": "233b49ef-e27c-4754-e63b-e4233ed60518"
      },
      "outputs": [
        {
          "name": "stdout",
          "output_type": "stream",
          "text": [
            "123\n"
          ]
        }
      ],
      "source": [
        "print(123)"
      ]
    },
    {
      "cell_type": "markdown",
      "metadata": {
        "id": "IvZIrBEzVGH7"
      },
      "source": [
        "selain print, kita pakai juga keyword \"type\" untuk meminta python menunjukkan tipe datanya apa"
      ]
    },
    {
      "cell_type": "code",
      "execution_count": 6,
      "metadata": {
        "colab": {
          "base_uri": "https://localhost:8080/"
        },
        "id": "AH78-hwHVEgd",
        "outputId": "d84e51b2-41f9-4ed4-ae13-407005bd9c44"
      },
      "outputs": [
        {
          "data": {
            "text/plain": [
              "int"
            ]
          },
          "execution_count": 6,
          "metadata": {},
          "output_type": "execute_result"
        }
      ],
      "source": [
        "type(123)"
      ]
    },
    {
      "cell_type": "code",
      "execution_count": 7,
      "metadata": {
        "colab": {
          "base_uri": "https://localhost:8080/"
        },
        "id": "o5Zhl-5HVMtr",
        "outputId": "a822df48-4070-4f5f-a0af-d2e26b7b934f"
      },
      "outputs": [
        {
          "name": "stdout",
          "output_type": "stream",
          "text": [
            "<class 'int'>\n",
            "<class 'int'>\n"
          ]
        }
      ],
      "source": [
        "print(type(123))\n",
        "print(type(0))"
      ]
    },
    {
      "cell_type": "markdown",
      "metadata": {
        "id": "MqbMfMd8Vegt"
      },
      "source": [
        "selain integer, kita punya tipe data angka yang berdesimal, \"float\""
      ]
    },
    {
      "cell_type": "code",
      "execution_count": 8,
      "metadata": {
        "colab": {
          "base_uri": "https://localhost:8080/"
        },
        "id": "QLAsIowRVR1u",
        "outputId": "51f05fe6-d5ec-4719-eea8-f5311dca14c1"
      },
      "outputs": [
        {
          "data": {
            "text/plain": [
              "4.2"
            ]
          },
          "execution_count": 8,
          "metadata": {},
          "output_type": "execute_result"
        }
      ],
      "source": [
        "4.2"
      ]
    },
    {
      "cell_type": "code",
      "execution_count": 9,
      "metadata": {
        "colab": {
          "base_uri": "https://localhost:8080/"
        },
        "id": "bgf5FlqlVh0Y",
        "outputId": "11df987c-1d3d-4c4e-b62a-47e0d05bf6a7"
      },
      "outputs": [
        {
          "data": {
            "text/plain": [
              "float"
            ]
          },
          "execution_count": 9,
          "metadata": {},
          "output_type": "execute_result"
        }
      ],
      "source": [
        "type(5.0)"
      ]
    },
    {
      "cell_type": "code",
      "execution_count": 10,
      "metadata": {
        "colab": {
          "base_uri": "https://localhost:8080/"
        },
        "id": "UtZkxDvKVjSR",
        "outputId": "0ff42ead-df81-4a73-fea6-b7b60902857e"
      },
      "outputs": [
        {
          "name": "stdout",
          "output_type": "stream",
          "text": [
            "<class 'float'>\n"
          ]
        }
      ],
      "source": [
        "print(type(-3.8))"
      ]
    },
    {
      "cell_type": "markdown",
      "metadata": {
        "id": "pNKxGQLRVnr5"
      },
      "source": [
        "untuk mengubah tipe data int ke float, float ke int kita bisa gunakan keyword \"int\" dan \"float\""
      ]
    },
    {
      "cell_type": "code",
      "execution_count": 11,
      "metadata": {
        "colab": {
          "base_uri": "https://localhost:8080/"
        },
        "id": "sb8QtAH1VlsR",
        "outputId": "ab8b666c-b749-4f63-bbd5-08d3c95ffc7b"
      },
      "outputs": [
        {
          "data": {
            "text/plain": [
              "3"
            ]
          },
          "execution_count": 11,
          "metadata": {},
          "output_type": "execute_result"
        }
      ],
      "source": [
        "int(3.14)"
      ]
    },
    {
      "cell_type": "code",
      "execution_count": 12,
      "metadata": {
        "colab": {
          "base_uri": "https://localhost:8080/"
        },
        "id": "846unWKFVu0w",
        "outputId": "6e481e06-b017-4288-a759-5b25d349cd19"
      },
      "outputs": [
        {
          "data": {
            "text/plain": [
              "8.0"
            ]
          },
          "execution_count": 12,
          "metadata": {},
          "output_type": "execute_result"
        }
      ],
      "source": [
        "float(8)"
      ]
    },
    {
      "cell_type": "markdown",
      "metadata": {
        "id": "claU7Y72V8iC"
      },
      "source": [
        "untuk membuat tipe data text (string) kita gunakan kutip"
      ]
    },
    {
      "cell_type": "code",
      "execution_count": 13,
      "metadata": {
        "colab": {
          "base_uri": "https://localhost:8080/",
          "height": 35
        },
        "id": "Wjss5ijsVxDd",
        "outputId": "684e17f4-0187-416e-f1fc-8a61367e5b52"
      },
      "outputs": [
        {
          "data": {
            "application/vnd.google.colaboratory.intrinsic+json": {
              "type": "string"
            },
            "text/plain": [
              "'abc'"
            ]
          },
          "execution_count": 13,
          "metadata": {},
          "output_type": "execute_result"
        }
      ],
      "source": [
        "\"abc\""
      ]
    },
    {
      "cell_type": "code",
      "execution_count": 14,
      "metadata": {
        "colab": {
          "base_uri": "https://localhost:8080/",
          "height": 35
        },
        "id": "rTjHIBxdV_eW",
        "outputId": "e6231bfc-8b31-4ffc-d706-72c2eb7cced3"
      },
      "outputs": [
        {
          "data": {
            "application/vnd.google.colaboratory.intrinsic+json": {
              "type": "string"
            },
            "text/plain": [
              "'abc'"
            ]
          },
          "execution_count": 14,
          "metadata": {},
          "output_type": "execute_result"
        }
      ],
      "source": [
        "'abc'"
      ]
    },
    {
      "cell_type": "code",
      "execution_count": 15,
      "metadata": {
        "colab": {
          "base_uri": "https://localhost:8080/"
        },
        "id": "n-PWoX_jWAsv",
        "outputId": "363e649d-5b72-4d37-b27b-cc38f89d1502"
      },
      "outputs": [
        {
          "data": {
            "text/plain": [
              "str"
            ]
          },
          "execution_count": 15,
          "metadata": {},
          "output_type": "execute_result"
        }
      ],
      "source": [
        "type(\"hacktiv8\")"
      ]
    },
    {
      "cell_type": "code",
      "execution_count": 17,
      "metadata": {
        "colab": {
          "base_uri": "https://localhost:8080/"
        },
        "id": "KVeSedTDWERv",
        "outputId": "5c000027-d4d6-4a41-9557-0c5d1652c329"
      },
      "outputs": [
        {
          "name": "stdout",
          "output_type": "stream",
          "text": [
            "<class 'str'>\n",
            "<class 'str'>\n"
          ]
        }
      ],
      "source": [
        "print(type(\"python data science\"))\n",
        "print(type('python data science'))"
      ]
    },
    {
      "cell_type": "markdown",
      "metadata": {
        "id": "zTmWtW3zWT7g"
      },
      "source": [
        "mirip dengan int dan float, kita bisa ubah tipe data menjadi string menggunakan keyword \"str\"\n",
        "\n",
        "tapi untuk ubah data ke int dan float, isi str harus angka yang valid, kalau tidak dia error"
      ]
    },
    {
      "cell_type": "code",
      "execution_count": 18,
      "metadata": {
        "colab": {
          "base_uri": "https://localhost:8080/",
          "height": 35
        },
        "id": "1_BKEa_6WGpK",
        "outputId": "273fe911-4f2f-4064-d18a-8992039a6ad0"
      },
      "outputs": [
        {
          "data": {
            "application/vnd.google.colaboratory.intrinsic+json": {
              "type": "string"
            },
            "text/plain": [
              "'3245'"
            ]
          },
          "execution_count": 18,
          "metadata": {},
          "output_type": "execute_result"
        }
      ],
      "source": [
        "str(3245)"
      ]
    },
    {
      "cell_type": "code",
      "execution_count": 19,
      "metadata": {
        "colab": {
          "base_uri": "https://localhost:8080/",
          "height": 35
        },
        "id": "rcPv6lD7WdN1",
        "outputId": "05263ac9-f9bd-4d79-b16f-8f9a8030c77f"
      },
      "outputs": [
        {
          "data": {
            "application/vnd.google.colaboratory.intrinsic+json": {
              "type": "string"
            },
            "text/plain": [
              "'4.6598'"
            ]
          },
          "execution_count": 19,
          "metadata": {},
          "output_type": "execute_result"
        }
      ],
      "source": [
        "str(4.6598)"
      ]
    },
    {
      "cell_type": "code",
      "execution_count": 20,
      "metadata": {
        "colab": {
          "base_uri": "https://localhost:8080/"
        },
        "id": "us1B1VzWWeNf",
        "outputId": "49a93ece-934e-4c4b-cf8c-65061a8687a3"
      },
      "outputs": [
        {
          "data": {
            "text/plain": [
              "5"
            ]
          },
          "execution_count": 20,
          "metadata": {},
          "output_type": "execute_result"
        }
      ],
      "source": [
        "int(\"5\")"
      ]
    },
    {
      "cell_type": "code",
      "execution_count": 21,
      "metadata": {
        "colab": {
          "base_uri": "https://localhost:8080/",
          "height": 144
        },
        "id": "dyt0V8EFWgCL",
        "outputId": "b6ba39df-eaf5-427f-e81c-f1da51b984f8"
      },
      "outputs": [
        {
          "ename": "ValueError",
          "evalue": "invalid literal for int() with base 10: 'a'",
          "output_type": "error",
          "traceback": [
            "\u001b[0;31m---------------------------------------------------------------------------\u001b[0m",
            "\u001b[0;31mValueError\u001b[0m                                Traceback (most recent call last)",
            "\u001b[0;32m/tmp/ipython-input-21-3221825202.py\u001b[0m in \u001b[0;36m<cell line: 0>\u001b[0;34m()\u001b[0m\n\u001b[0;32m----> 1\u001b[0;31m \u001b[0mint\u001b[0m\u001b[0;34m(\u001b[0m\u001b[0;34m\"a\"\u001b[0m\u001b[0;34m)\u001b[0m\u001b[0;34m\u001b[0m\u001b[0;34m\u001b[0m\u001b[0m\n\u001b[0m",
            "\u001b[0;31mValueError\u001b[0m: invalid literal for int() with base 10: 'a'"
          ]
        }
      ],
      "source": [
        "int(\"a\")"
      ]
    },
    {
      "cell_type": "code",
      "execution_count": 22,
      "metadata": {
        "colab": {
          "base_uri": "https://localhost:8080/",
          "height": 144
        },
        "id": "eoIvBMk4WhEA",
        "outputId": "4e147de7-81ca-472e-cee0-80b95d85ffc9"
      },
      "outputs": [
        {
          "ename": "ValueError",
          "evalue": "invalid literal for int() with base 10: '6.3'",
          "output_type": "error",
          "traceback": [
            "\u001b[0;31m---------------------------------------------------------------------------\u001b[0m",
            "\u001b[0;31mValueError\u001b[0m                                Traceback (most recent call last)",
            "\u001b[0;32m/tmp/ipython-input-22-2974681595.py\u001b[0m in \u001b[0;36m<cell line: 0>\u001b[0;34m()\u001b[0m\n\u001b[0;32m----> 1\u001b[0;31m \u001b[0mint\u001b[0m\u001b[0;34m(\u001b[0m\u001b[0;34m\"6.3\"\u001b[0m\u001b[0;34m)\u001b[0m\u001b[0;34m\u001b[0m\u001b[0;34m\u001b[0m\u001b[0m\n\u001b[0m",
            "\u001b[0;31mValueError\u001b[0m: invalid literal for int() with base 10: '6.3'"
          ]
        }
      ],
      "source": [
        "int(\"6.3\")"
      ]
    },
    {
      "cell_type": "code",
      "execution_count": 23,
      "metadata": {
        "colab": {
          "base_uri": "https://localhost:8080/"
        },
        "id": "NstE-SagWks_",
        "outputId": "89e2169d-36c5-4c7b-bd4f-562f2dcfad8f"
      },
      "outputs": [
        {
          "data": {
            "text/plain": [
              "6.3"
            ]
          },
          "execution_count": 23,
          "metadata": {},
          "output_type": "execute_result"
        }
      ],
      "source": [
        "float(\"6.3\")"
      ]
    },
    {
      "cell_type": "code",
      "execution_count": 24,
      "metadata": {
        "colab": {
          "base_uri": "https://localhost:8080/"
        },
        "id": "5TJasSt7Wnws",
        "outputId": "90146f4b-1825-4ff9-80fa-b70723a21305"
      },
      "outputs": [
        {
          "data": {
            "text/plain": [
              "6"
            ]
          },
          "execution_count": 24,
          "metadata": {},
          "output_type": "execute_result"
        }
      ],
      "source": [
        "int(float(\"6.3\"))"
      ]
    },
    {
      "cell_type": "markdown",
      "metadata": {
        "id": "VRbeB9bnWy5O"
      },
      "source": [
        "tipe data boolean True False\n",
        "\n",
        "biasanya digunakan untuk membangun sebuah rule, nanti di sesi 2 kita bahas"
      ]
    },
    {
      "cell_type": "code",
      "execution_count": 25,
      "metadata": {
        "colab": {
          "base_uri": "https://localhost:8080/"
        },
        "id": "N9rL-u7QWqbT",
        "outputId": "0e5e3749-7117-4ffc-c7d1-785fe7e207e8"
      },
      "outputs": [
        {
          "data": {
            "text/plain": [
              "True"
            ]
          },
          "execution_count": 25,
          "metadata": {},
          "output_type": "execute_result"
        }
      ],
      "source": [
        "True"
      ]
    },
    {
      "cell_type": "code",
      "execution_count": 26,
      "metadata": {
        "colab": {
          "base_uri": "https://localhost:8080/"
        },
        "id": "fTcQFuFdW8T0",
        "outputId": "0ecdde05-27ac-4f28-a31f-23fb8d446433"
      },
      "outputs": [
        {
          "data": {
            "text/plain": [
              "False"
            ]
          },
          "execution_count": 26,
          "metadata": {},
          "output_type": "execute_result"
        }
      ],
      "source": [
        "False"
      ]
    },
    {
      "cell_type": "code",
      "execution_count": 27,
      "metadata": {
        "colab": {
          "base_uri": "https://localhost:8080/"
        },
        "id": "_hCmc6jYW8yl",
        "outputId": "0d66fce3-1f06-4e44-e351-96fbfc633f14"
      },
      "outputs": [
        {
          "data": {
            "text/plain": [
              "bool"
            ]
          },
          "execution_count": 27,
          "metadata": {},
          "output_type": "execute_result"
        }
      ],
      "source": [
        "type(True)"
      ]
    },
    {
      "cell_type": "code",
      "execution_count": 28,
      "metadata": {
        "colab": {
          "base_uri": "https://localhost:8080/"
        },
        "id": "QKVduF7vW91E",
        "outputId": "180b7e33-e16c-40cc-9242-ba312deb9d64"
      },
      "outputs": [
        {
          "name": "stdout",
          "output_type": "stream",
          "text": [
            "<class 'bool'>\n",
            "<class 'bool'>\n"
          ]
        }
      ],
      "source": [
        "print(type(True))\n",
        "print(type(False))"
      ]
    },
    {
      "cell_type": "markdown",
      "metadata": {
        "id": "4zBs_t4iXHxw"
      },
      "source": [
        "kita bisa pakai keyword \"bool\" untuk ubah data menjadi tipe boolean\n",
        "\n",
        "kita punya konsep Truthy dan Falsy.\n",
        "\n",
        "Truthy adalah tipe2 data yang akan menjadi True.\n",
        "\n",
        "Falsy adalah tipe2 data yang jadi False.\n",
        "\n",
        "Cuma ada beberapa tipe data yang Falsy:\n",
        "- 0\n",
        "- 0.0\n",
        "- \"\"\n",
        "- ''\n",
        "- []\n",
        "- ()\n",
        "- {}\n",
        "- False\n",
        "\n",
        "data data yang sifatnya \"kosong\" biasanya falsy."
      ]
    },
    {
      "cell_type": "code",
      "execution_count": 30,
      "metadata": {
        "colab": {
          "base_uri": "https://localhost:8080/"
        },
        "id": "YJL1IUHEXEYq",
        "outputId": "455e7e7c-f13d-4312-9cac-097f5d631e63"
      },
      "outputs": [
        {
          "data": {
            "text/plain": [
              "True"
            ]
          },
          "execution_count": 30,
          "metadata": {},
          "output_type": "execute_result"
        }
      ],
      "source": [
        "bool(10)"
      ]
    },
    {
      "cell_type": "code",
      "execution_count": 31,
      "metadata": {
        "colab": {
          "base_uri": "https://localhost:8080/"
        },
        "id": "-R_u_8X4XjnD",
        "outputId": "28252fe9-b1cb-44e7-c2a8-48e2e5e1e956"
      },
      "outputs": [
        {
          "data": {
            "text/plain": [
              "False"
            ]
          },
          "execution_count": 31,
          "metadata": {},
          "output_type": "execute_result"
        }
      ],
      "source": [
        "bool(0)"
      ]
    },
    {
      "cell_type": "markdown",
      "metadata": {
        "id": "xGimJfp0XrPR"
      },
      "source": [
        "untuk perbandingan data, hasil perbandingan menjadi sebuah false"
      ]
    },
    {
      "cell_type": "code",
      "execution_count": 32,
      "metadata": {
        "colab": {
          "base_uri": "https://localhost:8080/",
          "height": 144
        },
        "id": "Bu-msNqLXkxy",
        "outputId": "c3ac56c1-4900-4cb4-b714-6d52b858e948"
      },
      "outputs": [
        {
          "ename": "ZeroDivisionError",
          "evalue": "division by zero",
          "output_type": "error",
          "traceback": [
            "\u001b[0;31m---------------------------------------------------------------------------\u001b[0m",
            "\u001b[0;31mZeroDivisionError\u001b[0m                         Traceback (most recent call last)",
            "\u001b[0;32m/tmp/ipython-input-32-2354412189.py\u001b[0m in \u001b[0;36m<cell line: 0>\u001b[0;34m()\u001b[0m\n\u001b[0;32m----> 1\u001b[0;31m \u001b[0;36m1\u001b[0m\u001b[0;34m/\u001b[0m\u001b[0;36m0\u001b[0m\u001b[0;34m\u001b[0m\u001b[0;34m\u001b[0m\u001b[0m\n\u001b[0m",
            "\u001b[0;31mZeroDivisionError\u001b[0m: division by zero"
          ]
        }
      ],
      "source": [
        "1/0"
      ]
    },
    {
      "cell_type": "markdown",
      "metadata": {
        "id": "3kNKXa6OX57E"
      },
      "source": [
        "data yang sejauh ini kita tulis, tidak bisa kita recall, karena tidak punya nama, jadi kita gunakan Variable untuk memberi nama dan menyimpan data tersebut.\n",
        "\n",
        "- tidak dimulai dengan angka\n",
        "- bukan keyword python\n",
        "- cara penulisannya sebaiknya kita standarisasi\n",
        "  - camelCase\n",
        "  - snake_case\n",
        "  - PascalCase\n",
        "\n",
        "nama variable di Python itu case sensitive, artinya Age dan age adalah dua variable berbeda."
      ]
    },
    {
      "cell_type": "code",
      "execution_count": 33,
      "metadata": {
        "colab": {
          "base_uri": "https://localhost:8080/"
        },
        "id": "G1axV6oTXw_t",
        "outputId": "9bd690f9-94d1-48dd-a070-61d8db6000e6"
      },
      "outputs": [
        {
          "name": "stdout",
          "output_type": "stream",
          "text": [
            "80\n",
            "70\n",
            "60\n",
            "90\n",
            "100\n"
          ]
        }
      ],
      "source": [
        "nilai_andi = 80\n",
        "NilaiAndi = 70\n",
        "nilaiAndi = 60\n",
        "_nilai_andi = 90\n",
        "nilai_andi_ = 100\n",
        "\n",
        "print(nilai_andi)\n",
        "print(NilaiAndi)\n",
        "print(nilaiAndi)\n",
        "print(_nilai_andi)\n",
        "print(nilai_andi_)"
      ]
    },
    {
      "cell_type": "markdown",
      "metadata": {
        "id": "r5iCrST7Y7QE"
      },
      "source": [
        "variable di python tidak terpaku ke tipe data tertentu, jadi variable nilai andi yang kita buat yang isinya integer, bisa kita ubah jadi isinya float, string, boolean atau yang lainnya"
      ]
    },
    {
      "cell_type": "markdown",
      "metadata": {
        "id": "i2qUQyPWZSx1"
      },
      "source": [
        "berikut contoh re-assign variable value"
      ]
    },
    {
      "cell_type": "code",
      "execution_count": 34,
      "metadata": {
        "id": "IkELgPwWY3Iz"
      },
      "outputs": [],
      "source": [
        "nilai_andi = 23.768"
      ]
    },
    {
      "cell_type": "code",
      "execution_count": 35,
      "metadata": {
        "colab": {
          "base_uri": "https://localhost:8080/"
        },
        "id": "jozWbGZxZFip",
        "outputId": "90bd5805-b9bf-45f8-81d0-2b78cee8856b"
      },
      "outputs": [
        {
          "data": {
            "text/plain": [
              "float"
            ]
          },
          "execution_count": 35,
          "metadata": {},
          "output_type": "execute_result"
        }
      ],
      "source": [
        "type(nilai_andi)"
      ]
    },
    {
      "cell_type": "code",
      "execution_count": 36,
      "metadata": {
        "id": "59Js2PeuZIRZ"
      },
      "outputs": [],
      "source": [
        "nilai_andi = \"bagus\""
      ]
    },
    {
      "cell_type": "code",
      "execution_count": 37,
      "metadata": {
        "colab": {
          "base_uri": "https://localhost:8080/"
        },
        "id": "66X8EmIdZKld",
        "outputId": "4da8b729-96eb-4ce9-ab85-a527e9fbbdff"
      },
      "outputs": [
        {
          "data": {
            "text/plain": [
              "str"
            ]
          },
          "execution_count": 37,
          "metadata": {},
          "output_type": "execute_result"
        }
      ],
      "source": [
        "type(nilai_andi)"
      ]
    },
    {
      "cell_type": "markdown",
      "metadata": {
        "id": "3Gv560dzZXTL"
      },
      "source": [
        "variable yang sudah pernah kita buat, bisa kita panggil"
      ]
    },
    {
      "cell_type": "code",
      "execution_count": 38,
      "metadata": {
        "colab": {
          "base_uri": "https://localhost:8080/",
          "height": 35
        },
        "id": "touhQBMuZLys",
        "outputId": "ae1274bb-d5c5-405d-b480-d8f4c849a1cb"
      },
      "outputs": [
        {
          "data": {
            "application/vnd.google.colaboratory.intrinsic+json": {
              "type": "string"
            },
            "text/plain": [
              "'bagus'"
            ]
          },
          "execution_count": 38,
          "metadata": {},
          "output_type": "execute_result"
        }
      ],
      "source": [
        "nilai_andi"
      ]
    },
    {
      "cell_type": "markdown",
      "metadata": {
        "id": "GgHTXVRfZe9e"
      },
      "source": [
        "Operator dan Expression\n",
        "\n",
        "operator matematik termasuk + - * /\n",
        "\n",
        "expresi adalah saat kita gunakan operator matematik tersebut"
      ]
    },
    {
      "cell_type": "code",
      "execution_count": 39,
      "metadata": {
        "colab": {
          "base_uri": "https://localhost:8080/"
        },
        "id": "ea7bNPvsZaQc",
        "outputId": "a4b093ca-4bf1-41e6-a3ee-8887ddb6f713"
      },
      "outputs": [
        {
          "name": "stdout",
          "output_type": "stream",
          "text": [
            "17\n",
            "3\n",
            "70\n",
            "1.4285714285714286\n",
            "3\n",
            "10000000\n"
          ]
        }
      ],
      "source": [
        "a = 10\n",
        "b = 7\n",
        "\n",
        "print(a + b)\n",
        "print(a - b)\n",
        "print(a * b)\n",
        "print(a / b)\n",
        "print(a % b)\n",
        "print(a ** b)"
      ]
    },
    {
      "cell_type": "markdown",
      "metadata": {
        "id": "6PTowigBZ_Pb"
      },
      "source": [
        "operator komparatif\n",
        "\n",
        "untuk membandingkan:\n",
        "- \\>\n",
        "- \\>=\n",
        "- \\<\n",
        "- \\<=\n",
        "- \\==\n",
        "- !="
      ]
    },
    {
      "cell_type": "code",
      "execution_count": 43,
      "metadata": {
        "colab": {
          "base_uri": "https://localhost:8080/"
        },
        "id": "nYje99oNZ3D6",
        "outputId": "23442bd9-3885-47d0-f647-3f148c23be81"
      },
      "outputs": [
        {
          "name": "stdout",
          "output_type": "stream",
          "text": [
            "10 7\n",
            "> True\n",
            ">= True\n",
            "< False\n",
            "<= False\n",
            "== False\n",
            "!= True\n"
          ]
        }
      ],
      "source": [
        "print(a, b)\n",
        "\n",
        "print(\">\", a > b)\n",
        "print(\">=\", a >= b)\n",
        "print(\"<\", a < b)\n",
        "print(\"<=\", a <= b)\n",
        "print(\"==\", a == b)\n",
        "print(\"!=\", a != b)"
      ]
    },
    {
      "cell_type": "code",
      "execution_count": 45,
      "metadata": {
        "colab": {
          "base_uri": "https://localhost:8080/"
        },
        "id": "RLRphMWdaS8E",
        "outputId": "b1fc99ed-df47-4831-81dd-097b1d1731a5"
      },
      "outputs": [
        {
          "name": "stdout",
          "output_type": "stream",
          "text": [
            "andi budianto\n",
            "andi budianto\n"
          ]
        }
      ],
      "source": [
        "# comment\n",
        "# kita akan pelajari teknik2 mengubah string\n",
        "\n",
        "nama_depan = \"andi\"\n",
        "nama_belakang = \"budianto\"\n",
        "\n",
        "# kita bisa + untuk concatenate string tersebut\n",
        "print(nama_depan + \" \" + nama_belakang)\n",
        "\n",
        "# kalau pakai + kita bisa assign hasilnya ke variable lagi\n",
        "nama_lengkap = nama_depan + \" \" + nama_belakang\n",
        "print(nama_lengkap)"
      ]
    },
    {
      "cell_type": "code",
      "execution_count": 58,
      "metadata": {
        "colab": {
          "base_uri": "https://localhost:8080/"
        },
        "id": "gD5g44h8fqjW",
        "outputId": "efae0e31-2a1c-4d2c-f763-d74e917dc2cb"
      },
      "outputs": [
        {
          "name": "stdout",
          "output_type": "stream",
          "text": [
            "andi budianto\n"
          ]
        }
      ],
      "source": [
        "# selain pakai + kita bisa concatenate string menggunakan f dan {} juga\n",
        "\n",
        "nama_lengkap = f\"{nama_depan} {nama_belakang}\"\n",
        "print(nama_lengkap)"
      ]
    },
    {
      "cell_type": "code",
      "execution_count": 49,
      "metadata": {
        "colab": {
          "base_uri": "https://localhost:8080/"
        },
        "id": "VwXynwfrdq1v",
        "outputId": "84fbb993-0d5c-49ed-ee91-734d39593bf0"
      },
      "outputs": [
        {
          "name": "stdout",
          "output_type": "stream",
          "text": [
            "andiandiandiandiandi\n"
          ]
        }
      ],
      "source": [
        "# - tidak bisa\n",
        "\n",
        "# * bisa, tapi dikalikan dengan integer\n",
        "print(nama_depan * 5)\n",
        "\n",
        "# / tidak bisa\n",
        "\n",
        "# jadi untuk string kita bisa concatenate pakai + dan bisa duplicate dengan * integer"
      ]
    },
    {
      "cell_type": "code",
      "execution_count": 51,
      "metadata": {
        "colab": {
          "base_uri": "https://localhost:8080/"
        },
        "id": "XNlk6YIad0zz",
        "outputId": "0c42c0c5-80f0-44e4-8885-e9fe9847edcc"
      },
      "outputs": [
        {
          "name": "stdout",
          "output_type": "stream",
          "text": [
            "HARI INI BELAJAR PYTHON DI TANGGAL 30 JULY!\n",
            "hari ini belajar python di tanggal 30 july!\n",
            "Hari Ini Belajar Python Di Tanggal 30 July!\n"
          ]
        }
      ],
      "source": [
        "# selain menggunakan operator matematik + dan *\n",
        "# kita bisa ubah CASE text tersebut, jadi UPPERCASE lowercase Title Case\n",
        "\n",
        "message = \"hari ini belajar Python di tanggal 30 July!\"\n",
        "\n",
        "print(message.upper())\n",
        "print(message.lower())\n",
        "print(message.title()) # seperti Proper di Excel, huruf pertama dan huruf setelah spasi huruf besar untuk 1 huruf, sisanya huruf kecil"
      ]
    },
    {
      "cell_type": "markdown",
      "metadata": {
        "id": "G8wEVCgQe5oh"
      },
      "source": [
        "biasanya untuk membandingkan text, kita mau menyamakan case nya jadi kita pakai antara upper atau lower"
      ]
    },
    {
      "cell_type": "code",
      "execution_count": 54,
      "metadata": {
        "colab": {
          "base_uri": "https://localhost:8080/"
        },
        "id": "YoV0vzemeclX",
        "outputId": "3bd46ffc-6117-4d69-f0d8-5adf1c56afcf"
      },
      "outputs": [
        {
          "name": "stdout",
          "output_type": "stream",
          "text": [
            "True\n"
          ]
        }
      ],
      "source": [
        "a = \"Apple\"\n",
        "b = \"banana\"\n",
        "\n",
        "print(a.lower() < b.lower())"
      ]
    },
    {
      "cell_type": "code",
      "execution_count": 57,
      "metadata": {
        "colab": {
          "base_uri": "https://localhost:8080/"
        },
        "id": "xElyiEb-fIo7",
        "outputId": "9ff51bb9-6bb3-4412-9fb8-c9f5aba67ca2"
      },
      "outputs": [
        {
          "data": {
            "text/plain": [
              "True"
            ]
          },
          "execution_count": 57,
          "metadata": {},
          "output_type": "execute_result"
        }
      ],
      "source": [
        "print(a.lower() == \"apple\")"
      ]
    },
    {
      "cell_type": "markdown",
      "metadata": {
        "id": "U0WJ_NXCf6LX"
      },
      "source": [
        "List bisa menyimpan banyak data di satu variable, di satu tempat.\n",
        "\n",
        "Untuk menyimpan datanya kita gunakan [] dan setiap data kita pisah dengan , di dalam [] tersebut.\n",
        "\n"
      ]
    },
    {
      "cell_type": "code",
      "execution_count": 60,
      "metadata": {
        "colab": {
          "base_uri": "https://localhost:8080/"
        },
        "id": "PvdQpz57fZO1",
        "outputId": "551fc44a-966a-4d1b-aa8d-8e0ed2bad552"
      },
      "outputs": [
        {
          "name": "stdout",
          "output_type": "stream",
          "text": [
            "['apple', 'banana', 'cucumber']\n",
            "<class 'list'>\n"
          ]
        }
      ],
      "source": [
        "# list isinya 3 string\n",
        "buah_buahan = [\"apple\", \"banana\", \"cucumber\"]\n",
        "print(buah_buahan)\n",
        "print(type(buah_buahan))"
      ]
    },
    {
      "cell_type": "code",
      "execution_count": 61,
      "metadata": {
        "colab": {
          "base_uri": "https://localhost:8080/"
        },
        "id": "rEP84KxEgWmW",
        "outputId": "d7a10a5b-d4e7-41a6-ae52-7025e002463a"
      },
      "outputs": [
        {
          "name": "stdout",
          "output_type": "stream",
          "text": [
            "[123, -6.03, True, 'hello world']\n"
          ]
        }
      ],
      "source": [
        "# list isinya integer, float, dan lainnya\n",
        "list_campur = [123, -6.03, True, \"hello world\"]\n",
        "print(list_campur)"
      ]
    },
    {
      "cell_type": "markdown",
      "metadata": {
        "id": "pPziTLv9gv_W"
      },
      "source": [
        "kalau kita mau ambil 1 data di sebuah list, kita gunakan angka urutan atau dipanggil \"index\"\n",
        "\n",
        "index ini dimulai dari 0\n",
        "\n",
        "jadi item pertama di sebuah list memiliki index 0\n",
        "\n",
        "item terakhir di sebuah list memiliki index -1\n",
        "\n",
        "\n",
        "kita bisa hitung mau atau mundur"
      ]
    },
    {
      "cell_type": "code",
      "execution_count": 63,
      "metadata": {
        "colab": {
          "base_uri": "https://localhost:8080/"
        },
        "id": "A_KOMg4Hgjy4",
        "outputId": "4dd7b440-ffc2-4163-a035-7583e8aefc27"
      },
      "outputs": [
        {
          "name": "stdout",
          "output_type": "stream",
          "text": [
            "apple\n",
            "apple\n"
          ]
        }
      ],
      "source": [
        "buah_buahan = [\"apple\", \"banana\", \"cucumber\", \"watermelon\", \"duku\", \"coconut\"]\n",
        "\n",
        "print(buah_buahan[0])\n",
        "print(buah_buahan[-6])"
      ]
    },
    {
      "cell_type": "code",
      "execution_count": 64,
      "metadata": {
        "colab": {
          "base_uri": "https://localhost:8080/"
        },
        "id": "oknXPBAbhF6e",
        "outputId": "1e6eb7be-e8b2-4361-e9cd-3103426f1745"
      },
      "outputs": [
        {
          "data": {
            "text/plain": [
              "6"
            ]
          },
          "execution_count": 64,
          "metadata": {},
          "output_type": "execute_result"
        }
      ],
      "source": [
        "len(buah_buahan)"
      ]
    },
    {
      "cell_type": "code",
      "execution_count": 65,
      "metadata": {
        "colab": {
          "base_uri": "https://localhost:8080/"
        },
        "id": "UYkYdeJPhW1i",
        "outputId": "816bde9b-07d3-4fd8-c735-009f2669233a"
      },
      "outputs": [
        {
          "name": "stdout",
          "output_type": "stream",
          "text": [
            "coconut\n",
            "coconut\n"
          ]
        }
      ],
      "source": [
        "print(buah_buahan[-1])\n",
        "print(buah_buahan[len(buah_buahan)-1])"
      ]
    },
    {
      "cell_type": "markdown",
      "metadata": {
        "id": "gFkf39KRhmPA"
      },
      "source": [
        "kita bisa ambil lebih dari 1 data sekaligus dari sebuah list\n",
        "\n",
        "kita pakai index : index"
      ]
    },
    {
      "cell_type": "code",
      "execution_count": 66,
      "metadata": {
        "colab": {
          "base_uri": "https://localhost:8080/"
        },
        "id": "260sRi8vhe11",
        "outputId": "cac53003-5ae0-4c5f-ea63-decd6c93e310"
      },
      "outputs": [
        {
          "data": {
            "text/plain": [
              "['apple', 'banana', 'cucumber']"
            ]
          },
          "execution_count": 66,
          "metadata": {},
          "output_type": "execute_result"
        }
      ],
      "source": [
        "buah_buahan[0:3]"
      ]
    },
    {
      "cell_type": "code",
      "execution_count": 67,
      "metadata": {
        "colab": {
          "base_uri": "https://localhost:8080/"
        },
        "id": "yRRy94Vnhswk",
        "outputId": "62aaab57-fd0e-40cb-b1c7-5a9eb3202230"
      },
      "outputs": [
        {
          "data": {
            "text/plain": [
              "['apple', 'banana', 'cucumber']"
            ]
          },
          "execution_count": 67,
          "metadata": {},
          "output_type": "execute_result"
        }
      ],
      "source": [
        "buah_buahan[:3]"
      ]
    },
    {
      "cell_type": "code",
      "execution_count": 68,
      "metadata": {
        "colab": {
          "base_uri": "https://localhost:8080/"
        },
        "id": "gYTrrzZOhvNN",
        "outputId": "16bc4547-4c06-4ca7-f700-6d4217b77abb"
      },
      "outputs": [
        {
          "data": {
            "text/plain": [
              "['banana', 'cucumber', 'watermelon', 'duku', 'coconut']"
            ]
          },
          "execution_count": 68,
          "metadata": {},
          "output_type": "execute_result"
        }
      ],
      "source": [
        "buah_buahan[1:]"
      ]
    },
    {
      "cell_type": "code",
      "execution_count": 69,
      "metadata": {
        "colab": {
          "base_uri": "https://localhost:8080/"
        },
        "id": "cQjREp29h0n6",
        "outputId": "975232d2-cac8-4d2e-979a-78264dc163d2"
      },
      "outputs": [
        {
          "data": {
            "text/plain": [
              "['banana', 'cucumber', 'watermelon', 'duku', 'coconut']"
            ]
          },
          "execution_count": 69,
          "metadata": {},
          "output_type": "execute_result"
        }
      ],
      "source": [
        "buah_buahan[1:6]"
      ]
    },
    {
      "cell_type": "markdown",
      "metadata": {
        "id": "cd_RH8TXiCKh"
      },
      "source": [
        "selain untuk ambil data, index juga kita gunakan untuk re-assign value ke item dalam list"
      ]
    },
    {
      "cell_type": "code",
      "execution_count": 70,
      "metadata": {
        "colab": {
          "base_uri": "https://localhost:8080/"
        },
        "id": "0ICOHy3Bh5FV",
        "outputId": "fd4817c1-c9b8-45ed-e77b-4024be85ece3"
      },
      "outputs": [
        {
          "name": "stdout",
          "output_type": "stream",
          "text": [
            "['anggur', 'banana', 'cucumber', 'watermelon', 'duku', 'coconut']\n"
          ]
        }
      ],
      "source": [
        "# misalnya kita mau ubah apple menjadi anggur\n",
        "\n",
        "buah_buahan[0] = \"anggur\"\n",
        "\n",
        "print(buah_buahan)"
      ]
    },
    {
      "cell_type": "code",
      "execution_count": 71,
      "metadata": {
        "id": "Ra_oXQ5RiMss"
      },
      "outputs": [],
      "source": [
        "buah_buahan[0:3] = [\"grape\", \"strawberry\", \"blueberry\"]"
      ]
    },
    {
      "cell_type": "code",
      "execution_count": 72,
      "metadata": {
        "colab": {
          "base_uri": "https://localhost:8080/"
        },
        "id": "sXgNhXZQic8o",
        "outputId": "2fba9c09-78e4-4cd9-efe0-97ee4fb709f7"
      },
      "outputs": [
        {
          "name": "stdout",
          "output_type": "stream",
          "text": [
            "['grape', 'strawberry', 'blueberry', 'watermelon', 'duku', 'coconut']\n"
          ]
        }
      ],
      "source": [
        "print(buah_buahan)"
      ]
    },
    {
      "cell_type": "code",
      "execution_count": 73,
      "metadata": {
        "id": "0J3FLpE7ien6"
      },
      "outputs": [],
      "source": [
        "buah_buahan[0:3] = [\"grape\", \"strawberry\"]"
      ]
    },
    {
      "cell_type": "code",
      "execution_count": 74,
      "metadata": {
        "colab": {
          "base_uri": "https://localhost:8080/"
        },
        "id": "Vz-eZaEWigXB",
        "outputId": "3b169458-dc7f-4d90-c6a3-b8bac6569b02"
      },
      "outputs": [
        {
          "name": "stdout",
          "output_type": "stream",
          "text": [
            "['grape', 'strawberry', 'watermelon', 'duku', 'coconut']\n"
          ]
        }
      ],
      "source": [
        "print(buah_buahan)"
      ]
    },
    {
      "cell_type": "markdown",
      "metadata": {
        "id": "KirRS4LViuTz"
      },
      "source": [
        "berikutnya kita bahas tuple\n",
        "\n",
        "tuple mirip dengan list, tapi tidak bisa kita ubah ubah isinya sebebas list\n",
        "\n",
        "cara buat tuple menggunakan ()"
      ]
    },
    {
      "cell_type": "code",
      "execution_count": 76,
      "metadata": {
        "colab": {
          "base_uri": "https://localhost:8080/"
        },
        "id": "MLkXdmb3ihvU",
        "outputId": "9ad3e253-6514-46d1-fc81-1444d559a543"
      },
      "outputs": [
        {
          "name": "stdout",
          "output_type": "stream",
          "text": [
            "('apple', 'banana', 'coconut')\n",
            "<class 'tuple'>\n"
          ]
        }
      ],
      "source": [
        "tuple_fruits = (\"apple\", \"banana\", \"coconut\")\n",
        "\n",
        "print(tuple_fruits)\n",
        "print(type(tuple_fruits))"
      ]
    },
    {
      "cell_type": "code",
      "execution_count": 77,
      "metadata": {
        "colab": {
          "base_uri": "https://localhost:8080/",
          "height": 144
        },
        "id": "vOBcYyS1i8Om",
        "outputId": "1ec001e5-e09f-46a9-f9f4-c39c5d47ae0a"
      },
      "outputs": [
        {
          "ename": "TypeError",
          "evalue": "'tuple' object does not support item assignment",
          "output_type": "error",
          "traceback": [
            "\u001b[0;31m---------------------------------------------------------------------------\u001b[0m",
            "\u001b[0;31mTypeError\u001b[0m                                 Traceback (most recent call last)",
            "\u001b[0;32m/tmp/ipython-input-77-224575740.py\u001b[0m in \u001b[0;36m<cell line: 0>\u001b[0;34m()\u001b[0m\n\u001b[0;32m----> 1\u001b[0;31m \u001b[0mtuple_fruits\u001b[0m\u001b[0;34m[\u001b[0m\u001b[0;36m0\u001b[0m\u001b[0;34m]\u001b[0m \u001b[0;34m=\u001b[0m \u001b[0;34m\"watermelon\"\u001b[0m\u001b[0;34m\u001b[0m\u001b[0;34m\u001b[0m\u001b[0m\n\u001b[0m",
            "\u001b[0;31mTypeError\u001b[0m: 'tuple' object does not support item assignment"
          ]
        }
      ],
      "source": [
        "tuple_fruits[0] = \"watermelon\""
      ]
    },
    {
      "cell_type": "markdown",
      "metadata": {
        "id": "K4Om0I2NjGy0"
      },
      "source": [
        "kita bisa ubah tuple jadi list dulu, ubah item nya, baru ubah balik jadi list"
      ]
    },
    {
      "cell_type": "code",
      "execution_count": 78,
      "metadata": {
        "colab": {
          "base_uri": "https://localhost:8080/"
        },
        "id": "Xt0E1oMYjBNH",
        "outputId": "4e23cfd3-886e-48c0-d0fa-5c171bc29eab"
      },
      "outputs": [
        {
          "name": "stdout",
          "output_type": "stream",
          "text": [
            "('watermelon', 'banana', 'coconut')\n",
            "<class 'tuple'>\n"
          ]
        }
      ],
      "source": [
        "tuple_fruits = list(tuple_fruits)\n",
        "tuple_fruits[0] = \"watermelon\"\n",
        "tuple_fruits = tuple(tuple_fruits)\n",
        "\n",
        "print(tuple_fruits)\n",
        "print(type(tuple_fruits))"
      ]
    },
    {
      "cell_type": "markdown",
      "metadata": {
        "id": "Y4tAv48Ijgpr"
      },
      "source": [
        "terakhir kita bahas Dictionary\n",
        "\n",
        "Dictionary adalah kamus, jadi kita pakai keyword untuk cari value di dalam sebuah dictionary\n",
        "\n",
        "cara tulisnya menggunakan {}\n",
        "\n",
        "isi setiap item di dalamnya perlu key:value pair\n",
        "\n",
        "tidak pakai index integer lagi, pakainya key string"
      ]
    },
    {
      "cell_type": "code",
      "execution_count": 79,
      "metadata": {
        "colab": {
          "base_uri": "https://localhost:8080/"
        },
        "id": "4WDx5g-ojTJd",
        "outputId": "297dcbd5-abba-4f75-d17b-ff4184b003e8"
      },
      "outputs": [
        {
          "name": "stdout",
          "output_type": "stream",
          "text": [
            "{'nama': 'andi budianto', 'umur': 23, 'kacamata': True}\n",
            "<class 'dict'>\n"
          ]
        }
      ],
      "source": [
        "andi = {\n",
        "    \"nama\": \"andi budianto\",\n",
        "    \"umur\": 23,\n",
        "    \"kacamata\": True,\n",
        "}\n",
        "\n",
        "print(andi)\n",
        "print(type(andi))"
      ]
    },
    {
      "cell_type": "code",
      "execution_count": 80,
      "metadata": {
        "id": "saw9oTLhj6-T"
      },
      "outputs": [],
      "source": [
        "andi = { \"nama\": \"andi budianto\", \"umur\": 23, \"kacamata\": True,}"
      ]
    },
    {
      "cell_type": "code",
      "execution_count": 81,
      "metadata": {
        "colab": {
          "base_uri": "https://localhost:8080/"
        },
        "id": "LgVaEwWpkCFm",
        "outputId": "a3602bb5-613d-4ca5-e731-99e4848c6acd"
      },
      "outputs": [
        {
          "name": "stdout",
          "output_type": "stream",
          "text": [
            "{'nama': 'andi budianto', 'umur': 23, 'kacamata': True, 'nilai': 80}\n"
          ]
        }
      ],
      "source": [
        "# untuk nambahin key:value pair kita bisa langsung assign key value ke dictionary nya\n",
        "andi[\"nilai\"] = 80\n",
        "\n",
        "print(andi)"
      ]
    },
    {
      "cell_type": "code",
      "execution_count": 82,
      "metadata": {
        "colab": {
          "base_uri": "https://localhost:8080/"
        },
        "id": "ZTmXhwhokIh2",
        "outputId": "fa62505d-1645-4d81-fdb0-be4c3d7d0240"
      },
      "outputs": [
        {
          "name": "stdout",
          "output_type": "stream",
          "text": [
            "{'nama': 'andi budianto', 'umur': 23, 'kacamata': True}\n"
          ]
        }
      ],
      "source": [
        "# untuk menghapus kita bisa pakai keyword del\n",
        "del andi[\"nilai\"]\n",
        "\n",
        "print(andi)"
      ]
    },
    {
      "cell_type": "code",
      "execution_count": 83,
      "metadata": {
        "id": "Fxc3RZOzkS1o"
      },
      "outputs": [],
      "source": [
        "# tapi tidak di rekomen\n",
        "# lebih umum kita set ke value yang kosong\n",
        "\n",
        "# soft delete, masih ada keyword nya tapi value nya kita ubah menjadi default value\n",
        "andi[\"andi\"] = -1"
      ]
    },
    {
      "cell_type": "markdown",
      "metadata": {
        "id": "xd4DnVYqk-vG"
      },
      "source": [
        "# latihan pendek\n",
        "1. cobalah membuat tipe data list yang isinya aktifitas favorit anda\n",
        "2. coba tambah di list tersebut 1 aktifitas lagi *\n",
        "3. buat sebuah dictionary yang mendeskripsikan mobil, ada merk, warna, harga, punya spoiler/ tidak, dan list fitur fitur *\n",
        "4. coba ambil fiture pertama di dalam dictionary tersebut *\n",
        "\n",
        "bahas:\n",
        "- nested list\n",
        "- nested dictionary"
      ]
    },
    {
      "cell_type": "code",
      "execution_count": 84,
      "metadata": {
        "colab": {
          "base_uri": "https://localhost:8080/"
        },
        "id": "hocSJL5FkihH",
        "outputId": "2eef9115-36e1-4365-8149-89f8ff410efd"
      },
      "outputs": [
        {
          "name": "stdout",
          "output_type": "stream",
          "text": [
            "['cycling', 'cooking', 'reading', 'travelling']\n",
            "['cycling', 'cooking', 'reading', 'travelling', 'soccer', 'basketball']\n",
            "['cycling', 'cooking', 'reading', 'travelling', 'soccer', 'basketball', 'cycling', 'cooking', 'reading', 'travelling', 'soccer', 'basketball', 'cycling', 'cooking', 'reading', 'travelling', 'soccer', 'basketball']\n"
          ]
        }
      ],
      "source": [
        "h = ['cycling', 'cooking', 'reading', 'travelling']\n",
        "print(h)\n",
        "\n",
        "h = h + ['soccer', 'basketball']\n",
        "print(h)\n",
        "\n",
        "print(h * 3)"
      ]
    },
    {
      "cell_type": "code",
      "execution_count": 86,
      "metadata": {
        "colab": {
          "base_uri": "https://localhost:8080/"
        },
        "id": "UgRBVMh-o-AB",
        "outputId": "4f327c0a-2d1a-4fb9-9ddc-141ca19223f3"
      },
      "outputs": [
        {
          "name": "stdout",
          "output_type": "stream",
          "text": [
            "{'brand': 'BMW', 'colour': 'white', 'price': '50000', 'spoiler': 'yes', 'features': ['auto_drive', 'manual']}\n"
          ]
        }
      ],
      "source": [
        "car = {'brand':'BMW','colour':'white','price':'50000','spoiler':'yes','features':['auto_drive','manual']}\n",
        "print(car)"
      ]
    },
    {
      "cell_type": "code",
      "execution_count": 87,
      "metadata": {
        "colab": {
          "base_uri": "https://localhost:8080/"
        },
        "id": "ByGT9Z1rpGYI",
        "outputId": "5840704f-e2ed-4e17-e623-7274a31e9d31"
      },
      "outputs": [
        {
          "data": {
            "text/plain": [
              "['auto_drive', 'manual']"
            ]
          },
          "execution_count": 87,
          "metadata": {},
          "output_type": "execute_result"
        }
      ],
      "source": [
        "car['features']"
      ]
    },
    {
      "cell_type": "code",
      "execution_count": 88,
      "metadata": {
        "colab": {
          "base_uri": "https://localhost:8080/",
          "height": 35
        },
        "id": "N8r6TgjYpOx3",
        "outputId": "259db708-c1b9-40eb-ae7f-1851e1829f4b"
      },
      "outputs": [
        {
          "data": {
            "application/vnd.google.colaboratory.intrinsic+json": {
              "type": "string"
            },
            "text/plain": [
              "'auto_drive'"
            ]
          },
          "execution_count": 88,
          "metadata": {},
          "output_type": "execute_result"
        }
      ],
      "source": [
        "a = car['features']\n",
        "a[0]"
      ]
    },
    {
      "cell_type": "code",
      "execution_count": 89,
      "metadata": {
        "colab": {
          "base_uri": "https://localhost:8080/",
          "height": 35
        },
        "id": "2MAOn97CpTXv",
        "outputId": "5b1595fb-2eb9-416c-8e9b-19eb9572798b"
      },
      "outputs": [
        {
          "data": {
            "application/vnd.google.colaboratory.intrinsic+json": {
              "type": "string"
            },
            "text/plain": [
              "'auto_drive'"
            ]
          },
          "execution_count": 89,
          "metadata": {},
          "output_type": "execute_result"
        }
      ],
      "source": [
        "# car, sebuah dictionary, kita ambil value dari key 'features'\n",
        "# isinya adalah sebuah list yang kita ambil index 0 nya\n",
        "car['features'][0]"
      ]
    },
    {
      "cell_type": "markdown",
      "metadata": {
        "id": "uZclGcQQpefl"
      },
      "source": [
        "nested list\n",
        "\n",
        "list dalam list\n",
        "\n",
        "misalnya kita simpan stok jualan sepatu dalam sebuah list. setiap sepatu kita simpan nama, harga, dan stoknya dalam bentuk list juga. jadinya ada list dalam list"
      ]
    },
    {
      "cell_type": "code",
      "execution_count": 90,
      "metadata": {
        "colab": {
          "base_uri": "https://localhost:8080/"
        },
        "id": "4Ov6S-93pb6d",
        "outputId": "59eb4693-0ec3-4f8b-e1d2-1434778cbca8"
      },
      "outputs": [
        {
          "data": {
            "text/plain": [
              "[['nike', 1250000, 3], ['adidas', 1270000, 9], ['skechers', 950000, 12]]"
            ]
          },
          "execution_count": 90,
          "metadata": {},
          "output_type": "execute_result"
        }
      ],
      "source": [
        "# sepatu [\"nike\", 1250000, 3]\n",
        "# banyak sepatu yang kita simpan semua dalam list juga\n",
        "\n",
        "stok_sepatu = [[\"nike\", 1250000, 3], [\"adidas\", 1270000, 9], [\"skechers\", 950000, 12]]\n",
        "stok_sepatu"
      ]
    },
    {
      "cell_type": "code",
      "execution_count": 91,
      "metadata": {
        "colab": {
          "base_uri": "https://localhost:8080/"
        },
        "id": "vv7GppfRp45o",
        "outputId": "604d14d8-23ec-4759-e087-de7fa23b167c"
      },
      "outputs": [
        {
          "name": "stdout",
          "output_type": "stream",
          "text": [
            "<class 'list'>\n"
          ]
        }
      ],
      "source": [
        "print(type(stok_sepatu))"
      ]
    },
    {
      "cell_type": "code",
      "execution_count": 92,
      "metadata": {
        "colab": {
          "base_uri": "https://localhost:8080/"
        },
        "id": "i5LiEZI2p7YN",
        "outputId": "35abae26-e7bf-4f0f-da9b-d573c46ad684"
      },
      "outputs": [
        {
          "data": {
            "text/plain": [
              "['nike', 1250000, 3]"
            ]
          },
          "execution_count": 92,
          "metadata": {},
          "output_type": "execute_result"
        }
      ],
      "source": [
        "stok_sepatu[0]"
      ]
    },
    {
      "cell_type": "code",
      "execution_count": 93,
      "metadata": {
        "colab": {
          "base_uri": "https://localhost:8080/"
        },
        "id": "cNV5Nkgnp9-4",
        "outputId": "8a5882b7-9246-44ed-c610-48be1b0873ac"
      },
      "outputs": [
        {
          "data": {
            "text/plain": [
              "1250000"
            ]
          },
          "execution_count": 93,
          "metadata": {},
          "output_type": "execute_result"
        }
      ],
      "source": [
        "# berapa harga sepatu pertama kita?\n",
        "stok_sepatu[0][1]"
      ]
    },
    {
      "cell_type": "code",
      "execution_count": 95,
      "metadata": {
        "colab": {
          "base_uri": "https://localhost:8080/"
        },
        "id": "NgQWZX7SqFNp",
        "outputId": "30010fed-b43b-48df-c18b-a2ca0b6f1710"
      },
      "outputs": [
        {
          "name": "stdout",
          "output_type": "stream",
          "text": [
            "[{'merk': 'nike', 'harga': 1250000, 'qty': 3}, {'merk': 'adidas', 'harga': 1270000, 'qty': 9}, {'merk': 'skechers', 'harga': 950000, 'qty': 12}]\n"
          ]
        }
      ],
      "source": [
        "# sebenarnya untuk list dalemnya baiknya pakai dictionary,\n",
        "# karena dia bukan punya urutan, dia punya keyword merk harga qty\n",
        "\n",
        "stok_sepatu = [\n",
        "    {\"merk\":\"nike\", \"harga\":1250000, \"qty\":3},\n",
        "    {\"merk\":\"adidas\", \"harga\":1270000, \"qty\":9},\n",
        "    {\"merk\":\"skechers\", \"harga\":950000, \"qty\":12}\n",
        "]\n",
        "\n",
        "\n",
        "print(stok_sepatu)"
      ]
    },
    {
      "cell_type": "code",
      "execution_count": 97,
      "metadata": {
        "colab": {
          "base_uri": "https://localhost:8080/"
        },
        "id": "Ap0Gjk8Oqd_k",
        "outputId": "9d5d1e3a-1bad-43c3-b607-90a848d11ea5"
      },
      "outputs": [
        {
          "data": {
            "text/plain": [
              "1250000"
            ]
          },
          "execution_count": 97,
          "metadata": {},
          "output_type": "execute_result"
        }
      ],
      "source": [
        "stok_sepatu[0]['harga']"
      ]
    },
    {
      "cell_type": "code",
      "execution_count": 98,
      "metadata": {
        "colab": {
          "base_uri": "https://localhost:8080/"
        },
        "id": "e7YetAaEqlck",
        "outputId": "aa74bd27-d15a-4852-8f7e-9b1254a4f87c"
      },
      "outputs": [
        {
          "name": "stdout",
          "output_type": "stream",
          "text": [
            "{'nama': 'andi budianto', 'umur': 23, 'kacamata': True, 'andi': -1}\n"
          ]
        }
      ],
      "source": [
        "# nested dictionary\n",
        "\n",
        "print(andi)"
      ]
    },
    {
      "cell_type": "code",
      "execution_count": 99,
      "metadata": {
        "colab": {
          "base_uri": "https://localhost:8080/"
        },
        "id": "9-8Bvwl3qwGg",
        "outputId": "45bae98b-52b3-432f-b28a-fbdeed2d27d5"
      },
      "outputs": [
        {
          "name": "stdout",
          "output_type": "stream",
          "text": [
            "{'nama': 'andi budianto', 'umur': 23, 'kacamata': True, 'andi': -1, 'car': {'brand': 'BMW', 'colour': 'white', 'price': '50000', 'spoiler': 'yes', 'features': ['auto_drive', 'manual']}}\n"
          ]
        }
      ],
      "source": [
        "andi[\"car\"] = car\n",
        "\n",
        "print(andi)"
      ]
    },
    {
      "cell_type": "code",
      "execution_count": 100,
      "metadata": {
        "id": "JUf3IGtcq6R2"
      },
      "outputs": [],
      "source": [
        "andi = {\n",
        "    'nama': 'andi budianto',\n",
        "    'umur': 23,\n",
        "    'kacamata': True,\n",
        "    'nilai': -1,\n",
        "    'car': {\n",
        "        'brand': 'BMW',\n",
        "        'colour': 'white',\n",
        "        'price': 50000.0,\n",
        "        'spoiler': True,\n",
        "        'features': ['auto_drive', 'manual']\n",
        "        }\n",
        "  }"
      ]
    },
    {
      "cell_type": "code",
      "execution_count": 101,
      "metadata": {
        "colab": {
          "base_uri": "https://localhost:8080/",
          "height": 35
        },
        "id": "2v0S8WYzrQCP",
        "outputId": "d3af391c-6c89-41ce-d4a4-d0fb699e19c4"
      },
      "outputs": [
        {
          "data": {
            "application/vnd.google.colaboratory.intrinsic+json": {
              "type": "string"
            },
            "text/plain": [
              "'white'"
            ]
          },
          "execution_count": 101,
          "metadata": {},
          "output_type": "execute_result"
        }
      ],
      "source": [
        "# apa warna mobilnya andi?\n",
        "andi['car']['colour']"
      ]
    },
    {
      "cell_type": "markdown",
      "metadata": {},
      "source": [
        "# Latihan tambahan\n",
        "1. buatlah sebuah data tipe tuple berisi beberapa angka random\n",
        "2. buatlah sebuah list menggunakan tuple tadi, tapi semua angkanya di kalikan 10\n",
        "3. buatlah sebuah string panjang menjelaskan apa itu string di sebuah variable\n",
        "4. ubah menjadi title case\n",
        "5. tambahkan \"OK\" di belakangnya\n"
      ]
    },
    {
      "cell_type": "code",
      "execution_count": 3,
      "metadata": {
        "id": "mmHNaTv_rZhh"
      },
      "outputs": [
        {
          "name": "stdout",
          "output_type": "stream",
          "text": [
            "(4, 8, 23, 777, 32, 901)\n",
            "(4, 8, 23, 777, 32, 901, 4, 8, 23, 777, 32, 901, 4, 8, 23, 777, 32, 901, 4, 8, 23, 777, 32, 901, 4, 8, 23, 777, 32, 901, 4, 8, 23, 777, 32, 901, 4, 8, 23, 777, 32, 901, 4, 8, 23, 777, 32, 901, 4, 8, 23, 777, 32, 901, 4, 8, 23, 777, 32, 901)\n",
            "those are lottery results from last week\n",
            "Those Are Lottery Results From Last Week\n",
            "those are lottery results from last weekok\n"
          ]
        }
      ],
      "source": [
        "l = (4, 8, 23, 777, 32, 901)\n",
        "print(l)\n",
        "\n",
        "print(l*10)\n",
        "\n",
        "m = \"those are lottery results from last week\"\n",
        "print(m)\n",
        "\n",
        "print(m.title())\n",
        "\n",
        "m = m + \"ok\"\n",
        "print(m)"
      ]
    },
    {
      "cell_type": "code",
      "execution_count": null,
      "metadata": {},
      "outputs": [],
      "source": []
    }
  ],
  "metadata": {
    "colab": {
      "provenance": []
    },
    "kernelspec": {
      "display_name": "base",
      "language": "python",
      "name": "python3"
    },
    "language_info": {
      "codemirror_mode": {
        "name": "ipython",
        "version": 3
      },
      "file_extension": ".py",
      "mimetype": "text/x-python",
      "name": "python",
      "nbconvert_exporter": "python",
      "pygments_lexer": "ipython3",
      "version": "3.13.5"
    }
  },
  "nbformat": 4,
  "nbformat_minor": 0
}
