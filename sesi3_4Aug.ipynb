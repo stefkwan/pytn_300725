{
 "cells": [
  {
   "cell_type": "code",
   "execution_count": 1,
   "id": "72f25746",
   "metadata": {},
   "outputs": [],
   "source": [
    "a = 10"
   ]
  },
  {
   "cell_type": "code",
   "execution_count": 2,
   "id": "a9c14bcf",
   "metadata": {},
   "outputs": [
    {
     "name": "stdout",
     "output_type": "stream",
     "text": [
      "10\n"
     ]
    }
   ],
   "source": [
    "print(10)"
   ]
  },
  {
   "cell_type": "markdown",
   "id": "cfba75ea",
   "metadata": {},
   "source": [
    "di sebuah Function, kita bisa\n",
    "\n",
    "- terima data sebagai input\n",
    "- kita bisa run code di dalam function termasuk print\n",
    "- kita bisa `return` mengembalikan data, yg bisa kita simpan ke variable untuk proses selanjutnya\n"
   ]
  },
  {
   "cell_type": "code",
   "execution_count": 12,
   "id": "51986a07",
   "metadata": {},
   "outputs": [],
   "source": [
    "# buat function untuk grading hasil ujian, <50 D, 51-70 C, 71-89 B, 90+ A\n",
    "\n",
    "def grading(nilai):\n",
    "    grade = \"D\"\n",
    "\n",
    "    if (nilai < 50):\n",
    "        grade = \"D\"\n",
    "    elif (nilai <= 70):\n",
    "        grade = \"C\"\n",
    "    elif (nilai <= 90):\n",
    "        grade = \"B\"\n",
    "    else:\n",
    "        grade = \"A\"\n",
    "\n",
    "    print(grade)\n",
    "\n",
    "    return grade"
   ]
  },
  {
   "cell_type": "code",
   "execution_count": 13,
   "id": "5743a408",
   "metadata": {},
   "outputs": [
    {
     "name": "stdout",
     "output_type": "stream",
     "text": [
      "B\n"
     ]
    }
   ],
   "source": [
    "n = 90\n",
    "hasil = grading(n)"
   ]
  },
  {
   "cell_type": "code",
   "execution_count": 14,
   "id": "5d3a26f5",
   "metadata": {},
   "outputs": [],
   "source": [
    "def hello():\n",
    "    print(\"Hello world!\")"
   ]
  },
  {
   "cell_type": "code",
   "execution_count": 16,
   "id": "d698c40a",
   "metadata": {},
   "outputs": [
    {
     "name": "stdout",
     "output_type": "stream",
     "text": [
      "Hello world!\n",
      "Hello world!\n",
      "Hello world!\n"
     ]
    }
   ],
   "source": [
    "hello()\n",
    "hello()\n",
    "hello()"
   ]
  },
  {
   "cell_type": "code",
   "execution_count": 17,
   "id": "e25ccb38",
   "metadata": {},
   "outputs": [
    {
     "name": "stdout",
     "output_type": "stream",
     "text": [
      "Hello world!\n",
      "Hello world!\n",
      "Hello world!\n",
      "Hello world!\n",
      "Hello world!\n",
      "Hello world!\n",
      "Hello world!\n",
      "Hello world!\n",
      "Hello world!\n",
      "Hello world!\n"
     ]
    }
   ],
   "source": [
    "for i in range(10):\n",
    "    hello()"
   ]
  },
  {
   "cell_type": "code",
   "execution_count": 18,
   "id": "38d022b1",
   "metadata": {},
   "outputs": [
    {
     "name": "stdout",
     "output_type": "stream",
     "text": [
      "nilai 0\n",
      "D\n",
      "nilai 1\n",
      "D\n",
      "nilai 2\n",
      "D\n",
      "nilai 3\n",
      "D\n",
      "nilai 4\n",
      "D\n",
      "nilai 5\n",
      "D\n",
      "nilai 6\n",
      "D\n",
      "nilai 7\n",
      "D\n",
      "nilai 8\n",
      "D\n",
      "nilai 9\n",
      "D\n",
      "nilai 10\n",
      "D\n",
      "nilai 11\n",
      "D\n",
      "nilai 12\n",
      "D\n",
      "nilai 13\n",
      "D\n",
      "nilai 14\n",
      "D\n",
      "nilai 15\n",
      "D\n",
      "nilai 16\n",
      "D\n",
      "nilai 17\n",
      "D\n",
      "nilai 18\n",
      "D\n",
      "nilai 19\n",
      "D\n",
      "nilai 20\n",
      "D\n",
      "nilai 21\n",
      "D\n",
      "nilai 22\n",
      "D\n",
      "nilai 23\n",
      "D\n",
      "nilai 24\n",
      "D\n",
      "nilai 25\n",
      "D\n",
      "nilai 26\n",
      "D\n",
      "nilai 27\n",
      "D\n",
      "nilai 28\n",
      "D\n",
      "nilai 29\n",
      "D\n",
      "nilai 30\n",
      "D\n",
      "nilai 31\n",
      "D\n",
      "nilai 32\n",
      "D\n",
      "nilai 33\n",
      "D\n",
      "nilai 34\n",
      "D\n",
      "nilai 35\n",
      "D\n",
      "nilai 36\n",
      "D\n",
      "nilai 37\n",
      "D\n",
      "nilai 38\n",
      "D\n",
      "nilai 39\n",
      "D\n",
      "nilai 40\n",
      "D\n",
      "nilai 41\n",
      "D\n",
      "nilai 42\n",
      "D\n",
      "nilai 43\n",
      "D\n",
      "nilai 44\n",
      "D\n",
      "nilai 45\n",
      "D\n",
      "nilai 46\n",
      "D\n",
      "nilai 47\n",
      "D\n",
      "nilai 48\n",
      "D\n",
      "nilai 49\n",
      "D\n",
      "nilai 50\n",
      "C\n",
      "nilai 51\n",
      "C\n",
      "nilai 52\n",
      "C\n",
      "nilai 53\n",
      "C\n",
      "nilai 54\n",
      "C\n",
      "nilai 55\n",
      "C\n",
      "nilai 56\n",
      "C\n",
      "nilai 57\n",
      "C\n",
      "nilai 58\n",
      "C\n",
      "nilai 59\n",
      "C\n",
      "nilai 60\n",
      "C\n",
      "nilai 61\n",
      "C\n",
      "nilai 62\n",
      "C\n",
      "nilai 63\n",
      "C\n",
      "nilai 64\n",
      "C\n",
      "nilai 65\n",
      "C\n",
      "nilai 66\n",
      "C\n",
      "nilai 67\n",
      "C\n",
      "nilai 68\n",
      "C\n",
      "nilai 69\n",
      "C\n",
      "nilai 70\n",
      "C\n",
      "nilai 71\n",
      "B\n",
      "nilai 72\n",
      "B\n",
      "nilai 73\n",
      "B\n",
      "nilai 74\n",
      "B\n",
      "nilai 75\n",
      "B\n",
      "nilai 76\n",
      "B\n",
      "nilai 77\n",
      "B\n",
      "nilai 78\n",
      "B\n",
      "nilai 79\n",
      "B\n",
      "nilai 80\n",
      "B\n",
      "nilai 81\n",
      "B\n",
      "nilai 82\n",
      "B\n",
      "nilai 83\n",
      "B\n",
      "nilai 84\n",
      "B\n",
      "nilai 85\n",
      "B\n",
      "nilai 86\n",
      "B\n",
      "nilai 87\n",
      "B\n",
      "nilai 88\n",
      "B\n",
      "nilai 89\n",
      "B\n",
      "nilai 90\n",
      "B\n",
      "nilai 91\n",
      "A\n",
      "nilai 92\n",
      "A\n",
      "nilai 93\n",
      "A\n",
      "nilai 94\n",
      "A\n",
      "nilai 95\n",
      "A\n",
      "nilai 96\n",
      "A\n",
      "nilai 97\n",
      "A\n",
      "nilai 98\n",
      "A\n",
      "nilai 99\n",
      "A\n",
      "nilai 100\n",
      "A\n"
     ]
    }
   ],
   "source": [
    "for n in range(101):\n",
    "    print(\"nilai\", n)\n",
    "    grading(n)"
   ]
  },
  {
   "cell_type": "code",
   "execution_count": 21,
   "id": "170978b1",
   "metadata": {},
   "outputs": [
    {
     "name": "stdout",
     "output_type": "stream",
     "text": [
      "Hello my name is Andi, I am from Jakarta. I work as Developer\n"
     ]
    }
   ],
   "source": [
    "# lebih dari 1 argumen\n",
    "\n",
    "def hello(name, location, occupation):\n",
    "    print(\n",
    "        f\"Hello my name is {name}, I am from {location}. I work as {occupation}\")\n",
    "\n",
    "\n",
    "hello(\"Andi\", \"Jakarta\", \"Developer\")"
   ]
  },
  {
   "cell_type": "markdown",
   "id": "2e4bfb97",
   "metadata": {},
   "source": [
    "selain required argumen, ada juga yang non-required, yang sudah punya default value.\n"
   ]
  },
  {
   "cell_type": "code",
   "execution_count": 24,
   "id": "b16a61e8",
   "metadata": {},
   "outputs": [
    {
     "name": "stdout",
     "output_type": "stream",
     "text": [
      "Hello my name is --, I am from tba. I work as currently unemployed\n",
      "Hello my name is andi, I am from tba. I work as currently unemployed\n",
      "Hello my name is andi, I am from jakarta. I work as currently unemployed\n"
     ]
    }
   ],
   "source": [
    "# default argument\n",
    "\n",
    "def hello(name=\"--\", location=\"tba\", occupation=\"currently unemployed\"):\n",
    "    print(\n",
    "        f\"Hello my name is {name}, I am from {location}. I work as {occupation}\")\n",
    "\n",
    "\n",
    "hello()\n",
    "hello(\"andi\")\n",
    "hello(\"andi\", \"jakarta\")"
   ]
  },
  {
   "cell_type": "code",
   "execution_count": 25,
   "id": "93aec90e",
   "metadata": {},
   "outputs": [
    {
     "name": "stdout",
     "output_type": "stream",
     "text": [
      "Hello my name is --, I am from tba. I work as Software Dev\n"
     ]
    }
   ],
   "source": [
    "# keyword argument, cara isi argument pakai namanya bukan posisinya\n",
    "\n",
    "hello(occupation=\"Software Dev\")"
   ]
  },
  {
   "cell_type": "code",
   "execution_count": 30,
   "id": "7673d68a",
   "metadata": {},
   "outputs": [
    {
     "name": "stdout",
     "output_type": "stream",
     "text": [
      "883\n"
     ]
    }
   ],
   "source": [
    "# variable length argument\n",
    "# saat jumlah argumen sebuah function tidak pasti, bisa dikit bisa banyak\n",
    "\n",
    "def jumlah(*angka):\n",
    "\n",
    "    total = 0\n",
    "    for a in angka:\n",
    "        total = total + a\n",
    "\n",
    "    print(total)\n",
    "\n",
    "\n",
    "jumlah(1, 5, 878, 1, -2)"
   ]
  },
  {
   "cell_type": "markdown",
   "id": "9cbf2176",
   "metadata": {},
   "source": [
    "Global vs Local variable\n",
    "\n",
    "Saat kita mau manipulasi data dengan function, kita perlu berhati hati tidak \"tidak sengaja\" mengubah data asli kita, data awal, data dari database\n",
    "\n",
    "Contoh data awal kita adalah global variable\n"
   ]
  },
  {
   "cell_type": "code",
   "execution_count": 31,
   "id": "10044f17",
   "metadata": {},
   "outputs": [],
   "source": [
    "# global variable\n",
    "score = 80\n",
    "\n",
    "\n",
    "# function untuk hitung score\n",
    "def check_score(s):\n",
    "    # s yg argument ini adalah local variable\n",
    "\n",
    "    # misalnya function ini tujuannya untuk membandingkan nilai s dengan nilai score\n",
    "    # apakah s lulus? kalau diatas score maka dianggap lulus\n",
    "\n",
    "    if (s >= score):\n",
    "        print(\"lulus\")\n",
    "    else:\n",
    "        print(\"tidak lulus\")"
   ]
  },
  {
   "cell_type": "code",
   "execution_count": 34,
   "id": "654c7fde",
   "metadata": {},
   "outputs": [],
   "source": [
    "# list, tuple, dictionary\n",
    "\n",
    "salesList = [120.5, 80.0, 150.25, 200.75, 50.0]\n",
    "\n",
    "\n",
    "def salesDiatas100(sales):\n",
    "    total = 0\n",
    "\n",
    "    sales_copy = sales.copy()  # deep copy\n",
    "\n",
    "    sales_copy[0] = 80\n",
    "    for s in sales_copy:\n",
    "        if (s >= 100):\n",
    "            total = total + 1\n",
    "\n",
    "\n",
    "salesDiatas100(salesList)"
   ]
  },
  {
   "cell_type": "code",
   "execution_count": 35,
   "id": "55c00fff",
   "metadata": {},
   "outputs": [
    {
     "name": "stdout",
     "output_type": "stream",
     "text": [
      "[120.5, 80.0, 150.25, 200.75, 50.0]\n"
     ]
    }
   ],
   "source": [
    "print(salesList)"
   ]
  },
  {
   "cell_type": "markdown",
   "id": "e6c4eb4d",
   "metadata": {},
   "source": [
    "untuk tipe data yang lebih complex, pada dasarnya python dan bahasa lainnya tidak membuat duplikat data ini\n",
    "\n",
    "jadi kita bisa mengakses data aslinya dari local variable. contoh diatas, sales bisa ubah salesList. padahal sales adalah local dan salesList adalah global.\n",
    "\n",
    "kalau kita perlu melakukan perubahan data tipe yang complex, kita tambahkan 1 step untuk memastikan data asli tidak berubah\n",
    "\n",
    "kita buat `deep copy` pakai `.copy()`\n"
   ]
  },
  {
   "cell_type": "markdown",
   "id": "4ae54351",
   "metadata": {},
   "source": [
    "## Latihan\n",
    "\n",
    "buatlah function untuk:\n",
    "\n",
    "1. memiliki 3 argumen, function nya print ketiga argumen tersebut di 1 kalimat\n",
    "2. menghitung angka pertama \\* 17 + angka kedua totalnya berapa\n",
    "3. mencari jumlah huruf \"a\" dari sebuah list yang isinya string [\"apel\", \"pisang\"] berarti function akan kasih total 2\n"
   ]
  },
  {
   "cell_type": "code",
   "execution_count": null,
   "id": "425e2244",
   "metadata": {},
   "outputs": [],
   "source": []
  }
 ],
 "metadata": {
  "kernelspec": {
   "display_name": "base",
   "language": "python",
   "name": "python3"
  },
  "language_info": {
   "codemirror_mode": {
    "name": "ipython",
    "version": 3
   },
   "file_extension": ".py",
   "mimetype": "text/x-python",
   "name": "python",
   "nbconvert_exporter": "python",
   "pygments_lexer": "ipython3",
   "version": "3.11.7"
  }
 },
 "nbformat": 4,
 "nbformat_minor": 5
}
