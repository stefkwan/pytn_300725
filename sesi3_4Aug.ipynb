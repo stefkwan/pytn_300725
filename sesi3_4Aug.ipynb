{
 "cells": [
  {
   "cell_type": "code",
   "execution_count": 18,
   "id": "72f25746",
   "metadata": {},
   "outputs": [],
   "source": [
    "a = 10"
   ]
  },
  {
   "cell_type": "code",
   "execution_count": 19,
   "id": "a9c14bcf",
   "metadata": {},
   "outputs": [
    {
     "name": "stdout",
     "output_type": "stream",
     "text": [
      "10\n"
     ]
    }
   ],
   "source": [
    "print(10)"
   ]
  },
  {
   "cell_type": "markdown",
   "id": "cfba75ea",
   "metadata": {},
   "source": [
    "di sebuah Function, kita bisa\n",
    "\n",
    "- terima data sebagai input\n",
    "- kita bisa run code di dalam function termasuk print\n",
    "- kita bisa `return` mengembalikan data, yg bisa kita simpan ke variable untuk proses selanjutnya\n"
   ]
  },
  {
   "cell_type": "code",
   "execution_count": 20,
   "id": "51986a07",
   "metadata": {},
   "outputs": [],
   "source": [
    "# buat function untuk grading hasil ujian, <50 D, 51-70 C, 71-89 B, 90+ A\n",
    "\n",
    "def grading(nilai):\n",
    "    grade = \"D\"\n",
    "\n",
    "    if (nilai < 50):\n",
    "        grade = \"D\"\n",
    "    elif (nilai <= 70):\n",
    "        grade = \"C\"\n",
    "    elif (nilai <= 90):\n",
    "        grade = \"B\"\n",
    "    else:\n",
    "        grade = \"A\"\n",
    "\n",
    "    print(grade)\n",
    "\n",
    "    return grade"
   ]
  },
  {
   "cell_type": "code",
   "execution_count": 21,
   "id": "5743a408",
   "metadata": {},
   "outputs": [
    {
     "name": "stdout",
     "output_type": "stream",
     "text": [
      "B\n"
     ]
    }
   ],
   "source": [
    "n = 90\n",
    "hasil = grading(n)"
   ]
  },
  {
   "cell_type": "code",
   "execution_count": 22,
   "id": "5d3a26f5",
   "metadata": {},
   "outputs": [],
   "source": [
    "def hello():\n",
    "    print(\"Hello world!\")"
   ]
  },
  {
   "cell_type": "code",
   "execution_count": 23,
   "id": "d698c40a",
   "metadata": {},
   "outputs": [
    {
     "name": "stdout",
     "output_type": "stream",
     "text": [
      "Hello world!\n",
      "Hello world!\n",
      "Hello world!\n"
     ]
    }
   ],
   "source": [
    "hello()\n",
    "hello()\n",
    "hello()"
   ]
  },
  {
   "cell_type": "code",
   "execution_count": 24,
   "id": "e25ccb38",
   "metadata": {},
   "outputs": [
    {
     "name": "stdout",
     "output_type": "stream",
     "text": [
      "Hello world!\n",
      "Hello world!\n",
      "Hello world!\n",
      "Hello world!\n",
      "Hello world!\n",
      "Hello world!\n",
      "Hello world!\n",
      "Hello world!\n",
      "Hello world!\n",
      "Hello world!\n"
     ]
    }
   ],
   "source": [
    "for i in range(10):\n",
    "    hello()"
   ]
  },
  {
   "cell_type": "code",
   "execution_count": 25,
   "id": "38d022b1",
   "metadata": {},
   "outputs": [
    {
     "name": "stdout",
     "output_type": "stream",
     "text": [
      "nilai 0\n",
      "D\n",
      "nilai 1\n",
      "D\n",
      "nilai 2\n",
      "D\n",
      "nilai 3\n",
      "D\n",
      "nilai 4\n",
      "D\n",
      "nilai 5\n",
      "D\n",
      "nilai 6\n",
      "D\n",
      "nilai 7\n",
      "D\n",
      "nilai 8\n",
      "D\n",
      "nilai 9\n",
      "D\n",
      "nilai 10\n",
      "D\n",
      "nilai 11\n",
      "D\n",
      "nilai 12\n",
      "D\n",
      "nilai 13\n",
      "D\n",
      "nilai 14\n",
      "D\n",
      "nilai 15\n",
      "D\n",
      "nilai 16\n",
      "D\n",
      "nilai 17\n",
      "D\n",
      "nilai 18\n",
      "D\n",
      "nilai 19\n",
      "D\n",
      "nilai 20\n",
      "D\n",
      "nilai 21\n",
      "D\n",
      "nilai 22\n",
      "D\n",
      "nilai 23\n",
      "D\n",
      "nilai 24\n",
      "D\n",
      "nilai 25\n",
      "D\n",
      "nilai 26\n",
      "D\n",
      "nilai 27\n",
      "D\n",
      "nilai 28\n",
      "D\n",
      "nilai 29\n",
      "D\n",
      "nilai 30\n",
      "D\n",
      "nilai 31\n",
      "D\n",
      "nilai 32\n",
      "D\n",
      "nilai 33\n",
      "D\n",
      "nilai 34\n",
      "D\n",
      "nilai 35\n",
      "D\n",
      "nilai 36\n",
      "D\n",
      "nilai 37\n",
      "D\n",
      "nilai 38\n",
      "D\n",
      "nilai 39\n",
      "D\n",
      "nilai 40\n",
      "D\n",
      "nilai 41\n",
      "D\n",
      "nilai 42\n",
      "D\n",
      "nilai 43\n",
      "D\n",
      "nilai 44\n",
      "D\n",
      "nilai 45\n",
      "D\n",
      "nilai 46\n",
      "D\n",
      "nilai 47\n",
      "D\n",
      "nilai 48\n",
      "D\n",
      "nilai 49\n",
      "D\n",
      "nilai 50\n",
      "C\n",
      "nilai 51\n",
      "C\n",
      "nilai 52\n",
      "C\n",
      "nilai 53\n",
      "C\n",
      "nilai 54\n",
      "C\n",
      "nilai 55\n",
      "C\n",
      "nilai 56\n",
      "C\n",
      "nilai 57\n",
      "C\n",
      "nilai 58\n",
      "C\n",
      "nilai 59\n",
      "C\n",
      "nilai 60\n",
      "C\n",
      "nilai 61\n",
      "C\n",
      "nilai 62\n",
      "C\n",
      "nilai 63\n",
      "C\n",
      "nilai 64\n",
      "C\n",
      "nilai 65\n",
      "C\n",
      "nilai 66\n",
      "C\n",
      "nilai 67\n",
      "C\n",
      "nilai 68\n",
      "C\n",
      "nilai 69\n",
      "C\n",
      "nilai 70\n",
      "C\n",
      "nilai 71\n",
      "B\n",
      "nilai 72\n",
      "B\n",
      "nilai 73\n",
      "B\n",
      "nilai 74\n",
      "B\n",
      "nilai 75\n",
      "B\n",
      "nilai 76\n",
      "B\n",
      "nilai 77\n",
      "B\n",
      "nilai 78\n",
      "B\n",
      "nilai 79\n",
      "B\n",
      "nilai 80\n",
      "B\n",
      "nilai 81\n",
      "B\n",
      "nilai 82\n",
      "B\n",
      "nilai 83\n",
      "B\n",
      "nilai 84\n",
      "B\n",
      "nilai 85\n",
      "B\n",
      "nilai 86\n",
      "B\n",
      "nilai 87\n",
      "B\n",
      "nilai 88\n",
      "B\n",
      "nilai 89\n",
      "B\n",
      "nilai 90\n",
      "B\n",
      "nilai 91\n",
      "A\n",
      "nilai 92\n",
      "A\n",
      "nilai 93\n",
      "A\n",
      "nilai 94\n",
      "A\n",
      "nilai 95\n",
      "A\n",
      "nilai 96\n",
      "A\n",
      "nilai 97\n",
      "A\n",
      "nilai 98\n",
      "A\n",
      "nilai 99\n",
      "A\n",
      "nilai 100\n",
      "A\n"
     ]
    }
   ],
   "source": [
    "for n in range(101):\n",
    "    print(\"nilai\", n)\n",
    "    grading(n)"
   ]
  },
  {
   "cell_type": "code",
   "execution_count": 26,
   "id": "170978b1",
   "metadata": {},
   "outputs": [
    {
     "name": "stdout",
     "output_type": "stream",
     "text": [
      "Hello my name is Andi, I am from Jakarta. I work as Developer\n"
     ]
    }
   ],
   "source": [
    "# lebih dari 1 argumen\n",
    "\n",
    "def hello(name, location, occupation):\n",
    "    print(\n",
    "        f\"Hello my name is {name}, I am from {location}. I work as {occupation}\")\n",
    "\n",
    "\n",
    "hello(\"Andi\", \"Jakarta\", \"Developer\")"
   ]
  },
  {
   "cell_type": "markdown",
   "id": "2e4bfb97",
   "metadata": {},
   "source": [
    "selain required argumen, ada juga yang non-required, yang sudah punya default value.\n"
   ]
  },
  {
   "cell_type": "code",
   "execution_count": 27,
   "id": "b16a61e8",
   "metadata": {},
   "outputs": [
    {
     "name": "stdout",
     "output_type": "stream",
     "text": [
      "Hello my name is --, I am from tba. I work as currently unemployed\n",
      "Hello my name is andi, I am from tba. I work as currently unemployed\n",
      "Hello my name is andi, I am from jakarta. I work as currently unemployed\n"
     ]
    }
   ],
   "source": [
    "# default argument\n",
    "\n",
    "def hello(name=\"--\", location=\"tba\", occupation=\"currently unemployed\"):\n",
    "    print(\n",
    "        f\"Hello my name is {name}, I am from {location}. I work as {occupation}\")\n",
    "\n",
    "\n",
    "hello()\n",
    "hello(\"andi\")\n",
    "hello(\"andi\", \"jakarta\")"
   ]
  },
  {
   "cell_type": "code",
   "execution_count": 28,
   "id": "93aec90e",
   "metadata": {},
   "outputs": [
    {
     "name": "stdout",
     "output_type": "stream",
     "text": [
      "Hello my name is --, I am from tba. I work as Software Dev\n"
     ]
    }
   ],
   "source": [
    "# keyword argument, cara isi argument pakai namanya bukan posisinya\n",
    "\n",
    "hello(occupation=\"Software Dev\")"
   ]
  },
  {
   "cell_type": "code",
   "execution_count": 29,
   "id": "7673d68a",
   "metadata": {},
   "outputs": [
    {
     "name": "stdout",
     "output_type": "stream",
     "text": [
      "883\n"
     ]
    }
   ],
   "source": [
    "# variable length argument\n",
    "# saat jumlah argumen sebuah function tidak pasti, bisa dikit bisa banyak\n",
    "\n",
    "def jumlah(*angka):\n",
    "\n",
    "    total = 0\n",
    "    for a in angka:\n",
    "        total = total + a\n",
    "\n",
    "    print(total)\n",
    "\n",
    "\n",
    "jumlah(1, 5, 878, 1, -2)"
   ]
  },
  {
   "cell_type": "markdown",
   "id": "9cbf2176",
   "metadata": {},
   "source": [
    "Global vs Local variable\n",
    "\n",
    "Saat kita mau manipulasi data dengan function, kita perlu berhati hati tidak \"tidak sengaja\" mengubah data asli kita, data awal, data dari database\n",
    "\n",
    "Contoh data awal kita adalah global variable\n"
   ]
  },
  {
   "cell_type": "code",
   "execution_count": 30,
   "id": "10044f17",
   "metadata": {},
   "outputs": [],
   "source": [
    "# global variable\n",
    "score = 80\n",
    "\n",
    "\n",
    "# function untuk hitung score\n",
    "def check_score(s):\n",
    "    # s yg argument ini adalah local variable\n",
    "\n",
    "    # misalnya function ini tujuannya untuk membandingkan nilai s dengan nilai score\n",
    "    # apakah s lulus? kalau diatas score maka dianggap lulus\n",
    "\n",
    "    if (s >= score):\n",
    "        print(\"lulus\")\n",
    "    else:\n",
    "        print(\"tidak lulus\")"
   ]
  },
  {
   "cell_type": "code",
   "execution_count": 31,
   "id": "654c7fde",
   "metadata": {},
   "outputs": [],
   "source": [
    "# list, tuple, dictionary\n",
    "\n",
    "salesList = [120.5, 80.0, 150.25, 200.75, 50.0]\n",
    "\n",
    "\n",
    "def salesDiatas100(sales):\n",
    "    total = 0\n",
    "\n",
    "    sales_copy = sales.copy()  # deep copy\n",
    "\n",
    "    sales_copy[0] = 80\n",
    "    for s in sales_copy:\n",
    "        if (s >= 100):\n",
    "            total = total + 1\n",
    "\n",
    "\n",
    "salesDiatas100(salesList)"
   ]
  },
  {
   "cell_type": "code",
   "execution_count": 32,
   "id": "55c00fff",
   "metadata": {},
   "outputs": [
    {
     "name": "stdout",
     "output_type": "stream",
     "text": [
      "[120.5, 80.0, 150.25, 200.75, 50.0]\n"
     ]
    }
   ],
   "source": [
    "print(salesList)"
   ]
  },
  {
   "cell_type": "markdown",
   "id": "e6c4eb4d",
   "metadata": {},
   "source": [
    "untuk tipe data yang lebih complex, pada dasarnya python dan bahasa lainnya tidak membuat duplikat data ini\n",
    "\n",
    "jadi kita bisa mengakses data aslinya dari local variable. contoh diatas, sales bisa ubah salesList. padahal sales adalah local dan salesList adalah global.\n",
    "\n",
    "kalau kita perlu melakukan perubahan data tipe yang complex, kita tambahkan 1 step untuk memastikan data asli tidak berubah\n",
    "\n",
    "kita buat `deep copy` pakai `.copy()`\n"
   ]
  },
  {
   "cell_type": "markdown",
   "id": "4ae54351",
   "metadata": {},
   "source": [
    "## Latihan\n",
    "\n",
    "buatlah function untuk:\n",
    "\n",
    "1. memiliki 3 argumen, function nya print ketiga argumen tersebut di 1 kalimat\n",
    "2. menghitung angka pertama \\* 17 + angka kedua totalnya berapa\n",
    "3. mencari jumlah huruf \"a\" dari sebuah list yang isinya string [\"apel\", \"pisang\"] berarti function akan kasih total 2\n"
   ]
  },
  {
   "cell_type": "code",
   "execution_count": 33,
   "id": "425e2244",
   "metadata": {},
   "outputs": [],
   "source": [
    "def contoh1(a, b, c):\n",
    "    print(f\"{a} {b} {c}\")"
   ]
  },
  {
   "cell_type": "code",
   "execution_count": 34,
   "id": "cea11a60",
   "metadata": {},
   "outputs": [],
   "source": [
    "def hitung(angka01, angka02):\n",
    "    total = (angka01*17) + angka02\n",
    "    print(total)"
   ]
  },
  {
   "cell_type": "code",
   "execution_count": 35,
   "id": "3878b0f2",
   "metadata": {},
   "outputs": [
    {
     "name": "stdout",
     "output_type": "stream",
     "text": [
      "apel\n",
      "a\n",
      "p\n",
      "e\n",
      "l\n",
      "pisang\n",
      "p\n",
      "i\n",
      "s\n",
      "a\n",
      "n\n",
      "g\n",
      "2\n"
     ]
    }
   ],
   "source": [
    "# list_str isinya berbentuk [\"apel\", \"pisang\"]\n",
    "def hitung(list_str):\n",
    "    jumlah_a = 0\n",
    "\n",
    "    # untuk setiap string yang ada di dalam list ini\n",
    "    for s in list_str:\n",
    "        print(s)\n",
    "        # s sudah berbentuk string seperti \"apel\"\n",
    "        # untuk setiap string kita mau cek setiap hurufnya\n",
    "        for huruf in s:\n",
    "            # huruf berbentuk \"a\" dari \"apel\", kemudian \"p\", ...\n",
    "            print(huruf)\n",
    "            # apakah ini huruf \"a\"?\n",
    "            if (huruf.lower() == \"a\"):\n",
    "                jumlah_a = jumlah_a + 1\n",
    "\n",
    "    print(jumlah_a)\n",
    "    return jumlah_a\n",
    "\n",
    "\n",
    "hasil_hitung = hitung([\"apel\", \"pisang\"])"
   ]
  },
  {
   "cell_type": "code",
   "execution_count": 36,
   "id": "4b14039d",
   "metadata": {},
   "outputs": [
    {
     "name": "stdout",
     "output_type": "stream",
     "text": [
      "123\n",
      "kdgjh\n",
      "kdgjh is a string\n",
      "k\n",
      "d\n",
      "g\n",
      "j\n",
      "h\n",
      "\n",
      "213.67\n",
      "True\n"
     ]
    }
   ],
   "source": [
    "for a in [123, \"kdgjh\", 213.67, True]:\n",
    "    print(a)\n",
    "\n",
    "    if (type(a) == type(\"\")):\n",
    "        print(f\"{a} is a string\")\n",
    "        for item in a:\n",
    "            print(item)\n",
    "        print()"
   ]
  },
  {
   "cell_type": "code",
   "execution_count": 37,
   "id": "8b78984d",
   "metadata": {},
   "outputs": [
    {
     "name": "stdout",
     "output_type": "stream",
     "text": [
      "s\n",
      "e\n",
      "b\n",
      "u\n",
      "a\n",
      "h\n",
      " \n",
      "S\n",
      "t\n",
      "r\n",
      "i\n",
      "n\n",
      "g\n",
      " \n",
      "r\n",
      "a\n",
      "n\n",
      "d\n",
      "o\n",
      "m\n"
     ]
    }
   ],
   "source": [
    "for h in \"sebuah String random\":\n",
    "    print(h)"
   ]
  },
  {
   "cell_type": "code",
   "execution_count": 38,
   "id": "6e18d887",
   "metadata": {},
   "outputs": [
    {
     "name": "stdout",
     "output_type": "stream",
     "text": [
      "123\n",
      "abc\n"
     ]
    }
   ],
   "source": [
    "for h in [123, \"abc\"]:\n",
    "    print(h)"
   ]
  },
  {
   "cell_type": "code",
   "execution_count": 39,
   "id": "4f419922",
   "metadata": {},
   "outputs": [
    {
     "name": "stdout",
     "output_type": "stream",
     "text": [
      "123\n",
      "abc\n"
     ]
    }
   ],
   "source": [
    "for h in (123, \"abc\"):\n",
    "    print(h)"
   ]
  },
  {
   "cell_type": "code",
   "execution_count": 40,
   "id": "db0ae4a3",
   "metadata": {},
   "outputs": [
    {
     "name": "stdout",
     "output_type": "stream",
     "text": [
      "nama\n",
      "nilai\n"
     ]
    }
   ],
   "source": [
    "for h in {\"nama\": \"andi\", \"nilai\": 80}:\n",
    "    print(h)"
   ]
  },
  {
   "cell_type": "markdown",
   "id": "c9fd0cd6",
   "metadata": {},
   "source": [
    "# Module\n",
    "\n",
    "module adalah file `.py` yang berisi code Python.\n",
    "\n",
    "Biasanya kita menggunakan file module ini untuk menyimpan variable dan function (dan class) yang temanya sama. Misalnya module untuk matematik punya fungsi2 untuk berhitung. Atau di contoh kali ini, module Andi punya data tentang Andi.\n",
    "\n",
    "untuk digunakan, kita akan `import` module tersebut dan kita beri nama\n"
   ]
  },
  {
   "cell_type": "code",
   "execution_count": 41,
   "id": "2d17add2",
   "metadata": {},
   "outputs": [
    {
     "ename": "ModuleNotFoundError",
     "evalue": "No module named 'andi'",
     "output_type": "error",
     "traceback": [
      "\u001b[1;31m---------------------------------------------------------------------------\u001b[0m",
      "\u001b[1;31mModuleNotFoundError\u001b[0m                       Traceback (most recent call last)",
      "Cell \u001b[1;32mIn[41], line 1\u001b[0m\n\u001b[1;32m----> 1\u001b[0m \u001b[38;5;28;01mimport\u001b[39;00m \u001b[38;5;21;01mandi\u001b[39;00m\n",
      "\u001b[1;31mModuleNotFoundError\u001b[0m: No module named 'andi'"
     ]
    }
   ],
   "source": [
    "import andi"
   ]
  },
  {
   "cell_type": "code",
   "execution_count": null,
   "id": "07648edb",
   "metadata": {},
   "outputs": [
    {
     "data": {
      "text/plain": [
       "'Andhika'"
      ]
     },
     "execution_count": 57,
     "metadata": {},
     "output_type": "execute_result"
    }
   ],
   "source": [
    "# untuk pakai variable dan function milik module andi kita perlu panggil andi\n",
    "\n",
    "andi.fname"
   ]
  },
  {
   "cell_type": "code",
   "execution_count": null,
   "id": "ee0252e5",
   "metadata": {},
   "outputs": [
    {
     "data": {
      "text/plain": [
       "'Widjaja'"
      ]
     },
     "execution_count": 58,
     "metadata": {},
     "output_type": "execute_result"
    }
   ],
   "source": [
    "andi.lname"
   ]
  },
  {
   "cell_type": "code",
   "execution_count": null,
   "id": "30725b6c",
   "metadata": {},
   "outputs": [
    {
     "data": {
      "text/plain": [
       "67"
      ]
     },
     "execution_count": 59,
     "metadata": {},
     "output_type": "execute_result"
    }
   ],
   "source": [
    "andi.umur"
   ]
  },
  {
   "cell_type": "code",
   "execution_count": null,
   "id": "f998fdaf",
   "metadata": {},
   "outputs": [
    {
     "name": "stdout",
     "output_type": "stream",
     "text": [
      "Perkenalkan saya Andi, saya mau bejalar jadi Data Scientist.\n"
     ]
    }
   ],
   "source": [
    "andi.hello()"
   ]
  },
  {
   "cell_type": "code",
   "execution_count": null,
   "id": "ea556fea",
   "metadata": {},
   "outputs": [],
   "source": [
    "# kalau malas pakai andi. di depan semua variable dan function punya module andi,\n",
    "# kita bisa import dan beri nama sendiri\n",
    "\n",
    "import andi as a"
   ]
  },
  {
   "cell_type": "code",
   "execution_count": null,
   "id": "a39bf12d",
   "metadata": {},
   "outputs": [
    {
     "name": "stdout",
     "output_type": "stream",
     "text": [
      "Perkenalkan saya Andi, saya mau bejalar jadi Data Scientist.\n"
     ]
    }
   ],
   "source": [
    "a.hello()"
   ]
  },
  {
   "cell_type": "code",
   "execution_count": null,
   "id": "7c3296f5",
   "metadata": {},
   "outputs": [],
   "source": [
    "# kita juga bisa import langsung variable atau function tertentu dalam module andi\n",
    "\n",
    "from andi import hello"
   ]
  },
  {
   "cell_type": "code",
   "execution_count": null,
   "id": "ab70731e",
   "metadata": {},
   "outputs": [
    {
     "name": "stdout",
     "output_type": "stream",
     "text": [
      "Perkenalkan saya Andi, saya mau bejalar jadi Data Scientist.\n"
     ]
    }
   ],
   "source": [
    "hello()"
   ]
  },
  {
   "cell_type": "markdown",
   "id": "09e20efa",
   "metadata": {},
   "source": [
    "### namespace\n",
    "\n",
    "nama di sebuah file itu terbatas, kalau sama dia nimpa nimpa\n",
    "\n",
    "misalkan kita sudah punya function hello, lalu kita import function hello lagi dari module andi seperti diatas, maka function hello kita yang pertama tertimpa, terhapus, digantikan oleh function hello terbaru yang kita import\n",
    "\n",
    "untuk cek nama nama yang sudah kita pakai di sebuah file kita bisa pakai `dir()`\n"
   ]
  },
  {
   "cell_type": "code",
   "execution_count": 42,
   "id": "12b85a13",
   "metadata": {},
   "outputs": [
    {
     "data": {
      "text/plain": [
       "['In',\n",
       " 'Out',\n",
       " '_',\n",
       " '_10',\n",
       " '_11',\n",
       " '_12',\n",
       " '_13',\n",
       " '_14',\n",
       " '_17',\n",
       " '_3',\n",
       " '_4',\n",
       " '_5',\n",
       " '_6',\n",
       " '_7',\n",
       " '__',\n",
       " '___',\n",
       " '__builtin__',\n",
       " '__builtins__',\n",
       " '__doc__',\n",
       " '__loader__',\n",
       " '__name__',\n",
       " '__package__',\n",
       " '__spec__',\n",
       " '__vsc_ipynb_file__',\n",
       " '_dh',\n",
       " '_exit_code',\n",
       " '_i',\n",
       " '_i1',\n",
       " '_i10',\n",
       " '_i11',\n",
       " '_i12',\n",
       " '_i13',\n",
       " '_i14',\n",
       " '_i15',\n",
       " '_i16',\n",
       " '_i17',\n",
       " '_i18',\n",
       " '_i19',\n",
       " '_i2',\n",
       " '_i20',\n",
       " '_i21',\n",
       " '_i22',\n",
       " '_i23',\n",
       " '_i24',\n",
       " '_i25',\n",
       " '_i26',\n",
       " '_i27',\n",
       " '_i28',\n",
       " '_i29',\n",
       " '_i3',\n",
       " '_i30',\n",
       " '_i31',\n",
       " '_i32',\n",
       " '_i33',\n",
       " '_i34',\n",
       " '_i35',\n",
       " '_i36',\n",
       " '_i37',\n",
       " '_i38',\n",
       " '_i39',\n",
       " '_i4',\n",
       " '_i40',\n",
       " '_i41',\n",
       " '_i42',\n",
       " '_i5',\n",
       " '_i6',\n",
       " '_i7',\n",
       " '_i8',\n",
       " '_i9',\n",
       " '_ih',\n",
       " '_ii',\n",
       " '_iii',\n",
       " '_oh',\n",
       " 'a',\n",
       " 'check_score',\n",
       " 'contoh1',\n",
       " 'exit',\n",
       " 'get_ipython',\n",
       " 'grading',\n",
       " 'h',\n",
       " 'hasil',\n",
       " 'hasil_hitung',\n",
       " 'hello',\n",
       " 'hitung',\n",
       " 'i',\n",
       " 'item',\n",
       " 'jumlah',\n",
       " 'n',\n",
       " 'open',\n",
       " 'quit',\n",
       " 'r',\n",
       " 'requests',\n",
       " 'salesDiatas100',\n",
       " 'salesList',\n",
       " 'score']"
      ]
     },
     "execution_count": 42,
     "metadata": {},
     "output_type": "execute_result"
    }
   ],
   "source": [
    "dir()"
   ]
  },
  {
   "cell_type": "code",
   "execution_count": 43,
   "id": "77edb78c",
   "metadata": {},
   "outputs": [
    {
     "data": {
      "text/plain": [
       "True"
      ]
     },
     "execution_count": 43,
     "metadata": {},
     "output_type": "execute_result"
    }
   ],
   "source": [
    "# umumnya kita cek nama sudah terpakai atau belum pakai in\n",
    "\n",
    "\"hello\" in dir()"
   ]
  },
  {
   "cell_type": "code",
   "execution_count": 44,
   "id": "113908a5",
   "metadata": {},
   "outputs": [
    {
     "data": {
      "text/plain": [
       "False"
      ]
     },
     "execution_count": 44,
     "metadata": {},
     "output_type": "execute_result"
    }
   ],
   "source": [
    "\"perkenalan\" in dir()"
   ]
  },
  {
   "cell_type": "markdown",
   "id": "42967abc",
   "metadata": {},
   "source": [
    "namespace ini termasuk:\n",
    "\n",
    "- keyword python, print, def, in, ...\n",
    "- nama variable yang kita buat\n",
    "- nama function yang kiat buat\n",
    "- nama variable dan function yang kita import (untuk import langsung variable/function)\n",
    "- nama module yang kita import\n"
   ]
  },
  {
   "cell_type": "code",
   "execution_count": 45,
   "id": "77453cd2",
   "metadata": {},
   "outputs": [
    {
     "data": {
      "text/plain": [
       "['c:\\\\Users\\\\user\\\\Documents\\\\projects\\\\hacktiv8\\\\pytn_300725',\n",
       " 'c:\\\\ProgramData\\\\anaconda3\\\\python311.zip',\n",
       " 'c:\\\\ProgramData\\\\anaconda3\\\\DLLs',\n",
       " 'c:\\\\ProgramData\\\\anaconda3\\\\Lib',\n",
       " 'c:\\\\ProgramData\\\\anaconda3',\n",
       " '',\n",
       " 'C:\\\\Users\\\\user\\\\AppData\\\\Roaming\\\\Python\\\\Python311\\\\site-packages',\n",
       " 'c:\\\\ProgramData\\\\anaconda3\\\\Lib\\\\site-packages',\n",
       " 'c:\\\\ProgramData\\\\anaconda3\\\\Lib\\\\site-packages\\\\win32',\n",
       " 'c:\\\\ProgramData\\\\anaconda3\\\\Lib\\\\site-packages\\\\win32\\\\lib',\n",
       " 'c:\\\\ProgramData\\\\anaconda3\\\\Lib\\\\site-packages\\\\Pythonwin']"
      ]
     },
     "execution_count": 45,
     "metadata": {},
     "output_type": "execute_result"
    }
   ],
   "source": [
    "# module sys bawaan python sering digunakan untuk cek lokasi yang digunakan file kita\n",
    "# untuk cari nama file module saat import\n",
    "\n",
    "import sys\n",
    "\n",
    "sys.path"
   ]
  },
  {
   "cell_type": "markdown",
   "id": "1d4d2862",
   "metadata": {},
   "source": [
    "data -> variable\n",
    "\n",
    "variable -> code -> function\n",
    "\n",
    "variable & function -> module (file)\n",
    "\n",
    "banyak module -> package (folder)\n",
    "\n",
    "contohnya, kita punya package employee berisi dua module andi dan budi\n"
   ]
  },
  {
   "cell_type": "code",
   "execution_count": 46,
   "id": "1b2e64a1",
   "metadata": {},
   "outputs": [],
   "source": [
    "import employee"
   ]
  },
  {
   "cell_type": "code",
   "execution_count": 47,
   "id": "f76829c7",
   "metadata": {},
   "outputs": [
    {
     "ename": "AttributeError",
     "evalue": "module 'employee' has no attribute 'andi'",
     "output_type": "error",
     "traceback": [
      "\u001b[1;31m---------------------------------------------------------------------------\u001b[0m",
      "\u001b[1;31mAttributeError\u001b[0m                            Traceback (most recent call last)",
      "Cell \u001b[1;32mIn[47], line 1\u001b[0m\n\u001b[1;32m----> 1\u001b[0m employee\u001b[38;5;241m.\u001b[39mandi\n",
      "\u001b[1;31mAttributeError\u001b[0m: module 'employee' has no attribute 'andi'"
     ]
    }
   ],
   "source": [
    "employee.andi"
   ]
  },
  {
   "cell_type": "code",
   "execution_count": 48,
   "id": "069ebaed",
   "metadata": {},
   "outputs": [],
   "source": [
    "# importnya langsung ke module tertentu di sebuah package\n",
    "\n",
    "import employee.andi"
   ]
  },
  {
   "cell_type": "code",
   "execution_count": 49,
   "id": "6e094e86",
   "metadata": {},
   "outputs": [
    {
     "name": "stdout",
     "output_type": "stream",
     "text": [
      "Perkenalkan saya Andi, saya mau bejalar jadi Data Scientist.\n"
     ]
    }
   ],
   "source": [
    "employee.andi.hello()"
   ]
  },
  {
   "cell_type": "code",
   "execution_count": 50,
   "id": "8f8b8641",
   "metadata": {},
   "outputs": [],
   "source": [
    "# karena namanya jadi panjang package.module.function biasanya sering kita gunakan alias\n",
    "\n",
    "import employee.andi as ea"
   ]
  },
  {
   "cell_type": "code",
   "execution_count": 51,
   "id": "4fa9aab3",
   "metadata": {},
   "outputs": [
    {
     "name": "stdout",
     "output_type": "stream",
     "text": [
      "Perkenalkan saya Andi, saya mau bejalar jadi Data Scientist.\n"
     ]
    }
   ],
   "source": [
    "ea.hello()"
   ]
  },
  {
   "cell_type": "code",
   "execution_count": 52,
   "id": "e4886c90",
   "metadata": {},
   "outputs": [
    {
     "data": {
      "text/plain": [
       "'Sedan'"
      ]
     },
     "execution_count": 52,
     "metadata": {},
     "output_type": "execute_result"
    }
   ],
   "source": [
    "car = {\n",
    "    \"model\": \"Sedan\",\n",
    "    \"merk\": \"Toyota\",\n",
    "    \"color\": \"black\"\n",
    "}\n",
    "\n",
    "car[\"model\"]"
   ]
  },
  {
   "cell_type": "markdown",
   "id": "a67fb9b0",
   "metadata": {},
   "source": [
    "berikut kita coba install sebuah package python namanya requests, biasanya digunakan untuk mengambil data website\n",
    "\n",
    "note: package2 python yang bisa di install bisa dilihat di https://pypi.org/\n"
   ]
  },
  {
   "cell_type": "code",
   "execution_count": 53,
   "id": "9a3781ec",
   "metadata": {},
   "outputs": [
    {
     "name": "stdout",
     "output_type": "stream",
     "text": [
      "Defaulting to user installation because normal site-packages is not writeable\n",
      "Requirement already satisfied: requests in c:\\programdata\\anaconda3\\lib\\site-packages (2.31.0)\n",
      "Requirement already satisfied: charset-normalizer<4,>=2 in c:\\programdata\\anaconda3\\lib\\site-packages (from requests) (2.0.4)\n",
      "Requirement already satisfied: idna<4,>=2.5 in c:\\programdata\\anaconda3\\lib\\site-packages (from requests) (3.4)\n",
      "Requirement already satisfied: urllib3<3,>=1.21.1 in c:\\programdata\\anaconda3\\lib\\site-packages (from requests) (2.0.7)\n",
      "Requirement already satisfied: certifi>=2017.4.17 in c:\\programdata\\anaconda3\\lib\\site-packages (from requests) (2024.2.2)\n",
      "Note: you may need to restart the kernel to use updated packages.\n"
     ]
    }
   ],
   "source": [
    "pip install requests"
   ]
  },
  {
   "cell_type": "code",
   "execution_count": 54,
   "id": "fee914a4",
   "metadata": {},
   "outputs": [],
   "source": [
    "import requests"
   ]
  },
  {
   "cell_type": "code",
   "execution_count": 55,
   "id": "51604245",
   "metadata": {},
   "outputs": [],
   "source": [
    "r = requests.get('https://hacktiv8.com/')"
   ]
  },
  {
   "cell_type": "code",
   "execution_count": 56,
   "id": "ec4e9ee8",
   "metadata": {},
   "outputs": [
    {
     "data": {
      "text/plain": [
       "<Response [200]>"
      ]
     },
     "execution_count": 56,
     "metadata": {},
     "output_type": "execute_result"
    }
   ],
   "source": [
    "r"
   ]
  },
  {
   "cell_type": "code",
   "execution_count": 57,
   "id": "6a95ed6a",
   "metadata": {},
   "outputs": [
    {
     "data": {
      "text/plain": [
       "200"
      ]
     },
     "execution_count": 57,
     "metadata": {},
     "output_type": "execute_result"
    }
   ],
   "source": [
    "r.status_code"
   ]
  },
  {
   "cell_type": "code",
   "execution_count": 58,
   "id": "49439017",
   "metadata": {},
   "outputs": [
    {
     "data": {
      "text/plain": [
       "'text/html; charset=utf-8'"
      ]
     },
     "execution_count": 58,
     "metadata": {},
     "output_type": "execute_result"
    }
   ],
   "source": [
    "r.headers['content-type']"
   ]
  },
  {
   "cell_type": "code",
   "execution_count": 59,
   "id": "46288272",
   "metadata": {},
   "outputs": [
    {
     "data": {
      "text/plain": [
       "'utf-8'"
      ]
     },
     "execution_count": 59,
     "metadata": {},
     "output_type": "execute_result"
    }
   ],
   "source": [
    "r.encoding"
   ]
  },
  {
   "cell_type": "code",
   "execution_count": 60,
   "id": "6f03cf43",
   "metadata": {},
   "outputs": [],
   "source": [
    "# r.text"
   ]
  },
  {
   "cell_type": "markdown",
   "id": "a8185c2b",
   "metadata": {},
   "source": [
    "begitulah contoh untuk download dan menggunakan package python, jika mau uninstall kita bisa pakai pip juga\n"
   ]
  },
  {
   "cell_type": "code",
   "execution_count": 61,
   "id": "b7dad84d",
   "metadata": {},
   "outputs": [
    {
     "name": "stdout",
     "output_type": "stream",
     "text": [
      "^C\n",
      "Note: you may need to restart the kernel to use updated packages.\n"
     ]
    }
   ],
   "source": [
    "pip uninstall requests"
   ]
  },
  {
   "cell_type": "code",
   "execution_count": 62,
   "id": "18880faf",
   "metadata": {},
   "outputs": [
    {
     "data": {
      "text/plain": [
       "['In',\n",
       " 'Out',\n",
       " '_',\n",
       " '_10',\n",
       " '_11',\n",
       " '_12',\n",
       " '_13',\n",
       " '_14',\n",
       " '_17',\n",
       " '_3',\n",
       " '_4',\n",
       " '_42',\n",
       " '_43',\n",
       " '_44',\n",
       " '_45',\n",
       " '_5',\n",
       " '_52',\n",
       " '_56',\n",
       " '_57',\n",
       " '_58',\n",
       " '_59',\n",
       " '_6',\n",
       " '_7',\n",
       " '__',\n",
       " '___',\n",
       " '__builtin__',\n",
       " '__builtins__',\n",
       " '__doc__',\n",
       " '__loader__',\n",
       " '__name__',\n",
       " '__package__',\n",
       " '__spec__',\n",
       " '__vsc_ipynb_file__',\n",
       " '_dh',\n",
       " '_exit_code',\n",
       " '_i',\n",
       " '_i1',\n",
       " '_i10',\n",
       " '_i11',\n",
       " '_i12',\n",
       " '_i13',\n",
       " '_i14',\n",
       " '_i15',\n",
       " '_i16',\n",
       " '_i17',\n",
       " '_i18',\n",
       " '_i19',\n",
       " '_i2',\n",
       " '_i20',\n",
       " '_i21',\n",
       " '_i22',\n",
       " '_i23',\n",
       " '_i24',\n",
       " '_i25',\n",
       " '_i26',\n",
       " '_i27',\n",
       " '_i28',\n",
       " '_i29',\n",
       " '_i3',\n",
       " '_i30',\n",
       " '_i31',\n",
       " '_i32',\n",
       " '_i33',\n",
       " '_i34',\n",
       " '_i35',\n",
       " '_i36',\n",
       " '_i37',\n",
       " '_i38',\n",
       " '_i39',\n",
       " '_i4',\n",
       " '_i40',\n",
       " '_i41',\n",
       " '_i42',\n",
       " '_i43',\n",
       " '_i44',\n",
       " '_i45',\n",
       " '_i46',\n",
       " '_i47',\n",
       " '_i48',\n",
       " '_i49',\n",
       " '_i5',\n",
       " '_i50',\n",
       " '_i51',\n",
       " '_i52',\n",
       " '_i53',\n",
       " '_i54',\n",
       " '_i55',\n",
       " '_i56',\n",
       " '_i57',\n",
       " '_i58',\n",
       " '_i59',\n",
       " '_i6',\n",
       " '_i60',\n",
       " '_i61',\n",
       " '_i62',\n",
       " '_i7',\n",
       " '_i8',\n",
       " '_i9',\n",
       " '_ih',\n",
       " '_ii',\n",
       " '_iii',\n",
       " '_oh',\n",
       " 'a',\n",
       " 'car',\n",
       " 'check_score',\n",
       " 'contoh1',\n",
       " 'ea',\n",
       " 'employee',\n",
       " 'exit',\n",
       " 'get_ipython',\n",
       " 'grading',\n",
       " 'h',\n",
       " 'hasil',\n",
       " 'hasil_hitung',\n",
       " 'hello',\n",
       " 'hitung',\n",
       " 'i',\n",
       " 'item',\n",
       " 'jumlah',\n",
       " 'n',\n",
       " 'open',\n",
       " 'quit',\n",
       " 'r',\n",
       " 'requests',\n",
       " 'salesDiatas100',\n",
       " 'salesList',\n",
       " 'score',\n",
       " 'sys']"
      ]
     },
     "execution_count": 62,
     "metadata": {},
     "output_type": "execute_result"
    }
   ],
   "source": [
    "dir()"
   ]
  },
  {
   "cell_type": "markdown",
   "id": "72ed5d29",
   "metadata": {},
   "source": [
    "## Latihan 2\n",
    "\n",
    "mencoba membuat module\n",
    "\n",
    "buatlah module untuk menghitung profit dari hasil penjualan\n",
    "\n",
    "jadi, kita punya tiga variable dalam module tersebut untuk\n",
    "\n",
    "- harga awal barang,\n",
    "- harga jual barang, dan\n",
    "- jumlah qty yang dijual berapa\n",
    "\n",
    "buat juga function untuk menghitung profit di dalam module tersebut\n",
    "\n",
    "terakhir, import module tersebut di sebuah file notebook, dan panggil variable2 dan function nya\n"
   ]
  },
  {
   "cell_type": "code",
   "execution_count": 2,
   "id": "3eae070b",
   "metadata": {},
   "outputs": [],
   "source": [
    "def profit (cost, sellPrice, qty):\n",
    "    profitCalc = (sellPrice - cost) * qty\n",
    "    print (profitCalc)\n"
   ]
  },
  {
   "cell_type": "code",
   "execution_count": 3,
   "id": "3acd0e59",
   "metadata": {},
   "outputs": [
    {
     "name": "stdout",
     "output_type": "stream",
     "text": [
      "12\n"
     ]
    }
   ],
   "source": [
    "profit (50, 56, 2)"
   ]
  },
  {
   "cell_type": "code",
   "execution_count": 5,
   "id": "24c0248d",
   "metadata": {},
   "outputs": [],
   "source": [
    "import profit"
   ]
  },
  {
   "cell_type": "code",
   "execution_count": 6,
   "id": "b132b683",
   "metadata": {},
   "outputs": [
    {
     "name": "stdout",
     "output_type": "stream",
     "text": [
      "4000\n"
     ]
    }
   ],
   "source": [
    "profit.profit (70, 90, 200)"
   ]
  }
 ],
 "metadata": {
  "kernelspec": {
   "display_name": "base",
   "language": "python",
   "name": "python3"
  },
  "language_info": {
   "codemirror_mode": {
    "name": "ipython",
    "version": 3
   },
   "file_extension": ".py",
   "mimetype": "text/x-python",
   "name": "python",
   "nbconvert_exporter": "python",
   "pygments_lexer": "ipython3",
   "version": "3.13.5"
  }
 },
 "nbformat": 4,
 "nbformat_minor": 5
}
