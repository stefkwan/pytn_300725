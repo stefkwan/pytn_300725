{
 "cells": [
  {
   "cell_type": "code",
   "execution_count": null,
   "id": "a1d66de7",
   "metadata": {},
   "outputs": [
    {
     "ename": "SyntaxError",
     "evalue": "illegal target for annotation (1384800740.py, line 1)",
     "output_type": "error",
     "traceback": [
      "\u001b[1;36m  Cell \u001b[1;32mIn[1], line 1\u001b[1;36m\u001b[0m\n\u001b[1;33m    1: Basic (Focus: variables, types, list, string, print)\u001b[0m\n\u001b[1;37m    ^\u001b[0m\n\u001b[1;31mSyntaxError\u001b[0m\u001b[1;31m:\u001b[0m illegal target for annotation\n"
     ]
    }
   ],
   "source": [
    "#1: Basic (Focus: variables, types, list, string, print)\n",
    "\n",
    "#1. Favorite Things\n",
    "\n",
    "#Create variables to store your name, age, favorite number, and favorite color.\n",
    "\n",
    "#Print a sentence using all of these variables.\n",
    "\n",
    "yourName = 'Julyanto'\n",
    "yourAge = 46\n",
    "favNumber = 8\n",
    "favColour = 'Blue'\n",
    "\n",
    "print ('My name is '+ yourName + ' and I am ' + str(yourAge) + ' yo.' + ' My favourite number is ' + str(favNumber) + ' and My favourite colour is ' + favColour)"
   ]
  },
  {
   "cell_type": "code",
   "execution_count": null,
   "id": "05ba30eb",
   "metadata": {},
   "outputs": [
    {
     "name": "stdout",
     "output_type": "stream",
     "text": [
      "egg\n",
      "milk\n",
      "cereals\n",
      "rice\n",
      "chickens fillet\n"
     ]
    }
   ],
   "source": [
    "#2. Shopping List\n",
    "\n",
    "#Create a list of 5 grocery items and print each item using a for loop.\n",
    "\n",
    "listGrocery = ('egg','milk', 'cereals', 'rice', 'chickens fillet' )\n",
    "\n",
    "for g in listGrocery:\n",
    "    print (g)"
   ]
  },
  {
   "cell_type": "code",
   "execution_count": 2,
   "id": "1b4e3bb2",
   "metadata": {},
   "outputs": [
    {
     "name": "stdout",
     "output_type": "stream",
     "text": [
      "98 is even\n"
     ]
    }
   ],
   "source": [
    "#3. Even or Odd\n",
    "\n",
    "#Set a random number to a variable, print whether it's even or odd. Use if.\n",
    "\n",
    "\n",
    "randomNumber = 98\n",
    "\n",
    "if randomNumber % 2 == 0:\n",
    "    print (str (randomNumber) + ' is even')\n",
    "else:\n",
    "    print (str (randomNumber) + ' is odd')\n",
    "\n"
   ]
  },
  {
   "cell_type": "code",
   "execution_count": null,
   "id": "25f5a7dc",
   "metadata": {},
   "outputs": [
    {
     "name": "stdout",
     "output_type": "stream",
     "text": [
      "Fail\n"
     ]
    }
   ],
   "source": [
    "#4. Pass or Fail\n",
    "\n",
    "#Ask for a test score (0–100) and print \"Pass\" if score ≥ 60, else \"Fail\".\n",
    "\n",
    "testScore = 56\n",
    "\n",
    "if testScore >= 60:\n",
    "    print ('Pass')\n",
    "else:\n",
    "    print ('Fail')\n",
    "\n",
    "\n"
   ]
  },
  {
   "cell_type": "code",
   "execution_count": null,
   "id": "9f471d93",
   "metadata": {},
   "outputs": [],
   "source": [
    "#5. Guessing Game\n",
    "\n",
    "#Create a while loop that asks the user to guess a secret number (e.g. 5) until they get it right.\n",
    "\n",
    "#Use input() to ask for input e.g.\n",
    "\n",
    "#name = input(\"What is your name? \")\n",
    "#print(\"Hello,\", name)\n",
    "\n"
   ]
  },
  {
   "cell_type": "code",
   "execution_count": 5,
   "id": "442c6376",
   "metadata": {},
   "outputs": [
    {
     "name": "stdout",
     "output_type": "stream",
     "text": [
      "10\n",
      "9\n",
      "8\n",
      "7\n",
      "6\n",
      "5\n",
      "4\n",
      "3\n",
      "2\n",
      "1\n"
     ]
    }
   ],
   "source": [
    "#6. Countdown\n",
    "\n",
    "#Use a while loop to count down from 10 to 1.\n",
    "\n",
    "x = 10\n",
    "while x > 0:\n",
    "    print (x)\n",
    "    x = x - 1"
   ]
  },
  {
   "cell_type": "code",
   "execution_count": 6,
   "id": "2e07a6ff",
   "metadata": {},
   "outputs": [
    {
     "name": "stdout",
     "output_type": "stream",
     "text": [
      "75.0\n"
     ]
    }
   ],
   "source": [
    "#7. Average Calculator\n",
    "\n",
    "#Given a list of numbers (e.g. [60, 70, 80, 90]), calculate and print the average.\n",
    "\n",
    "c = 0\n",
    "listNumbers = (60, 70, 80, 90)\n",
    "countNumbers = len (listNumbers)\n",
    "totalNumbers = sum (listNumbers)\n",
    "\n",
    "print (totalNumbers / countNumbers)\n",
    "\n",
    "             "
   ]
  },
  {
   "cell_type": "code",
   "execution_count": 10,
   "id": "822646b8",
   "metadata": {},
   "outputs": [
    {
     "name": "stdout",
     "output_type": "stream",
     "text": [
      "Minimum 60\n",
      "Maximum 90\n"
     ]
    }
   ],
   "source": [
    "#8.Max and Min\n",
    "\n",
    "#From a list of numbers, find and print the highest and lowest value.\n",
    "\n",
    "listNumbers = (60, 70, 80, 90)\n",
    "\n",
    "print ('Minimum ' + str (min(listNumbers)))\n",
    "print ('Maximum ' + str (max(listNumbers)))"
   ]
  },
  {
   "cell_type": "code",
   "execution_count": 22,
   "id": "acb3a697",
   "metadata": {},
   "outputs": [
    {
     "name": "stdout",
     "output_type": "stream",
     "text": [
      "sightseeing\n",
      "swimming\n"
     ]
    }
   ],
   "source": [
    "#9. String Length Filter\n",
    "\n",
    "#Given a list of strings, print only the strings longer than 5 characters.\n",
    "\n",
    "listHobby = ('cycling', 'cooking', 'reading', 'sightseeing', 'swimming' )\n",
    "\n",
    "for h in listHobby:\n",
    "    if len (h) > 7:\n",
    "        print (h)\n"
   ]
  },
  {
   "cell_type": "code",
   "execution_count": 24,
   "id": "6cbc450e",
   "metadata": {},
   "outputs": [
    {
     "name": "stdout",
     "output_type": "stream",
     "text": [
      "dict_values([{'fname': 'Chloe', 'lname': 'Olman', 'age': 28, 'score': 88}])\n"
     ]
    }
   ],
   "source": [
    "#10. Student Info\n",
    "\n",
    "#Create a dictionary with keys: name, age, score. Print each key and value.\n",
    "\n",
    "studentInfo = {}\n",
    "studentInfo = {'person_1':{'fname': 'Chloe',\n",
    "'lname': 'Olman',\n",
    "'age': 28,\n",
    "'score': 88}}\n",
    "print (studentInfo.values())\n"
   ]
  },
  {
   "cell_type": "code",
   "execution_count": 25,
   "id": "e3622415",
   "metadata": {},
   "outputs": [
    {
     "name": "stdout",
     "output_type": "stream",
     "text": [
      "dict_values([{'fname': 'Chloe', 'lname': 'Olman', 'age': 28, 'score': 88}, {'fname': 'Jin', 'lname': 'Tao', 'age': 34, 'score': 78}, {'fname': 'Julyanto', 'lname': 'Willys', 'age': 46, 'score': 99}])\n"
     ]
    }
   ],
   "source": [
    "#11. Classroom Records\n",
    "#Create a list of 3 dictionaries. Each dictionary represents a student with name and math_score. Loop through the list and print each student’s name and score.\n",
    "studentInfo.update({\n",
    "    'person_2': {\n",
    "        'fname': 'Jin',\n",
    "        'lname': 'Tao',\n",
    "        'age': 34,\n",
    "        'score': 78\n",
    "    },\n",
    "    'person_3': {\n",
    "        'fname': 'Julyanto',\n",
    "        'lname': 'Willys',\n",
    "        'age': 46,\n",
    "        'score': 99\n",
    "    }\n",
    "\n",
    "})\n",
    "\n",
    "print (studentInfo.values())\n"
   ]
  },
  {
   "cell_type": "code",
   "execution_count": null,
   "id": "717ee6a3",
   "metadata": {},
   "outputs": [
    {
     "name": "stdout",
     "output_type": "stream",
     "text": [
      "dict_values([{'fname': 'Chloe', 'lname': 'Olman', 'age': 28, 'score': 88}, {'fname': 'Jin', 'lname': 'Tao', 'age': 34, 'score': 78}, {'fname': 'Julyanto', 'lname': 'Willys', 'age': 46, 'score': 99}, 'Chloe', 'Olman', 28, 68])\n"
     ]
    }
   ],
   "source": [
    "#12. Score Update\n",
    "#Select a random student's name, and make a random score, update this student's score in the dictionary if found.\n",
    "\n"
   ]
  },
  {
   "cell_type": "code",
   "execution_count": null,
   "id": "5ecdc6ba",
   "metadata": {},
   "outputs": [],
   "source": [
    "#Level 5: Mini Realistic Tasks\n",
    "#13. Simple Report\n",
    "#Given a list of dictionaries with name and score, print how many students passed (score ≥ 60) and how many failed.\n"
   ]
  },
  {
   "cell_type": "code",
   "execution_count": 48,
   "id": "2fecc604",
   "metadata": {},
   "outputs": [
    {
     "name": "stdout",
     "output_type": "stream",
     "text": [
      "Total sales 601.5\n",
      "Average sales 120.3\n",
      "Sum of greater than 100 = 471.5\n"
     ]
    }
   ],
   "source": [
    "#16. Data Summary\n",
    "#Given a list of sales data such as\n",
    "#sales = [120.5, 80.0, 150.25, 200.75, 50.0]\n",
    "#Calculate:\n",
    "#total sales\n",
    "#average sales\n",
    "#number of sales above 100\n",
    "\n",
    "salesList = [120.5, 80.0, 150.25, 200.75, 50.0]\n",
    "print ('Total sales ' + str (sum(salesList)))\n",
    "print ('Average sales ' + str (sum(salesList)/len(salesList)))\n",
    "sum_greater_than_100 = sum (i for i in salesList if i > 100)\n",
    "print ('Sum of greater than 100 = ' + str (sum_greater_than_100))\n",
    "\n"
   ]
  },
  {
   "cell_type": "code",
   "execution_count": 52,
   "id": "1f9c5309",
   "metadata": {},
   "outputs": [
    {
     "data": {
      "text/plain": [
       "6"
      ]
     },
     "execution_count": 52,
     "metadata": {},
     "output_type": "execute_result"
    }
   ],
   "source": [
    "#17. Keyword Search\n",
    "#Given a list of customer feedback (strings), find and print how many contains the keyword \"bad\".\n",
    "\n",
    "custFeedbacks = \"This is not acceptable! It was really bad experience and really bad attitude of your customer service people. It was so bad that I could not have enough way to mention many bad words in this feedbacks. It is very important to emphasize that it is really bad experience and very traumatic for me to even tell you how bad I feel about it\"\n",
    "custFeedbacks.lower().count ('bad')\n",
    "\n"
   ]
  },
  {
   "cell_type": "code",
   "execution_count": null,
   "id": "9cd50bc1",
   "metadata": {},
   "outputs": [],
   "source": [
    "def ()"
   ]
  }
 ],
 "metadata": {
  "kernelspec": {
   "display_name": "base",
   "language": "python",
   "name": "python3"
  },
  "language_info": {
   "codemirror_mode": {
    "name": "ipython",
    "version": 3
   },
   "file_extension": ".py",
   "mimetype": "text/x-python",
   "name": "python",
   "nbconvert_exporter": "python",
   "pygments_lexer": "ipython3",
   "version": "3.13.5"
  }
 },
 "nbformat": 4,
 "nbformat_minor": 5
}
