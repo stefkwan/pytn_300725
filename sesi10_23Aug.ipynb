{
 "cells": [
  {
   "cell_type": "markdown",
   "id": "dad122a2",
   "metadata": {},
   "source": [
    "# Inferential Statistics\n",
    "\n",
    "membuat konklusi/informasi tentang populasi berdasarkan data sample\n",
    "\n",
    "misal: kalau di sebuah data sample pilpres, 60% voter pilih #1, apakah kita bisa membuat konklusi kalau di Indonesia (populasi) 60% juga memilih #1?\n",
    "\n",
    "- Confidence Interval\n",
    "- Hypothesis Testing\n"
   ]
  },
  {
   "cell_type": "markdown",
   "id": "758c9907",
   "metadata": {},
   "source": [
    "## Single Sample Test\n",
    "\n",
    "membandingkan data mean dari sample dengan hypothesis untuk populasi\n",
    "\n",
    "\"apakah mean μ (sample) kita berbeda dengan mean μ₀ (populasi)?\"\n",
    "\n",
    "Null Hypothesis H0: tidak ada perbedaan,\n",
    "Alternate Hypothesis H1: ada perbedaan\n",
    "\n",
    "Ada tiga jenis:\n",
    "\n",
    "- u < u0\n",
    "- u > u0\n",
    "- u != u0\n"
   ]
  },
  {
   "cell_type": "code",
   "execution_count": 2,
   "id": "357c9c5e",
   "metadata": {},
   "outputs": [],
   "source": [
    "import numpy as np\n",
    "import pandas as pd\n",
    "from scipy import stats\n",
    "\n",
    "import matplotlib as mpl\n",
    "import matplotlib.pyplot as plt\n",
    "import seaborn as sns\n",
    "\n",
    "# import data\n",
    "df_austin_weather = pd.read_csv(\"dataset/austin_weather.csv\")\n",
    "\n",
    "# convert data types to numeric for numeric columns\n",
    "col_list = list(df_austin_weather.columns)\n",
    "col_list.remove('Date')\n",
    "col_list.remove('Events')\n",
    "\n",
    "# semua kolom yang harusnya numerik diubah jadi numerik\n",
    "for col in col_list:\n",
    "    df_austin_weather[col] = pd.to_numeric(\n",
    "        df_austin_weather[col], errors='coerce')\n",
    "\n",
    "# kolom Date diubah jadi tipe datetime\n",
    "df_austin_weather['Date'] = pd.to_datetime(df_austin_weather['Date'])"
   ]
  },
  {
   "cell_type": "code",
   "execution_count": 3,
   "id": "f0cddd17",
   "metadata": {},
   "outputs": [],
   "source": [
    "dwind = df_austin_weather['WindAvgMPH']"
   ]
  },
  {
   "cell_type": "markdown",
   "id": "f22d8c2a",
   "metadata": {},
   "source": [
    "Q: \"Apakah rata2 wind speed kita di 12 mph?\"\n",
    "\n",
    "### one sample testing\n",
    "\n",
    "H0: u = 12\n",
    "\n",
    "H1: u != 12\n",
    "\n",
    "\\*tipe two-sided testing karena cuma cek sama/tidak\n",
    "\n",
    "berikutnya hitung: n, mean, std dari data sample kita\n"
   ]
  },
  {
   "cell_type": "code",
   "execution_count": 4,
   "id": "0bccf889",
   "metadata": {},
   "outputs": [
    {
     "name": "stdout",
     "output_type": "stream",
     "text": [
      "1317 5.0083523158694 2.0864500115879125\n"
     ]
    }
   ],
   "source": [
    "n = dwind.count()\n",
    "mean = dwind.mean()\n",
    "std = dwind.std()\n",
    "\n",
    "print(n, mean, std)"
   ]
  },
  {
   "cell_type": "code",
   "execution_count": 17,
   "id": "4dcf52bd",
   "metadata": {},
   "outputs": [],
   "source": [
    "data = dwind.dropna()"
   ]
  },
  {
   "cell_type": "code",
   "execution_count": 18,
   "id": "78048fd7",
   "metadata": {},
   "outputs": [
    {
     "data": {
      "text/plain": [
       "TtestResult(statistic=-121.60864208555034, pvalue=0.0, df=1316)"
      ]
     },
     "execution_count": 18,
     "metadata": {},
     "output_type": "execute_result"
    }
   ],
   "source": [
    "# hipotesa kita\n",
    "u0 = 12\n",
    "\n",
    "stats.ttest_1samp(data, u0)"
   ]
  },
  {
   "cell_type": "markdown",
   "id": "026bd4ae",
   "metadata": {},
   "source": [
    "pvalue < 0.05 jadi kita bisa reject null hypothesis H0\n",
    "\n",
    "ada perbedaan yang signifikan antara rata2 mean (sample) dengan hipotesa (12mph)\n"
   ]
  },
  {
   "cell_type": "markdown",
   "id": "78e54f8c",
   "metadata": {},
   "source": [
    "Q: \"apakah rata rata wind speed nya diatas 6 mph?\"\n",
    "\n",
    "H0: u <= 6\n",
    "\n",
    "H1: u > 6\n"
   ]
  },
  {
   "cell_type": "code",
   "execution_count": 19,
   "id": "072e800e",
   "metadata": {},
   "outputs": [
    {
     "name": "stdout",
     "output_type": "stream",
     "text": [
      "1317 5.0083523158694 2.0864500115879125\n"
     ]
    }
   ],
   "source": [
    "n = dwind.count()\n",
    "mean = dwind.mean()\n",
    "std = dwind.std()\n",
    "\n",
    "print(n, mean, std)"
   ]
  },
  {
   "cell_type": "code",
   "execution_count": 20,
   "id": "602e6858",
   "metadata": {},
   "outputs": [
    {
     "data": {
      "text/plain": [
       "TtestResult(statistic=-17.24814146000529, pvalue=2.928230615778765e-60, df=1316)"
      ]
     },
     "execution_count": 20,
     "metadata": {},
     "output_type": "execute_result"
    }
   ],
   "source": [
    "u0 = 6\n",
    "\n",
    "stats.ttest_1samp(data, u0)"
   ]
  },
  {
   "cell_type": "markdown",
   "id": "0557e20f",
   "metadata": {},
   "source": [
    "kita bisa reject null hypothesis H0 karena pvalue < 0.05\n"
   ]
  },
  {
   "cell_type": "markdown",
   "id": "ebdeb035",
   "metadata": {},
   "source": [
    "## Two Sample Testing\n",
    "\n",
    "melihat ada/tidak perbedaan antara dua set data\n",
    "\n",
    "misal: apakah skor rata2 murid perempuan dan murid laki laki berbeda?\n",
    "\n",
    "H0: u1 = u2\n",
    "\n",
    "H1: u1 != u2\n"
   ]
  },
  {
   "cell_type": "code",
   "execution_count": 22,
   "id": "d0d6a861",
   "metadata": {},
   "outputs": [
    {
     "name": "stdout",
     "output_type": "stream",
     "text": [
      "<class 'pandas.core.frame.DataFrame'>\n",
      "RangeIndex: 1000 entries, 0 to 999\n",
      "Data columns (total 8 columns):\n",
      " #   Column                       Non-Null Count  Dtype \n",
      "---  ------                       --------------  ----- \n",
      " 0   gender                       1000 non-null   object\n",
      " 1   race/ethnicity               1000 non-null   object\n",
      " 2   parental level of education  1000 non-null   object\n",
      " 3   lunch                        1000 non-null   object\n",
      " 4   test preparation course      1000 non-null   object\n",
      " 5   math score                   1000 non-null   int64 \n",
      " 6   reading score                1000 non-null   int64 \n",
      " 7   writing score                1000 non-null   int64 \n",
      "dtypes: int64(3), object(5)\n",
      "memory usage: 62.6+ KB\n"
     ]
    }
   ],
   "source": [
    "df_student = pd.read_csv(\"dataset/StudentsPerformance.csv\")\n",
    "df_student.info()"
   ]
  },
  {
   "cell_type": "code",
   "execution_count": 23,
   "id": "436ec801",
   "metadata": {},
   "outputs": [
    {
     "data": {
      "text/plain": [
       "gender\n",
       "female    518\n",
       "male      482\n",
       "Name: count, dtype: int64"
      ]
     },
     "execution_count": 23,
     "metadata": {},
     "output_type": "execute_result"
    }
   ],
   "source": [
    "df_student['gender'].value_counts()"
   ]
  },
  {
   "cell_type": "code",
   "execution_count": 27,
   "id": "2d7e97c4",
   "metadata": {},
   "outputs": [],
   "source": [
    "df_student_f = df_student[df_student['gender'] == 'female']\n",
    "df_student_m = df_student[df_student['gender'] == 'male']\n",
    "\n",
    "math_f = df_student_f['math score']\n",
    "math_m = df_student_m['math score']"
   ]
  },
  {
   "cell_type": "code",
   "execution_count": 28,
   "id": "fd46ee5b",
   "metadata": {},
   "outputs": [
    {
     "name": "stdout",
     "output_type": "stream",
     "text": [
      "female students: 518 63.633204633204635 15.49145324233953\n",
      "male students: 482 68.72821576763485 14.35627719636238\n"
     ]
    }
   ],
   "source": [
    "# n mean std\n",
    "nf = math_f.count()\n",
    "meanf = math_f.mean()\n",
    "stdf = math_f.std()\n",
    "print(\"female students:\", nf, meanf, stdf)\n",
    "\n",
    "nm = math_m.count()\n",
    "meanm = math_m.mean()\n",
    "stdm = math_m.std()\n",
    "print(\"male students:\", nm, meanm, stdm)"
   ]
  },
  {
   "cell_type": "code",
   "execution_count": 29,
   "id": "c96cc9d3",
   "metadata": {},
   "outputs": [
    {
     "data": {
      "text/plain": [
       "TtestResult(statistic=-5.398000564160736, pvalue=8.420838109090415e-08, df=997.9840751727494)"
      ]
     },
     "execution_count": 29,
     "metadata": {},
     "output_type": "execute_result"
    }
   ],
   "source": [
    "stats.ttest_ind(math_f, math_m, equal_var=False)"
   ]
  },
  {
   "cell_type": "markdown",
   "id": "2f391c37",
   "metadata": {},
   "source": [
    "menurut pvalue kita < 0.05, kita bisa reject null hypothesis, ada perbedaan antara rata2 math score female dan male students.\n"
   ]
  },
  {
   "cell_type": "markdown",
   "id": "c7337fda",
   "metadata": {},
   "source": [
    "## ANOVA\n",
    "\n",
    "membandingkan tiga atau lebih kelompok data\n",
    "\n",
    "misalnya nilai students grup A B C D E\n"
   ]
  },
  {
   "cell_type": "code",
   "execution_count": 30,
   "id": "50a168a9",
   "metadata": {},
   "outputs": [
    {
     "data": {
      "text/plain": [
       "race/ethnicity\n",
       "group C    319\n",
       "group D    262\n",
       "group B    190\n",
       "group E    140\n",
       "group A     89\n",
       "Name: count, dtype: int64"
      ]
     },
     "execution_count": 30,
     "metadata": {},
     "output_type": "execute_result"
    }
   ],
   "source": [
    "df_student['race/ethnicity'].value_counts()"
   ]
  },
  {
   "cell_type": "code",
   "execution_count": 31,
   "id": "1e4ad7ce",
   "metadata": {},
   "outputs": [],
   "source": [
    "df_student_a = df_student[df_student['race/ethnicity'] == 'group A']\n",
    "df_student_b = df_student[df_student['race/ethnicity'] == 'group B']\n",
    "df_student_c = df_student[df_student['race/ethnicity'] == 'group C']\n",
    "df_student_d = df_student[df_student['race/ethnicity'] == 'group D']\n",
    "df_student_e = df_student[df_student['race/ethnicity'] == 'group E']\n",
    "\n",
    "math_a = df_student_a['math score']\n",
    "math_b = df_student_b['math score']\n",
    "math_c = df_student_c['math score']\n",
    "math_d = df_student_d['math score']\n",
    "math_e = df_student_e['math score']"
   ]
  },
  {
   "cell_type": "code",
   "execution_count": 32,
   "id": "4da87cd9",
   "metadata": {},
   "outputs": [
    {
     "name": "stdout",
     "output_type": "stream",
     "text": [
      "group A: 89 61.62921348314607 14.52300840865962\n",
      "group B: 190 63.45263157894737 15.468191236472933\n",
      "group C: 319 64.46394984326018 14.852665879253692\n",
      "group D: 262 67.36259541984732 13.769385976609573\n",
      "group E: 140 73.82142857142857 15.53425912548117\n"
     ]
    }
   ],
   "source": [
    "# n, mean, std\n",
    "print(\"group A:\", math_a.count(), math_a.mean(), math_a.std())\n",
    "print(\"group B:\", math_b.count(), math_b.mean(), math_b.std())\n",
    "print(\"group C:\", math_c.count(), math_c.mean(), math_c.std())\n",
    "print(\"group D:\", math_d.count(), math_d.mean(), math_d.std())\n",
    "print(\"group E:\", math_e.count(), math_e.mean(), math_e.std())"
   ]
  },
  {
   "cell_type": "code",
   "execution_count": 33,
   "id": "aefc6d7d",
   "metadata": {},
   "outputs": [
    {
     "data": {
      "text/plain": [
       "F_onewayResult(statistic=14.593885166332635, pvalue=1.3732194030370688e-11)"
      ]
     },
     "execution_count": 33,
     "metadata": {},
     "output_type": "execute_result"
    }
   ],
   "source": [
    "# ANOVA\n",
    "stats.f_oneway(math_a, math_b, math_c, math_d, math_e)"
   ]
  },
  {
   "cell_type": "markdown",
   "id": "3a6add29",
   "metadata": {},
   "source": [
    "karena pvalue < 0.05, kita bisa reject null hypothesis, ada perbedaan signifikan antara nilai rata2 math antar group berbeda ini\n"
   ]
  },
  {
   "cell_type": "markdown",
   "id": "7ed877b1",
   "metadata": {},
   "source": [
    "## Chi Square Test\n",
    "\n",
    "untuk data yang sifatnya kategorikal, kita gunakan test ini\n",
    "\n",
    "misalnya, hasil voting pilpres (yes/no), adakah perbedaan hasil voting antara pria/wanita?\n",
    "\n",
    "bisa juga, dari data kategori sleep, adakah perbedaan antara pria dan wanita?\n",
    "\n",
    "\"apakah kualitas tidur berbeda antara pria dan wanita?\"\n"
   ]
  },
  {
   "cell_type": "code",
   "execution_count": 34,
   "id": "3bccf56d",
   "metadata": {},
   "outputs": [
    {
     "name": "stdout",
     "output_type": "stream",
     "text": [
      "<class 'pandas.core.frame.DataFrame'>\n",
      "RangeIndex: 374 entries, 0 to 373\n",
      "Data columns (total 13 columns):\n",
      " #   Column                   Non-Null Count  Dtype  \n",
      "---  ------                   --------------  -----  \n",
      " 0   Person ID                374 non-null    int64  \n",
      " 1   Gender                   374 non-null    object \n",
      " 2   Age                      374 non-null    int64  \n",
      " 3   Occupation               374 non-null    object \n",
      " 4   Sleep Duration           374 non-null    float64\n",
      " 5   Quality of Sleep         374 non-null    int64  \n",
      " 6   Physical Activity Level  374 non-null    int64  \n",
      " 7   Stress Level             374 non-null    int64  \n",
      " 8   BMI Category             374 non-null    object \n",
      " 9   Blood Pressure           374 non-null    object \n",
      " 10  Heart Rate               374 non-null    int64  \n",
      " 11  Daily Steps              374 non-null    int64  \n",
      " 12  Sleep Disorder           155 non-null    object \n",
      "dtypes: float64(1), int64(7), object(5)\n",
      "memory usage: 38.1+ KB\n"
     ]
    }
   ],
   "source": [
    "df_sleep = pd.read_csv(\"dataset/sleep_dat.csv\")\n",
    "df_sleep.info()"
   ]
  },
  {
   "cell_type": "code",
   "execution_count": 35,
   "id": "115db0d0",
   "metadata": {},
   "outputs": [
    {
     "data": {
      "text/html": [
       "<div>\n",
       "<style scoped>\n",
       "    .dataframe tbody tr th:only-of-type {\n",
       "        vertical-align: middle;\n",
       "    }\n",
       "\n",
       "    .dataframe tbody tr th {\n",
       "        vertical-align: top;\n",
       "    }\n",
       "\n",
       "    .dataframe thead th {\n",
       "        text-align: right;\n",
       "    }\n",
       "</style>\n",
       "<table border=\"1\" class=\"dataframe\">\n",
       "  <thead>\n",
       "    <tr style=\"text-align: right;\">\n",
       "      <th></th>\n",
       "      <th>Gender</th>\n",
       "      <th>Quality of Sleep</th>\n",
       "    </tr>\n",
       "  </thead>\n",
       "  <tbody>\n",
       "    <tr>\n",
       "      <th>0</th>\n",
       "      <td>Male</td>\n",
       "      <td>6</td>\n",
       "    </tr>\n",
       "    <tr>\n",
       "      <th>1</th>\n",
       "      <td>Male</td>\n",
       "      <td>6</td>\n",
       "    </tr>\n",
       "    <tr>\n",
       "      <th>2</th>\n",
       "      <td>Male</td>\n",
       "      <td>6</td>\n",
       "    </tr>\n",
       "    <tr>\n",
       "      <th>3</th>\n",
       "      <td>Male</td>\n",
       "      <td>4</td>\n",
       "    </tr>\n",
       "    <tr>\n",
       "      <th>4</th>\n",
       "      <td>Male</td>\n",
       "      <td>4</td>\n",
       "    </tr>\n",
       "  </tbody>\n",
       "</table>\n",
       "</div>"
      ],
      "text/plain": [
       "  Gender  Quality of Sleep\n",
       "0   Male                 6\n",
       "1   Male                 6\n",
       "2   Male                 6\n",
       "3   Male                 4\n",
       "4   Male                 4"
      ]
     },
     "execution_count": 35,
     "metadata": {},
     "output_type": "execute_result"
    }
   ],
   "source": [
    "df_sleep2 = df_sleep[['Gender', 'Quality of Sleep']]\n",
    "df_sleep2.head()"
   ]
  },
  {
   "cell_type": "code",
   "execution_count": 36,
   "id": "7e2ae63a",
   "metadata": {},
   "outputs": [
    {
     "data": {
      "text/plain": [
       "Quality of Sleep\n",
       "8    109\n",
       "6    105\n",
       "7     77\n",
       "9     71\n",
       "5      7\n",
       "4      5\n",
       "Name: count, dtype: int64"
      ]
     },
     "execution_count": 36,
     "metadata": {},
     "output_type": "execute_result"
    }
   ],
   "source": [
    "df_sleep2['Quality of Sleep'].value_counts()"
   ]
  },
  {
   "cell_type": "code",
   "execution_count": 37,
   "id": "8ed64c73",
   "metadata": {},
   "outputs": [
    {
     "data": {
      "text/plain": [
       "Gender\n",
       "Male      189\n",
       "Female    185\n",
       "Name: count, dtype: int64"
      ]
     },
     "execution_count": 37,
     "metadata": {},
     "output_type": "execute_result"
    }
   ],
   "source": [
    "df_sleep2['Gender'].value_counts()"
   ]
  },
  {
   "cell_type": "code",
   "execution_count": 39,
   "id": "a1f862a2",
   "metadata": {},
   "outputs": [
    {
     "data": {
      "text/html": [
       "<div>\n",
       "<style scoped>\n",
       "    .dataframe tbody tr th:only-of-type {\n",
       "        vertical-align: middle;\n",
       "    }\n",
       "\n",
       "    .dataframe tbody tr th {\n",
       "        vertical-align: top;\n",
       "    }\n",
       "\n",
       "    .dataframe thead th {\n",
       "        text-align: right;\n",
       "    }\n",
       "</style>\n",
       "<table border=\"1\" class=\"dataframe\">\n",
       "  <thead>\n",
       "    <tr style=\"text-align: right;\">\n",
       "      <th>Quality of Sleep</th>\n",
       "      <th>4</th>\n",
       "      <th>5</th>\n",
       "      <th>6</th>\n",
       "      <th>7</th>\n",
       "      <th>8</th>\n",
       "      <th>9</th>\n",
       "    </tr>\n",
       "    <tr>\n",
       "      <th>Gender</th>\n",
       "      <th></th>\n",
       "      <th></th>\n",
       "      <th></th>\n",
       "      <th></th>\n",
       "      <th></th>\n",
       "      <th></th>\n",
       "    </tr>\n",
       "  </thead>\n",
       "  <tbody>\n",
       "    <tr>\n",
       "      <th>Female</th>\n",
       "      <td>2</td>\n",
       "      <td>4</td>\n",
       "      <td>37</td>\n",
       "      <td>37</td>\n",
       "      <td>36</td>\n",
       "      <td>69</td>\n",
       "    </tr>\n",
       "    <tr>\n",
       "      <th>Male</th>\n",
       "      <td>3</td>\n",
       "      <td>3</td>\n",
       "      <td>68</td>\n",
       "      <td>40</td>\n",
       "      <td>73</td>\n",
       "      <td>2</td>\n",
       "    </tr>\n",
       "  </tbody>\n",
       "</table>\n",
       "</div>"
      ],
      "text/plain": [
       "Quality of Sleep  4  5   6   7   8   9\n",
       "Gender                                \n",
       "Female            2  4  37  37  36  69\n",
       "Male              3  3  68  40  73   2"
      ]
     },
     "execution_count": 39,
     "metadata": {},
     "output_type": "execute_result"
    }
   ],
   "source": [
    "table = pd.crosstab(df_sleep2['Gender'], df_sleep2['Quality of Sleep'])\n",
    "table"
   ]
  },
  {
   "cell_type": "code",
   "execution_count": 42,
   "id": "17af75d5",
   "metadata": {},
   "outputs": [
    {
     "name": "stdout",
     "output_type": "stream",
     "text": [
      "85.3640901482707\n",
      "6.314315931960022e-17\n",
      "5\n",
      "[[ 2.47326203  3.46256684 51.93850267 38.08823529 53.9171123  35.12032086]\n",
      " [ 2.52673797  3.53743316 53.06149733 38.91176471 55.0828877  35.87967914]]\n"
     ]
    }
   ],
   "source": [
    "chi2, p, dof, expected = stats.chi2_contingency(table)\n",
    "print(chi2)\n",
    "print(p)\n",
    "print(dof)\n",
    "print(expected)"
   ]
  },
  {
   "cell_type": "markdown",
   "id": "2309dff3",
   "metadata": {},
   "source": [
    "pvalue < 0.05, kita reject null hypothesis. Ada perbedaan kualitas tidur antara pria dan wanita\n"
   ]
  },
  {
   "cell_type": "markdown",
   "id": "8e037226",
   "metadata": {},
   "source": [
    "# Correlation Analysis\n",
    "\n",
    "melihat apakah ada korelasi antara dua variable\n",
    "\n",
    "1. Pearson: hubungan linear, r antara -1,0,1 untuk negative corr, no corr, positive corr\n",
    "   - hubungan linear\n",
    "   - normal distribution\n",
    "   - data continuous\n",
    "\n",
    "Contoh: dua variable continuous, ada korelasi/tidak\n",
    "\n",
    "2. Spearman: hubungan nya naik terus/ turun terus\n",
    "   - tidak harus normal distribution\n",
    "   - bisa untuk data ranking\n",
    "   - tidak teralu terpengaruh outlier\n",
    "   - data kategorikal\n",
    "\n",
    "Contoh: ranking murid di ujian dan di olahraga, ada korelasi/ tidak?\n",
    "\n",
    "3. Kendall: sama dengan spearman, tapi dia membandingkan per pasang data\n",
    "   - dataset kecil\n",
    "   - data kategorikal\n",
    "\n",
    "Contoh: pilpres (pilihan 1,2,3)\n"
   ]
  },
  {
   "cell_type": "code",
   "execution_count": 43,
   "id": "85b627d9",
   "metadata": {},
   "outputs": [
    {
     "data": {
      "text/html": [
       "<div>\n",
       "<style scoped>\n",
       "    .dataframe tbody tr th:only-of-type {\n",
       "        vertical-align: middle;\n",
       "    }\n",
       "\n",
       "    .dataframe tbody tr th {\n",
       "        vertical-align: top;\n",
       "    }\n",
       "\n",
       "    .dataframe thead th {\n",
       "        text-align: right;\n",
       "    }\n",
       "</style>\n",
       "<table border=\"1\" class=\"dataframe\">\n",
       "  <thead>\n",
       "    <tr style=\"text-align: right;\">\n",
       "      <th></th>\n",
       "      <th>Person ID</th>\n",
       "      <th>Gender</th>\n",
       "      <th>Age</th>\n",
       "      <th>Occupation</th>\n",
       "      <th>Sleep Duration</th>\n",
       "      <th>Quality of Sleep</th>\n",
       "      <th>Physical Activity Level</th>\n",
       "      <th>Stress Level</th>\n",
       "      <th>BMI Category</th>\n",
       "      <th>Blood Pressure</th>\n",
       "      <th>Heart Rate</th>\n",
       "      <th>Daily Steps</th>\n",
       "      <th>Sleep Disorder</th>\n",
       "    </tr>\n",
       "  </thead>\n",
       "  <tbody>\n",
       "    <tr>\n",
       "      <th>0</th>\n",
       "      <td>1</td>\n",
       "      <td>Male</td>\n",
       "      <td>27</td>\n",
       "      <td>Software Engineer</td>\n",
       "      <td>6.1</td>\n",
       "      <td>6</td>\n",
       "      <td>42</td>\n",
       "      <td>6</td>\n",
       "      <td>Overweight</td>\n",
       "      <td>126/83</td>\n",
       "      <td>77</td>\n",
       "      <td>4200</td>\n",
       "      <td>NaN</td>\n",
       "    </tr>\n",
       "    <tr>\n",
       "      <th>1</th>\n",
       "      <td>2</td>\n",
       "      <td>Male</td>\n",
       "      <td>28</td>\n",
       "      <td>Doctor</td>\n",
       "      <td>6.2</td>\n",
       "      <td>6</td>\n",
       "      <td>60</td>\n",
       "      <td>8</td>\n",
       "      <td>Normal</td>\n",
       "      <td>125/80</td>\n",
       "      <td>75</td>\n",
       "      <td>10000</td>\n",
       "      <td>NaN</td>\n",
       "    </tr>\n",
       "    <tr>\n",
       "      <th>2</th>\n",
       "      <td>3</td>\n",
       "      <td>Male</td>\n",
       "      <td>28</td>\n",
       "      <td>Doctor</td>\n",
       "      <td>6.2</td>\n",
       "      <td>6</td>\n",
       "      <td>60</td>\n",
       "      <td>8</td>\n",
       "      <td>Normal</td>\n",
       "      <td>125/80</td>\n",
       "      <td>75</td>\n",
       "      <td>10000</td>\n",
       "      <td>NaN</td>\n",
       "    </tr>\n",
       "    <tr>\n",
       "      <th>3</th>\n",
       "      <td>4</td>\n",
       "      <td>Male</td>\n",
       "      <td>28</td>\n",
       "      <td>Sales Representative</td>\n",
       "      <td>5.9</td>\n",
       "      <td>4</td>\n",
       "      <td>30</td>\n",
       "      <td>8</td>\n",
       "      <td>Obese</td>\n",
       "      <td>140/90</td>\n",
       "      <td>85</td>\n",
       "      <td>3000</td>\n",
       "      <td>Sleep Apnea</td>\n",
       "    </tr>\n",
       "    <tr>\n",
       "      <th>4</th>\n",
       "      <td>5</td>\n",
       "      <td>Male</td>\n",
       "      <td>28</td>\n",
       "      <td>Sales Representative</td>\n",
       "      <td>5.9</td>\n",
       "      <td>4</td>\n",
       "      <td>30</td>\n",
       "      <td>8</td>\n",
       "      <td>Obese</td>\n",
       "      <td>140/90</td>\n",
       "      <td>85</td>\n",
       "      <td>3000</td>\n",
       "      <td>Sleep Apnea</td>\n",
       "    </tr>\n",
       "  </tbody>\n",
       "</table>\n",
       "</div>"
      ],
      "text/plain": [
       "   Person ID Gender  Age            Occupation  Sleep Duration  \\\n",
       "0          1   Male   27     Software Engineer             6.1   \n",
       "1          2   Male   28                Doctor             6.2   \n",
       "2          3   Male   28                Doctor             6.2   \n",
       "3          4   Male   28  Sales Representative             5.9   \n",
       "4          5   Male   28  Sales Representative             5.9   \n",
       "\n",
       "   Quality of Sleep  Physical Activity Level  Stress Level BMI Category  \\\n",
       "0                 6                       42             6   Overweight   \n",
       "1                 6                       60             8       Normal   \n",
       "2                 6                       60             8       Normal   \n",
       "3                 4                       30             8        Obese   \n",
       "4                 4                       30             8        Obese   \n",
       "\n",
       "  Blood Pressure  Heart Rate  Daily Steps Sleep Disorder  \n",
       "0         126/83          77         4200            NaN  \n",
       "1         125/80          75        10000            NaN  \n",
       "2         125/80          75        10000            NaN  \n",
       "3         140/90          85         3000    Sleep Apnea  \n",
       "4         140/90          85         3000    Sleep Apnea  "
      ]
     },
     "execution_count": 43,
     "metadata": {},
     "output_type": "execute_result"
    }
   ],
   "source": [
    "df_sleep.head()"
   ]
  },
  {
   "cell_type": "code",
   "execution_count": 45,
   "id": "4784c722",
   "metadata": {},
   "outputs": [
    {
     "data": {
      "text/html": [
       "<div>\n",
       "<style scoped>\n",
       "    .dataframe tbody tr th:only-of-type {\n",
       "        vertical-align: middle;\n",
       "    }\n",
       "\n",
       "    .dataframe tbody tr th {\n",
       "        vertical-align: top;\n",
       "    }\n",
       "\n",
       "    .dataframe thead th {\n",
       "        text-align: right;\n",
       "    }\n",
       "</style>\n",
       "<table border=\"1\" class=\"dataframe\">\n",
       "  <thead>\n",
       "    <tr style=\"text-align: right;\">\n",
       "      <th></th>\n",
       "      <th>Person ID</th>\n",
       "      <th>Gender</th>\n",
       "      <th>Age</th>\n",
       "      <th>Occupation</th>\n",
       "      <th>Sleep Duration</th>\n",
       "      <th>Quality of Sleep</th>\n",
       "      <th>Physical Activity Level</th>\n",
       "      <th>Stress Level</th>\n",
       "      <th>BMI Category</th>\n",
       "      <th>Blood Pressure</th>\n",
       "      <th>Heart Rate</th>\n",
       "      <th>Daily Steps</th>\n",
       "      <th>Sleep Disorder</th>\n",
       "      <th>BP High</th>\n",
       "      <th>BP Low</th>\n",
       "    </tr>\n",
       "  </thead>\n",
       "  <tbody>\n",
       "    <tr>\n",
       "      <th>0</th>\n",
       "      <td>1</td>\n",
       "      <td>Male</td>\n",
       "      <td>27</td>\n",
       "      <td>Software Engineer</td>\n",
       "      <td>6.1</td>\n",
       "      <td>6</td>\n",
       "      <td>42</td>\n",
       "      <td>6</td>\n",
       "      <td>Overweight</td>\n",
       "      <td>126/83</td>\n",
       "      <td>77</td>\n",
       "      <td>4200</td>\n",
       "      <td>NaN</td>\n",
       "      <td>126</td>\n",
       "      <td>83</td>\n",
       "    </tr>\n",
       "    <tr>\n",
       "      <th>1</th>\n",
       "      <td>2</td>\n",
       "      <td>Male</td>\n",
       "      <td>28</td>\n",
       "      <td>Doctor</td>\n",
       "      <td>6.2</td>\n",
       "      <td>6</td>\n",
       "      <td>60</td>\n",
       "      <td>8</td>\n",
       "      <td>Normal</td>\n",
       "      <td>125/80</td>\n",
       "      <td>75</td>\n",
       "      <td>10000</td>\n",
       "      <td>NaN</td>\n",
       "      <td>125</td>\n",
       "      <td>80</td>\n",
       "    </tr>\n",
       "    <tr>\n",
       "      <th>2</th>\n",
       "      <td>3</td>\n",
       "      <td>Male</td>\n",
       "      <td>28</td>\n",
       "      <td>Doctor</td>\n",
       "      <td>6.2</td>\n",
       "      <td>6</td>\n",
       "      <td>60</td>\n",
       "      <td>8</td>\n",
       "      <td>Normal</td>\n",
       "      <td>125/80</td>\n",
       "      <td>75</td>\n",
       "      <td>10000</td>\n",
       "      <td>NaN</td>\n",
       "      <td>125</td>\n",
       "      <td>80</td>\n",
       "    </tr>\n",
       "    <tr>\n",
       "      <th>3</th>\n",
       "      <td>4</td>\n",
       "      <td>Male</td>\n",
       "      <td>28</td>\n",
       "      <td>Sales Representative</td>\n",
       "      <td>5.9</td>\n",
       "      <td>4</td>\n",
       "      <td>30</td>\n",
       "      <td>8</td>\n",
       "      <td>Obese</td>\n",
       "      <td>140/90</td>\n",
       "      <td>85</td>\n",
       "      <td>3000</td>\n",
       "      <td>Sleep Apnea</td>\n",
       "      <td>140</td>\n",
       "      <td>90</td>\n",
       "    </tr>\n",
       "    <tr>\n",
       "      <th>4</th>\n",
       "      <td>5</td>\n",
       "      <td>Male</td>\n",
       "      <td>28</td>\n",
       "      <td>Sales Representative</td>\n",
       "      <td>5.9</td>\n",
       "      <td>4</td>\n",
       "      <td>30</td>\n",
       "      <td>8</td>\n",
       "      <td>Obese</td>\n",
       "      <td>140/90</td>\n",
       "      <td>85</td>\n",
       "      <td>3000</td>\n",
       "      <td>Sleep Apnea</td>\n",
       "      <td>140</td>\n",
       "      <td>90</td>\n",
       "    </tr>\n",
       "  </tbody>\n",
       "</table>\n",
       "</div>"
      ],
      "text/plain": [
       "   Person ID Gender  Age            Occupation  Sleep Duration  \\\n",
       "0          1   Male   27     Software Engineer             6.1   \n",
       "1          2   Male   28                Doctor             6.2   \n",
       "2          3   Male   28                Doctor             6.2   \n",
       "3          4   Male   28  Sales Representative             5.9   \n",
       "4          5   Male   28  Sales Representative             5.9   \n",
       "\n",
       "   Quality of Sleep  Physical Activity Level  Stress Level BMI Category  \\\n",
       "0                 6                       42             6   Overweight   \n",
       "1                 6                       60             8       Normal   \n",
       "2                 6                       60             8       Normal   \n",
       "3                 4                       30             8        Obese   \n",
       "4                 4                       30             8        Obese   \n",
       "\n",
       "  Blood Pressure  Heart Rate  Daily Steps Sleep Disorder BP High BP Low  \n",
       "0         126/83          77         4200            NaN     126     83  \n",
       "1         125/80          75        10000            NaN     125     80  \n",
       "2         125/80          75        10000            NaN     125     80  \n",
       "3         140/90          85         3000    Sleep Apnea     140     90  \n",
       "4         140/90          85         3000    Sleep Apnea     140     90  "
      ]
     },
     "execution_count": 45,
     "metadata": {},
     "output_type": "execute_result"
    }
   ],
   "source": [
    "df_sleep[['BP High', 'BP Low']] = df_sleep['Blood Pressure'].str.split(\n",
    "    \"/\", expand=True)\n",
    "df_sleep.head()"
   ]
  },
  {
   "cell_type": "code",
   "execution_count": 46,
   "id": "58e5babf",
   "metadata": {},
   "outputs": [
    {
     "data": {
      "text/plain": [
       "0.2941429212564027"
      ]
     },
     "execution_count": 46,
     "metadata": {},
     "output_type": "execute_result"
    }
   ],
   "source": [
    "# adakah korelasi antara BP high dengan heart rate\n",
    "df_sleep['BP High'].corr(df_sleep['Heart Rate'], method='pearson')"
   ]
  },
  {
   "cell_type": "markdown",
   "id": "e565125d",
   "metadata": {},
   "source": [
    "ada sedikit korelasi positif antara BP High dan Heart Rate\n"
   ]
  },
  {
   "cell_type": "code",
   "execution_count": null,
   "id": "f82b56d7",
   "metadata": {},
   "outputs": [
    {
     "name": "stdout",
     "output_type": "stream",
     "text": [
      "0.22260942439398276\n",
      "0.19099422357447815\n"
     ]
    }
   ],
   "source": [
    "print(df_sleep['BP High'].corr(df_sleep['Heart Rate'], method='spearman'))\n",
    "print(df_sleep['BP High'].corr(df_sleep['Heart Rate'], method='kendall'))"
   ]
  },
  {
   "cell_type": "markdown",
   "id": "0ee02b0b",
   "metadata": {},
   "source": [
    "spearman juga setuju ada sedikit korelasi positif\n",
    "\n",
    "kendall juga sama, biasanya angka lebih rendah, biasanya cocok kalau dataset punya banyak nilai yang sama\n"
   ]
  },
  {
   "cell_type": "code",
   "execution_count": null,
   "id": "4fdba02c",
   "metadata": {},
   "outputs": [],
   "source": []
  }
 ],
 "metadata": {
  "kernelspec": {
   "display_name": "base",
   "language": "python",
   "name": "python3"
  },
  "language_info": {
   "codemirror_mode": {
    "name": "ipython",
    "version": 3
   },
   "file_extension": ".py",
   "mimetype": "text/x-python",
   "name": "python",
   "nbconvert_exporter": "python",
   "pygments_lexer": "ipython3",
   "version": "3.11.7"
  }
 },
 "nbformat": 4,
 "nbformat_minor": 5
}
