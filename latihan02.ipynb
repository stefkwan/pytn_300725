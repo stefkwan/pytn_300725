{
 "cells": [
  {
   "cell_type": "code",
   "execution_count": 50,
   "id": "6834befb",
   "metadata": {},
   "outputs": [],
   "source": [
    "## buat function untuk grading hasil ujian, \n",
    "# <50 D, 51-70 C, 71-89 B, 90+ A\n",
    "\n",
    "def gradingExam (finalScore):\n",
    "    grade = 'D'\n",
    "    if finalScore < 50:\n",
    "        grade = \"D\"\n",
    "    elif finalScore <= 70:\n",
    "        grade = \"C\"\n",
    "    elif finalScore <= 89:\n",
    "        grade = \"B\"\n",
    "    else:\n",
    "        grade = \"A\"\n",
    "\n",
    "    return grade\n",
    "\n",
    "\n",
    "\n"
   ]
  },
  {
   "cell_type": "code",
   "execution_count": 51,
   "id": "5ffa6bae",
   "metadata": {},
   "outputs": [
    {
     "name": "stdout",
     "output_type": "stream",
     "text": [
      "B\n"
     ]
    }
   ],
   "source": [
    "gradingExam (80)\n",
    "hasil = gradingExam (80)\n",
    "print (hasil)"
   ]
  },
  {
   "cell_type": "code",
   "execution_count": 30,
   "id": "2ac3284f",
   "metadata": {},
   "outputs": [
    {
     "name": "stdout",
     "output_type": "stream",
     "text": [
      "Dear valued carrier: DHL, thank you for your inbound booking, this is your inbound shipment appointment number: 708994994, please ensure your driver to arrive on 13 Aug 2025 7PM\n"
     ]
    }
   ],
   "source": [
    "## Latihan\n",
    "\n",
    "#buatlah function untuk:\n",
    "#1. memiliki 3 argumen, function nya print ketiga argumen tersebut di 1 kalimat\n",
    "#2. menghitung angka pertama \\* 17 + angka kedua totalnya berapa\n",
    "#3. mencari jumlah huruf \"a\" dari sebuah list yang isinya string [\"apel\", \"pisang\"] berarti function akan kasih total 2\n",
    "\n",
    "def bookingConfirm (carrierName,numberISA,timeConfirm):\n",
    "    print(f\"Dear valued carrier: {carrierName}, thank you for your inbound booking, this is your inbound shipment appointment number: {numberISA}, please ensure your driver to arrive on {timeConfirm}\")\n",
    "\n",
    "bookingConfirm (\"DHL\", 708994994, \"13 Aug 2025 7PM\")"
   ]
  },
  {
   "cell_type": "code",
   "execution_count": 31,
   "id": "b5874847",
   "metadata": {},
   "outputs": [
    {
     "name": "stdout",
     "output_type": "stream",
     "text": [
      "98\n"
     ]
    }
   ],
   "source": [
    "def linearReg (angka01,angka02,intercept):\n",
    "    hasil = (intercept * angka01) + angka02\n",
    "    print (hasil)\n",
    "\n",
    "linearReg(24,50,2)\n",
    "    "
   ]
  },
  {
   "cell_type": "code",
   "execution_count": null,
   "id": "a24bd7c5",
   "metadata": {},
   "outputs": [
    {
     "name": "stdout",
     "output_type": "stream",
     "text": [
      "banana\n",
      "b\n",
      "a\n",
      "n\n",
      "a\n",
      "n\n",
      "a\n",
      "apple\n",
      "a\n",
      "p\n",
      "p\n",
      "l\n",
      "e\n",
      "nectarine\n",
      "n\n",
      "e\n",
      "c\n",
      "t\n",
      "a\n",
      "r\n",
      "i\n",
      "n\n",
      "e\n",
      "grape\n",
      "g\n",
      "r\n",
      "a\n",
      "p\n",
      "e\n",
      "6\n"
     ]
    }
   ],
   "source": [
    "#stringList = ['banana','apple','nectarine','grape']\n",
    "\n",
    "def countletter_a(stringList):\n",
    "    count_a = 0\n",
    "    for s in stringList:\n",
    "        print(s)\n",
    "        for letter in s:\n",
    "            print(letter)\n",
    "            if letter.lower() == 'a':\n",
    "                count_a = count_a + 1\n",
    "    print(count_a)\n",
    "    return count_a\n",
    "countletter_a(['banana','apple','nectarine','grape'])"
   ]
  },
  {
   "cell_type": "code",
   "execution_count": 39,
   "id": "7c4c3ea5",
   "metadata": {},
   "outputs": [
    {
     "name": "stdout",
     "output_type": "stream",
     "text": [
      "123\n",
      "kdgjh\n",
      "kdgjh is a string\n",
      "k\n",
      "d\n",
      "g\n",
      "j\n",
      "h\n",
      "\n",
      "213.67\n",
      "True\n"
     ]
    }
   ],
   "source": [
    "for a in [123, \"kdgjh\", 213.67, True]:\n",
    "    print(a)\n",
    "\n",
    "    if (type(a) == type(\"\")):\n",
    "        print(f\"{a} is a string\")\n",
    "        for item in a:\n",
    "            print(item)\n",
    "        print()\n"
   ]
  },
  {
   "cell_type": "code",
   "execution_count": 41,
   "id": "92e4e5ee",
   "metadata": {},
   "outputs": [
    {
     "name": "stdout",
     "output_type": "stream",
     "text": [
      "hello saya sgitiga.py\n"
     ]
    }
   ],
   "source": [
    "import segitiga"
   ]
  },
  {
   "cell_type": "code",
   "execution_count": 42,
   "id": "83d6f9b3",
   "metadata": {},
   "outputs": [
    {
     "data": {
      "text/plain": [
       "'Untuk menghitung keliling gunakan luasSegitiga(sisi01,sisi02,sisi03)'"
      ]
     },
     "execution_count": 42,
     "metadata": {},
     "output_type": "execute_result"
    }
   ],
   "source": [
    "segitiga.infoKelilingFormula"
   ]
  },
  {
   "cell_type": "code",
   "execution_count": 43,
   "id": "86441abf",
   "metadata": {},
   "outputs": [
    {
     "name": "stdout",
     "output_type": "stream",
     "text": [
      "Keliling Segitiga: 51\n"
     ]
    }
   ],
   "source": [
    "segitiga.kelilingSegitisga(12,5,34)"
   ]
  },
  {
   "cell_type": "code",
   "execution_count": 47,
   "id": "93bda2ea",
   "metadata": {},
   "outputs": [
    {
     "name": "stdout",
     "output_type": "stream",
     "text": [
      "Luas Segitiga 300.0\n"
     ]
    }
   ],
   "source": [
    "segitiga.typeSegitiga\n",
    "segitiga.infoLuasFormula\n",
    "segitiga.luasSegitiga(50,12)\n"
   ]
  },
  {
   "cell_type": "code",
   "execution_count": 52,
   "id": "67918f3d",
   "metadata": {},
   "outputs": [],
   "source": [
    "def xFunc (a,b,c=1,d=4):\n",
    "    return a+b+c+d\n",
    "\n"
   ]
  },
  {
   "cell_type": "code",
   "execution_count": 54,
   "id": "a24cc3a3",
   "metadata": {},
   "outputs": [
    {
     "name": "stdout",
     "output_type": "stream",
     "text": [
      "8\n"
     ]
    }
   ],
   "source": [
    "o = xFunc(1,1,2)\n",
    "print (o)\n"
   ]
  },
  {
   "cell_type": "code",
   "execution_count": 65,
   "id": "f44a8245",
   "metadata": {},
   "outputs": [],
   "source": [
    "def multiplier (*num):\n",
    "    prod = 1\n",
    "    for i in num:\n",
    "        prod = prod * i\n",
    "    print(prod)\n",
    "\n"
   ]
  },
  {
   "cell_type": "code",
   "execution_count": 66,
   "id": "65388a03",
   "metadata": {},
   "outputs": [
    {
     "name": "stdout",
     "output_type": "stream",
     "text": [
      "15\n"
     ]
    }
   ],
   "source": [
    "multiplier(1,3,5)\n"
   ]
  },
  {
   "cell_type": "code",
   "execution_count": 96,
   "id": "22a79140",
   "metadata": {},
   "outputs": [],
   "source": [
    "\n",
    "def multiplier2 (*num):\n",
    "    prod = 1\n",
    "    for i in num:\n",
    "        prod = prod * i\n",
    "    print(prod)"
   ]
  },
  {
   "cell_type": "code",
   "execution_count": 97,
   "id": "317c037d",
   "metadata": {},
   "outputs": [
    {
     "name": "stdout",
     "output_type": "stream",
     "text": [
      "15\n"
     ]
    }
   ],
   "source": [
    "multiplier2(1,3,5)"
   ]
  },
  {
   "cell_type": "code",
   "execution_count": 105,
   "id": "7e700590",
   "metadata": {},
   "outputs": [],
   "source": [
    "def daftar_nama(sekolah,**nama_peserta):\n",
    "    print (f\"Peserta didik sekolah {sekolah}:\")\n",
    "    i=0\n",
    "    for nama in nama_peserta.keys():\n",
    "        i = i + 1\n",
    "        print(f\"{i}. {nama}\")\n",
    "    print (nama_peserta)\n"
   ]
  },
  {
   "cell_type": "code",
   "execution_count": 106,
   "id": "c35b2d49",
   "metadata": {},
   "outputs": [
    {
     "name": "stdout",
     "output_type": "stream",
     "text": [
      "Peserta didik sekolah Hacktive8:\n",
      "1. siswa1\n",
      "2. siswa2\n",
      "3. siswa3\n",
      "4. siswa4\n",
      "{'siswa1': 'A', 'siswa2': 'B', 'siswa3': 'C', 'siswa4': 'D'}\n"
     ]
    }
   ],
   "source": [
    "daftar_nama (\"Hacktive8\", siswa1=\"A\", siswa2=\"B\", siswa3=\"C\", siswa4=\"D\")"
   ]
  },
  {
   "cell_type": "code",
   "execution_count": 118,
   "id": "e8bbe733",
   "metadata": {},
   "outputs": [],
   "source": [
    "import DHL"
   ]
  },
  {
   "cell_type": "code",
   "execution_count": 119,
   "id": "de217b50",
   "metadata": {},
   "outputs": [
    {
     "name": "stdout",
     "output_type": "stream",
     "text": [
      "dhl_sales_australia@dhl.com\n",
      "www.dhl.com/au\n",
      "Christopher Galea\n",
      "120001.5\n"
     ]
    }
   ],
   "source": [
    "print(DHL.companyEmail)\n",
    "print(DHL.companyWebsite)\n",
    "print(DHL.contactPerson)\n",
    "DHL.pricing(3,40,30,20)"
   ]
  },
  {
   "cell_type": "code",
   "execution_count": 111,
   "id": "ab930e5c",
   "metadata": {},
   "outputs": [
    {
     "data": {
      "text/plain": [
       "['DHL',\n",
       " 'In',\n",
       " 'Out',\n",
       " '_',\n",
       " '_36',\n",
       " '_42',\n",
       " '_45',\n",
       " '_46',\n",
       " '__',\n",
       " '___',\n",
       " '__builtin__',\n",
       " '__builtins__',\n",
       " '__doc__',\n",
       " '__loader__',\n",
       " '__name__',\n",
       " '__package__',\n",
       " '__spec__',\n",
       " '__vsc_ipynb_file__',\n",
       " '_dh',\n",
       " '_i',\n",
       " '_i1',\n",
       " '_i10',\n",
       " '_i100',\n",
       " '_i101',\n",
       " '_i102',\n",
       " '_i103',\n",
       " '_i104',\n",
       " '_i105',\n",
       " '_i106',\n",
       " '_i107',\n",
       " '_i108',\n",
       " '_i109',\n",
       " '_i11',\n",
       " '_i110',\n",
       " '_i111',\n",
       " '_i12',\n",
       " '_i13',\n",
       " '_i14',\n",
       " '_i15',\n",
       " '_i16',\n",
       " '_i17',\n",
       " '_i18',\n",
       " '_i19',\n",
       " '_i2',\n",
       " '_i20',\n",
       " '_i21',\n",
       " '_i22',\n",
       " '_i23',\n",
       " '_i24',\n",
       " '_i25',\n",
       " '_i26',\n",
       " '_i27',\n",
       " '_i28',\n",
       " '_i29',\n",
       " '_i3',\n",
       " '_i30',\n",
       " '_i31',\n",
       " '_i32',\n",
       " '_i33',\n",
       " '_i34',\n",
       " '_i35',\n",
       " '_i36',\n",
       " '_i37',\n",
       " '_i38',\n",
       " '_i39',\n",
       " '_i4',\n",
       " '_i40',\n",
       " '_i41',\n",
       " '_i42',\n",
       " '_i43',\n",
       " '_i44',\n",
       " '_i45',\n",
       " '_i46',\n",
       " '_i47',\n",
       " '_i48',\n",
       " '_i49',\n",
       " '_i5',\n",
       " '_i50',\n",
       " '_i51',\n",
       " '_i52',\n",
       " '_i53',\n",
       " '_i54',\n",
       " '_i55',\n",
       " '_i56',\n",
       " '_i57',\n",
       " '_i58',\n",
       " '_i59',\n",
       " '_i6',\n",
       " '_i60',\n",
       " '_i61',\n",
       " '_i62',\n",
       " '_i63',\n",
       " '_i64',\n",
       " '_i65',\n",
       " '_i66',\n",
       " '_i67',\n",
       " '_i68',\n",
       " '_i69',\n",
       " '_i7',\n",
       " '_i70',\n",
       " '_i71',\n",
       " '_i72',\n",
       " '_i73',\n",
       " '_i74',\n",
       " '_i75',\n",
       " '_i76',\n",
       " '_i77',\n",
       " '_i78',\n",
       " '_i79',\n",
       " '_i8',\n",
       " '_i80',\n",
       " '_i81',\n",
       " '_i82',\n",
       " '_i83',\n",
       " '_i84',\n",
       " '_i85',\n",
       " '_i86',\n",
       " '_i87',\n",
       " '_i88',\n",
       " '_i89',\n",
       " '_i9',\n",
       " '_i90',\n",
       " '_i91',\n",
       " '_i92',\n",
       " '_i93',\n",
       " '_i94',\n",
       " '_i95',\n",
       " '_i96',\n",
       " '_i97',\n",
       " '_i98',\n",
       " '_i99',\n",
       " '_ih',\n",
       " '_ii',\n",
       " '_iii',\n",
       " '_oh',\n",
       " 'a',\n",
       " 'bookingConfirm',\n",
       " 'countletter_a',\n",
       " 'daftar_nama',\n",
       " 'exit',\n",
       " 'get_ipython',\n",
       " 'gradingExam',\n",
       " 'hasil',\n",
       " 'item',\n",
       " 'j',\n",
       " 'linearReg',\n",
       " 'multiplier',\n",
       " 'multiplier2',\n",
       " 'num',\n",
       " 'o',\n",
       " 'open',\n",
       " 'quit',\n",
       " 'salesDiatas100',\n",
       " 'salesList',\n",
       " 'segitiga',\n",
       " 'xFunc']"
      ]
     },
     "execution_count": 111,
     "metadata": {},
     "output_type": "execute_result"
    }
   ],
   "source": [
    "dir()\n"
   ]
  },
  {
   "cell_type": "code",
   "execution_count": 115,
   "id": "8f166079",
   "metadata": {},
   "outputs": [
    {
     "data": {
      "text/plain": [
       "False"
      ]
     },
     "execution_count": 115,
     "metadata": {},
     "output_type": "execute_result"
    }
   ],
   "source": [
    "\"companyEmail\" in dir ()"
   ]
  },
  {
   "cell_type": "code",
   "execution_count": 116,
   "id": "aae9becb",
   "metadata": {},
   "outputs": [],
   "source": [
    "import sys"
   ]
  },
  {
   "cell_type": "code",
   "execution_count": 117,
   "id": "967d0da6",
   "metadata": {},
   "outputs": [
    {
     "data": {
      "text/plain": [
       "['c:\\\\Users\\\\julya\\\\anaconda3\\\\python313.zip',\n",
       " 'c:\\\\Users\\\\julya\\\\anaconda3\\\\DLLs',\n",
       " 'c:\\\\Users\\\\julya\\\\anaconda3\\\\Lib',\n",
       " 'c:\\\\Users\\\\julya\\\\anaconda3',\n",
       " '',\n",
       " 'c:\\\\Users\\\\julya\\\\anaconda3\\\\Lib\\\\site-packages',\n",
       " 'c:\\\\Users\\\\julya\\\\anaconda3\\\\Lib\\\\site-packages\\\\win32',\n",
       " 'c:\\\\Users\\\\julya\\\\anaconda3\\\\Lib\\\\site-packages\\\\win32\\\\lib',\n",
       " 'c:\\\\Users\\\\julya\\\\anaconda3\\\\Lib\\\\site-packages\\\\Pythonwin']"
      ]
     },
     "execution_count": 117,
     "metadata": {},
     "output_type": "execute_result"
    }
   ],
   "source": [
    "sys.path"
   ]
  },
  {
   "cell_type": "code",
   "execution_count": 122,
   "id": "f1496cfd",
   "metadata": {},
   "outputs": [
    {
     "name": "stdout",
     "output_type": "stream",
     "text": [
      "ILS.py imported\n"
     ]
    }
   ],
   "source": [
    "import transport_carriers.ILS"
   ]
  },
  {
   "cell_type": "code",
   "execution_count": 123,
   "id": "5acdb6f3",
   "metadata": {},
   "outputs": [
    {
     "name": "stdout",
     "output_type": "stream",
     "text": [
      "DHL.py inported\n"
     ]
    }
   ],
   "source": [
    "import transport_carriers.DHL"
   ]
  },
  {
   "cell_type": "code",
   "execution_count": 124,
   "id": "50a8e991",
   "metadata": {},
   "outputs": [
    {
     "data": {
      "text/plain": [
       "'www.ils.com.au'"
      ]
     },
     "execution_count": 124,
     "metadata": {},
     "output_type": "execute_result"
    }
   ],
   "source": [
    "transport_carriers.ILS.companyWebsite"
   ]
  },
  {
   "cell_type": "code",
   "execution_count": 125,
   "id": "998681cf",
   "metadata": {},
   "outputs": [
    {
     "name": "stdout",
     "output_type": "stream",
     "text": [
      "Requirement already satisfied: numpy in c:\\users\\julya\\anaconda3\\lib\\site-packages (2.1.3)\n",
      "Note: you may need to restart the kernel to use updated packages.\n"
     ]
    }
   ],
   "source": [
    "pip install numpy"
   ]
  },
  {
   "cell_type": "code",
   "execution_count": 129,
   "id": "bda6af97",
   "metadata": {},
   "outputs": [
    {
     "name": "stdout",
     "output_type": "stream",
     "text": [
      "Requirement already satisfied: pandas in c:\\users\\julya\\anaconda3\\lib\\site-packages (2.2.3)\n",
      "Requirement already satisfied: numpy>=1.26.0 in c:\\users\\julya\\anaconda3\\lib\\site-packages (from pandas) (2.1.3)\n",
      "Requirement already satisfied: python-dateutil>=2.8.2 in c:\\users\\julya\\anaconda3\\lib\\site-packages (from pandas) (2.9.0.post0)\n",
      "Requirement already satisfied: pytz>=2020.1 in c:\\users\\julya\\anaconda3\\lib\\site-packages (from pandas) (2024.1)\n",
      "Requirement already satisfied: tzdata>=2022.7 in c:\\users\\julya\\anaconda3\\lib\\site-packages (from pandas) (2025.2)\n",
      "Requirement already satisfied: six>=1.5 in c:\\users\\julya\\anaconda3\\lib\\site-packages (from python-dateutil>=2.8.2->pandas) (1.17.0)\n",
      "Note: you may need to restart the kernel to use updated packages.\n"
     ]
    }
   ],
   "source": [
    "pip install pandas"
   ]
  },
  {
   "cell_type": "code",
   "execution_count": 130,
   "id": "82a72d9b",
   "metadata": {},
   "outputs": [
    {
     "name": "stdout",
     "output_type": "stream",
     "text": [
      "Requirement already satisfied: matplotlib in c:\\users\\julya\\anaconda3\\lib\\site-packages (3.10.0)\n",
      "Requirement already satisfied: contourpy>=1.0.1 in c:\\users\\julya\\anaconda3\\lib\\site-packages (from matplotlib) (1.3.1)\n",
      "Requirement already satisfied: cycler>=0.10 in c:\\users\\julya\\anaconda3\\lib\\site-packages (from matplotlib) (0.11.0)\n",
      "Requirement already satisfied: fonttools>=4.22.0 in c:\\users\\julya\\anaconda3\\lib\\site-packages (from matplotlib) (4.55.3)\n",
      "Requirement already satisfied: kiwisolver>=1.3.1 in c:\\users\\julya\\anaconda3\\lib\\site-packages (from matplotlib) (1.4.8)\n",
      "Requirement already satisfied: numpy>=1.23 in c:\\users\\julya\\anaconda3\\lib\\site-packages (from matplotlib) (2.1.3)\n",
      "Requirement already satisfied: packaging>=20.0 in c:\\users\\julya\\anaconda3\\lib\\site-packages (from matplotlib) (24.2)\n",
      "Requirement already satisfied: pillow>=8 in c:\\users\\julya\\anaconda3\\lib\\site-packages (from matplotlib) (11.1.0)\n",
      "Requirement already satisfied: pyparsing>=2.3.1 in c:\\users\\julya\\anaconda3\\lib\\site-packages (from matplotlib) (3.2.0)\n",
      "Requirement already satisfied: python-dateutil>=2.7 in c:\\users\\julya\\anaconda3\\lib\\site-packages (from matplotlib) (2.9.0.post0)\n",
      "Requirement already satisfied: six>=1.5 in c:\\users\\julya\\anaconda3\\lib\\site-packages (from python-dateutil>=2.7->matplotlib) (1.17.0)\n",
      "Note: you may need to restart the kernel to use updated packages.\n"
     ]
    }
   ],
   "source": [
    "pip install matplotlib\n"
   ]
  },
  {
   "cell_type": "code",
   "execution_count": 131,
   "id": "358e4f1c",
   "metadata": {},
   "outputs": [
    {
     "name": "stdout",
     "output_type": "stream",
     "text": [
      "Requirement already satisfied: seaborn in c:\\users\\julya\\anaconda3\\lib\\site-packages (0.13.2)\n",
      "Requirement already satisfied: numpy!=1.24.0,>=1.20 in c:\\users\\julya\\anaconda3\\lib\\site-packages (from seaborn) (2.1.3)\n",
      "Requirement already satisfied: pandas>=1.2 in c:\\users\\julya\\anaconda3\\lib\\site-packages (from seaborn) (2.2.3)\n",
      "Requirement already satisfied: matplotlib!=3.6.1,>=3.4 in c:\\users\\julya\\anaconda3\\lib\\site-packages (from seaborn) (3.10.0)\n",
      "Requirement already satisfied: contourpy>=1.0.1 in c:\\users\\julya\\anaconda3\\lib\\site-packages (from matplotlib!=3.6.1,>=3.4->seaborn) (1.3.1)\n",
      "Requirement already satisfied: cycler>=0.10 in c:\\users\\julya\\anaconda3\\lib\\site-packages (from matplotlib!=3.6.1,>=3.4->seaborn) (0.11.0)\n",
      "Requirement already satisfied: fonttools>=4.22.0 in c:\\users\\julya\\anaconda3\\lib\\site-packages (from matplotlib!=3.6.1,>=3.4->seaborn) (4.55.3)\n",
      "Requirement already satisfied: kiwisolver>=1.3.1 in c:\\users\\julya\\anaconda3\\lib\\site-packages (from matplotlib!=3.6.1,>=3.4->seaborn) (1.4.8)\n",
      "Requirement already satisfied: packaging>=20.0 in c:\\users\\julya\\anaconda3\\lib\\site-packages (from matplotlib!=3.6.1,>=3.4->seaborn) (24.2)\n",
      "Requirement already satisfied: pillow>=8 in c:\\users\\julya\\anaconda3\\lib\\site-packages (from matplotlib!=3.6.1,>=3.4->seaborn) (11.1.0)\n",
      "Requirement already satisfied: pyparsing>=2.3.1 in c:\\users\\julya\\anaconda3\\lib\\site-packages (from matplotlib!=3.6.1,>=3.4->seaborn) (3.2.0)\n",
      "Requirement already satisfied: python-dateutil>=2.7 in c:\\users\\julya\\anaconda3\\lib\\site-packages (from matplotlib!=3.6.1,>=3.4->seaborn) (2.9.0.post0)\n",
      "Requirement already satisfied: pytz>=2020.1 in c:\\users\\julya\\anaconda3\\lib\\site-packages (from pandas>=1.2->seaborn) (2024.1)\n",
      "Requirement already satisfied: tzdata>=2022.7 in c:\\users\\julya\\anaconda3\\lib\\site-packages (from pandas>=1.2->seaborn) (2025.2)\n",
      "Requirement already satisfied: six>=1.5 in c:\\users\\julya\\anaconda3\\lib\\site-packages (from python-dateutil>=2.7->matplotlib!=3.6.1,>=3.4->seaborn) (1.17.0)\n",
      "Note: you may need to restart the kernel to use updated packages.\n"
     ]
    }
   ],
   "source": [
    "pip install seaborn\n"
   ]
  },
  {
   "cell_type": "code",
   "execution_count": 132,
   "id": "4e0fdaf7",
   "metadata": {},
   "outputs": [
    {
     "name": "stdout",
     "output_type": "stream",
     "text": [
      "Requirement already satisfied: scipy in c:\\users\\julya\\anaconda3\\lib\\site-packages (1.15.3)\n",
      "Requirement already satisfied: numpy<2.5,>=1.23.5 in c:\\users\\julya\\anaconda3\\lib\\site-packages (from scipy) (2.1.3)\n",
      "Note: you may need to restart the kernel to use updated packages.\n"
     ]
    }
   ],
   "source": [
    "pip install scipy\n"
   ]
  },
  {
   "cell_type": "code",
   "execution_count": 133,
   "id": "bb893a3e",
   "metadata": {},
   "outputs": [
    {
     "name": "stdout",
     "output_type": "stream",
     "text": [
      "Requirement already satisfied: statsmodels in c:\\users\\julya\\anaconda3\\lib\\site-packages (0.14.4)\n",
      "Requirement already satisfied: numpy<3,>=1.22.3 in c:\\users\\julya\\anaconda3\\lib\\site-packages (from statsmodels) (2.1.3)\n",
      "Requirement already satisfied: scipy!=1.9.2,>=1.8 in c:\\users\\julya\\anaconda3\\lib\\site-packages (from statsmodels) (1.15.3)\n",
      "Requirement already satisfied: pandas!=2.1.0,>=1.4 in c:\\users\\julya\\anaconda3\\lib\\site-packages (from statsmodels) (2.2.3)\n",
      "Requirement already satisfied: patsy>=0.5.6 in c:\\users\\julya\\anaconda3\\lib\\site-packages (from statsmodels) (1.0.1)\n",
      "Requirement already satisfied: packaging>=21.3 in c:\\users\\julya\\anaconda3\\lib\\site-packages (from statsmodels) (24.2)\n",
      "Requirement already satisfied: python-dateutil>=2.8.2 in c:\\users\\julya\\anaconda3\\lib\\site-packages (from pandas!=2.1.0,>=1.4->statsmodels) (2.9.0.post0)\n",
      "Requirement already satisfied: pytz>=2020.1 in c:\\users\\julya\\anaconda3\\lib\\site-packages (from pandas!=2.1.0,>=1.4->statsmodels) (2024.1)\n",
      "Requirement already satisfied: tzdata>=2022.7 in c:\\users\\julya\\anaconda3\\lib\\site-packages (from pandas!=2.1.0,>=1.4->statsmodels) (2025.2)\n",
      "Requirement already satisfied: six>=1.5 in c:\\users\\julya\\anaconda3\\lib\\site-packages (from python-dateutil>=2.8.2->pandas!=2.1.0,>=1.4->statsmodels) (1.17.0)\n",
      "Note: you may need to restart the kernel to use updated packages.\n"
     ]
    }
   ],
   "source": [
    "pip install statsmodels"
   ]
  },
  {
   "cell_type": "code",
   "execution_count": 134,
   "id": "380161d1",
   "metadata": {},
   "outputs": [
    {
     "name": "stdout",
     "output_type": "stream",
     "text": [
      "Collecting mlr\n",
      "  Downloading mlr-0.1.0-py3-none-any.whl.metadata (9.0 kB)\n",
      "Requirement already satisfied: numpy in c:\\users\\julya\\anaconda3\\lib\\site-packages (from mlr) (2.1.3)\n",
      "Requirement already satisfied: pandas in c:\\users\\julya\\anaconda3\\lib\\site-packages (from mlr) (2.2.3)\n",
      "Requirement already satisfied: matplotlib in c:\\users\\julya\\anaconda3\\lib\\site-packages (from mlr) (3.10.0)\n",
      "Requirement already satisfied: seaborn in c:\\users\\julya\\anaconda3\\lib\\site-packages (from mlr) (0.13.2)\n",
      "Requirement already satisfied: statsmodels in c:\\users\\julya\\anaconda3\\lib\\site-packages (from mlr) (0.14.4)\n",
      "Requirement already satisfied: contourpy>=1.0.1 in c:\\users\\julya\\anaconda3\\lib\\site-packages (from matplotlib->mlr) (1.3.1)\n",
      "Requirement already satisfied: cycler>=0.10 in c:\\users\\julya\\anaconda3\\lib\\site-packages (from matplotlib->mlr) (0.11.0)\n",
      "Requirement already satisfied: fonttools>=4.22.0 in c:\\users\\julya\\anaconda3\\lib\\site-packages (from matplotlib->mlr) (4.55.3)\n",
      "Requirement already satisfied: kiwisolver>=1.3.1 in c:\\users\\julya\\anaconda3\\lib\\site-packages (from matplotlib->mlr) (1.4.8)\n",
      "Requirement already satisfied: packaging>=20.0 in c:\\users\\julya\\anaconda3\\lib\\site-packages (from matplotlib->mlr) (24.2)\n",
      "Requirement already satisfied: pillow>=8 in c:\\users\\julya\\anaconda3\\lib\\site-packages (from matplotlib->mlr) (11.1.0)\n",
      "Requirement already satisfied: pyparsing>=2.3.1 in c:\\users\\julya\\anaconda3\\lib\\site-packages (from matplotlib->mlr) (3.2.0)\n",
      "Requirement already satisfied: python-dateutil>=2.7 in c:\\users\\julya\\anaconda3\\lib\\site-packages (from matplotlib->mlr) (2.9.0.post0)\n",
      "Requirement already satisfied: six>=1.5 in c:\\users\\julya\\anaconda3\\lib\\site-packages (from python-dateutil>=2.7->matplotlib->mlr) (1.17.0)\n",
      "Requirement already satisfied: pytz>=2020.1 in c:\\users\\julya\\anaconda3\\lib\\site-packages (from pandas->mlr) (2024.1)\n",
      "Requirement already satisfied: tzdata>=2022.7 in c:\\users\\julya\\anaconda3\\lib\\site-packages (from pandas->mlr) (2025.2)\n",
      "Requirement already satisfied: scipy!=1.9.2,>=1.8 in c:\\users\\julya\\anaconda3\\lib\\site-packages (from statsmodels->mlr) (1.15.3)\n",
      "Requirement already satisfied: patsy>=0.5.6 in c:\\users\\julya\\anaconda3\\lib\\site-packages (from statsmodels->mlr) (1.0.1)\n",
      "Downloading mlr-0.1.0-py3-none-any.whl (24 kB)\n",
      "Installing collected packages: mlr\n",
      "Successfully installed mlr-0.1.0\n",
      "Note: you may need to restart the kernel to use updated packages.\n"
     ]
    }
   ],
   "source": [
    "pip install mlr"
   ]
  },
  {
   "cell_type": "code",
   "execution_count": 135,
   "id": "6258f536",
   "metadata": {},
   "outputs": [],
   "source": [
    "import numpy as np"
   ]
  },
  {
   "cell_type": "code",
   "execution_count": 136,
   "id": "0e2531db",
   "metadata": {},
   "outputs": [
    {
     "ename": "ImportError",
     "evalue": "cannot import name 'MyLinearRegression' from 'mlr' (c:\\Users\\julya\\anaconda3\\Lib\\site-packages\\mlr\\__init__.py)",
     "output_type": "error",
     "traceback": [
      "\u001b[1;31m---------------------------------------------------------------------------\u001b[0m",
      "\u001b[1;31mImportError\u001b[0m                               Traceback (most recent call last)",
      "Cell \u001b[1;32mIn[136], line 1\u001b[0m\n\u001b[1;32m----> 1\u001b[0m \u001b[38;5;28;01mfrom\u001b[39;00m\u001b[38;5;250m \u001b[39m\u001b[38;5;21;01mmlr\u001b[39;00m\u001b[38;5;250m \u001b[39m\u001b[38;5;28;01mimport\u001b[39;00m MyLinearRegression \u001b[38;5;28;01mas\u001b[39;00m mlr\n",
      "\u001b[1;31mImportError\u001b[0m: cannot import name 'MyLinearRegression' from 'mlr' (c:\\Users\\julya\\anaconda3\\Lib\\site-packages\\mlr\\__init__.py)"
     ]
    }
   ],
   "source": [
    "from mlr import MyLinearRegression as mlr"
   ]
  },
  {
   "cell_type": "code",
   "execution_count": 137,
   "id": "8aa3583f",
   "metadata": {},
   "outputs": [],
   "source": [
    "num_samples=40\n",
    "num_dim = 5\n",
    "X = 10*np.random.random(size=(num_samples,num_dim))\n",
    "coeff = np.array([2,-3.5,1.2,4.1,-2.5])\n",
    "y = np.dot(coeff,X.T)+10*np.random.randn(num_samples)"
   ]
  },
  {
   "cell_type": "code",
   "execution_count": 139,
   "id": "2b7a4a9c",
   "metadata": {},
   "outputs": [
    {
     "ename": "NameError",
     "evalue": "name 'mlr' is not defined",
     "output_type": "error",
     "traceback": [
      "\u001b[1;31m---------------------------------------------------------------------------\u001b[0m",
      "\u001b[1;31mNameError\u001b[0m                                 Traceback (most recent call last)",
      "Cell \u001b[1;32mIn[139], line 1\u001b[0m\n\u001b[1;32m----> 1\u001b[0m model \u001b[38;5;241m=\u001b[39m mlr()\n",
      "\u001b[1;31mNameError\u001b[0m: name 'mlr' is not defined"
     ]
    }
   ],
   "source": [
    "model = mlr()"
   ]
  }
 ],
 "metadata": {
  "kernelspec": {
   "display_name": "base",
   "language": "python",
   "name": "python3"
  },
  "language_info": {
   "codemirror_mode": {
    "name": "ipython",
    "version": 3
   },
   "file_extension": ".py",
   "mimetype": "text/x-python",
   "name": "python",
   "nbconvert_exporter": "python",
   "pygments_lexer": "ipython3",
   "version": "3.13.5"
  }
 },
 "nbformat": 4,
 "nbformat_minor": 5
}
