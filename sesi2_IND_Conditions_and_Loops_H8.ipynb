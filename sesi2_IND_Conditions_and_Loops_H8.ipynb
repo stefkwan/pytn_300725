{
  "cells": [
    {
      "cell_type": "markdown",
      "metadata": {
        "id": "B_itmmqfxOC5"
      },
      "source": [
        "# Python: Conditionals & loops"
      ]
    },
    {
      "cell_type": "markdown",
      "metadata": {
        "id": "B9ijnjcW0aLS"
      },
      "source": [
        "# CONDITIONAL"
      ]
    },
    {
      "cell_type": "markdown",
      "metadata": {
        "id": "OmxYNHm-0aLT"
      },
      "source": [
        "Python mendukung kondisi logika yang biasa digunakan dalam matematika:\n",
        "\n",
        "- Sama dengan: `a == b`\n",
        "- Tidak sama dengan: `a != b`\n",
        "- Kurang dari: `a < b`\n",
        "- Kurang dari atau sama dengan: `a <= b`\n",
        "- Lebih dari: `a > b`\n",
        "- Lebih dari atau sama dengan: `a >= b`\n",
        "\n",
        "Kondisi-kondisi ini dapat digunakan dalam berbagai cara, yang paling umum adalah dalam \"pernyataan if\" dan loop.\n",
        "\n",
        "Pernyataan \"if\" ditulis dengan menggunakan kata kunci `if`.\n",
        "\n",
        "Dalam program Python, **pernyataan if** adalah cara untuk melakukan **pengambilan keputusan**. Pernyataan ini memungkinkan eksekusi kondisional terhadap suatu pernyataan atau sekumpulan pernyataan berdasarkan nilai dari sebuah ekspresi."
      ]
    },
    {
      "cell_type": "markdown",
      "metadata": {
        "id": "1anBI1Yg0aLV"
      },
      "source": [
        "### Pengenalan tentang Pernyataan if\n",
        "\n",
        "Kita akan mulai dengan melihat jenis paling dasar dari pernyataan if. Dalam bentuk yang paling sederhana, pernyataan if terlihat seperti ini:\n",
        "\n",
        "```py\n",
        "if <expr>:\n",
        "    <statement>\n",
        "```\n",
        "\n",
        "Dalam bentuk di atas:\n",
        "\n",
        "- `<expr>` adalah sebuah ekspresi yang dievaluasi dalam konteks Boolean.\n",
        "- `<statement>` adalah pernyataan Python yang valid, yang harus diindentasikan.\n",
        "\n",
        "Jika `<expr>` bernilai benar (dievaluasi menjadi nilai yang \"truthy\"), maka `<statement>` akan dijalankan. Jika `<expr>` bernilai salah, maka `<statement>` akan dilewati dan tidak dieksekusi.\n",
        "\n",
        "Perhatikan bahwa tanda titik dua `(:)` setelah `<expr>` adalah wajib. Beberapa bahasa pemrograman mengharuskan `<expr>` untuk dibungkus dalam tanda kurung, tetapi Python tidak memerlukannya."
      ]
    },
    {
      "cell_type": "code",
      "execution_count": null,
      "metadata": {
        "id": "kwGGngHl0aLX",
        "outputId": "8a49b10a-4112-4b16-e640-fd95dd384d33"
      },
      "outputs": [
        {
          "name": "stdout",
          "output_type": "stream",
          "text": [
            "yes\n",
            "yes\n",
            "yes\n"
          ]
        }
      ],
      "source": [
        "x = 0\n",
        "y = 5\n",
        "\n",
        "if x < y:                            # Truthy\n",
        "    print('yes')\n",
        "\n",
        "if y < x:                            # Falsy\n",
        "    print('yes')\n",
        "\n",
        "if x:                                # Falsy\n",
        "    print('yes')\n",
        "\n",
        "if y:                                # Truthy\n",
        "    print('yes')\n",
        "\n",
        "if 'aul' in 'grault':                # Truthy\n",
        "    print('yes')\n",
        "\n",
        "if 'quux' in ['foo', 'bar', 'baz']:  # Falsy\n",
        "    print('yes')"
      ]
    },
    {
      "cell_type": "markdown",
      "source": [
        "### Grouping Statements: Indentation & Blocks\n",
        "\n",
        "Sampai di sini, semua baik-baik saja.\n",
        "\n",
        "Tapi, bagaimana jika kamu ingin mengevaluasi sebuah kondisi dan kemudian melakukan lebih dari satu hal jika kondisinya benar?\n",
        "\n",
        "Jika cuaca cerah, saya akan:\n",
        "\n",
        "- Memotong rumput\n",
        "- menyirami kebun\n",
        "- Mengajak anjing jalan-jalan\n",
        "\n",
        "(Jika cuacanya tidak cerah, saya tidak akan melakukan salah satu dari hal-hal ini.)\n",
        "\n",
        "Pada semua contoh yang ditunjukkan di atas, setiap `if <expr>:` diikuti oleh hanya satu `<statement>`. Namun, kita perlu cara untuk mengatakan \"Jika `<expr>` benar, lakukan semua hal berikut.\"\n",
        "\n",
        "Pendekatan yang biasa digunakan oleh sebagian besar bahasa pemrograman adalah mendefinisikan perangkat sintaksis yang mengelompokkan beberapa pernyataan menjadi satu pernyataan gabungan atau blok. Sebuah blok dianggap secara sintaksis sebagai satu kesatuan. Ketika blok tersebut menjadi target dari pernyataan `if`, dan `<expr>` bernilai benar, maka semua pernyataan dalam blok tersebut akan dieksekusi. Jika `<expr>` salah, maka tidak ada satupun yang dieksekusi.\n",
        "\n",
        "Hampir semua bahasa pemrograman menyediakan kemampuan untuk mendefinisikan blok, tetapi tidak semua bahasa memerlukannya dengan cara yang sama. Mari kita lihat bagaimana Python melakukannya.\n",
        "\n",
        "**Python: It’s All About the Indentation**\n",
        "\n",
        "Python mengikuti konvensi yang dikenal dengan nama *off-side rule*, sebuah istilah yang diciptakan oleh ilmuwan komputer asal Inggris, Peter J. Landin. (Istilah ini diambil dari hukum offside dalam sepak bola.) Bahasa-bahasa yang mematuhi *off-side rule* mendefinisikan blok dengan indentasi. Python adalah salah satu bahasa yang relatif sedikit yang menggunakan *off-side rule*.\n",
        "\n",
        "Ingat kembali dari tutorial sebelumnya tentang struktur program Python, bahwa indentasi memiliki arti khusus dalam program Python. Sekarang kamu tahu mengapa: indentasi digunakan untuk mendefinisikan pernyataan gabungan atau blok. Dalam program Python, pernyataan yang berurutan dan diindentasikan pada level yang sama dianggap sebagai bagian dari blok yang sama.\n",
        "\n",
        "Jadi, sebuah pernyataan `if` gabungan dalam Python terlihat seperti ini:\n",
        "\n",
        "```py\n",
        "if <expr>:\n",
        "    <statement>\n",
        "    <statement>\n",
        "    ...\n",
        "    <statement>\n",
        "<following_statement>\n",
        "```\n",
        "\n",
        "Di sini, semua pernyataan pada level indentasi yang sama (baris 2 sampai 5) dianggap bagian dari blok yang sama. Seluruh blok akan dieksekusi jika `<expr>` bernilai benar, atau dilewati jika `<expr>` bernilai salah. Setelah itu, eksekusi akan dilanjutkan dengan `<following_statement>` (baris 6).\n",
        "\n",
        "<img src='https://files.realpython.com/media/t.78f3bacaa261.png' />\n",
        "\n",
        "Perhatikan bahwa tidak ada token yang menandakan akhir dari blok. Sebaliknya, akhir dari blok ditunjukkan oleh sebuah baris yang diindentasikan lebih sedikit daripada baris-baris dalam blok itu sendiri."
      ],
      "metadata": {
        "id": "8dTnKP5gguec"
      }
    },
    {
      "cell_type": "code",
      "execution_count": null,
      "metadata": {
        "id": "ZGS_rYRZ0aLd",
        "outputId": "c77ad5e0-3b26-4a8a-c322-ad0085495582"
      },
      "outputs": [
        {
          "name": "stdout",
          "output_type": "stream",
          "text": [
            "After conditional\n"
          ]
        }
      ],
      "source": [
        "if 'foo' in ['bar', 'baz', 'qux']:\n",
        "    print('Expression was true')\n",
        "    print('Executing statement in suite')\n",
        "    print('...')\n",
        "    print('Done.')\n",
        "\n",
        "print('After conditional')"
      ]
    },
    {
      "cell_type": "markdown",
      "metadata": {
        "id": "uzvYtj8g0aLe"
      },
      "source": [
        "Empat pernyataan `print()` di baris 2 hingga 5 diindentasikan pada level yang sama. Mereka membentuk blok yang akan dieksekusi jika kondisi bernilai benar. Namun, karena kondisi bernilai salah, maka semua pernyataan dalam blok tersebut dilewati. Setelah akhir dari pernyataan `if` gabungan tercapai (apakah pernyataan-pernyataan dalam blok pada baris 2 hingga 5 dieksekusi atau tidak), eksekusi dilanjutkan ke pernyataan pertama yang memiliki level indentasi lebih rendah: pernyataan `print()` pada baris 6.\n",
        "\n",
        "Blok-blok dapat disarang hingga kedalaman yang tak terbatas. Setiap indentasi mendefinisikan blok baru, dan setiap *outdent* mengakhiri blok sebelumnya. Struktur yang dihasilkan menjadi sederhana, konsisten, dan intuitif.\n",
        "\n",
        "Berikut adalah contoh skrip yang lebih rumit:"
      ]
    },
    {
      "cell_type": "code",
      "execution_count": null,
      "metadata": {
        "id": "7OR3OO410aLg",
        "outputId": "16e4b7ad-43d2-48b8-cda5-4be0ed59ff20"
      },
      "outputs": [
        {
          "name": "stdout",
          "output_type": "stream",
          "text": [
            "Outer condition is true\n",
            "Between inner conditions\n",
            "Inner condition 2\n",
            "End of outer condition\n",
            "After outer condition\n"
          ]
        }
      ],
      "source": [
        "# Does line execute?                        Yes    No\n",
        "#                                           ---    --\n",
        "if 'foo' in ['foo', 'bar', 'baz']:        #  x\n",
        "    print('Outer condition is true')      #  x\n",
        "\n",
        "    if 10 > 20:                           #  x\n",
        "        print('Inner condition 1')        #        x\n",
        "\n",
        "    print('Between inner conditions')     #  x\n",
        "\n",
        "    if 10 < 20:                           #  x\n",
        "        print('Inner condition 2')        #  x\n",
        "\n",
        "    print('End of outer condition')       #  x\n",
        "print('After outer condition')            #  x"
      ]
    },
    {
      "cell_type": "markdown",
      "metadata": {
        "id": "DD0zhL-f0aLi"
      },
      "source": [
        "### Klausa else dan elif\n",
        "\n",
        "Sekarang kamu tahu bagaimana menggunakan pernyataan `if` untuk mengeksekusi kondisional dari satu pernyataan atau blok pernyataan. Waktunya untuk mengetahui apa lagi yang bisa kamu lakukan.\n",
        "\n",
        "Terkadang, kamu ingin mengevaluasi suatu kondisi dan mengambil satu jalur jika kondisi tersebut benar, tetapi menentukan jalur alternatif jika kondisi tersebut salah. Ini bisa dilakukan dengan klausa `else`:\n",
        "\n",
        "```py\n",
        "if <expr>:\n",
        "    <statement(s)>\n",
        "else:\n",
        "    <statement(s)>\n",
        "```\n",
        "\n",
        "Jika `<expr>` bernilai benar, suite pertama akan dieksekusi, dan suite kedua akan dilewati. Jika `<expr>` bernilai salah, suite pertama akan dilewati dan suite kedua yang akan dieksekusi. Baik itu benar atau salah, eksekusi akan dilanjutkan setelah suite kedua. Kedua suite tersebut didefinisikan dengan indentasi, seperti yang dijelaskan sebelumnya.\n",
        "\n",
        "Dalam contoh ini, `x` lebih kecil dari 50, jadi suite pertama (baris 4 hingga 5) akan dieksekusi, dan suite kedua (baris 7 hingga 8) dilewati:"
      ]
    },
    {
      "cell_type": "code",
      "execution_count": null,
      "metadata": {
        "colab": {
          "base_uri": "https://localhost:8080/"
        },
        "id": "hzxMWiaJ0aLj",
        "outputId": "dbb84774-082f-44dc-bb63-39ac75802e84"
      },
      "outputs": [
        {
          "name": "stdout",
          "output_type": "stream",
          "text": [
            "(first suite)\n",
            "x is small\n"
          ]
        }
      ],
      "source": [
        "x = 20\n",
        "\n",
        "if x < 50:\n",
        "    print('(first suite)')\n",
        "    print('x is small')\n",
        "else:\n",
        "    print('(second suite)')\n",
        "    print('x is large')"
      ]
    },
    {
      "cell_type": "markdown",
      "metadata": {
        "id": "6F6duhif0aLl"
      },
      "source": [
        "Di sisi lain, contoh dibawah ini `x` lebih besar dari 50, jadi suite pertama dilewati, dan suite kedua yang dieksekusi:\n"
      ]
    },
    {
      "cell_type": "code",
      "execution_count": null,
      "metadata": {
        "id": "GykvTnTH0aLl",
        "outputId": "2de146e8-ea6e-4792-a6ae-5e2e2afbc214"
      },
      "outputs": [
        {
          "name": "stdout",
          "output_type": "stream",
          "text": [
            "(second suite)\n",
            "x is large\n"
          ]
        }
      ],
      "source": [
        "x = 120\n",
        "\n",
        "if x < 50:\n",
        "    print('(first suite)')\n",
        "    print('x is small')\n",
        "else:\n",
        "    print('(second suite)')\n",
        "    print('x is large')"
      ]
    },
    {
      "cell_type": "code",
      "execution_count": null,
      "metadata": {
        "id": "g-UWru310aLm",
        "outputId": "2f4e89a8-1067-401d-e715-cc2728236ea0"
      },
      "outputs": [
        {
          "name": "stdout",
          "output_type": "stream",
          "text": [
            "uang tidak cukup\n"
          ]
        }
      ],
      "source": [
        "hargaBuku = 20000\n",
        "hargaMajalah = 5000\n",
        "uang = 2000\n",
        "\n",
        "if uang > hargaBuku:\n",
        "    print(\"beli buku\")\n",
        "else:\n",
        "    print(\"uang tidak cukup\")"
      ]
    },
    {
      "cell_type": "markdown",
      "metadata": {
        "id": "Tev8x74p0aLn"
      },
      "source": [
        "Terdapat juga sintaksis untuk melakukan eksekusi percabangan berdasarkan beberapa alternatif. Untuk ini, gunakan satu atau lebih klausa `elif` (singkatan dari \"else if\"). Python akan mengevaluasi setiap `<expr>` secara berurutan dan mengeksekusi blok yang sesuai dengan ekspresi yang pertama kali bernilai **True**. Jika tidak ada ekspresi yang bernilai **True**, dan ada klausa `else` yang ditentukan, maka blok `else` akan dieksekusi:\n",
        "\n",
        "```python\n",
        "if <expr>:\n",
        "    <statement(s)>\n",
        "elif <expr>:\n",
        "    <statement(s)>\n",
        "elif <expr>:\n",
        "    <statement(s)>\n",
        "    ...\n",
        "else:\n",
        "    <statement(s)>\n",
        "```\n",
        "\n",
        "Anda dapat menentukan sejumlah klausa `elif` sesuai kebutuhan. Klausa `else` adalah opsional. Jika ada, hanya boleh ada satu klausa `else`, dan klausa ini harus ditempatkan terakhir."
      ]
    },
    {
      "cell_type": "code",
      "execution_count": null,
      "metadata": {
        "id": "XjbF2pyO0aLo",
        "outputId": "39e5fe94-a686-4ab3-8f2c-2725fed3478f"
      },
      "outputs": [
        {
          "name": "stdout",
          "output_type": "stream",
          "text": [
            "uang tidak cukup\n"
          ]
        }
      ],
      "source": [
        "hargaBuku = 20000\n",
        "hargaMajalah = 5000\n",
        "uang = 2000\n",
        "\n",
        "if uang > hargaBuku:\n",
        "    print(\"beli buku\")\n",
        "elif uang > hargaMajalah:\n",
        "    print(\"beli majalah\")\n",
        "else:\n",
        "    print(\"uang tidak cukup\")"
      ]
    },
    {
      "cell_type": "code",
      "execution_count": null,
      "metadata": {
        "id": "tHEHSZsv0aLp",
        "outputId": "e4e9083e-f7f2-4902-f129-39d792e4ef33",
        "colab": {
          "base_uri": "https://localhost:8080/"
        }
      },
      "outputs": [
        {
          "output_type": "stream",
          "name": "stdout",
          "text": [
            "Hello Hacktiv8\n"
          ]
        }
      ],
      "source": [
        "name = 'Hacktiv8'\n",
        "if name == 'Fred':\n",
        "    print('Hello Fred')\n",
        "elif name == 'Xander':\n",
        "    print('Hello Xander')\n",
        "elif name == 'Hacktiv8':\n",
        "    print('Hello Hacktiv8')\n",
        "elif name == 'Arnold':\n",
        "    print('Hello Arnold')\n",
        "else:\n",
        "    print(\"I don't know who you are!\")"
      ]
    },
    {
      "cell_type": "markdown",
      "metadata": {
        "id": "Cn4TpW6v0aLq"
      },
      "source": [
        "Pada contoh tersebut, hanya satu dari blok kode yang ditentukan yang akan dieksekusi. Jika klausa `else` tidak disertakan, dan semua kondisi bernilai **false**, maka tidak ada blok yang akan dieksekusi."
      ]
    },
    {
      "cell_type": "markdown",
      "metadata": {
        "id": "aEqx1xc_0aLs"
      },
      "source": [
        "### One-Line if Statements\n",
        "\n",
        "Biasanya, kita menulis `if <expr>` di satu baris dan `<statement>` dengan indentasi di baris berikutnya seperti ini:\n",
        "\n",
        "```py\n",
        "if <expr>:\n",
        "    <statement>\n",
        "```\n",
        "\n",
        "Namun, diperbolehkan untuk menulis seluruh pernyataan `if` dalam satu baris. Berikut ini setara secara fungsional dengan contoh di atas:\n",
        "\n",
        "`if <expr>: <statement>`\n",
        "\n",
        "Bahkan, bisa ada lebih dari satu `<statement>` dalam satu baris, yang dipisahkan oleh titik koma:\n",
        "\n",
        "`if <expr>: <statement_1>; <statement_2>; ...; <statement_n>`\n",
        "\n",
        "Namun, apa artinya ini? Ada dua interpretasi yang mungkin:\n",
        "\n",
        "1. Jika `<expr>` benar, eksekusi `<statement_1>`.\n",
        "   \n",
        "   Kemudian, eksekusi `<statement_2> ... <statement_n>` tanpa syarat, terlepas dari apakah `<expr>` benar atau tidak.\n",
        "\n",
        "2. Jika `<expr>` benar, eksekusi semua dari `<statement_1>` ... `<statement_n>`. Jika tidak, jangan eksekusi satu pun dari mereka.\n",
        "\n",
        "Python mengambil interpretasi yang kedua. Titik koma yang memisahkan `<statements>` memiliki prioritas lebih tinggi daripada titik dua setelah `<expr>`—dalam bahasa komputer, titik koma dianggap lebih mengikat daripada titik dua. Oleh karena itu, `<statements>` diperlakukan sebagai satu suite, dan semua pernyataan tersebut dieksekusi, atau tidak ada yang dieksekusi."
      ]
    },
    {
      "cell_type": "code",
      "execution_count": null,
      "metadata": {
        "id": "w8-OIop60aLt",
        "outputId": "4183afbe-b725-47bf-e57d-a3830c5d43de"
      },
      "outputs": [
        {
          "name": "stdout",
          "output_type": "stream",
          "text": [
            "1\n",
            "2\n",
            "3\n"
          ]
        }
      ],
      "source": [
        "if 'f' in 'foo': print('1'); print('2'); print('3')"
      ]
    },
    {
      "cell_type": "code",
      "execution_count": null,
      "metadata": {
        "id": "2HCYOkzk0aLv"
      },
      "outputs": [],
      "source": [
        "if 'z' in 'foo': print('1'); print('2'); print('3')"
      ]
    },
    {
      "cell_type": "markdown",
      "metadata": {
        "id": "sqswpa1F0aLw"
      },
      "source": [
        "Beberapa pernyataan juga dapat ditulis dalam satu baris pada klausa `elif` atau `else`, seperti berikut:"
      ]
    },
    {
      "cell_type": "code",
      "execution_count": null,
      "metadata": {
        "id": "0tJfnAdK0aLx",
        "outputId": "d77fed38-3ddc-4fd9-e0b8-1f9c81803efe"
      },
      "outputs": [
        {
          "name": "stdout",
          "output_type": "stream",
          "text": [
            "qux\n",
            "quux\n"
          ]
        }
      ],
      "source": [
        "x = 2\n",
        "\n",
        "if x == 1: print('foo'); print('bar'); print('baz')\n",
        "elif x == 2: print('qux'); print('quux')\n",
        "else: print('corge'); print('grault')"
      ]
    },
    {
      "cell_type": "code",
      "execution_count": null,
      "metadata": {
        "id": "cRfKDi8K0aLy",
        "outputId": "0d030d5c-fcff-491f-e1d0-ca6b8d95f1cb"
      },
      "outputs": [
        {
          "name": "stdout",
          "output_type": "stream",
          "text": [
            "corge\n",
            "grault\n"
          ]
        }
      ],
      "source": [
        "x = 3\n",
        "if x == 1: print('foo'); print('bar'); print('baz')\n",
        "elif x == 2: print('qux'); print('quux')\n",
        "else: print('corge'); print('grault')"
      ]
    },
    {
      "cell_type": "markdown",
      "metadata": {
        "id": "-0kWa8nh0aLz"
      },
      "source": [
        "Meskipun semua ini berfungsi dan interpreter mengizinkannya, secara umum hal ini tidak dianjurkan karena dapat mengurangi keterbacaan, terutama untuk pernyataan `if` yang kompleks. PEP 8 secara khusus merekomendasikan untuk menghindarinya.\n",
        "\n",
        "Seperti biasa, ini sedikit bergantung pada selera. Kebanyakan orang akan merasa bahwa contoh berikut ini lebih menarik secara visual dan lebih mudah dipahami sekilas dibandingkan dengan contoh di atas:"
      ]
    },
    {
      "cell_type": "code",
      "execution_count": null,
      "metadata": {
        "id": "7b2ddTsX0aL0",
        "outputId": "89cc8def-855b-4783-ca33-332f7f35eda8"
      },
      "outputs": [
        {
          "name": "stdout",
          "output_type": "stream",
          "text": [
            "corge\n",
            "grault\n"
          ]
        }
      ],
      "source": [
        "x = 3\n",
        "if x == 1:\n",
        "    print('foo')\n",
        "    print('bar')\n",
        "    print('baz')\n",
        "elif x == 2:\n",
        "    print('qux')\n",
        "    print('quux')\n",
        "else:\n",
        "    print('corge')\n",
        "    print('grault')"
      ]
    },
    {
      "cell_type": "markdown",
      "metadata": {
        "id": "qB9bN0UH0aL1"
      },
      "source": [
        "### Conditional Expressions (Python’s Ternary Operator)\n",
        "\n",
        "Python mendukung satu entitas pengambilan keputusan tambahan yang disebut ekspresi kondisional. (Ini juga disebut sebagai operator kondisional atau operator ternary di berbagai tempat dalam dokumentasi Python.) Ekspresi kondisional diusulkan untuk ditambahkan ke bahasa ini dalam PEP 308 dan disetujui oleh Guido pada tahun 2005.\n",
        "\n",
        "Dalam bentuk yang paling sederhana, sintaks dari ekspresi kondisional adalah sebagai berikut:\n",
        "\n",
        "`<expr1> if <conditional_expr> else <expr2>`\n",
        "\n",
        "Ini berbeda dari bentuk pernyataan `if` yang disebutkan sebelumnya karena ini bukanlah struktur kontrol yang mengarahkan alur eksekusi program. Ini lebih berfungsi seperti operator yang mendefinisikan suatu ekspresi. Dalam contoh di atas, `<conditional_expr>` dievaluasi terlebih dahulu. Jika ekspresi tersebut bernilai benar (true), maka ekspresi tersebut akan menghasilkan `<expr1>`. Jika ekspresi tersebut bernilai salah (false), maka ekspresi tersebut akan menghasilkan `<expr2>`.\n",
        "\n",
        "Perhatikan urutan yang tidak langsung: ekspresi di tengah dievaluasi terlebih dahulu, dan berdasarkan hasil tersebut, salah satu ekspresi di ujung yang akan dikembalikan. Berikut adalah beberapa contoh yang diharapkan dapat membantu menjelaskan:"
      ]
    },
    {
      "cell_type": "code",
      "execution_count": null,
      "metadata": {
        "id": "HzxSicZW0aL2",
        "outputId": "c6c97f90-bef3-4eb2-cdcc-36c15b58c04f"
      },
      "outputs": [
        {
          "name": "stdout",
          "output_type": "stream",
          "text": [
            "Let's go to the beach\n"
          ]
        }
      ],
      "source": [
        "raining = False\n",
        "print(\"Let's go to the\", 'beach' if not raining else 'library')"
      ]
    },
    {
      "cell_type": "code",
      "execution_count": null,
      "metadata": {
        "id": "y68-CLyB0aL3",
        "outputId": "59b47c47-2a34-4cf4-e2d9-ddab790794d0"
      },
      "outputs": [
        {
          "name": "stdout",
          "output_type": "stream",
          "text": [
            "Let's go to the library\n"
          ]
        }
      ],
      "source": [
        "raining = True\n",
        "print(\"Let's go to the\", 'beach' if not raining else 'library')"
      ]
    },
    {
      "cell_type": "code",
      "execution_count": null,
      "metadata": {
        "id": "KFMA8X2I0aL4",
        "outputId": "9f167ac0-10ce-453b-be2f-6237e5f352f9"
      },
      "outputs": [
        {
          "data": {
            "text/plain": [
              "'teen'"
            ]
          },
          "execution_count": 17,
          "metadata": {
            "tags": []
          },
          "output_type": "execute_result"
        }
      ],
      "source": [
        "age = 12\n",
        "s = 'teen' if age < 21 else 'adult'\n",
        "s"
      ]
    },
    {
      "cell_type": "code",
      "execution_count": null,
      "metadata": {
        "id": "Ke61oTpg0aL6",
        "outputId": "f9b38eaa-10ce-46d3-8da1-e704db4f6dc6"
      },
      "outputs": [
        {
          "data": {
            "text/plain": [
              "'no'"
            ]
          },
          "execution_count": 18,
          "metadata": {
            "tags": []
          },
          "output_type": "execute_result"
        }
      ],
      "source": [
        "'yes' if ('qux' in ['foo', 'bar', 'baz']) else 'no'"
      ]
    },
    {
      "cell_type": "markdown",
      "metadata": {
        "id": "hTIfxkjc0aL7"
      },
      "source": [
        "Anda bisa menggunakan pernyataan `if` standar dengan klausa `else` seperti ini:\n",
        "\n",
        "```py\n",
        "if a > b:\n",
        "    m = a\n",
        "else:\n",
        "    m = b\n",
        "```\n",
        "\n",
        "Namun, ekspresi kondisional lebih ringkas dan bisa dibilang lebih mudah dibaca juga:\n",
        "\n",
        "`m = a if a > b else b`\n",
        "\n",
        "Ingat bahwa ekspresi kondisional berperilaku seperti ekspresi secara sintaksis. Ekspresi ini bisa digunakan sebagai bagian dari ekspresi yang lebih panjang. Ekspresi kondisional memiliki prioritas yang lebih rendah dibandingkan hampir semua operator lainnya, jadi tanda kurung diperlukan untuk mengelompokkannya secara terpisah."
      ]
    },
    {
      "cell_type": "markdown",
      "metadata": {
        "id": "iKtjc8z_0aL8"
      },
      "source": [
        "Dalam ekspresi `<expr1> if <conditional_expr> else <expr2>`:\n",
        "\n",
        "- **Jika `<conditional_expr>` bernilai benar**, maka `<expr1>` yang akan dikembalikan dan `<expr2>` **tidak akan dievaluasi**.\n",
        "- **Jika `<conditional_expr>` bernilai salah**, maka `<expr2>` yang akan dikembalikan dan `<expr1>` **tidak akan dievaluasi**.\n",
        "\n",
        "Ini menjelaskan mengapa operator ternary ini sering disebut sebagai *short-circuit evaluation*, di mana hanya satu ekspresi yang dievaluasi berdasarkan hasil dari kondisi yang diberikan."
      ]
    },
    {
      "cell_type": "markdown",
      "metadata": {
        "id": "R6c9zZE10aL8"
      },
      "source": [
        "### Pernyataan `pass` pada Python\n",
        "\n",
        "Terkadang, Anda mungkin ingin menulis apa yang disebut dengan code stub: sebuah penanda tempat (placeholder) untuk bagian kode yang akan Anda implementasikan nanti.\n",
        "\n",
        "Misalnya, Anda sedang menulis struktur program tetapi belum siap untuk mengisi suatu bagian dari kode tersebut. Dalam kasus seperti ini, Python menyediakan pernyataan `pass` untuk menghindari kesalahan sintaksis dan memungkinkan program tetap berjalan tanpa perlu menyelesaikan implementasi kode tersebut."
      ]
    },
    {
      "cell_type": "markdown",
      "metadata": {
        "id": "SRgByiF90aL9"
      },
      "source": [
        "Pertimbangkan skrip berikut, `foo.py`:\n",
        "\n",
        "```py\n",
        "if True:\n",
        "\n",
        "print('foo')\n",
        "```\n",
        "\n",
        "Jika Anda mencoba menjalankan `foo.py`, Anda akan mendapatkan kesalahan berikut:\n",
        "\n",
        "```py\n",
        "  File \"foo.py\", line 3\n",
        "    print('foo')\n",
        "        ^\n",
        "IndentationError: expected an indented block\n",
        "```\n",
        "\n",
        "Pernyataan `pass` di Python menyelesaikan masalah ini. Pernyataan ini tidak mengubah perilaku program sama sekali. `pass` digunakan sebagai penanda tempat untuk menjaga interpreter tetap berjalan dalam situasi di mana sebuah pernyataan secara sintaksis diperlukan, tetapi Anda tidak ingin melakukan apa-apa:\n",
        "\n",
        "```py\n",
        "if True:\n",
        "    pass\n",
        "\n",
        "print('foo')\n",
        "```\n",
        "\n",
        "Sekarang file ini dapat dijalankan tanpa kesalahan.\n",
        "____"
      ]
    },
    {
      "cell_type": "code",
      "execution_count": null,
      "metadata": {
        "id": "Cx7couN50aL-",
        "outputId": "dda5c0ab-7ff4-4b8e-e5d5-fb6bf2ee3599"
      },
      "outputs": [
        {
          "name": "stdout",
          "output_type": "stream",
          "text": [
            "foo\n"
          ]
        }
      ],
      "source": [
        "if True:\n",
        "    pass\n",
        "print('foo')"
      ]
    },
    {
      "cell_type": "markdown",
      "metadata": {
        "id": "fzUAwrC3xOC9"
      },
      "source": [
        "# Iteration\n",
        "\n",
        "**Iterasi (iteration)** berarti menjalankan blok kode yang sama berulang kali, mungkin berkali-kali. Struktur pemrograman yang mengimplementasikan iterasi disebut **loop** (perulangan).\n",
        "\n",
        "Dalam pemrograman, ada dua jenis iterasi, yaitu **iterasi tak terbatas** dan **iterasi terbatas**:\n",
        "\n",
        "- Dengan **iterasi tak terbatas (indefinite iteration)**, jumlah berapa kali loop dijalankan tidak ditentukan secara eksplisit sebelumnya. Sebaliknya, blok yang ditentukan akan dijalankan berulang kali selama kondisi tertentu dipenuhi.\n",
        "- Dengan **iterasi terbatas (definite iteration)**, jumlah berapa kali blok yang ditentukan akan dijalankan ditentukan secara eksplisit pada saat loop dimulai."
      ]
    },
    {
      "cell_type": "markdown",
      "metadata": {
        "id": "xSJMXW6UxOC-"
      },
      "source": [
        "## Python \"while\" Loops"
      ]
    },
    {
      "cell_type": "markdown",
      "metadata": {
        "id": "CvBie-XTxOC_"
      },
      "source": [
        "Mari kita lihat bagaimana pernyataan `while` di Python digunakan untuk membuat loop. Kita akan mulai dengan yang sederhana dan menambahkannya secara bertahap.\n",
        "\n",
        "Format dasar untuk loop `while` adalah sebagai berikut:\n",
        "\n",
        "```py\n",
        "while <expr>:\n",
        "    <statement(s)>\n",
        "```\n",
        "\n",
        "`<statement(s)>` mewakili blok yang akan dijalankan berulang kali, sering disebut sebagai **body** dari loop. Ini ditandai dengan indentasi, sama seperti pada pernyataan `if`.\n",
        "\n",
        "Ekspresi pengendali, `<expr>`, biasanya melibatkan satu atau lebih variabel yang diinisialisasi sebelum loop dimulai dan kemudian dimodifikasi di dalam tubuh loop.\n",
        "\n",
        "Ketika sebuah loop `while` dijumpai, `<expr>` pertama kali dievaluasi dalam konteks Boolean. Jika ekspresi ini bernilai benar, tubuh loop akan dijalankan. Kemudian `<expr>` diperiksa kembali, dan jika masih benar, tubuh loop dijalankan lagi. Ini berlanjut hingga `<expr>` bernilai salah, pada titik ini eksekusi program dilanjutkan ke pernyataan pertama setelah tubuh loop.\n",
        "\n",
        "Pertimbangkan contoh loop berikut:"
      ]
    },
    {
      "cell_type": "code",
      "execution_count": null,
      "metadata": {
        "id": "knssqIjqxODA",
        "outputId": "e3cf39bb-147d-412b-8fa2-9cdbd95758c7"
      },
      "outputs": [
        {
          "name": "stdout",
          "output_type": "stream",
          "text": [
            "4\n",
            "3\n",
            "2\n",
            "1\n",
            "0\n"
          ]
        }
      ],
      "source": [
        "n = 5\n",
        "while n > 0:\n",
        "    n -= 1\n",
        "    print(n)"
      ]
    },
    {
      "cell_type": "code",
      "execution_count": null,
      "metadata": {
        "id": "shmioWUJxODC",
        "outputId": "e9bcc72f-4db7-484a-db73-1e5b8fd96d82"
      },
      "outputs": [
        {
          "name": "stdout",
          "output_type": "stream",
          "text": [
            "1\n",
            "2\n",
            "3\n",
            "4\n",
            "5\n"
          ]
        }
      ],
      "source": [
        "i = 1\n",
        "while i < 6:\n",
        "  print(i)\n",
        "  i += 1"
      ]
    },
    {
      "cell_type": "markdown",
      "metadata": {
        "id": "hwaHbRXoxODC"
      },
      "source": [
        "Berikut penjelasan tentang apa yang terjadi dalam contoh ini:\n",
        "\n",
        "- **n** awalnya bernilai 5. Ekspresi pada header pernyataan `while` di baris 2 adalah `n > 0`, yang bernilai **true**, sehingga tubuh loop dijalankan. Di dalam tubuh loop pada baris 3, **n** dikurangi 1 menjadi 4, dan kemudian dicetak.\n",
        "\n",
        "- Setelah tubuh loop selesai dijalankan, eksekusi program kembali ke atas loop di baris 2, dan ekspresi tersebut dievaluasi lagi. Ekspresi masih bernilai **true**, jadi tubuh loop dijalankan lagi, dan 3 dicetak.\n",
        "\n",
        "- Proses ini terus berlanjut hingga **n** menjadi 0. Pada titik ini, ketika ekspresi diuji, nilai ekspresi menjadi **false**, dan loop dihentikan. Eksekusi akan dilanjutkan pada pernyataan pertama setelah tubuh loop, tetapi dalam kasus ini tidak ada pernyataan setelah loop tersebut."
      ]
    },
    {
      "cell_type": "markdown",
      "metadata": {
        "id": "pTtOwv3-xODD"
      },
      "source": [
        "### Pernyataan `break` dan `continue` di Python\n",
        "\n",
        "Dalam setiap contoh yang telah Anda lihat sejauh ini, seluruh tubuh loop `while` dieksekusi pada setiap iterasi. Python menyediakan dua kata kunci yang menghentikan iterasi loop secara prematur:\n",
        "\n",
        "- Pernyataan **`break`** di Python segera menghentikan seluruh loop. Eksekusi program dilanjutkan ke pernyataan pertama setelah tubuh loop.\n",
        "  \n",
        "- Pernyataan **`continue`** di Python segera menghentikan iterasi loop saat ini. Eksekusi melompat ke bagian atas loop, dan ekspresi kontrol dievaluasi ulang untuk menentukan apakah loop akan dijalankan lagi atau dihentikan.\n",
        "\n",
        "Perbedaan antara **`break`** dan **`continue`** dapat dilihat pada diagram berikut:\n",
        "\n",
        "<img src='https://files.realpython.com/media/t.899f357dd948.png' />"
      ]
    },
    {
      "cell_type": "code",
      "execution_count": null,
      "metadata": {
        "id": "iaf3gbd0xODD",
        "outputId": "0a64c091-a753-4bd8-b699-db89c3e3e112"
      },
      "outputs": [
        {
          "name": "stdout",
          "output_type": "stream",
          "text": [
            "4\n",
            "3\n",
            "Loop ended.\n"
          ]
        }
      ],
      "source": [
        "n = 5\n",
        "while n > 0:\n",
        "    n -= 1\n",
        "    if n == 2:\n",
        "        break # Break Statement\n",
        "    print(n)\n",
        "print('Loop ended.')"
      ]
    },
    {
      "cell_type": "markdown",
      "metadata": {
        "id": "3u1B1xZhxODE"
      },
      "source": [
        "Saat nilai `n` menjadi 2, pernyataan `break` dieksekusi. Loop dihentikan sepenuhnya, dan eksekusi program melompat ke pernyataan `print()` di baris 7.\n",
        "\n",
        "Skrip berikutnya, menggunakan `continue`, identik dengan yang sebelumnya, kecuali pernyataan `continue` menggantikan `break`:"
      ]
    },
    {
      "cell_type": "code",
      "execution_count": null,
      "metadata": {
        "id": "TfPWsYQ7xODE",
        "outputId": "bade4be8-3293-4998-d691-ee7ca811371b"
      },
      "outputs": [
        {
          "name": "stdout",
          "output_type": "stream",
          "text": [
            "4\n",
            "3\n",
            "1\n",
            "0\n",
            "Loop ended.\n"
          ]
        }
      ],
      "source": [
        "n = 5\n",
        "while n > 0:\n",
        "    n -= 1\n",
        "    if n == 2:\n",
        "        continue\n",
        "    print(n)\n",
        "print('Loop ended.')"
      ]
    },
    {
      "cell_type": "markdown",
      "metadata": {
        "id": "O_8bQAkTxODF"
      },
      "source": [
        "Kali ini, ketika nilai `n` menjadi 2, pernyataan `continue` menyebabkan iterasi tersebut dihentikan. Jadi, nilai 2 tidak dicetak. Eksekusi kembali ke bagian atas loop, kondisi dievaluasi ulang, dan masih bernilai benar. Loop dilanjutkan, dan berhenti ketika nilai `n` menjadi 0, seperti sebelumnya."
      ]
    },
    {
      "cell_type": "markdown",
      "metadata": {
        "id": "bcD1hAbqxODF"
      },
      "source": [
        "### Klausa else\n",
        "\n",
        "Python memungkinkan adanya klausa `else` yang bersifat opsional di akhir sebuah loop `while`. Ini adalah fitur unik Python yang tidak ditemukan di sebagian besar bahasa pemrograman lainnya. Sintaksnya ditunjukkan di bawah ini:\n",
        "\n",
        "```py\n",
        "while <expr>:\n",
        "    <statement(s)>\n",
        "else:\n",
        "    <additional_statement(s)>\n",
        "```\n",
        "\n",
        "Pernyataan `<additional_statement(s)>` yang ditentukan dalam klausa `else` akan dieksekusi ketika loop `while` berakhir."
      ]
    },
    {
      "cell_type": "code",
      "execution_count": null,
      "metadata": {
        "id": "k6f3md0_xODF",
        "outputId": "4e56bddd-fd65-4450-87b9-2cb81335a8b5"
      },
      "outputs": [
        {
          "name": "stdout",
          "output_type": "stream",
          "text": [
            "4\n",
            "3\n",
            "2\n",
            "1\n",
            "0\n",
            "Loop done.\n"
          ]
        }
      ],
      "source": [
        "n = 5\n",
        "while n > 0:\n",
        "    n -= 1\n",
        "    print(n)\n",
        "else:\n",
        "    print('Loop done.')"
      ]
    },
    {
      "cell_type": "markdown",
      "metadata": {
        "id": "yFfkYDkvxODG"
      },
      "source": [
        "Dalam kasus ini, loop diulang hingga kondisinya habis: n menjadi 0, sehingga n > 0 menjadi false. Karena loop berjalan hingga selesai secara alami, klausa `else` dieksekusi. Sekarang perhatikan perbedaannya di sini:"
      ]
    },
    {
      "cell_type": "code",
      "execution_count": null,
      "metadata": {
        "id": "L8wGpGPJxODG",
        "outputId": "8314b286-a7f1-475d-c71a-d3749db3d023"
      },
      "outputs": [
        {
          "name": "stdout",
          "output_type": "stream",
          "text": [
            "4\n",
            "3\n",
            "2\n"
          ]
        }
      ],
      "source": [
        "n = 5\n",
        "while n > 0:\n",
        "    n -= 1\n",
        "    print(n)\n",
        "    if n == 2:\n",
        "        break\n",
        "else:\n",
        "    print('Loop done.')"
      ]
    },
    {
      "cell_type": "markdown",
      "metadata": {
        "id": "DS4X_TmuxODH"
      },
      "source": [
        "Loop ini dihentikan secara prematur dengan `break`, jadi klausa `else` tidak dieksekusi."
      ]
    },
    {
      "cell_type": "markdown",
      "metadata": {
        "id": "Yj2mWsi8xODH"
      },
      "source": [
        "### Infinite Loops\n",
        "\n",
        "Misalkan Anda menulis loop `while` yang secara teoritis tidak pernah berakhir. Kedengarannya aneh, kan?\n",
        "\n",
        "Perhatikan contoh ini:\n",
        "\n",
        "```py\n",
        "while True:\n",
        "    print('foo')\n",
        "```\n",
        "\n",
        "Loop di atas akan terus mencetak `'foo'` tanpa henti karena kondisi `True` selalu bernilai benar. Ini akan menjadi **infinite loop** (loop tak terhingga) yang hanya bisa dihentikan dengan interupsi eksternal, seperti menghentikan program secara manual.\n",
        "\n",
        "Biasanya, infinite loop digunakan dalam situasi di mana kita ingin program berjalan terus-menerus, seperti menunggu input pengguna atau memonitor sebuah sistem, hingga kondisi tertentu terpenuhi (misalnya dengan menggunakan `break` di dalam loop)."
      ]
    },
    {
      "cell_type": "markdown",
      "metadata": {
        "id": "n6p3Bh6bxODH"
      },
      "source": [
        "### Loop `while` Bersarang (Nested while Loops)\n",
        "\n",
        "Secara umum, struktur kontrol di Python dapat disarangkan (nested) satu sama lain. Misalnya, pernyataan kondisional `if/elif/else` dapat disarangkan:\n",
        "\n",
        "```py\n",
        "if age < 18:\n",
        "    if gender == 'M':\n",
        "        print('son')\n",
        "    else:\n",
        "        print('daughter')\n",
        "elif age >= 18 and age < 65:\n",
        "    if gender == 'M':\n",
        "        print('father')\n",
        "    else:\n",
        "        print('mother')\n",
        "else:\n",
        "    if gender == 'M':\n",
        "        print('grandfather')\n",
        "    else:\n",
        "        print('grandmother')\n",
        "```\n",
        "\n",
        "Dengan cara yang sama, sebuah loop `while` dapat disarangkan di dalam loop `while` lainnya, seperti yang ditunjukkan di sini:"
      ]
    },
    {
      "cell_type": "code",
      "execution_count": null,
      "metadata": {
        "id": "Pln8Q0SfxODI",
        "outputId": "d74d73da-4a79-4b2d-89a5-9cac22339355"
      },
      "outputs": [
        {
          "name": "stdout",
          "output_type": "stream",
          "text": [
            "foo\n",
            "> baz\n",
            "> qux\n",
            "bar\n",
            "> baz\n",
            "> qux\n"
          ]
        }
      ],
      "source": [
        "a = ['foo', 'bar']\n",
        "\n",
        "while len(a):\n",
        "    print(a.pop(0))\n",
        "\n",
        "    b = ['baz', 'qux']\n",
        "\n",
        "    while len(b):\n",
        "        print('>', b.pop(0))"
      ]
    },
    {
      "cell_type": "markdown",
      "metadata": {
        "id": "zdMXl9kDxODI"
      },
      "source": [
        "Pernyataan `break` atau `continue` yang ditemukan dalam loop bersarang akan diterapkan pada loop yang paling dekat di sekitarnya:\n",
        "\n",
        "```py\n",
        "while <expr1>:\n",
        "    statement\n",
        "    statement\n",
        "\n",
        "    while <expr2>:\n",
        "        statement\n",
        "        statement\n",
        "        break  # Menerapkan pada loop while <expr2>:\n",
        "\n",
        "    break  # Menerapkan pada loop while <expr1>:\n",
        "```\n",
        "\n",
        "Selain itu, loop `while` dapat disarangkan di dalam pernyataan `if/elif/else`, dan sebaliknya:\n",
        "\n",
        "```py\n",
        "if <expr>:\n",
        "    statement\n",
        "    while <expr>:\n",
        "        statement\n",
        "        statement\n",
        "else:\n",
        "    while <expr>:\n",
        "        statement\n",
        "        statement\n",
        "    statement\n",
        "\n",
        "while <expr>:\n",
        "    if <expr>:\n",
        "        statement\n",
        "    elif <expr>:\n",
        "        statement\n",
        "    else:\n",
        "        statement\n",
        "\n",
        "    if <expr>:\n",
        "        statement\n",
        "```"
      ]
    },
    {
      "cell_type": "markdown",
      "metadata": {
        "id": "q1Q-T5gbxODI"
      },
      "source": [
        "### One-Line while Loops\n",
        "\n",
        "Seperti halnya pernyataan `if`, sebuah loop `while` juga bisa ditulis dalam satu baris. Jika ada beberapa pernyataan dalam blok yang membentuk tubuh loop, mereka bisa dipisahkan dengan titik koma (`;`):\n",
        "\n",
        "```py\n",
        "while <expr>: <statement1>; <statement2>; <statement3>\n",
        "```\n",
        "\n",
        "Contoh:\n",
        "\n",
        "```py\n",
        "n = 5\n",
        "while n > 0: print(n); n -= 1\n",
        "```\n",
        "\n",
        "Pada contoh di atas, pernyataan `print(n)` dan `n -= 1` dijalankan dalam satu iterasi loop, dipisahkan oleh titik koma. Meskipun ini memungkinkan, biasanya ini tidak dianjurkan untuk meningkatkan keterbacaan kode.\n"
      ]
    },
    {
      "cell_type": "markdown",
      "source": [
        "_____\n",
        "\n",
        "##  A Survey of Definite Iteration in Programming\n",
        "\n",
        "Loop iterasi tertentu (definite iteration) sering disebut sebagai loop *for* karena `for` adalah kata kunci yang digunakan untuk memperkenalkan loop jenis ini di hampir semua bahasa pemrograman, termasuk Python.\n",
        "\n",
        "Secara historis, bahasa pemrograman menawarkan beberapa variasi dari loop `for`. Ini dijelaskan secara singkat di bagian berikut.\n",
        "\n",
        "### **Loop Rentang Numerik**\n",
        "\n",
        "Loop `for` yang paling dasar adalah pernyataan rentang numerik sederhana dengan nilai mulai dan nilai akhir. Format pastinya bervariasi tergantung pada bahasa, tetapi biasanya terlihat seperti ini:\n",
        "\n",
        "```py\n",
        "for i = 1 to 10\n",
        "    <body loop>\n",
        "```\n",
        "\n",
        "Di sini, tubuh loop dieksekusi sepuluh kali. Variabel `i` mengambil nilai 1 pada iterasi pertama, 2 pada iterasi kedua, dan seterusnya. Jenis loop `for` ini digunakan dalam bahasa seperti BASIC, Algol, dan Pascal.\n",
        "\n",
        "### **Loop Tiga Ekspresi**\n",
        "\n",
        "Satu bentuk lain dari loop `for` yang dipopulerkan oleh bahasa pemrograman C mengandung tiga bagian:\n",
        "\n",
        "- **Inisialisasi**\n",
        "- **Ekspresi yang menentukan kondisi akhir**\n",
        "- **Aksi yang dilakukan setelah setiap iterasi.**\n",
        "\n",
        "Loop ini memiliki bentuk berikut:\n",
        "\n",
        "```py\n",
        "for (i = 1; i <= 10; i++)\n",
        "    <body loop>\n",
        "```\n",
        "\n",
        "Loop ini diinterpretasikan sebagai berikut:\n",
        "\n",
        "- Inisialisasi `i` ke 1.\n",
        "- Teruskan looping selama `i <= 10`.\n",
        "- Increment `i` sebanyak 1 setelah setiap iterasi loop.\n",
        "\n",
        "Loop `for` dengan tiga ekspresi ini populer karena ekspresi yang ditentukan untuk ketiga bagian tersebut bisa berupa hampir apa saja, sehingga memberikan fleksibilitas lebih banyak daripada bentuk rentang numerik yang lebih sederhana yang ditunjukkan sebelumnya. Loop `for` jenis ini juga digunakan dalam bahasa C++, Java, PHP, dan Perl.\n",
        "\n",
        "### **Loop Berbasis Koleksi atau Iterator**\n",
        "\n",
        "Jenis loop ini mengiterasi melalui koleksi objek, alih-alih menentukan nilai numerik atau kondisi:\n",
        "\n",
        "```py\n",
        "for i in <koleksi>\n",
        "    <body loop>\n",
        "```\n",
        "\n",
        "Setiap kali loop dijalankan, variabel `i` akan mengambil nilai objek berikutnya dalam `<koleksi>`. Jenis loop `for` ini bisa dibilang yang paling umum dan abstrak. Perl dan PHP juga mendukung jenis loop ini, tetapi diperkenalkan dengan kata kunci `foreach` alih-alih `for`."
      ],
      "metadata": {
        "id": "CcmjyoMJmfJs"
      }
    },
    {
      "cell_type": "markdown",
      "metadata": {
        "id": "EMQo19e9xODK"
      },
      "source": [
        "## Loop `for` di Python\n",
        "\n",
        "Dari jenis loop yang disebutkan di atas, Python hanya mengimplementasikan yang terakhir: iterasi berbasis koleksi. Pada pandangan pertama, ini mungkin tampak seperti keputusan yang kurang menguntungkan, tetapi percayalah bahwa implementasi iterasi tertentu di Python sangat fleksibel sehingga Anda tidak akan merasa dirugikan!\n",
        "\n",
        "Sebentar lagi, Anda akan mempelajari lebih dalam tentang cara kerja loop `for` di Python. Namun untuk saat ini, mari mulai dengan prototipe dan contoh singkat, hanya untuk berkenalan.\n",
        "\n",
        "Loop `for` di Python terlihat seperti ini:\n",
        "\n",
        "```py\n",
        "for <var> in <iterable>:\n",
        "    <statement(s)>\n",
        "```\n",
        "\n",
        "`<iterable>` adalah koleksi objek—misalnya, sebuah list atau tuple. `<statement(s)>` dalam tubuh loop ditandai dengan indentasi, seperti pada semua struktur kontrol di Python, dan dieksekusi sekali untuk setiap item dalam `<iterable>`. Variabel loop `<var>` akan mengambil nilai dari elemen berikutnya dalam `<iterable>` setiap kali loop dijalankan.\n",
        "\n",
        "Berikut adalah contoh yang mewakili:"
      ]
    },
    {
      "cell_type": "code",
      "execution_count": null,
      "metadata": {
        "id": "NGCCmnbhxODL",
        "outputId": "deff7ed3-775c-4919-9afa-d9d503278087"
      },
      "outputs": [
        {
          "name": "stdout",
          "output_type": "stream",
          "text": [
            "foo\n",
            "bar\n",
            "baz\n"
          ]
        }
      ],
      "source": [
        "a = ['foo', 'bar', 'baz']\n",
        "for i in a:\n",
        "    print(i)"
      ]
    },
    {
      "cell_type": "markdown",
      "metadata": {
        "id": "-n0KYiNSxODM"
      },
      "source": [
        "Dalam contoh ini, `<iterable>` adalah list `a`, dan `<var>` adalah variabel `i`. Setiap kali loop dijalankan, `i` akan mengambil item berikutnya dalam `a`, sehingga `print()` menampilkan nilai 'foo', 'bar', dan 'baz', berturut-turut. Sebuah loop `for` seperti ini adalah cara Pythonic untuk memproses item dalam sebuah iterable."
      ]
    },
    {
      "cell_type": "code",
      "execution_count": null,
      "metadata": {
        "id": "nbogOp-xxODM",
        "outputId": "5f887f8f-2c28-4c11-9372-b1ed1ac261cd"
      },
      "outputs": [
        {
          "name": "stdout",
          "output_type": "stream",
          "text": [
            "foo\n",
            "bar\n",
            "baz\n"
          ]
        }
      ],
      "source": [
        "d = {'foo': 1, 'bar': 2, 'baz': 3}\n",
        "for k in d:\n",
        "    print(k)"
      ]
    },
    {
      "cell_type": "code",
      "execution_count": null,
      "metadata": {
        "id": "TXDdzvtqxODM",
        "outputId": "fdc21ba3-b0a5-4fc4-dd5c-50bcb64fcd55"
      },
      "outputs": [
        {
          "name": "stdout",
          "output_type": "stream",
          "text": [
            "1\n",
            "2\n",
            "3\n"
          ]
        }
      ],
      "source": [
        "for k in d:\n",
        "    print(d[k])"
      ]
    },
    {
      "cell_type": "code",
      "execution_count": null,
      "metadata": {
        "id": "KSPozDsBxODN",
        "outputId": "16b78a93-3a00-481b-f115-719b2e214965"
      },
      "outputs": [
        {
          "name": "stdout",
          "output_type": "stream",
          "text": [
            "1\n",
            "2\n",
            "3\n"
          ]
        }
      ],
      "source": [
        "for k in d.values():\n",
        "    print(k)"
      ]
    },
    {
      "cell_type": "code",
      "execution_count": null,
      "metadata": {
        "id": "5rwrUzmZxODN",
        "outputId": "0a84ce34-1479-4661-dff0-9ba517b1a490"
      },
      "outputs": [
        {
          "name": "stdout",
          "output_type": "stream",
          "text": [
            "foo : 1\n",
            "bar : 2\n",
            "baz : 3\n"
          ]
        }
      ],
      "source": [
        "for k, v in d.items():\n",
        "    print(k, \":\", v)"
      ]
    },
    {
      "cell_type": "markdown",
      "metadata": {
        "id": "4lC1hENWxODO"
      },
      "source": [
        "### Iterasi Melalui Sebuah Dictionary\n",
        "\n",
        "Apa yang terjadi ketika kita melakukan loop melalui sebuah dictionary? Mari kita lihat:\n",
        "\n",
        "```py\n",
        "d = {'foo': 1, 'bar': 2, 'baz': 3}\n",
        "for k in d:\n",
        "    print(k)\n",
        "```\n",
        "\n",
        "Seperti yang dapat dilihat, ketika sebuah loop `for` mengiterasi melalui sebuah dictionary, variabel loop akan diassign ke kunci-kunci dictionary tersebut.\n",
        "\n",
        "Untuk mengakses nilai dictionary di dalam loop, kita bisa menggunakan referensi dictionary dengan kunci seperti biasa:\n",
        "\n",
        "```py\n",
        "for k in d:\n",
        "    print(d[k])\n",
        "```\n",
        "\n",
        "Anda juga bisa mengiterasi langsung melalui nilai-nilai dictionary dengan menggunakan `.values()`:\n",
        "\n",
        "```py\n",
        "for v in d.values():\n",
        "    print(v)\n",
        "```"
      ]
    },
    {
      "cell_type": "markdown",
      "metadata": {
        "id": "UlJXOUD0xODO"
      },
      "source": [
        "### Fungsi range()\n",
        "\n",
        "Pada bagian pertama sesi ini, Anda melihat jenis loop `for` yang disebut *numeric range loop*, di mana nilai numerik awal dan akhir ditentukan. Meskipun bentuk loop `for` ini tidak secara langsung ada di Python, hal ini dapat dicapai dengan mudah.\n",
        "\n",
        "Misalnya, jika Anda ingin mengiterasi melalui nilai dari 0 hingga 4, Anda bisa melakukan ini:\n",
        "\n",
        "```py\n",
        "for n in (0, 1, 2, 3, 4):\n",
        "    print(n)\n",
        "```\n",
        "\n",
        "Solusi ini tidak terlalu buruk jika hanya ada beberapa angka. Tetapi, jika rentang angka jauh lebih besar, ini akan menjadi sangat membosankan dengan cepat.\n",
        "\n",
        "Untungnya, Python menyediakan opsi yang lebih baik—fungsi bawaan `range()`, yang mengembalikan iterable yang menghasilkan urutan bilangan bulat.\n",
        "\n",
        "`range(<end>)` mengembalikan iterable yang menghasilkan angka mulai dari 0, hingga tetapi tidak termasuk `<end>`:\n",
        "\n",
        "```py\n",
        "x = range(5)\n",
        "```\n",
        "\n",
        "Perhatikan bahwa `range()` mengembalikan objek dari kelas `range`, bukan daftar atau tuple dari nilai-nilai tersebut. Karena objek `range` adalah iterable, Anda dapat memperoleh nilai-nilai tersebut dengan mengiterasinya menggunakan loop `for`:\n",
        "\n",
        "```py\n",
        "for n in x:\n",
        "    print(n)\n",
        "```\n",
        "\n",
        "### Mengubah Perilaku for Loop\n",
        "\n",
        "Anda telah melihat pada bagian sebelumnya bagaimana eksekusi dari loop `while` dapat dihentikan dengan pernyataan `break` dan `continue` serta dimodifikasi dengan klausa `else`. Kemampuan ini juga tersedia untuk loop `for`.\n",
        "\n",
        "**Pernyataan break dan continue**\n",
        "\n",
        "Pernyataan `break` dan `continue` bekerja dengan cara yang sama pada loop `for` seperti pada loop `while`. `break` mengakhiri loop sepenuhnya dan melanjutkan ke pernyataan pertama setelah loop:"
      ]
    },
    {
      "cell_type": "code",
      "execution_count": null,
      "metadata": {
        "id": "EGjM5S0MxODO",
        "outputId": "622f059f-c3f4-462d-f0a7-da7b8daee007"
      },
      "outputs": [
        {
          "name": "stdout",
          "output_type": "stream",
          "text": [
            "foo\n"
          ]
        }
      ],
      "source": [
        "for i in ['foo', 'bar', 'baz', 'qux']:\n",
        "    if 'b' in i:\n",
        "        break\n",
        "    print(i)"
      ]
    },
    {
      "cell_type": "markdown",
      "metadata": {
        "id": "Sezc7Vl_xODP"
      },
      "source": [
        "Pernyataan `continue` menghentikan iterasi saat ini dan melanjutkan ke iterasi berikutnya:"
      ]
    },
    {
      "cell_type": "code",
      "execution_count": null,
      "metadata": {
        "id": "eFHKfn-2xODP",
        "outputId": "185429fd-5c7e-42a8-9e40-3fe908f738f0"
      },
      "outputs": [
        {
          "name": "stdout",
          "output_type": "stream",
          "text": [
            "foo\n",
            "qux\n"
          ]
        }
      ],
      "source": [
        "for i in ['foo', 'bar', 'baz', 'qux']:\n",
        "    if 'b' in i:\n",
        "        continue\n",
        "    print(i)"
      ]
    },
    {
      "cell_type": "markdown",
      "metadata": {
        "id": "tjUq3HWpxODQ"
      },
      "source": [
        "**Klausa else**\n",
        "\n",
        "Sebuah loop `for` juga dapat memiliki klausa `else`. Interpretasinya serupa dengan yang ada pada loop `while`. Klausa `else` akan dieksekusi jika loop berakhir karena habisnya iterable:"
      ]
    },
    {
      "cell_type": "code",
      "execution_count": null,
      "metadata": {
        "id": "FTErTWNpxODQ",
        "outputId": "00e57c4b-a6d3-40d1-ba9e-c68c68d390b2"
      },
      "outputs": [
        {
          "name": "stdout",
          "output_type": "stream",
          "text": [
            "foo\n",
            "bar\n",
            "baz\n",
            "qux\n",
            "Done.\n"
          ]
        }
      ],
      "source": [
        "for i in ['foo', 'bar', 'baz', 'qux']:\n",
        "    print(i)\n",
        "else:\n",
        "    print('Done.')  # Will execute"
      ]
    },
    {
      "cell_type": "markdown",
      "metadata": {
        "id": "a3PA_UAGxODR"
      },
      "source": [
        "Klausa `else` tidak akan dieksekusi jika loop dihentikan dengan pernyataan `break`:"
      ]
    },
    {
      "cell_type": "code",
      "execution_count": null,
      "metadata": {
        "colab": {
          "base_uri": "https://localhost:8080/"
        },
        "id": "s4Lwpn3v6LSR",
        "outputId": "5a5ae838-651d-4e5a-a6bd-0c61db5c4515"
      },
      "outputs": [
        {
          "name": "stdout",
          "output_type": "stream",
          "text": [
            "foo\n"
          ]
        }
      ],
      "source": [
        "for i in ['foo', 'bar', 'baz', 'qux']:\n",
        "  if i == 'bar':\n",
        "    break\n",
        "  print(i)\n",
        "else:\n",
        "  print('Done.')"
      ]
    },
    {
      "cell_type": "markdown",
      "metadata": {
        "id": "tGh0GrYnRZft"
      },
      "source": [
        "# Excercise 1\n",
        "\n",
        "Tulis program Python untuk membentuk pola berikut, menggunakan loop bersarang.\n",
        "\n",
        "\n",
        "**Expected Output**:\n",
        "```\n",
        "1\n",
        "22\n",
        "333\n",
        "4444\n",
        "55555\n",
        "666666\n",
        "7777777\n",
        "88888888\n",
        "999999999\n",
        "```\n"
      ]
    },
    {
      "cell_type": "code",
      "execution_count": null,
      "metadata": {
        "cellView": "form",
        "id": "dDflu_QXRbwN"
      },
      "outputs": [],
      "source": [
        "#@title Solution\n",
        "\n",
        "for i in range(1, 10):\n",
        "    for j in range(i):\n",
        "        print(i, end='')\n",
        "    print()\n"
      ]
    },
    {
      "cell_type": "markdown",
      "metadata": {
        "id": "04Cav_1VTtUr"
      },
      "source": [
        "# Exercise 2\n",
        "\n",
        "\n",
        "Tulis program Python untuk memeriksa kevalidan password yang dimasukkan oleh pengguna.\n",
        "\n",
        "**Validasi:**\n",
        "- Setidaknya ada 1 huruf kecil antara [a-z] dan 1 huruf besar antara [A-Z].\n",
        "- Setidaknya ada 1 angka antara [0-9].\n",
        "- Setidaknya ada 1 karakter dari [$#@].\n",
        "- Panjang minimal 6 karakter.\n",
        "- Panjang maksimal 16 karakter.\n"
      ]
    },
    {
      "cell_type": "code",
      "execution_count": null,
      "metadata": {
        "cellView": "form",
        "id": "1G1mT4Q3TLje"
      },
      "outputs": [],
      "source": [
        "#@title Solution\n",
        "valid = False\n",
        "\n",
        "while not valid:\n",
        "    password = input(\"Enter a password: \")\n",
        "\n",
        "    if len(password) < 6 or len(password) > 16:\n",
        "        print(\"Password must be between 6 and 16 characters.\")\n",
        "    elif not any(c.islower() for c in password):\n",
        "        print(\"Password must contain at least one lowercase letter.\")\n",
        "    elif not any(c.isupper() for c in password):\n",
        "        print(\"Password must contain at least one uppercase letter.\")\n",
        "    elif not any(c.isdigit() for c in password):\n",
        "        print(\"Password must contain at least one digit.\")\n",
        "    elif not any(c in ['$','#','@'] for c in password):\n",
        "        print(\"Password must contain at least one of the characters $, #, or @.\")\n",
        "    else:\n",
        "        valid = True\n",
        "        print(\"Password is valid.\")\n"
      ]
    },
    {
      "cell_type": "markdown",
      "source": [
        "## Exercise 3\n",
        "\n",
        "Diberikan sebuah variabel `num` yang terdiri dari beberapa digit. Tugas Anda adalah menuliskan sebuah program Python untuk **membalikan angka atau melakukan reverse pada input yang diberikan**, **menggunakan `while` loop**.\n",
        "\n",
        "---\n",
        "\n",
        "**Input**:\n",
        "```\n",
        "76542\n",
        "```\n",
        "\n",
        "---\n",
        "\n",
        "**Output yang Diharapkan**:\n",
        "\n",
        "Angka yang sudah di reverse:\n",
        "\n",
        "```\n",
        "24567\n",
        "```\n",
        "\n",
        "---"
      ],
      "metadata": {
        "id": "RyLiPNy3-FES"
      }
    },
    {
      "cell_type": "code",
      "source": [
        "#@title Solution\n",
        "\n",
        "num = 76542 #num = int(input(\"Masukkan angka: \"))\n",
        "reverse_number = 0\n",
        "print(\"Given Number \", num)\n",
        "while num > 0:\n",
        "    reminder = num % 10\n",
        "    reverse_number = (reverse_number * 10) + reminder\n",
        "    num = num // 10\n",
        "print(\"Revere Number \", reverse_number)\n"
      ],
      "metadata": {
        "colab": {
          "base_uri": "https://localhost:8080/"
        },
        "cellView": "form",
        "id": "XhrjYMcV-cD5",
        "outputId": "e33fdda4-ab4d-49db-bdd0-1f82c9f77423"
      },
      "execution_count": null,
      "outputs": [
        {
          "output_type": "stream",
          "name": "stdout",
          "text": [
            "Given Number  76542\n",
            "Revere Number  24567\n"
          ]
        }
      ]
    },
    {
      "cell_type": "markdown",
      "source": [
        "# Exercise 4:\n",
        "\n",
        "Buatlah program Python untuk **menampilkan hanya angka-angka tertentu dari sebuah list** yang memenuhi **syarat-syarat berikut**:\n",
        "\n",
        "1. Angka tersebut **harus habis dibagi 5**.\n",
        "2. **Jika** angka lebih dari **150**, maka **lewati angka tersebut** dan lanjut ke angka berikutnya.\n",
        "3. **Jika** angka lebih dari **500**, maka **hentikan perulangan**.\n",
        "\n",
        "---\n",
        "\n",
        "**Data yang Diberikan:**\n",
        "\n",
        "```python\n",
        "numbers = [12, 75, 150, 180, 145, 525, 50]\n",
        "```\n",
        "\n",
        "**Output yang Diharapkan:**\n",
        "\n",
        "```\n",
        "75\n",
        "150\n",
        "145\n",
        "```\n",
        "\n"
      ],
      "metadata": {
        "id": "ad6wEZ9FA8M_"
      }
    },
    {
      "cell_type": "code",
      "source": [
        "#@title Solution\n",
        "numbers = [12, 75, 150, 180, 145, 525, 50]\n",
        "\n",
        "for num in numbers:\n",
        "    if num > 500:\n",
        "        break\n",
        "    if num > 150:\n",
        "        continue\n",
        "    if num % 5 == 0:\n",
        "        print(num)\n"
      ],
      "metadata": {
        "cellView": "form",
        "id": "EczwZ44hBoB9"
      },
      "execution_count": null,
      "outputs": []
    }
  ],
  "metadata": {
    "colab": {
      "provenance": []
    },
    "kernelspec": {
      "display_name": "Python 3",
      "language": "python",
      "name": "python3"
    },
    "language_info": {
      "codemirror_mode": {
        "name": "ipython",
        "version": 3
      },
      "file_extension": ".py",
      "mimetype": "text/x-python",
      "name": "python",
      "nbconvert_exporter": "python",
      "pygments_lexer": "ipython3",
      "version": "3.8.2"
    },
    "toc": {
      "base_numbering": 1,
      "nav_menu": {},
      "number_sections": true,
      "sideBar": true,
      "skip_h1_title": false,
      "title_cell": "Table of Contents",
      "title_sidebar": "Contents",
      "toc_cell": false,
      "toc_position": {},
      "toc_section_display": true,
      "toc_window_display": true
    }
  },
  "nbformat": 4,
  "nbformat_minor": 0
}