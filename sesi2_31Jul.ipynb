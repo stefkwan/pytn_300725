{
 "cells": [
  {
   "cell_type": "markdown",
   "metadata": {},
   "source": [
    "# Conditional and Iteration\n",
    "1. if\n",
    "    - if\n",
    "    - if else\n",
    "    - nested if\n",
    "2. loop\n",
    "    - while\n",
    "    - for\n",
    "\n",
    "## Conditional\n",
    "cara menggunakan if di Python"
   ]
  },
  {
   "cell_type": "code",
   "execution_count": 1,
   "metadata": {},
   "outputs": [],
   "source": [
    "# kalau umurnya andi 17 keatas maka dia punya ktp\n",
    "umur_andi = 15\n",
    "\n",
    "if umur_andi >= 17:\n",
    "    print(f\"Umur Andi di {umur_andi} tahun.\")\n",
    "    print(\"Andi punya KTP.\")"
   ]
  },
  {
   "cell_type": "markdown",
   "metadata": {},
   "source": [
    "semua expresi untuk if hasilnya boolean"
   ]
  },
  {
   "cell_type": "code",
   "execution_count": 3,
   "metadata": {},
   "outputs": [
    {
     "name": "stdout",
     "output_type": "stream",
     "text": [
      "true jadi masuk statement if nya\n"
     ]
    }
   ],
   "source": [
    "if True:\n",
    "    print(\"true jadi masuk statement if nya\")"
   ]
  },
  {
   "cell_type": "code",
   "execution_count": 5,
   "metadata": {},
   "outputs": [],
   "source": [
    "# kalau andi umurnya 17 keatas dan memiliki SIM maka dia boleh rental mobil\n",
    "umur_andi = 25\n",
    "punya_sim = False\n",
    "\n",
    "if (umur_andi >= 17) & (punya_sim):\n",
    "    print(\"boleh rental mobil\")"
   ]
  },
  {
   "cell_type": "code",
   "execution_count": 8,
   "metadata": {},
   "outputs": [
    {
     "name": "stdout",
     "output_type": "stream",
     "text": [
      "boleh masuk gym\n"
     ]
    }
   ],
   "source": [
    "# kalau andi punya membership gym atau punya uang 200rb maka boleh masuk gym\n",
    "punya_membership = False\n",
    "bawa_uang = True\n",
    "\n",
    "if (punya_membership) | (bawa_uang):\n",
    "    print(\"boleh masuk gym\")"
   ]
  },
  {
   "cell_type": "code",
   "execution_count": 10,
   "metadata": {},
   "outputs": [
    {
     "name": "stdout",
     "output_type": "stream",
     "text": [
      "Tidak punya KTP\n"
     ]
    }
   ],
   "source": [
    "# selain statement saat hasil expresi if nya True\n",
    "# kita bisa membuat alur lain kalau hasil if nya False\n",
    "# kita bisa pakai else\n",
    "umur_andi = 12\n",
    "\n",
    "if umur_andi >= 17:\n",
    "    print(\"Punya KTP\")\n",
    "else:\n",
    "    print(\"Tidak punya KTP\")"
   ]
  },
  {
   "cell_type": "code",
   "execution_count": 17,
   "metadata": {},
   "outputs": [
    {
     "name": "stdout",
     "output_type": "stream",
     "text": [
      "D\n"
     ]
    }
   ],
   "source": [
    "# saat pertanyaan if nya bersambung dengan if lainnya\n",
    "# kita bisa pakai elif\n",
    "\n",
    "# misalnya, untuk nilai 90-100 dapet A, 80-89 dapet B, ...\n",
    "nilai = 59\n",
    "\n",
    "if (nilai >= 90) & (nilai <= 100):\n",
    "    print(\"A\")\n",
    "elif (nilai >= 80):\n",
    "    print(\"B\")\n",
    "elif (nilai >= 60):\n",
    "    print(\"C\")\n",
    "else:\n",
    "    print(\"D\")"
   ]
  },
  {
   "cell_type": "code",
   "execution_count": 18,
   "metadata": {},
   "outputs": [
    {
     "name": "stdout",
     "output_type": "stream",
     "text": [
      "C\n"
     ]
    }
   ],
   "source": [
    "# selain dari nilai, grade murid juga bergantung dari absennya\n",
    "# kalau absen diatas 3 kali maka nilai dikurangi 15 poin\n",
    "\n",
    "jumlah_absen = 5\n",
    "nilai = 85\n",
    "\n",
    "if (jumlah_absen > 3):\n",
    "    nilai = nilai - 15\n",
    "\n",
    "    if (nilai >= 90) & (nilai <= 100):\n",
    "        print(\"A\")\n",
    "    elif (nilai >= 80):\n",
    "        print(\"B\")\n",
    "    elif (nilai >= 60):\n",
    "        print(\"C\")\n",
    "    else:\n",
    "        print(\"D\")"
   ]
  },
  {
   "cell_type": "code",
   "execution_count": 21,
   "metadata": {},
   "outputs": [
    {
     "name": "stdout",
     "output_type": "stream",
     "text": [
      "Andi punya KTP.\n"
     ]
    }
   ],
   "source": [
    "umur_andi = 20\n",
    "\n",
    "# if umur_andi >= 17:\n",
    "#     print(\"Andi punya KTP.\")\n",
    "# else:\n",
    "#     print(\"Andi tidak punya KTP.\")\n",
    "\n",
    "print(\"Andi punya KTP.\") if umur_andi >= 17 else print(\"Andi tidak punya KTP.\")"
   ]
  },
  {
   "cell_type": "markdown",
   "metadata": {},
   "source": [
    "# Loop\n",
    "- while\n",
    "- for\n",
    "\n",
    "while loop digunakan seperti if, tapi dia terus berjalan berulang kali selama expresi masih True"
   ]
  },
  {
   "cell_type": "code",
   "execution_count": 27,
   "metadata": {},
   "outputs": [
    {
     "name": "stdout",
     "output_type": "stream",
     "text": [
      "Umur Andi sekarang 27 tahun, Andi punya KTP\n"
     ]
    }
   ],
   "source": [
    "umur_andi = 27\n",
    "\n",
    "while (umur_andi < 17):\n",
    "    print(f\"Andi belum punya KTP karena masih umur {umur_andi}\")\n",
    "    umur_andi = umur_andi + 1\n",
    "else:\n",
    "    print(f\"Umur Andi sekarang {umur_andi} tahun, Andi punya KTP\")"
   ]
  },
  {
   "cell_type": "markdown",
   "metadata": {},
   "source": [
    "## break dan continue\n",
    "\n",
    "dua teknik untuk mengontrol loop, kita bisa bikin pengecualian dan memaksa loop untuk berhenti (break) atau untuk melewati 1 putaran (continue)"
   ]
  },
  {
   "cell_type": "code",
   "execution_count": 37,
   "metadata": {},
   "outputs": [
    {
     "name": "stdout",
     "output_type": "stream",
     "text": [
      "H\n",
      "a\n",
      "r\n",
      "i\n",
      "i\n",
      "n\n",
      "i\n",
      "t\n",
      "a\n",
      "n\n",
      "g\n",
      "g\n",
      "a\n",
      "l\n",
      "J\n",
      "u\n",
      "l\n",
      "y\n",
      "d\n",
      "a\n",
      "n\n",
      "k\n",
      "i\n",
      "t\n",
      "a\n",
      "l\n",
      "a\n",
      "n\n",
      "j\n",
      "u\n",
      "t\n",
      "b\n",
      "e\n",
      "l\n",
      "a\n",
      "j\n",
      "a\n",
      "r\n",
      "P\n",
      "y\n",
      "t\n",
      "h\n",
      "o\n",
      "n\n",
      ".\n"
     ]
    }
   ],
   "source": [
    "message = \"Hari ini tanggal 31 July 2025 dan kita lanjut belajar Python.\"\n",
    "\n",
    "# kita mau baca hurufnya satu per satu dan kita mau hitung khusus alfabet saja\n",
    "# kalau spasi kita skip, angka kita skip juga\n",
    "\n",
    "index = 0\n",
    "\n",
    "# message[index]\n",
    "# len(message)\n",
    "\n",
    "while (index < len(message)):\n",
    "    huruf = message[index]\n",
    "\n",
    "    # if (huruf == \" \") | (huruf == \"1\") | (huruf == \"2\") | (huruf == \"3\") | (huruf == \"4\") | (huruf == \"5\") | (huruf == \"6\") | (huruf == \"7\") | (huruf == \"8\") | (huruf == \"9\") | (huruf == \"0\"):\n",
    "    if (huruf in \" 0123456789\"):\n",
    "        index = index + 1\n",
    "        continue # semua code di bawah continue tidak dijalankan lalu balik ke atas\n",
    "        break # loop berhenti, tidak balik ke atas\n",
    "\n",
    "    print(huruf)\n",
    "\n",
    "    index = index + 1"
   ]
  },
  {
   "cell_type": "code",
   "execution_count": 41,
   "metadata": {},
   "outputs": [
    {
     "name": "stdout",
     "output_type": "stream",
     "text": [
      "Hari ini tanggal 31 July 2025 dan kita lanjut belajar Python.\n",
      "True\n",
      "False\n",
      "True\n"
     ]
    }
   ],
   "source": [
    "# in juga bisa digunakan di list\n",
    "# in mengecek apakah ada 1 item di sebuah koleksi\n",
    "# koleksi adalah data yang isinya lebih dari 1, seperti string, list, tuple, dictionary\n",
    "\n",
    "print(message)\n",
    "\n",
    "print(\"Python\" in message)\n",
    "print(\"Hacktiv8\" in message)\n",
    "\n",
    "print(\"apel\" in [\"apel\", \"pisang\"])"
   ]
  },
  {
   "cell_type": "code",
   "execution_count": 46,
   "metadata": {},
   "outputs": [
    {
     "name": "stdout",
     "output_type": "stream",
     "text": [
      "1\n",
      "2\n",
      "3\n",
      "4\n",
      "5\n",
      "hello\n"
     ]
    }
   ],
   "source": [
    "n = 1\n",
    "\n",
    "while n < 5:\n",
    "    print(n)\n",
    "    n = n + 1\n",
    "else:\n",
    "    print(n) # kalau break, expr tidak pernah False, disini tidak jalan\n",
    "\n",
    "print(\"hello\")"
   ]
  },
  {
   "cell_type": "code",
   "execution_count": 51,
   "metadata": {},
   "outputs": [
    {
     "name": "stdout",
     "output_type": "stream",
     "text": [
      "Set buku ke 1\n",
      "   1. Harry Potter 1\n",
      "   2. Harry Potter 2\n",
      "   3. Harry Potter 3\n",
      "Set buku ke 2\n",
      "   1. Learning Python\n",
      "   2. Advanced C++\n",
      "   3. Javascript for Web App\n"
     ]
    }
   ],
   "source": [
    "koleksi_buku = [\n",
    "    [\"Harry Potter 1\", \"Harry Potter 2\", \"Harry Potter 3\"],\n",
    "    [\"Learning Python\", \"Advanced C++\", \"Javascript for Web App\"]\n",
    "]\n",
    "\n",
    "i = 0\n",
    "while i < len(koleksi_buku):\n",
    "    print(f\"Set buku ke {i + 1}\")\n",
    "\n",
    "    j = 0\n",
    "    while (j < len(koleksi_buku[i])):\n",
    "        print(f\"   {j + 1}. {koleksi_buku[i][j]}\")\n",
    "        j = j + 1\n",
    "\n",
    "    i = i + 1\n"
   ]
  },
  {
   "cell_type": "markdown",
   "metadata": {},
   "source": [
    "## For\n",
    "khusus untuk while loop yang mau kita gunakan membaca setiap item dalam sebuah koleksi, lebih mudah kita pakai for loop"
   ]
  },
  {
   "cell_type": "code",
   "execution_count": 54,
   "metadata": {},
   "outputs": [
    {
     "name": "stdout",
     "output_type": "stream",
     "text": [
      "Set buku\n",
      "   Harry Potter 1\n",
      "   Harry Potter 2\n",
      "   Harry Potter 3\n",
      "Set buku\n",
      "   Learning Python\n",
      "   Advanced C++\n",
      "   Javascript for Web App\n"
     ]
    }
   ],
   "source": [
    "for koleksi in koleksi_buku:\n",
    "    print(\"Set buku\")\n",
    "    for buku in koleksi:\n",
    "        print(f\"   {buku}\")"
   ]
  },
  {
   "cell_type": "code",
   "execution_count": 56,
   "metadata": {},
   "outputs": [
    {
     "name": "stdout",
     "output_type": "stream",
     "text": [
      "0\n",
      "1\n",
      "2\n",
      "3\n",
      "4\n"
     ]
    }
   ],
   "source": [
    "# misalnya kita tidak punya koleksi barang tertentu\n",
    "# tapi kita mau mengulang x kali\n",
    "# jumlah perulangan kita sudah tau, kita bisa pakai range\n",
    "# range juga bisa kita gunakan untuk membuat angka urut\n",
    "\n",
    "# mau mengulang 5 kali\n",
    "\n",
    "# i = 0 \n",
    "# while i < 5:\n",
    "#     print(i)\n",
    "#     i = i + 1\n",
    "\n",
    "for i in range(5):\n",
    "    print(i)"
   ]
  },
  {
   "cell_type": "markdown",
   "metadata": {},
   "source": [
    "tidak terbatas angkanya dimulai dari 0 dan nambahnya 1 per 1, \n",
    "kita bisa juga buat pattern angka lainnya\n",
    "\n",
    "range(starting_number, ending_number, step)"
   ]
  },
  {
   "cell_type": "code",
   "execution_count": 58,
   "metadata": {},
   "outputs": [
    {
     "name": "stdout",
     "output_type": "stream",
     "text": [
      "1\n",
      "11\n",
      "21\n",
      "31\n",
      "41\n",
      "51\n",
      "61\n",
      "71\n",
      "81\n",
      "91\n",
      "101\n"
     ]
    }
   ],
   "source": [
    "for i in range(1, 102, 10):\n",
    "    print(i)"
   ]
  },
  {
   "cell_type": "code",
   "execution_count": 60,
   "metadata": {},
   "outputs": [
    {
     "name": "stdout",
     "output_type": "stream",
     "text": [
      "100\n",
      "90\n",
      "80\n",
      "70\n",
      "60\n",
      "50\n",
      "40\n",
      "30\n",
      "20\n",
      "10\n",
      "0\n",
      "-10\n",
      "-20\n",
      "-30\n",
      "-40\n",
      "-50\n",
      "-60\n",
      "-70\n",
      "-80\n",
      "-90\n",
      "-100\n"
     ]
    }
   ],
   "source": [
    "for i in range(100, -101, -10):\n",
    "    print(i)"
   ]
  },
  {
   "cell_type": "markdown",
   "metadata": {},
   "source": [
    "perhatikan ending number tidak termasuk"
   ]
  },
  {
   "cell_type": "code",
   "execution_count": 59,
   "metadata": {},
   "outputs": [
    {
     "name": "stdout",
     "output_type": "stream",
     "text": [
      "100\n",
      "101\n",
      "102\n",
      "103\n",
      "104\n",
      "105\n"
     ]
    }
   ],
   "source": [
    "for i in range(100, 106):\n",
    "    print(i)"
   ]
  },
  {
   "cell_type": "markdown",
   "metadata": {},
   "source": [
    "# Latihan\n",
    "\n",
    "## Latihan 1\n",
    "membuat pattern output"
   ]
  },
  {
   "cell_type": "code",
   "execution_count": 64,
   "metadata": {},
   "outputs": [
    {
     "name": "stdout",
     "output_type": "stream",
     "text": [
      "1\n",
      "22\n",
      "333\n",
      "4444\n",
      "55555\n",
      "666666\n",
      "7777777\n",
      "88888888\n",
      "999999999\n"
     ]
    }
   ],
   "source": [
    "i = 1\n",
    "while i < 10:\n",
    "\tprint(str(i)*i)\n",
    "\ti = i + 1"
   ]
  },
  {
   "cell_type": "code",
   "execution_count": 65,
   "metadata": {},
   "outputs": [
    {
     "name": "stdout",
     "output_type": "stream",
     "text": [
      "1\n",
      "22\n",
      "333\n",
      "4444\n",
      "55555\n",
      "666666\n",
      "7777777\n",
      "88888888\n",
      "999999999\n"
     ]
    }
   ],
   "source": [
    "i = 1\n",
    "while i < 10:\n",
    "\ts = \"\"\n",
    "\tfor j in range(i):\n",
    "\t\ts = s + str(i)\n",
    "\tprint(s)\n",
    "\ti = i + 1"
   ]
  },
  {
   "cell_type": "markdown",
   "metadata": {},
   "source": [
    "## Latihan 2\n",
    "mengecek password yang dibuat cukup kuat atau tidak\n",
    "\n",
    "- 1 huruf antara [a-z] \n",
    "- 1 huruf antara [A-Z]\n",
    "- 1 angka antara [0-9]\n",
    "- 1 karakter dari [$#@]\n",
    "- Panjang minimum 6 karakter\n",
    "- Panjang maksimum 16 karakter\n"
   ]
  },
  {
   "cell_type": "code",
   "execution_count": 76,
   "metadata": {},
   "outputs": [
    {
     "name": "stdout",
     "output_type": "stream",
     "text": [
      "password diterima\n"
     ]
    }
   ],
   "source": [
    "password = \"abc123Ha$\"\n",
    "\n",
    "abjad = \"abcdefghijklmnopqrstuvwxyz\"\n",
    "\n",
    "punya_a_z = False\n",
    "punya_A_Z = False\n",
    "punya_angka = False\n",
    "punya_simbol = False\n",
    "\n",
    "for huruf in password:\n",
    "    punya_a_z = huruf in abjad.lower()\n",
    "    # print(huruf, punya_a_z)\n",
    "    if punya_a_z:\n",
    "        break\n",
    "\n",
    "for huruf in password:\n",
    "    punya_A_Z = huruf in abjad.upper()\n",
    "    # print(huruf, punya_A_Z)\n",
    "    if punya_A_Z:\n",
    "        break\n",
    "\n",
    "for huruf in password:\n",
    "    punya_angka = huruf in \"0123456789\"\n",
    "    # print(huruf, punya_angka)\n",
    "    if punya_angka:\n",
    "        break\n",
    "\n",
    "for huruf in password:\n",
    "    punya_simbol = huruf in \"$#@\"\n",
    "    # print(huruf, punya_simbol)\n",
    "    if (punya_simbol):\n",
    "        break\n",
    "    \n",
    "panjang_min_ok = len(password) >= 6\n",
    "\n",
    "panjang_max_ok = len(password) <= 16\n",
    "\n",
    "if punya_a_z & punya_A_Z & punya_angka & punya_simbol & panjang_min_ok & panjang_max_ok:\n",
    "    print(\"password diterima\")\n",
    "else:\n",
    "    print(\"password tidak diterima\")\n",
    "    if punya_a_z == False:\n",
    "        print(\"minimal 1 abjad kecil a-z\")\n",
    "    if punya_A_Z == False:\n",
    "        print(\"minimal 1 abjad besar A-Z\")\n",
    "    if punya_angka == False:\n",
    "        print(\"minimal 1 angka 0-9\")\n",
    "    if punya_simbol == False:\n",
    "        print(\"minimal 1 simbol dari $#@\")\n",
    "    if panjang_min_ok == False:\n",
    "        print(\"minimal 6 karakter\")\n",
    "    if panjang_max_ok == False:\n",
    "        print(\"maksimal 16 karakter\")"
   ]
  },
  {
   "cell_type": "markdown",
   "metadata": {},
   "source": [
    "## Latihan 3\n",
    "membuat angka terbalik dengan while loop"
   ]
  },
  {
   "cell_type": "code",
   "execution_count": 80,
   "metadata": {},
   "outputs": [
    {
     "name": "stdout",
     "output_type": "stream",
     "text": [
      "487\n"
     ]
    }
   ],
   "source": [
    "num = 784\n",
    "\n",
    "str_num = str(num)\n",
    "index = len(str_num) - 1 \n",
    "\n",
    "num_baru = \"\"\n",
    "while index >= 0:\n",
    "\tnum_baru = num_baru + str_num[index]\n",
    "\t# print(num_baru)\n",
    "\tindex = index-1\n",
    "\t\n",
    "num_baru = int(num_baru)\n",
    "print(num_baru)"
   ]
  },
  {
   "cell_type": "markdown",
   "metadata": {},
   "source": [
    "## Latihan 4\n",
    "Membuat filter dengan beberapa kondisi\n",
    "- habis dibagi 5 -- %\n",
    "- skip angka yang lebih dari 150 -- continue\n",
    "- memberhentikan semua angka jika ada yang lebih dari 500 -- break"
   ]
  },
  {
   "cell_type": "code",
   "execution_count": 81,
   "metadata": {},
   "outputs": [
    {
     "name": "stdout",
     "output_type": "stream",
     "text": [
      "75\n",
      "150\n",
      "145\n"
     ]
    }
   ],
   "source": [
    "numb = [12, 75, 150, 180, 145, 525, 50]\n",
    "\n",
    "bagi_lima = False\n",
    "lebih_150 = False\n",
    "lebih_500 = False\n",
    "\n",
    "for i in numb:\n",
    "\tbagi_lima = (i % 5 == 0)\n",
    "\tlebih_150 = (i > 150)\n",
    "\tlebih_500 = (i > 500)\n",
    "\t\n",
    "\tif lebih_500:\n",
    "\t\tbreak\n",
    "\t\n",
    "\tif lebih_150:\n",
    "\t\tcontinue\n",
    "\n",
    "\tif bagi_lima:\n",
    "\t    print(i)"
   ]
  },
  {
   "cell_type": "markdown",
   "metadata": {},
   "source": [
    "## Latihan 5\n",
    "di sebuah list ada warna warna bola berbeda, gunakan loop untuk menghitung jumlah setiap warna\n",
    "\n",
    "```\n",
    "contoh_input = [\"merah\", \"biru\", \"merah\", \"hijau\", \"hitam\", \"biru\"]\n",
    "```\n",
    "\n",
    "hint: jika menggunakan dictionary, kita bisa build hasilnya dengan lebih rapi dan mudah\n",
    "\n",
    "```\n",
    "{\n",
    "    warna1: 5,\n",
    "    warna2: 3,\n",
    "}\n",
    "```"
   ]
  },
  {
   "cell_type": "code",
   "execution_count": 82,
   "metadata": {},
   "outputs": [
    {
     "data": {
      "text/plain": [
       "{'merah': 0, 'biru': 0, 'hijau': 0, 'hitam': 0}"
      ]
     },
     "execution_count": 82,
     "metadata": {},
     "output_type": "execute_result"
    }
   ],
   "source": [
    "# latihan ini memerlukan penggunaan list dan dictionary dan loop\n",
    "contoh_input = [\"merah\", \"biru\", \"merah\", \"hijau\", \"hitam\", \"biru\"]\n",
    "\n",
    "hasil_output = {}\n",
    "for warna in contoh_input:\n",
    "    # menggunakan dictionary untuk menyimpan value string yang unik sebagai key\n",
    "    hasil_output[warna] = 0\n",
    "\n",
    "hasil_output"
   ]
  },
  {
   "cell_type": "code",
   "execution_count": 87,
   "metadata": {},
   "outputs": [
    {
     "data": {
      "text/plain": [
       "{'merah': 2, 'biru': 2, 'hijau': 1, 'hitam': 1}"
      ]
     },
     "execution_count": 87,
     "metadata": {},
     "output_type": "execute_result"
    }
   ],
   "source": [
    "for warna in contoh_input:\n",
    "    for w in hasil_output:\n",
    "        if (warna == w):\n",
    "            hasil_output[warna] = hasil_output[warna] + 1\n",
    "hasil_output"
   ]
  },
  {
   "cell_type": "code",
   "execution_count": 91,
   "metadata": {},
   "outputs": [
    {
     "data": {
      "text/plain": [
       "{'merah': 2, 'biru': 2, 'hijau': 1, 'hitam': 1}"
      ]
     },
     "execution_count": 91,
     "metadata": {},
     "output_type": "execute_result"
    }
   ],
   "source": [
    "contoh_input = [\"merah\", \"biru\", \"merah\", \"hijau\", \"hitam\", \"biru\"]\n",
    "\n",
    "hasil_output = {}\n",
    "\n",
    "# \"merah\" in hasil_output\n",
    "\n",
    "for warna in contoh_input:\n",
    "    if warna in hasil_output:\n",
    "        hasil_output[warna] = hasil_output[warna] + 1\n",
    "    else:\n",
    "        hasil_output[warna] = 1\n",
    "\n",
    "hasil_output"
   ]
  },
  {
   "cell_type": "code",
   "execution_count": 83,
   "metadata": {},
   "outputs": [
    {
     "name": "stdout",
     "output_type": "stream",
     "text": [
      "{'merah': 10}\n"
     ]
    }
   ],
   "source": [
    "d = {\"merah\":0}\n",
    "\n",
    "d[\"merah\"] = 10\n",
    "\n",
    "print(d)"
   ]
  },
  {
   "cell_type": "code",
   "execution_count": null,
   "metadata": {},
   "outputs": [],
   "source": []
  }
 ],
 "metadata": {
  "kernelspec": {
   "display_name": "base",
   "language": "python",
   "name": "python3"
  },
  "language_info": {
   "codemirror_mode": {
    "name": "ipython",
    "version": 3
   },
   "file_extension": ".py",
   "mimetype": "text/x-python",
   "name": "python",
   "nbconvert_exporter": "python",
   "pygments_lexer": "ipython3",
   "version": "3.12.4"
  }
 },
 "nbformat": 4,
 "nbformat_minor": 2
}
