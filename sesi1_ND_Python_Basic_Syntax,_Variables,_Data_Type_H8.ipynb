{
  "nbformat": 4,
  "nbformat_minor": 0,
  "metadata": {
    "kernelspec": {
      "display_name": "Python 3",
      "language": "python",
      "name": "python3"
    },
    "language_info": {
      "codemirror_mode": {
        "name": "ipython",
        "version": 3
      },
      "file_extension": ".py",
      "mimetype": "text/x-python",
      "name": "python",
      "nbconvert_exporter": "python",
      "pygments_lexer": "ipython3",
      "version": "3.8.6-final"
    },
    "toc": {
      "base_numbering": 1,
      "nav_menu": {},
      "number_sections": true,
      "sideBar": true,
      "skip_h1_title": false,
      "title_cell": "Table of Contents",
      "title_sidebar": "Contents",
      "toc_cell": false,
      "toc_position": {},
      "toc_section_display": true,
      "toc_window_display": true
    },
    "colab": {
      "provenance": []
    }
  },
  "cells": [
    {
      "cell_type": "markdown",
      "metadata": {
        "id": "KBQy79zphQ3m"
      },
      "source": [
        "# DATA TYPES, VARIABLES & OPERATORS"
      ]
    },
    {
      "cell_type": "markdown",
      "metadata": {
        "id": "dB-z7rJr2j3T"
      },
      "source": [
        "## Bilangan Bulat (Integers)\n",
        "\n",
        "Di Python 3, tidak ada batasan sejauh mana panjang nilai integer dapat dibuat. Tentu saja, hal ini terbatas oleh jumlah **memori** yang tersedia pada sistem Anda, seperti halnya semua hal lainnya, namun di luar itu, sebuah **integer** dapat sebesar yang Anda butuhkan."
      ]
    },
    {
      "cell_type": "code",
      "metadata": {
        "id": "oaPeTOSA2j3Z",
        "outputId": "5e2941dd-c28b-4df6-9fc9-1c0deb0a0c56"
      },
      "source": [
        "print(123123123123123123123123123123123123123123123123 + 1)"
      ],
      "execution_count": null,
      "outputs": [
        {
          "output_type": "stream",
          "text": [
            "123123123123123123123123123123123123123123123124\n"
          ],
          "name": "stdout"
        }
      ]
    },
    {
      "cell_type": "code",
      "metadata": {
        "id": "Ov_bgai72j3e",
        "outputId": "f0bd8714-c3bd-4ecd-9b0d-9671da1f5492"
      },
      "source": [
        "# Python menginterpretasikan urutan digit desimal tanpa awalan apapun sebagai angka desimal:\n",
        "\n",
        "print(10)\n",
        "print(type(10))"
      ],
      "execution_count": null,
      "outputs": [
        {
          "output_type": "stream",
          "text": [
            "10\n",
            "<class 'int'>\n"
          ],
          "name": "stdout"
        }
      ]
    },
    {
      "cell_type": "markdown",
      "metadata": {
        "id": "5kmmgRBL2j3g"
      },
      "source": [
        "## Angka Floating-Point (Floating-Point Numbers)\n",
        "\n",
        "Tipe **float** di Python menunjuk pada angka floating-point. Nilai **float** ditentukan dengan menggunakan tanda titik desimal. Secara opsional, karakter **e** atau **E** diikuti dengan angka positif atau negatif dapat ditambahkan untuk menunjukkan notasi ilmiah:"
      ]
    },
    {
      "cell_type": "code",
      "metadata": {
        "id": "0KSKLXjY2j3h",
        "outputId": "d1eb4e7b-cec7-4464-e6a6-f2dd46891e71"
      },
      "source": [
        "print(4.2)\n",
        "print(type(4.2))\n",
        "\n",
        "print(4.)\n",
        "\n",
        "print(.2)\n",
        "\n",
        "print(.4e7)\n",
        "\n",
        "print(4.2e-4)"
      ],
      "execution_count": null,
      "outputs": [
        {
          "output_type": "stream",
          "text": [
            "4.2\n",
            "<class 'float'>\n",
            "4.0\n",
            "0.2\n",
            "4000000.0\n",
            "0.00042\n"
          ],
          "name": "stdout"
        }
      ]
    },
    {
      "cell_type": "markdown",
      "metadata": {
        "id": "TCccEwzQ2j3i"
      },
      "source": [
        "## String\n",
        "\n",
        "**String** adalah urutan data karakter. Tipe data string di Python disebut **str**.\n",
        "\n",
        "Literal string dapat dibatasi menggunakan tanda kutip tunggal (**'**) atau tanda kutip ganda (**\"**). Semua karakter di antara pembatas pembuka dan penutup yang cocok merupakan bagian dari string tersebut:"
      ]
    },
    {
      "cell_type": "code",
      "metadata": {
        "id": "bmkmI_np2j3k",
        "outputId": "8fd72efc-ce0b-4ae1-9906-46134f35f431"
      },
      "source": [
        "print(\"Hacktiv8\")\n",
        "print(type(\"Hacktiv8\"))"
      ],
      "execution_count": null,
      "outputs": [
        {
          "output_type": "stream",
          "text": [
            "Hacktiv8\n",
            "<class 'str'>\n"
          ],
          "name": "stdout"
        }
      ]
    },
    {
      "cell_type": "markdown",
      "metadata": {
        "id": "UmP7SBtQ2j3l"
      },
      "source": [
        "Sebuah **string** di Python dapat berisi sebanyak mungkin karakter yang Anda inginkan. Satu-satunya batasan adalah **sumber daya memori** yang tersedia pada mesin Anda. Sebuah string juga bisa **kosong**:"
      ]
    },
    {
      "cell_type": "code",
      "metadata": {
        "id": "Cih4gmfr2j3m",
        "outputId": "b3b5bc92-69ce-43e7-a1dc-7d49c8160a95"
      },
      "source": [
        "print('')"
      ],
      "execution_count": null,
      "outputs": [
        {
          "output_type": "stream",
          "text": [
            "\n"
          ],
          "name": "stdout"
        }
      ]
    },
    {
      "cell_type": "code",
      "metadata": {
        "id": "ECpmOwFr2j3n",
        "outputId": "ef63d02c-86d0-487c-898a-8b267f653a16"
      },
      "source": [
        "print(\"This string contains a single quote (') character.\")\n",
        "\n",
        "print('This string contains a double quote (\") character.')"
      ],
      "execution_count": null,
      "outputs": [
        {
          "output_type": "stream",
          "text": [
            "This string contains a single quote (') character.\n",
            "This string contains a double quote (\") character.\n"
          ],
          "name": "stdout"
        }
      ]
    },
    {
      "cell_type": "markdown",
      "metadata": {
        "id": "StTLVAPN2j3p"
      },
      "source": [
        "## Tipe Boolean, Konteks Boolean, dan \"Truthiness\"\n",
        "\n",
        "Python 3 menyediakan tipe data **Boolean**. Objek dari tipe Boolean hanya dapat memiliki salah satu dari dua nilai, yaitu **True** atau **False**:"
      ]
    },
    {
      "cell_type": "code",
      "metadata": {
        "id": "6H5KmJse2j3q",
        "outputId": "2e89a5ff-baba-4136-f30d-5e3c7d08cc7c"
      },
      "source": [
        "print(type(True))\n",
        "\n",
        "print(type(False))"
      ],
      "execution_count": null,
      "outputs": [
        {
          "output_type": "stream",
          "text": [
            "<class 'bool'>\n",
            "<class 'bool'>\n"
          ],
          "name": "stdout"
        }
      ]
    },
    {
      "cell_type": "markdown",
      "metadata": {
        "id": "IqNFeMQP2j3_"
      },
      "source": [
        "## Variable Assignment\n",
        "\n",
        "Pikirkan variabel sebagai nama yang terhubung dengan objek tertentu. Di Python, variabel tidak perlu dideklarasikan atau didefinisikan terlebih dahulu, seperti yang diperlukan di banyak bahasa pemrograman lainnya. Untuk membuat sebuah variabel, Anda cukup memberikan nilai kepadanya dan mulai menggunakannya. *Assignment* dilakukan dengan tanda sama dengan tunggal (=):\n",
        "\n"
      ]
    },
    {
      "cell_type": "code",
      "metadata": {
        "id": "DnGpGvbo2j4B"
      },
      "source": [
        "n = 300"
      ],
      "execution_count": null,
      "outputs": []
    },
    {
      "cell_type": "code",
      "metadata": {
        "id": "gHTMaVHS2j4C",
        "outputId": "9302c6dc-3d35-4907-cdaa-727ea40b24ae"
      },
      "source": [
        "print(n)"
      ],
      "execution_count": null,
      "outputs": [
        {
          "output_type": "stream",
          "text": [
            "300\n"
          ],
          "name": "stdout"
        }
      ]
    },
    {
      "cell_type": "code",
      "metadata": {
        "id": "4EXbT6wd2j4D",
        "outputId": "1b74222a-3400-4489-edfd-bbbda7e76e6c"
      },
      "source": [
        "n"
      ],
      "execution_count": null,
      "outputs": [
        {
          "output_type": "execute_result",
          "data": {
            "text/plain": [
              "300"
            ]
          },
          "metadata": {
            "tags": []
          },
          "execution_count": 10
        }
      ]
    },
    {
      "cell_type": "code",
      "metadata": {
        "id": "mEGCJWnH2j4H",
        "outputId": "613058d1-9b74-4fad-95ee-4accef3865c8"
      },
      "source": [
        "# Kemudian, jika Anda mengubah nilai 'n' dan menggunakannya lagi, nilai baru akan disubstitusi sebagai gantinya:\n",
        "\n",
        "n = 1000\n",
        "print(n)\n",
        "\n",
        "n"
      ],
      "execution_count": null,
      "outputs": [
        {
          "output_type": "stream",
          "text": [
            "1000\n"
          ],
          "name": "stdout"
        },
        {
          "output_type": "execute_result",
          "data": {
            "text/plain": [
              "1000"
            ]
          },
          "metadata": {
            "tags": []
          },
          "execution_count": 11
        }
      ]
    },
    {
      "cell_type": "markdown",
      "metadata": {
        "id": "ssovQ0tp2j4I"
      },
      "source": [
        "Python juga memungkinkan **chained assignment**, yang memungkinkan Anda untuk menetapkan nilai yang sama ke beberapa variabel secara bersamaan:"
      ]
    },
    {
      "cell_type": "code",
      "metadata": {
        "id": "eUHfPy982j4J",
        "outputId": "bb23a544-dd39-4a0d-8784-b2d9266bf4ec"
      },
      "source": [
        "a = b = c = 300\n",
        "print(a, b, c)"
      ],
      "execution_count": null,
      "outputs": [
        {
          "output_type": "stream",
          "text": [
            "300 300 300\n"
          ],
          "name": "stdout"
        }
      ]
    },
    {
      "cell_type": "markdown",
      "metadata": {
        "id": "0-bG0s832j4L"
      },
      "source": [
        "## Tipe Variabel di Python\n",
        "\n",
        "Di banyak bahasa pemrograman, variabel memiliki **tipe statis**. Artinya, variabel dideklarasikan dengan tipe data tertentu pada awalnya, dan nilai apa pun yang diberikan kepadanya harus selalu memiliki tipe tersebut.\n",
        "\n",
        "Namun, variabel di Python **tidak terikat** pada pembatasan ini. Di Python, sebuah variabel dapat diberikan nilai dengan satu tipe dan kemudian diubah ke tipe yang berbeda di kemudian hari:"
      ]
    },
    {
      "cell_type": "code",
      "metadata": {
        "id": "zja0_eJs2j4S",
        "outputId": "787eaa10-c985-42cc-ade4-d6854bccdb0f"
      },
      "source": [
        "var = 23.5\n",
        "print(var)\n",
        "\n",
        "var = \"Now I'm a string\"\n",
        "print(var)"
      ],
      "execution_count": null,
      "outputs": [
        {
          "output_type": "stream",
          "text": [
            "23.5\n",
            "Now I'm a string\n"
          ],
          "name": "stdout"
        }
      ]
    },
    {
      "cell_type": "markdown",
      "metadata": {
        "id": "NtNYQFiq2j4U"
      },
      "source": [
        "## Nama Variabel\n",
        "\n",
        "Contoh-contoh yang telah Anda lihat sejauh ini menggunakan nama variabel yang pendek dan singkat seperti **m** dan **n**. Namun, nama variabel bisa lebih panjang dan deskriptif. Sebenarnya, sering kali lebih baik jika nama variabel tersebut lebih panjang, karena hal ini membuat tujuan variabel lebih jelas hanya dengan melihatnya.\n",
        "\n",
        "Secara resmi, nama variabel di Python bisa memiliki panjang berapa pun dan dapat terdiri dari huruf besar dan kecil (A-Z, a-z), angka (0-9), dan karakter garis bawah (**_**). Ada pembatasan tambahan yaitu, meskipun nama variabel dapat mengandung angka, **karakter pertama** dari nama variabel **tidak boleh berupa angka**."
      ]
    },
    {
      "cell_type": "code",
      "metadata": {
        "id": "bJvAzuWM2j4W",
        "outputId": "6e33e210-a1d0-4a09-d097-a985ec9f8304"
      },
      "source": [
        "name = \"Hacktiv8\"\n",
        "Age = 54\n",
        "has_laptops = True\n",
        "print(name, Age, has_laptops)"
      ],
      "execution_count": null,
      "outputs": [
        {
          "output_type": "stream",
          "text": [
            "Hacktiv8 54 True\n"
          ],
          "name": "stdout"
        }
      ]
    },
    {
      "cell_type": "markdown",
      "metadata": {
        "id": "jvVrjhXj2j4X"
      },
      "source": [
        "Namun contoh dibawah ini tidak sah, karena nama variabel **tidak boleh dimulai dengan angka**:"
      ]
    },
    {
      "cell_type": "code",
      "metadata": {
        "id": "D4010ouA2j4a"
      },
      "source": [
        "# 9_kepala_naga = True"
      ],
      "execution_count": null,
      "outputs": []
    },
    {
      "cell_type": "markdown",
      "metadata": {
        "id": "-R3DFlBK2j4b"
      },
      "source": [
        "Perhatikan bahwa **huruf besar dan kecil** itu penting. Huruf kecil dan huruf besar **tidaklah sama**. Penggunaan karakter garis bawah (**_**) juga penting. Masing-masing dari berikut ini mendefinisikan variabel yang berbeda:"
      ]
    },
    {
      "cell_type": "code",
      "metadata": {
        "id": "o6oUO0sz2j4c",
        "outputId": "fd12c654-d0bf-478b-c764-0da20af57c39"
      },
      "source": [
        "age = 1\n",
        "Age = 2\n",
        "aGe = 3\n",
        "AGE = 4\n",
        "a_g_e = 5\n",
        "_age = 6\n",
        "age_ = 7\n",
        "_AGE_ = 8\n",
        "\n",
        "print(age, Age, aGe, AGE, a_g_e, _age, age_, _AGE_)"
      ],
      "execution_count": null,
      "outputs": [
        {
          "output_type": "stream",
          "text": [
            "1 2 3 4 5 6 7 8\n"
          ],
          "name": "stdout"
        }
      ]
    },
    {
      "cell_type": "markdown",
      "metadata": {
        "id": "FxCCVhri2j4e"
      },
      "source": [
        "Di sisi lain, tidak semuanya selalu **sama mudah dibaca**. Seperti banyak hal lainnya, ini adalah masalah **preferensi pribadi**, tetapi kebanyakan orang akan merasa bahwa dua contoh pertama, di mana huruf-hurufnya digabungkan bersama, lebih sulit dibaca, terutama yang menggunakan huruf kapital semua. Metode yang paling umum digunakan untuk membangun nama variabel dengan banyak kata adalah tiga contoh terakhir:\n",
        "\n",
        "- **Camel Case**: Kata kedua dan kata-kata berikutnya ditulis dengan huruf kapital, untuk memudahkan melihat batas kata. (Mungkin seseorang berpikir pada suatu titik bahwa huruf kapital yang tersebar di seluruh nama variabel tersebut agak mirip dengan punuk unta.)  \n",
        "  Contoh: **numberOfCollegeGraduates**\n",
        "\n",
        "- **Pascal Case**: Identik dengan Camel Case, kecuali kata pertama juga menggunakan huruf kapital.  \n",
        "  Contoh: **NumberOfCollegeGraduates**\n",
        "\n",
        "- **Snake Case**: Kata-kata dipisahkan dengan garis bawah (**_**).  \n",
        "  Contoh: **number_of_college_graduates**\n",
        "\n",
        "Para programmer sering berdebat dengan penuh semangat tentang mana yang lebih baik di antara ketiganya. Argumen yang baik bisa dibuat untuk semua gaya tersebut. Gunakan mana pun dari ketiga gaya tersebut yang paling enak dilihat bagi Anda. Pilih salah satu dan gunakan secara konsisten."
      ]
    },
    {
      "cell_type": "markdown",
      "metadata": {
        "id": "NV7-WxZ_2j4i"
      },
      "source": [
        "## Operators & Expressions"
      ]
    },
    {
      "cell_type": "markdown",
      "metadata": {
        "id": "xQZx5eFG2j4j"
      },
      "source": [
        "Di Python, **operator** adalah simbol khusus yang menandakan bahwa suatu jenis perhitungan harus dilakukan. Nilai-nilai yang menjadi objek operator disebut **operand**.\n",
        "\n",
        "Berikut adalah contohnya:"
      ]
    },
    {
      "cell_type": "code",
      "metadata": {
        "id": "bIGZEfDB2j4k",
        "outputId": "75105a5b-2381-49f7-a699-cf3ce370ef0c"
      },
      "source": [
        "a = 10\n",
        "b = 20\n",
        "a + b"
      ],
      "execution_count": null,
      "outputs": [
        {
          "output_type": "execute_result",
          "data": {
            "text/plain": [
              "30"
            ]
          },
          "metadata": {
            "tags": []
          },
          "execution_count": 17
        }
      ]
    },
    {
      "cell_type": "markdown",
      "metadata": {
        "id": "KiXifXOL2j4m"
      },
      "source": [
        "Dalam hal ini, operator **+** menambahkan operand **a** dan **b** bersama-sama. Sebuah operand bisa berupa nilai literal atau variabel yang merujuk ke suatu objek:"
      ]
    },
    {
      "cell_type": "code",
      "metadata": {
        "id": "TaMv_DRQ2j4n",
        "outputId": "516ee062-c433-4d21-d1c9-7588fc8e7a91"
      },
      "source": [
        "a = 10\n",
        "b = 20\n",
        "a + b - 5"
      ],
      "execution_count": null,
      "outputs": [
        {
          "output_type": "execute_result",
          "data": {
            "text/plain": [
              "25"
            ]
          },
          "metadata": {
            "tags": []
          },
          "execution_count": 18
        }
      ]
    },
    {
      "cell_type": "markdown",
      "metadata": {
        "id": "Ze9DW-Ka2j4r"
      },
      "source": [
        "Sekumpulan operand dan operator, seperti **a + b - 5**, disebut sebagai **ekspresi**. Python mendukung banyak operator untuk menggabungkan objek data ke dalam ekspresi."
      ]
    },
    {
      "cell_type": "markdown",
      "metadata": {
        "id": "ZHE_y-xc2j4s"
      },
      "source": [
        "### Aritmetic Operators"
      ]
    },
    {
      "cell_type": "code",
      "metadata": {
        "id": "Lk5b-gRt2j4t",
        "outputId": "9000fe66-76c5-444a-83ae-d59f001a8e54"
      },
      "source": [
        "a = 4\n",
        "b = 3\n",
        "\n",
        "print(a + b)\n",
        "print(a - b)\n",
        "print(a * b)\n",
        "print(a / b)\n",
        "print(a % b)\n",
        "print(a ** b)"
      ],
      "execution_count": null,
      "outputs": [
        {
          "output_type": "stream",
          "text": [
            "7\n",
            "1\n",
            "12\n",
            "1.3333333333333333\n",
            "1\n",
            "64\n"
          ],
          "name": "stdout"
        }
      ]
    },
    {
      "cell_type": "code",
      "metadata": {
        "id": "pQyv7MEh2j4v",
        "outputId": "fe19d667-f02f-4a4d-c5e1-92934e8bcd0d"
      },
      "source": [
        "# Hasil dari pembagian standar (/) selalu berupa 'float', meskipun pembilang dapat dibagi habis oleh penyebut:\n",
        "\n",
        "10 / 5"
      ],
      "execution_count": null,
      "outputs": [
        {
          "output_type": "execute_result",
          "data": {
            "text/plain": [
              "2.0"
            ]
          },
          "metadata": {
            "tags": []
          },
          "execution_count": 20
        }
      ]
    },
    {
      "cell_type": "markdown",
      "metadata": {
        "id": "G0ucg9ig2j4z"
      },
      "source": [
        "### Comparison Operators"
      ]
    },
    {
      "cell_type": "code",
      "metadata": {
        "id": "QmG8M28H2j40",
        "outputId": "7ad778a8-108c-4558-c244-487397c189d1"
      },
      "source": [
        "a = 10\n",
        "b = 20\n",
        "print(a == b)\n",
        "\n",
        "print(a != b)\n",
        "\n",
        "print(a <= b)\n",
        "\n",
        "print(a >= b)\n",
        "\n",
        "\n",
        "a = 30\n",
        "b = 30\n",
        "print(a == b)\n",
        "\n",
        "print(a <= b)\n",
        "\n",
        "print(a >= b)"
      ],
      "execution_count": null,
      "outputs": [
        {
          "output_type": "stream",
          "text": [
            "False\n",
            "True\n",
            "True\n",
            "False\n",
            "True\n",
            "True\n",
            "True\n"
          ],
          "name": "stdout"
        }
      ]
    },
    {
      "cell_type": "markdown",
      "metadata": {
        "id": "wG53Hg8X2j42"
      },
      "source": [
        "## String Manipulation"
      ]
    },
    {
      "cell_type": "code",
      "metadata": {
        "id": "40o2vGdG2j43",
        "outputId": "84230b81-6d0d-44f4-e858-5b3008176d88"
      },
      "source": [
        "# + Operators\n",
        "s = 'foo'\n",
        "t = 'bar'\n",
        "u = 'baz'\n",
        "\n",
        "print(s + t)\n",
        "\n",
        "print(s + t + u)\n",
        "\n",
        "\n",
        "print('Hacktiv8 ' + 'Inalum')"
      ],
      "execution_count": null,
      "outputs": [
        {
          "output_type": "stream",
          "text": [
            "foobar\n",
            "foobarbaz\n",
            "Hacktiv8 Inalum\n"
          ],
          "name": "stdout"
        }
      ]
    },
    {
      "cell_type": "code",
      "metadata": {
        "id": "zEviSyKx2j47",
        "outputId": "193a2de4-6db5-4543-9e3f-c38f864f3bf4"
      },
      "source": [
        "# * Operators\n",
        "\n",
        "s = 'foo.'\n",
        "\n",
        "s * 4"
      ],
      "execution_count": null,
      "outputs": [
        {
          "output_type": "execute_result",
          "data": {
            "text/plain": [
              "'foo.foo.foo.foo.'"
            ]
          },
          "metadata": {
            "tags": []
          },
          "execution_count": 23
        }
      ]
    },
    {
      "cell_type": "code",
      "metadata": {
        "id": "M0pZ9lQZ2j49",
        "outputId": "7fcb1298-a7b2-402d-f61a-96e36f1db9f1"
      },
      "source": [
        "# in Operators\n",
        "\n",
        "s = 'foo'\n",
        "\n",
        "print(s in 'That food for us')\n",
        "\n",
        "print(s in 'That good for us')"
      ],
      "execution_count": null,
      "outputs": [
        {
          "output_type": "stream",
          "text": [
            "True\n",
            "False\n"
          ],
          "name": "stdout"
        }
      ]
    },
    {
      "cell_type": "code",
      "metadata": {
        "id": "FaFQoMmm2j4-",
        "outputId": "c7a4a370-7c9f-4ccd-aa7d-959dbce30998"
      },
      "source": [
        "# Case Conversion\n",
        "s = 'HackTIV8'\n",
        "\n",
        "# Capitalize\n",
        "print(s.capitalize())\n",
        "\n",
        "# Lower\n",
        "print(s.lower())\n",
        "\n",
        "# Swapcase\n",
        "print(s.swapcase())\n",
        "\n",
        "# Title\n",
        "print(s.title())\n",
        "\n",
        "# Uppercase\n",
        "print(s.upper())"
      ],
      "execution_count": null,
      "outputs": [
        {
          "output_type": "stream",
          "text": [
            "Hacktiv8\n",
            "hacktiv8\n",
            "hACKtiv8\n",
            "Hacktiv8\n",
            "HACKTIV8\n"
          ],
          "name": "stdout"
        }
      ]
    },
    {
      "cell_type": "markdown",
      "metadata": {
        "id": "X-I-knhn2j5C"
      },
      "source": [
        "## Python Lists\n",
        "\n",
        "Singkatnya, **list** adalah kumpulan objek sembarang, yang mirip dengan array di banyak bahasa pemrograman lainnya, tetapi lebih fleksibel. List didefinisikan di Python dengan menyertakan urutan objek yang dipisahkan koma dalam tanda kurung siku **([])**, seperti yang ditunjukkan di bawah ini:"
      ]
    },
    {
      "cell_type": "code",
      "metadata": {
        "id": "Bh8wk9CE2j5D",
        "outputId": "277fafb8-9e40-4c4b-ae81-ec79f3666572"
      },
      "source": [
        "a = ['foo', 'bar', 'baz', 'qux']\n",
        "\n",
        "print(a)"
      ],
      "execution_count": null,
      "outputs": [
        {
          "output_type": "stream",
          "text": [
            "['foo', 'bar', 'baz', 'qux']\n"
          ],
          "name": "stdout"
        }
      ]
    },
    {
      "cell_type": "markdown",
      "metadata": {
        "id": "M_e_XZrl2j5E"
      },
      "source": [
        "Karakteristik penting dari **list** di Python adalah sebagai berikut:\n",
        "\n",
        "- **List bersifat terurut** (ordered).\n",
        "- **List dapat berisi objek sembarang** (any arbitrary objects).\n",
        "- **Elemen-elemen list dapat diakses menggunakan indeks**.\n",
        "- **List dapat disarangkan** (nested) hingga kedalaman yang tidak terbatas.\n",
        "- **List bersifat mutable** (dapat diubah).\n",
        "- **List bersifat dinamis** (dapat berkembang dan mengecil sesuai kebutuhan)."
      ]
    },
    {
      "cell_type": "markdown",
      "metadata": {
        "id": "fOtK1Oqd2j5G"
      },
      "source": [
        "### List Bersifat Terurut (Ordered)\n",
        "\n",
        "Sebuah **list** bukan sekadar kumpulan objek. Ia adalah kumpulan objek yang terurut. Urutan di mana Anda menentukan elemen-elemen saat mendefinisikan sebuah list adalah karakteristik bawaan dari list tersebut dan dipertahankan sepanjang umur list itu. (Anda akan melihat tipe data Python yang tidak terurut pada tutorial berikutnya mengenai **dictionaries**.)\n",
        "\n",
        "List yang memiliki elemen yang sama dalam urutan yang berbeda ini berarti kondisi tersebut **bukanlah sama**:"
      ]
    },
    {
      "cell_type": "code",
      "metadata": {
        "id": "ctd9Fszc2j5I",
        "outputId": "7f619316-0726-4970-8a63-66597e4b00fe"
      },
      "source": [
        "a = ['foo', 'bar', 'baz', 'qux']\n",
        "b = ['baz', 'qux', 'bar', 'foo']\n",
        "\n",
        "a == b"
      ],
      "execution_count": null,
      "outputs": [
        {
          "output_type": "execute_result",
          "data": {
            "text/plain": [
              "False"
            ]
          },
          "metadata": {
            "tags": []
          },
          "execution_count": 27
        }
      ]
    },
    {
      "cell_type": "markdown",
      "metadata": {
        "id": "lggqo5Y22j5K"
      },
      "source": [
        "### List Dapat Berisi Objek Sembarangan\n",
        "\n",
        "Sebuah **list** dapat berisi berbagai macam objek. Elemen-elemen dalam sebuah list bisa semuanya memiliki tipe yang sama:"
      ]
    },
    {
      "cell_type": "code",
      "metadata": {
        "id": "e2SS-I1B2j5L",
        "outputId": "53c3d81f-7ef6-4879-bc8f-8dcf2f58221d"
      },
      "source": [
        "a = [21.42, 'foobar', 3, 4, 'bark', False, 3.14159]\n",
        "\n",
        "print(a)"
      ],
      "execution_count": null,
      "outputs": [
        {
          "output_type": "stream",
          "text": [
            "[21.42, 'foobar', 3, 4, 'bark', False, 3.14159]\n"
          ],
          "name": "stdout"
        }
      ]
    },
    {
      "cell_type": "markdown",
      "metadata": {
        "id": "HRAqt-192j5M"
      },
      "source": [
        "### Elemen List Dapat Diakses dengan Indeks\n",
        "\n",
        "Setiap elemen dalam list dapat diakses menggunakan indeks dalam tanda kurung siku. Ini sangat mirip dengan mengakses karakter-karakter individual dalam sebuah string. **Indeks list bersifat berbasis nol** (zero-based), sama seperti pada string.\n",
        "\n",
        "Pertimbangkan list berikut:"
      ]
    },
    {
      "cell_type": "code",
      "metadata": {
        "id": "bCh1e6LJ2j5O"
      },
      "source": [
        "a = ['foo', 'bar', 'baz', 'qux', 'quux', 'corge']"
      ],
      "execution_count": null,
      "outputs": []
    },
    {
      "cell_type": "markdown",
      "metadata": {
        "id": "YO7CqESh2j5P"
      },
      "source": [
        "<img src='https://files.realpython.com/media/t.eb0b38e642c5.png' />"
      ]
    },
    {
      "cell_type": "code",
      "metadata": {
        "id": "CtzeHVXA2j5Q",
        "outputId": "5b153280-6bf4-45a4-c612-af8f49c1c9b3"
      },
      "source": [
        "print(a[0])\n",
        "print(a[5])"
      ],
      "execution_count": null,
      "outputs": [
        {
          "output_type": "stream",
          "text": [
            "foo\n",
            "corge\n"
          ],
          "name": "stdout"
        }
      ]
    },
    {
      "cell_type": "markdown",
      "metadata": {
        "id": "gKwvG3KQ2j5R"
      },
      "source": [
        "Hampir segala hal mengenai **indeks string** bekerja dengan cara yang sama pada **list**. Misalnya, indeks negatif pada list menghitung dari **akhir list**:"
      ]
    },
    {
      "cell_type": "markdown",
      "metadata": {
        "id": "nUesaHiH2j5r"
      },
      "source": [
        "<img src='https://files.realpython.com/media/t.c11ea56e8ca2.png' />"
      ]
    },
    {
      "cell_type": "code",
      "metadata": {
        "id": "IP1cEXJR2j5t",
        "outputId": "919e5003-74e9-40ee-c793-c1396beff401"
      },
      "source": [
        "print(a[-1])\n",
        "print(a[-6])"
      ],
      "execution_count": null,
      "outputs": [
        {
          "output_type": "stream",
          "text": [
            "corge\n",
            "foo\n"
          ],
          "name": "stdout"
        }
      ]
    },
    {
      "cell_type": "markdown",
      "metadata": {
        "id": "4YczDSav2j5x"
      },
      "source": [
        "**Slicing** juga berfungsi dengan cara yang sama. Jika **a** adalah sebuah list, ekspresi `a[m:n]` akan mengembalikan bagian dari **a** mulai dari indeks **m** hingga, tetapi **tidak termasuk**, indeks **n**:"
      ]
    },
    {
      "cell_type": "code",
      "metadata": {
        "id": "mmet-54v2j5z",
        "outputId": "e9733b8a-6428-4e2f-ed13-30a137bf7a00"
      },
      "source": [
        "a = ['foo', 'bar', 'baz', 'qux', 'quux', 'corge']\n",
        "\n",
        "a[2:5]"
      ],
      "execution_count": null,
      "outputs": [
        {
          "output_type": "execute_result",
          "data": {
            "text/plain": [
              "['baz', 'qux', 'quux']"
            ]
          },
          "metadata": {
            "tags": []
          },
          "execution_count": 32
        }
      ]
    },
    {
      "cell_type": "code",
      "metadata": {
        "id": "TCKEGbE12j52",
        "outputId": "f60d9fc4-7b0d-4dc2-d30e-67cbab7c491f"
      },
      "source": [
        "# Operator 'konkatenasi' (+) dan 'replikasi' (*):\n",
        "\n",
        "print(a)\n",
        "\n",
        "print(a + ['grault', 'garply'])\n",
        "print(a * 2)"
      ],
      "execution_count": null,
      "outputs": [
        {
          "output_type": "stream",
          "text": [
            "['foo', 'bar', 'baz', 'qux', 'quux', 'corge']\n",
            "['foo', 'bar', 'baz', 'qux', 'quux', 'corge', 'grault', 'garply']\n",
            "['foo', 'bar', 'baz', 'qux', 'quux', 'corge', 'foo', 'bar', 'baz', 'qux', 'quux', 'corge']\n"
          ],
          "name": "stdout"
        }
      ]
    },
    {
      "cell_type": "code",
      "metadata": {
        "id": "3hPx13zv2j53",
        "outputId": "e5c1243b-e821-4ea3-98c5-55bc16112ee2"
      },
      "source": [
        "# len(), min(), max()\n",
        "\n",
        "print(a)\n",
        "\n",
        "print(len(a))\n",
        "print(min(a))\n",
        "print(max(a))"
      ],
      "execution_count": null,
      "outputs": [
        {
          "output_type": "stream",
          "text": [
            "['foo', 'bar', 'baz', 'qux', 'quux', 'corge']\n",
            "6\n",
            "bar\n",
            "qux\n"
          ],
          "name": "stdout"
        }
      ]
    },
    {
      "cell_type": "markdown",
      "metadata": {
        "id": "OcJh0hYV2j55"
      },
      "source": [
        "### Mengubah Nilai List Tunggal\n",
        "\n",
        "Sebuah nilai dalam list dapat diganti dengan menggunakan indeks dan penugasan sederhana:"
      ]
    },
    {
      "cell_type": "code",
      "metadata": {
        "id": "JSRTOsdQ2j56",
        "outputId": "eb9e1bf5-cd20-411c-c4a1-8bd841128c8b"
      },
      "source": [
        "a = ['foo', 'bar', 'baz', 'qux', 'quux', 'corge']\n",
        "\n",
        "print(a)\n",
        "\n",
        "a[2] = 10\n",
        "a[-1] = 20\n",
        "\n",
        "print(a)"
      ],
      "execution_count": null,
      "outputs": [
        {
          "output_type": "stream",
          "text": [
            "['foo', 'bar', 'baz', 'qux', 'quux', 'corge']\n",
            "['foo', 'bar', 10, 'qux', 'quux', 20]\n"
          ],
          "name": "stdout"
        }
      ]
    },
    {
      "cell_type": "code",
      "metadata": {
        "id": "biEYfQyo2j58"
      },
      "source": [
        "# Sebuah item dalam list dapat dihapus menggunakan perintah **del**:\n",
        "\n",
        "del a[3]"
      ],
      "execution_count": null,
      "outputs": []
    },
    {
      "cell_type": "code",
      "metadata": {
        "id": "0zPjNDSL2j59",
        "outputId": "0963cbbf-66d1-4f86-bf34-d0388261a128"
      },
      "source": [
        "print(a)"
      ],
      "execution_count": null,
      "outputs": [
        {
          "output_type": "stream",
          "text": [
            "['foo', 'bar', 10, 'quux', 20]\n"
          ],
          "name": "stdout"
        }
      ]
    },
    {
      "cell_type": "markdown",
      "metadata": {
        "id": "x2jnhehX2j5-"
      },
      "source": [
        "### Mengubah Beberapa Nilai List\n",
        "\n",
        "Bagaimana jika Anda ingin mengubah beberapa elemen yang berurutan dalam sebuah list sekaligus? Python memungkinkan hal ini dengan **slice assignment**, yang memiliki sintaksis berikut:"
      ]
    },
    {
      "cell_type": "code",
      "metadata": {
        "id": "40yWcfxI2j5-",
        "outputId": "8852adff-eef6-4a84-f358-e757be168bd1"
      },
      "source": [
        "a = ['foo', 'bar', 'baz', 'qux', 'quux', 'corge']\n",
        "\n",
        "print(a[1:4])\n",
        "\n",
        "a[1:4] = [1.1, 2.2, 3.3, 4.4, 5.5]\n",
        "\n",
        "print(a)"
      ],
      "execution_count": null,
      "outputs": [
        {
          "output_type": "stream",
          "text": [
            "['bar', 'baz', 'qux']\n",
            "['foo', 1.1, 2.2, 3.3, 4.4, 5.5, 'quux', 'corge']\n"
          ],
          "name": "stdout"
        }
      ]
    },
    {
      "cell_type": "markdown",
      "metadata": {
        "id": "rICet6Pr2j6A"
      },
      "source": [
        "## **Python Tuples**\n",
        "\n",
        "Python menyediakan tipe data lain yang juga merupakan **kumpulan objek terurut**, yang disebut **tuple**.\n",
        "\n",
        "\n",
        "### **Mendefinisikan dan Menggunakan Tuple**\n",
        "\n",
        "Tuple identik dengan list dalam segala hal, kecuali untuk sifat-sifat berikut:\n",
        "\n",
        "- Tuple didefinisikan dengan menyertakan elemen-elemen dalam tanda kurung **(())** bukannya tanda kurung siku **([])**.\n",
        "- Tuple **bersifat immutable** (tidak bisa diubah).\n",
        "\n",
        "Berikut adalah contoh singkat yang menunjukkan definisi tuple, indeks, dan slicing:"
      ]
    },
    {
      "cell_type": "code",
      "metadata": {
        "id": "6L48b2zn2j6B",
        "outputId": "2353eae2-3459-4290-bde9-c6dd79eafed3"
      },
      "source": [
        "t = ('foo', 'bar', 'baz', 'qux', 'quux', 'corge')\n",
        "\n",
        "print(t)"
      ],
      "execution_count": null,
      "outputs": [
        {
          "output_type": "stream",
          "text": [
            "('foo', 'bar', 'baz', 'qux', 'quux', 'corge')\n"
          ],
          "name": "stdout"
        }
      ]
    },
    {
      "cell_type": "code",
      "metadata": {
        "id": "MHA8Kg0i2j6C",
        "outputId": "84ff50f1-dff3-4aa3-a8b2-3f198a747b21"
      },
      "source": [
        "print(t[0])\n",
        "\n",
        "print(t[-1])"
      ],
      "execution_count": null,
      "outputs": [
        {
          "output_type": "stream",
          "text": [
            "foo\n",
            "corge\n"
          ],
          "name": "stdout"
        }
      ]
    },
    {
      "cell_type": "code",
      "metadata": {
        "id": "xtNoxiCQ2j6D",
        "outputId": "436f12b9-b492-4288-ef3b-97e365a84ab9"
      },
      "source": [
        "# packing & unpacking\n",
        "\n",
        "(s1, s2, s3, s4) = ('foo', 'bar', 'baz', 'qux')\n",
        "\n",
        "s1"
      ],
      "execution_count": null,
      "outputs": [
        {
          "output_type": "execute_result",
          "data": {
            "text/plain": [
              "'foo'"
            ]
          },
          "metadata": {
            "tags": []
          },
          "execution_count": 41
        }
      ]
    },
    {
      "cell_type": "markdown",
      "metadata": {
        "id": "Osy5et-Y2j6E"
      },
      "source": [
        "## **Python Dictionary**\n",
        "\n",
        "**Dictionaries** dan **lists** memiliki kesamaan dalam beberapa hal, yaitu:\n",
        "\n",
        "- **Keduanya bersifat mutable** (dapat diubah).\n",
        "- **Keduanya bersifat dinamis**, artinya mereka dapat berkembang dan mengecil sesuai kebutuhan.\n",
        "- **Keduanya dapat disarangkan** (nested). Sebuah list dapat berisi list lain. Sebuah dictionary dapat berisi dictionary lain. Sebuah dictionary juga dapat berisi list, dan sebaliknya.\n",
        "\n",
        "Namun, **dictionary** berbeda dengan **list** terutama dalam cara **mengakses elemen**:\n",
        "\n",
        "- Elemen-elemen **list** diakses berdasarkan posisi mereka dalam list, melalui **indexing**.\n",
        "- Elemen-elemen **dictionary** diakses menggunakan **key**."
      ]
    },
    {
      "cell_type": "markdown",
      "metadata": {
        "id": "TOFwcgm52j6F"
      },
      "source": [
        "### **Mendefinisikan Dictionary**\n",
        "\n",
        "**Dictionaries** adalah implementasi Python dari struktur data yang lebih umum dikenal sebagai **associative array**. Sebuah dictionary terdiri dari kumpulan pasangan **key-value**. Setiap pasangan **key-value** memetakan key ke nilai yang terkait dengannya.\n",
        "\n",
        "Anda dapat mendefinisikan dictionary dengan menyertakan daftar pasangan **key-value** yang dipisahkan koma dalam **kurung kurawal** (**{}**). Sebuah **titik dua** (**:**) memisahkan setiap key dari nilai yang terkait.\n",
        "\n",
        "Berikut adalah contoh yang mendefinisikan sebuah dictionary yang memetakan lokasi ke nama tim **Major League Baseball** yang sesuai:"
      ]
    },
    {
      "cell_type": "code",
      "metadata": {
        "id": "pl3ZaMC52j6G"
      },
      "source": [
        "MLB_team = {\n",
        "    'Colorado': 'Rockies',\n",
        "    'Boston': 'Red Sox',\n",
        "    'Minnesota': 'Twins',\n",
        "    'Milwaukee': 'Brewers',\n",
        "    'Seattle': 'Mariners'\n",
        "}"
      ],
      "execution_count": null,
      "outputs": []
    },
    {
      "cell_type": "markdown",
      "metadata": {
        "id": "g_L3JsfY2j6H"
      },
      "source": [
        "<img src='https://files.realpython.com/media/t.b3e3d8f2d100.png' width='30%'/>"
      ]
    },
    {
      "cell_type": "markdown",
      "metadata": {
        "id": "TEkIUAxq2j6H"
      },
      "source": [
        "### **Mengakses Nilai dalam Dictionary**\n",
        "\n",
        "Tentu saja, elemen-elemen dalam dictionary harus dapat diakses dengan cara tertentu. Jika Anda tidak mengaksesnya melalui **indeks**, lalu bagaimana cara Anda mengaksesnya?\n",
        "\n",
        "Nilai dalam dictionary diambil dengan menyebutkan **key** yang sesuai di dalam **kurung siku** (**[]**):"
      ]
    },
    {
      "cell_type": "code",
      "metadata": {
        "id": "VAWnONZf2j6I",
        "outputId": "109f5103-34e0-4a61-f1db-3d98d6b3d6a3"
      },
      "source": [
        "print(MLB_team['Minnesota'])\n",
        "print(MLB_team['Colorado'])\n",
        "\n",
        "# error\n",
        "# MLB_team['Toronto']"
      ],
      "execution_count": null,
      "outputs": [
        {
          "output_type": "stream",
          "text": [
            "Twins\n",
            "Rockies\n"
          ],
          "name": "stdout"
        }
      ]
    },
    {
      "cell_type": "code",
      "metadata": {
        "id": "5_sQpI232j6J",
        "outputId": "d7c02889-ba7d-41d2-97ac-0d62c9ce1323"
      },
      "source": [
        "# Menambahkan entri ke dictionary yang sudah ada cukup dengan memberikan 'key' baru dan 'value' baru:\n",
        "\n",
        "MLB_team['Kansas City'] = 'Royals'\n",
        "MLB_team"
      ],
      "execution_count": null,
      "outputs": [
        {
          "output_type": "execute_result",
          "data": {
            "text/plain": [
              "{'Colorado': 'Rockies',\n",
              " 'Boston': 'Red Sox',\n",
              " 'Minnesota': 'Twins',\n",
              " 'Milwaukee': 'Brewers',\n",
              " 'Seattle': 'Mariners',\n",
              " 'Kansas City': 'Royals'}"
            ]
          },
          "metadata": {
            "tags": []
          },
          "execution_count": 44
        }
      ]
    },
    {
      "cell_type": "code",
      "metadata": {
        "id": "wSz91oQO2j6K",
        "outputId": "875485af-8fa1-438e-fb57-54f103f02e7c"
      },
      "source": [
        "# Jika Anda ingin memperbarui entri, Anda cukup menetapkan 'value' baru ke 'key' yang sudah ada:\n",
        "\n",
        "MLB_team['Seattle'] = 'Seahawks'\n",
        "MLB_team"
      ],
      "execution_count": null,
      "outputs": [
        {
          "output_type": "execute_result",
          "data": {
            "text/plain": [
              "{'Colorado': 'Rockies',\n",
              " 'Boston': 'Red Sox',\n",
              " 'Minnesota': 'Twins',\n",
              " 'Milwaukee': 'Brewers',\n",
              " 'Seattle': 'Seahawks',\n",
              " 'Kansas City': 'Royals'}"
            ]
          },
          "metadata": {
            "tags": []
          },
          "execution_count": 45
        }
      ]
    },
    {
      "cell_type": "code",
      "metadata": {
        "id": "mgRYD9Hk2j6L",
        "outputId": "dcd1f22b-78c3-481a-bbce-84b7fdcc036d"
      },
      "source": [
        "# Untuk menghapus entri, gunakan pernyataan 'del', dengan menyebutkan 'key' yang ingin dihapus:\n",
        "\n",
        "del MLB_team['Seattle']\n",
        "MLB_team"
      ],
      "execution_count": null,
      "outputs": [
        {
          "output_type": "execute_result",
          "data": {
            "text/plain": [
              "{'Colorado': 'Rockies',\n",
              " 'Boston': 'Red Sox',\n",
              " 'Minnesota': 'Twins',\n",
              " 'Milwaukee': 'Brewers',\n",
              " 'Kansas City': 'Royals'}"
            ]
          },
          "metadata": {
            "tags": []
          },
          "execution_count": 46
        }
      ]
    },
    {
      "cell_type": "markdown",
      "metadata": {
        "id": "T2TbcDtQ2j6N"
      },
      "source": [
        "### **Membangun Dictionary Secara Bertahap**\n",
        "\n",
        "Mendefinisikan dictionary menggunakan **kurung kurawal** dan daftar pasangan **key-value**, seperti yang ditunjukkan di atas, sangat baik jika Anda sudah mengetahui semua **key** dan **value** sebelumnya. Namun, bagaimana jika Anda ingin membangun dictionary secara **dinamis**?\n",
        "\n",
        "Anda dapat mulai dengan membuat dictionary kosong, yang didefinisikan dengan **kurung kurawal kosong**. Kemudian, Anda dapat menambahkan **key** dan **value** baru satu per satu:"
      ]
    },
    {
      "cell_type": "code",
      "metadata": {
        "id": "vAHV0ftf2j6N"
      },
      "source": [
        "person = {}\n",
        "type(person)\n",
        "\n",
        "person['fname'] = 'Hack'\n",
        "person['lname'] = 'Inalum'\n",
        "person['age'] = 51\n",
        "person['spouse'] = 'Edna'\n",
        "person['children'] = ['Ralph', 'Betty', 'Joey']\n",
        "person['pets'] = {'dog': 'Fido', 'cat': 'Sox'}"
      ],
      "execution_count": null,
      "outputs": []
    },
    {
      "cell_type": "code",
      "metadata": {
        "id": "OWLFfFOS2j6O",
        "outputId": "36f616df-072e-494a-90a8-cd62d2628d8b"
      },
      "source": [
        "person"
      ],
      "execution_count": null,
      "outputs": [
        {
          "output_type": "execute_result",
          "data": {
            "text/plain": [
              "{'fname': 'Hack',\n",
              " 'lname': 'Inalum',\n",
              " 'age': 51,\n",
              " 'spouse': 'Edna',\n",
              " 'children': ['Ralph', 'Betty', 'Joey'],\n",
              " 'pets': {'dog': 'Fido', 'cat': 'Sox'}}"
            ]
          },
          "metadata": {
            "tags": []
          },
          "execution_count": 48
        }
      ]
    },
    {
      "cell_type": "code",
      "metadata": {
        "id": "3YPEFzeo2j6P",
        "outputId": "d6047bc7-b942-4a70-e941-0598afed55d2"
      },
      "source": [
        "print(person['fname'])\n",
        "print(person['lname'])"
      ],
      "execution_count": null,
      "outputs": [
        {
          "output_type": "stream",
          "text": [
            "Hack\n",
            "Inalum\n"
          ],
          "name": "stdout"
        }
      ]
    },
    {
      "cell_type": "code",
      "metadata": {
        "id": "Y8xSegOZ2j6Q",
        "outputId": "ce79c405-1190-437c-c020-51a853743a87"
      },
      "source": [
        "print(person['children'])\n",
        "print(person['children'][1])"
      ],
      "execution_count": null,
      "outputs": [
        {
          "output_type": "stream",
          "text": [
            "['Ralph', 'Betty', 'Joey']\n",
            "Betty\n"
          ],
          "name": "stdout"
        }
      ]
    },
    {
      "cell_type": "code",
      "metadata": {
        "id": "6kACoR_92j6S",
        "outputId": "a03f3a50-e1fe-4fed-bd28-ff10c7584b0b"
      },
      "source": [
        "print(person['pets'])\n",
        "print(person['pets']['cat'])"
      ],
      "execution_count": null,
      "outputs": [
        {
          "output_type": "stream",
          "text": [
            "{'dog': 'Fido', 'cat': 'Sox'}\n",
            "Sox\n"
          ],
          "name": "stdout"
        }
      ]
    },
    {
      "cell_type": "code",
      "metadata": {
        "id": "ywJbpKlO2j6T",
        "outputId": "f3d6019d-2bd8-4dc3-9a8e-916004579a34"
      },
      "source": [
        "# Built-in Methods\n",
        "d = {'a': 10, 'b': 20, 'c': 30}\n",
        "\n",
        "# items\n",
        "print(d.items())\n",
        "\n",
        "# keys\n",
        "print(d.keys())\n",
        "\n",
        "# values\n",
        "print(d.values())"
      ],
      "execution_count": null,
      "outputs": [
        {
          "output_type": "stream",
          "text": [
            "dict_items([('a', 10), ('b', 20), ('c', 30)])\n",
            "dict_keys(['a', 'b', 'c'])\n",
            "dict_values([10, 20, 30])\n"
          ],
          "name": "stdout"
        }
      ]
    },
    {
      "cell_type": "markdown",
      "metadata": {
        "id": "GPHcXyLV2j6U"
      },
      "source": [
        "Sekarang, Anda telah mempelajari tentang **variabel**, **operator**, dan **tipe data** Python secara mendalam, serta telah melihat banyak contoh kode. Hingga saat ini, kode yang telah dibahas terdiri dari pernyataan-pernyataan pendek yang hanya berfokus pada penugasan objek ke variabel atau menampilkan nilai.\n",
        "\n",
        "Namun, tentu Anda ingin melakukan lebih dari sekadar mendefinisikan data dan menampilkannya! Mari kita mulai mengatur kode menjadi **kelompok-kelompok** yang lebih kompleks."
      ]
    },
    {
      "cell_type": "markdown",
      "metadata": {
        "id": "QG4MUBcf2j6V"
      },
      "source": [
        "## **Pernyataan (Statements) di Python**\n",
        "\n",
        "**Pernyataan (statements)** adalah unit dasar instruksi yang diproses dan dianalisis oleh **Python interpreter**. Secara umum, interpreter mengeksekusi pernyataan secara **sekuensial**, satu per satu sesuai urutan yang ditemui. (Anda akan melihat pada tutorial berikutnya tentang **conditional statements**, bagaimana perilaku ini dapat diubah.)\n",
        "\n",
        "Dalam sesi **REPL (Read-Eval-Print Loop)**, pernyataan-pernyataan dieksekusi sesuai dengan yang Anda ketikkan, hingga interpreter dihentikan. Ketika Anda menjalankan sebuah **script file**, interpreter membaca pernyataan-pernyataan dari file tersebut dan mengeksekusinya hingga mencapai **end-of-file**.\n",
        "\n",
        "Program Python umumnya diatur dengan **satu pernyataan per baris**. Dengan kata lain, setiap pernyataan menempati satu baris, dengan akhir pernyataan ditandai oleh **karakter newline** yang menandakan akhir baris. Sebagian besar contoh yang ada di tutorial ini telah mengikuti pola ini."
      ]
    },
    {
      "cell_type": "code",
      "metadata": {
        "id": "JC6HqEEj2j6V",
        "outputId": "4cd998b8-23ac-48e7-e8b9-2ecb2b3941db"
      },
      "source": [
        "print('Hello, World!')\n",
        "\n",
        "x = [1, 2, 3]\n",
        "print(x)"
      ],
      "execution_count": null,
      "outputs": [
        {
          "output_type": "stream",
          "text": [
            "Hello, World!\n",
            "[1, 2, 3]\n"
          ],
          "name": "stdout"
        }
      ]
    },
    {
      "cell_type": "markdown",
      "metadata": {
        "id": "NpmbEMVE2j6X"
      },
      "source": [
        "## **Penyambungan Baris (Line Continuation)**\n",
        "\n",
        "Misalkan sebuah pernyataan dalam kode Python Anda sangat panjang. Sebagai contoh, Anda mungkin memiliki pernyataan **penugasan** dengan banyak **istilah**:"
      ]
    },
    {
      "cell_type": "code",
      "metadata": {
        "id": "InnWfGAd2j6X",
        "outputId": "015aae89-8ac8-4a5a-a971-5f931daad3ff"
      },
      "source": [
        "person1_age = 42\n",
        "person2_age = 16\n",
        "person3_age = 71\n",
        "\n",
        "someone_is_of_working_age = (person1_age >= 18 and person1_age <= 65) or (person2_age >= 18 and person2_age <= 65) or (person3_age >= 18 and person3_age <= 65)\n",
        "someone_is_of_working_age"
      ],
      "execution_count": null,
      "outputs": [
        {
          "output_type": "execute_result",
          "data": {
            "text/plain": [
              "True"
            ]
          },
          "metadata": {
            "tags": []
          },
          "execution_count": 54
        }
      ]
    },
    {
      "cell_type": "code",
      "metadata": {
        "id": "6ZgyiMKr2j6Z",
        "outputId": "5dd8e4de-1db4-4f5a-a5e1-7357724310a3"
      },
      "source": [
        "someone_is_of_working_age = (\n",
        "    (person1_age >= 18 and person1_age <= 65)\n",
        "    or (person2_age >= 18 and person2_age <= 65)\n",
        "    or (person3_age >= 18 and person3_age <= 65)\n",
        ")\n",
        "\n",
        "someone_is_of_working_age"
      ],
      "execution_count": null,
      "outputs": [
        {
          "output_type": "execute_result",
          "data": {
            "text/plain": [
              "True"
            ]
          },
          "metadata": {
            "tags": []
          },
          "execution_count": 55
        }
      ]
    }
  ]
}