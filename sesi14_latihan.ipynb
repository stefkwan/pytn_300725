{
 "cells": [
  {
   "cell_type": "markdown",
   "id": "5141005f",
   "metadata": {},
   "source": [
    "# Latihan dengan data Sales\n",
    "\n",
    "kita gunakan data Walmart Sales https://www.kaggle.com/datasets/mikhail1681/walmart-sales untuk latihan:\n",
    "\n",
    "- import data\n",
    "- data cleaning\n",
    "- data exploration, EDA, buat insight\n",
    "- build model ML\n",
    "- build pipeline\n",
    "- hyperparameter tuning\n",
    "- model inference: dari dummy data, buat prediksi menggunakan model yang barusan kita buat\n",
    "- save model (dengan joblib)\n"
   ]
  },
  {
   "cell_type": "markdown",
   "id": "ff0eeb25",
   "metadata": {},
   "source": []
  }
 ],
 "metadata": {
  "language_info": {
   "name": "python"
  }
 },
 "nbformat": 4,
 "nbformat_minor": 5
}
