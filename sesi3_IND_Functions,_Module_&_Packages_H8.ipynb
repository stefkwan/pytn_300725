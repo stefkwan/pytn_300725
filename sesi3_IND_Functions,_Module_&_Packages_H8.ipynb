{
  "nbformat": 4,
  "nbformat_minor": 0,
  "metadata": {
    "kernelspec": {
      "display_name": "Python 3",
      "language": "python",
      "name": "python3"
    },
    "language_info": {
      "codemirror_mode": {
        "name": "ipython",
        "version": 3
      },
      "file_extension": ".py",
      "mimetype": "text/x-python",
      "name": "python",
      "nbconvert_exporter": "python",
      "pygments_lexer": "ipython3",
      "version": "3.8.2"
    },
    "toc": {
      "base_numbering": 1,
      "nav_menu": {},
      "number_sections": true,
      "sideBar": true,
      "skip_h1_title": false,
      "title_cell": "Table of Contents",
      "title_sidebar": "Contents",
      "toc_cell": false,
      "toc_position": {},
      "toc_section_display": true,
      "toc_window_display": false
    },
    "colab": {
      "provenance": [],
      "toc_visible": true
    }
  },
  "cells": [
    {
      "cell_type": "markdown",
      "metadata": {
        "id": "NIC1E4wZwYBE"
      },
      "source": [
        "# Python: Functions, Module & Packages"
      ]
    },
    {
      "cell_type": "markdown",
      "metadata": {
        "id": "_AT0VcQbwYBG"
      },
      "source": [
        "# Python Function\n",
        "\n",
        "Fungsi adalah sekumpulan kode yang terorganisir dan **dapat digunakan kembali** yang digunakan untuk melakukan suatu aksi yang terkait. Fungsi memberikan modularitas yang lebih baik untuk aplikasi Anda dan memungkinkan penggunaan kode yang lebih tinggi.\n",
        "\n",
        "Seperti yang sudah Anda ketahui, Python menyediakan banyak fungsi bawaan seperti `print()`, dan sebagainya, tetapi Anda juga dapat membuat fungsi Anda sendiri. Fungsi ini disebut user-defined functions (fungsi yang didefinisikan oleh pengguna).\n",
        "\n",
        "### Mendefinisikan Fungsi\n",
        "\n",
        "Anda bisa mendefinisikan fungsi untuk memberikan fungsionalitas yang diperlukan. Berikut adalah aturan sederhana untuk mendefinisikan fungsi di Python.\n",
        "\n",
        "* Blok fungsi dimulai dengan kata kunci `def` diikuti dengan nama fungsi dan tanda kurung `( )`.\n",
        "* Parameter atau argumen input apa pun harus diletakkan di dalam tanda kurung ini. Anda juga bisa mendefinisikan parameter di dalam tanda kurung tersebut.\n",
        "* Pernyataan pertama dalam fungsi bisa berupa pernyataan opsional - string dokumentasi dari fungsi atau docstring.\n",
        "* Blok kode di dalam setiap fungsi dimulai dengan titik dua (`:`) dan diindentasikan.\n",
        "* Pernyataan `return [ekspresi]` keluar dari fungsi, dan secara opsional mengembalikan ekspresi ke pemanggil. Pernyataan return tanpa argumen sama seperti `return None`.\n",
        "\n",
        "```\n",
        "def function_name( parameters ):\n",
        "   '''docstring'''\n",
        "   statement(s)\n",
        "```\n",
        "\n",
        "Secara default, parameter memiliki perilaku posisi dan Anda perlu menyebutkan parameter tersebut dalam urutan yang sama seperti yang didefinisikan.\n",
        "\n",
        "String pertama setelah header fungsi disebut docstring, yang merupakan singkatan dari \"documentation string\". Ini digunakan untuk menjelaskan secara singkat apa yang dilakukan oleh fungsi tersebut.\n",
        "\n",
        "Meskipun opsional, dokumentasi adalah praktik pemrograman yang baik. Kecuali Anda bisa mengingat apa yang Anda makan minggu lalu, selalu dokumentasikan kode Anda.\n",
        "\n",
        "Pada contoh di atas, kita memiliki docstring segera di bawah header fungsi. Kita umumnya menggunakan tanda kutip tiga kali sehingga docstring bisa meluas hingga beberapa baris. String ini tersedia bagi kita sebagai atribut `__doc__` dari fungsi tersebut."
      ]
    },
    {
      "cell_type": "code",
      "metadata": {
        "id": "6zdApKGqwYBL"
      },
      "source": [
        "# contoh pebuatan fungsi\n",
        "\n",
        "def my_function(p, l):\n",
        "    '''Function to calculate area of a square'''\n",
        "    print(p * l)\n",
        "\n",
        "\n",
        "def printme( str_input ):\n",
        "   '''This prints a passed string into this function'''\n",
        "   print(str_input)"
      ],
      "execution_count": null,
      "outputs": []
    },
    {
      "cell_type": "markdown",
      "metadata": {
        "id": "3KWLAfsgwYBV"
      },
      "source": [
        "### Memanggil Fungsi\n",
        "\n",
        "Mendefinisikan sebuah fungsi hanya memberikan nama, menentukan parameter yang harus dimasukkan ke dalam fungsi, dan menyusun blok-blok kode. Setelah struktur dasar sebuah fungsi selesai, Anda dapat mengeksekusinya dengan memanggilnya dari fungsi lain atau langsung dari prompt Python. Berikut adalah contoh untuk memanggil fungsi `printme()`.\n",
        "\n",
        "```python\n",
        "def printme(message):\n",
        "    print(message)\n",
        "\n",
        "# Memanggil fungsi printme dengan argumen\n",
        "printme(\"Hello, World!\")\n",
        "```\n"
      ]
    },
    {
      "cell_type": "code",
      "metadata": {
        "id": "1opi6MmnwYBW",
        "colab": {
          "base_uri": "https://localhost:8080/"
        },
        "outputId": "c9ff3174-6cbc-4986-f045-fd0eccd89fad"
      },
      "source": [
        "def printme(message):\n",
        "    print(message)\n",
        "\n",
        "# Memanggil fungsi printme dengan argumen\n",
        "printme(\"Hello, World!\")"
      ],
      "execution_count": null,
      "outputs": [
        {
          "output_type": "stream",
          "name": "stdout",
          "text": [
            "I'm first call to user defined function!\n",
            "Again second call to the same function\n"
          ]
        }
      ]
    },
    {
      "cell_type": "markdown",
      "source": [
        "Pada contoh di atas, fungsi `printme()` didefinisikan untuk menerima satu parameter, yaitu `message`, dan mencetaknya. Fungsi ini kemudian dipanggil dengan memberikan argumen `\"Hello, World!\"`, yang akan dicetak ke layar."
      ],
      "metadata": {
        "id": "w6dtqzKzCO66"
      }
    },
    {
      "cell_type": "markdown",
      "metadata": {
        "id": "8OOn0UiewYBY"
      },
      "source": [
        "### Pass by reference vs value\n",
        "\n",
        "Semua parameter (argumen) dalam bahasa Python diteruskan melalui referensi. Ini berarti jika Anda mengubah apa yang direferensikan oleh sebuah parameter di dalam fungsi, perubahan tersebut juga akan tercermin kembali di fungsi pemanggil.\n"
      ]
    },
    {
      "cell_type": "code",
      "metadata": {
        "id": "MaI14tj7wYBa",
        "colab": {
          "base_uri": "https://localhost:8080/"
        },
        "outputId": "ef196fa4-6292-4075-9d8a-efa209991b5d"
      },
      "source": [
        "# Definisi fungsi ada di sini\n",
        "def changeme( mylist ):\n",
        "   '''This changes a passed list into this function'''\n",
        "   mylist = mylist+[1,2,3,4]\n",
        "   print(\"\\nValues inside the function : \", mylist)\n",
        "   return mylist\n",
        "\n",
        "# Sekarang Anda dapat memanggil fungsi changeme\n",
        "mylist = [10,20,30]\n",
        "print(\"\\nValues outside the function - before : \", mylist)\n",
        "mylist = changeme( mylist )\n",
        "print(\"\\nValues outside the function - after  : \", mylist)"
      ],
      "execution_count": null,
      "outputs": [
        {
          "output_type": "stream",
          "name": "stdout",
          "text": [
            "\n",
            "Values outside the function - before :  [10, 20, 30]\n",
            "\n",
            "Values inside the function :  [10, 20, 30, 1, 2, 3, 4]\n",
            "\n",
            "Values outside the function - after  :  [10, 20, 30, 1, 2, 3, 4]\n"
          ]
        }
      ]
    },
    {
      "cell_type": "markdown",
      "metadata": {
        "id": "25bU7I7ywYBc"
      },
      "source": [
        "Ada satu contoh lagi di mana argumen diteruskan dengan referensi dan referensi tersebut ditimpa di dalam fungsi yang dipanggil."
      ]
    },
    {
      "cell_type": "code",
      "metadata": {
        "id": "qu_lZIgHwYBd",
        "colab": {
          "base_uri": "https://localhost:8080/"
        },
        "outputId": "6c1112d9-7265-47a8-c64b-332910813c3c"
      },
      "source": [
        "# Definisi fungsi changeme\n",
        "def changeme( mylist ):\n",
        "   '''This changes a passed list into this function'''\n",
        "   mylist = [1, 2, 3, 4] # Ini akan menetapkan referensi baru di mylist\n",
        "   print(\"Values inside the function  : \", mylist)\n",
        "\n",
        "# Sekarang Anda dapat memanggil fungsi changeme\n",
        "mylist = [10, 20, 30]\n",
        "changeme( mylist )\n",
        "print(\"Values outside the function : \", mylist)"
      ],
      "execution_count": null,
      "outputs": [
        {
          "output_type": "stream",
          "name": "stdout",
          "text": [
            "Values inside the function  :  [1, 2, 3, 4]\n",
            "Values outside the function :  [10, 20, 30]\n"
          ]
        }
      ]
    },
    {
      "cell_type": "markdown",
      "metadata": {
        "id": "zKwc30ZxwYBf"
      },
      "source": [
        "### Function Arguments\n",
        "\n",
        "Anda dapat memanggil suatu fungsi dengan menggunakan jenis argumen formal berikut:\n",
        "\n",
        "- Required arguments\n",
        "- Keyword arguments\n",
        "- Default arguments\n",
        "- Variable-length arguments"
      ]
    },
    {
      "cell_type": "markdown",
      "metadata": {
        "id": "O8XEMyLVVjra"
      },
      "source": [
        "#### **Required arguments**\n",
        "\n",
        "*Required arguments* adalah argumen yang diteruskan ke suatu fungsi dalam **urutan posisi yang benar**. Di sini, jumlah argumen dalam pemanggilan fungsi harus sama persis dengan definisi fungsi.\n",
        "\n",
        "Untuk memanggil fungsi `printme()`, Anda tentu perlu meneruskan satu argumen, jika tidak, akan muncul kesalahan sintaksis seperti berikut."
      ]
    },
    {
      "cell_type": "code",
      "metadata": {
        "id": "7JNf0Kn6wYBg",
        "colab": {
          "base_uri": "https://localhost:8080/"
        },
        "outputId": "f5e3c3c1-818e-4086-b7b3-4735504b8999"
      },
      "source": [
        "def printme( str_input ):\n",
        "   '''This prints a passed string into this function'''\n",
        "   print(str_input)\n",
        "\n",
        "# Sekarang Anda dapat memanggil fungsi printme\n",
        "printme(\"Hello\")\n",
        "\n",
        "# # Sintaks ini akan memberi Anda kesalahan\n",
        "# printme()"
      ],
      "execution_count": null,
      "outputs": [
        {
          "output_type": "stream",
          "name": "stdout",
          "text": [
            "Hello\n"
          ]
        }
      ]
    },
    {
      "cell_type": "markdown",
      "metadata": {
        "id": "hyDcKDhVUVUZ"
      },
      "source": [
        "Satu contoh lagi argumen yang dibutuhkan. Mari kita buat fungsi yang dapat menghitung luas persegi panjang."
      ]
    },
    {
      "cell_type": "code",
      "metadata": {
        "colab": {
          "base_uri": "https://localhost:8080/"
        },
        "id": "v7WTfj0bUkcy",
        "outputId": "8e90759e-d219-4934-a5c8-dddcf824915f"
      },
      "source": [
        "def calculate_rect(length, width):\n",
        "  '''This function is used to calculate area of rectangle'''\n",
        "  print('Area : ', length*width)\n",
        "\n",
        "# Tentukan parameter\n",
        "length = 100\n",
        "width = 20\n",
        "\n",
        "# Panggil calculate_rect\n",
        "calculate_rect(length, width)\n",
        "\n",
        "# # Sintaks ini akan memberi Anda kesalahan\n",
        "# calculate_rect(length)"
      ],
      "execution_count": null,
      "outputs": [
        {
          "output_type": "stream",
          "name": "stdout",
          "text": [
            "Area :  2000\n"
          ]
        }
      ]
    },
    {
      "cell_type": "markdown",
      "metadata": {
        "id": "VyDDpyJiwYBi"
      },
      "source": [
        "#### **Keyword Arguments**\n",
        "\n",
        "**Argumen Kata Kunci** (Keyword arguments) terkait dengan pemanggilan fungsi. Ketika Anda menggunakan argumen kata kunci dalam pemanggilan fungsi, pemanggil **mengidentifikasi argumen dengan nama parameter**.\n",
        "\n",
        "Ini memungkinkan Anda untuk **melewatkan argumen atau menempatkannya di luar urutan**, karena interpreter Python dapat menggunakan kata kunci yang diberikan untuk mencocokkan nilai dengan parameter. Anda juga dapat melakukan pemanggilan kata kunci ke fungsi `printme()` dengan cara berikut.\n"
      ]
    },
    {
      "cell_type": "code",
      "metadata": {
        "id": "EBtfAm5FwYBj",
        "colab": {
          "base_uri": "https://localhost:8080/"
        },
        "outputId": "486ecbde-2236-4465-9ffc-6aebbe9c8bd3"
      },
      "source": [
        "def printme( str_input ):\n",
        "   '''This prints a passed string into this function'''\n",
        "   print(str_input)\n",
        "\n",
        "printme(str_input = \"Hacktiv8\")"
      ],
      "execution_count": null,
      "outputs": [
        {
          "output_type": "stream",
          "name": "stdout",
          "text": [
            "Hacktiv8\n"
          ]
        }
      ]
    },
    {
      "cell_type": "markdown",
      "metadata": {
        "id": "DLkgwa38wYBl"
      },
      "source": [
        "Contoh berikut memberikan gambaran yang lebih jelas. Perhatikan bahwa urutan parameter tidak menjadi masalah."
      ]
    },
    {
      "cell_type": "code",
      "metadata": {
        "id": "rbCjYTQVwYBm",
        "colab": {
          "base_uri": "https://localhost:8080/"
        },
        "outputId": "e353bc8a-9aac-4f9d-cadc-233f251d6cfa"
      },
      "source": [
        "def printinfo( name, age ):\n",
        "   '''This prints a passed info into this function'''\n",
        "   print(\"Name : \", name)\n",
        "   print(\"Age. : \", age)\n",
        "\n",
        "\n",
        "printinfo( age=4, name=\"a\" )"
      ],
      "execution_count": null,
      "outputs": [
        {
          "output_type": "stream",
          "name": "stdout",
          "text": [
            "Name :  a\n",
            "Age. :  4\n"
          ]
        }
      ]
    },
    {
      "cell_type": "markdown",
      "metadata": {
        "id": "Fa5H4CsQwYBo"
      },
      "source": [
        "#### **Default Arguments**\n",
        "\n",
        "**Default argument** adalah argumen yang **mengambil nilai default jika nilai tidak diberikan** dalam pemanggilan fungsi untuk argumen tersebut. Contoh berikut memberikan gambaran tentang argumen default, di mana `age` akan dicetak dengan nilai default jika tidak diberikan nilai."
      ]
    },
    {
      "cell_type": "code",
      "metadata": {
        "id": "3hxY489-wYBp",
        "colab": {
          "base_uri": "https://localhost:8080/"
        },
        "outputId": "5f7f4298-1094-4e5e-96ed-c690101960ca"
      },
      "source": [
        "def printinfo( name, age = 26 ):\n",
        "   '''This prints a passed info into this function'''\n",
        "   print(\"Name : \", name)\n",
        "   print(\"Age  : \", age)\n",
        "   print(\"\")\n",
        "\n",
        "# Sekarang Anda dapat memanggil fungsi printinfo\n",
        "printinfo( age=50, name=\"hacktiv8\" )\n",
        "printinfo( name=\"hacktiv\" )"
      ],
      "execution_count": null,
      "outputs": [
        {
          "output_type": "stream",
          "name": "stdout",
          "text": [
            "Name :  hacktiv8\n",
            "Age  :  50\n",
            "\n",
            "Name :  hacktiv\n",
            "Age  :  26\n",
            "\n"
          ]
        }
      ]
    },
    {
      "cell_type": "markdown",
      "metadata": {
        "id": "odr9gzLDXvFw"
      },
      "source": [
        "Anda harus menulis argumen default **setelah *required-argument***. Dengan kata lain, argumen yang harus diberikan nilainya saat pemanggilan fungsi harus diletakkan terlebih dahulu, sementara argumen yang memiliki nilai default dapat diletakkan setelahnya.\n",
        "\n",
        "Contoh yang benar:\n",
        "> `def printinfo(name, age=26):`\n",
        "\n",
        "Bukan:\n",
        "> `def printinfo(age=26, name):`"
      ]
    },
    {
      "cell_type": "code",
      "metadata": {
        "colab": {
          "base_uri": "https://localhost:8080/"
        },
        "id": "4vojZZnDWsbS",
        "outputId": "2438e200-afc5-466b-da10-71795fec7923"
      },
      "source": [
        "def printinfo( name, age = 26 ):\n",
        "   '''This prints a passed info into this function'''\n",
        "   print(\"Name : \", name)\n",
        "   print(\"Age  : \", age)\n",
        "   print(\"\")\n",
        "\n",
        "printinfo( age=50, name=\"hacktiv8\" )"
      ],
      "execution_count": null,
      "outputs": [
        {
          "output_type": "stream",
          "name": "stdout",
          "text": [
            "Name :  hacktiv8\n",
            "Age  :  50\n",
            "\n"
          ]
        }
      ]
    },
    {
      "cell_type": "code",
      "metadata": {
        "id": "VdJMfdANW1a4"
      },
      "source": [
        "# def printinfo( age = 26, name ):\n",
        "#    '''This prints a passed info into this function'''\n",
        "#    print(\"Name : \", name)\n",
        "#    print(\"Age  : \", age)\n",
        "#    print(\"\")\n",
        "\n",
        "# printinfo( age=50, name=\"hacktiv8\" )"
      ],
      "execution_count": null,
      "outputs": []
    },
    {
      "cell_type": "markdown",
      "metadata": {
        "id": "NEzZud0rwYBs"
      },
      "source": [
        "#### **Variable-length Arguments**\n",
        "\n",
        "Anda mungkin perlu memproses fungsi untuk **lebih banyak argumen daripada yang Anda tentukan** saat mendefinisikan fungsi. Argumen-argumen ini disebut *variable-length arguments*.\n",
        "\n",
        "Sintaks untuk fungsi dengan argumen variabel non-kata kunci adalah sebagai berikut:\n",
        "\n",
        "```py\n",
        "def functionname(args, *var_args_tuple ):\n",
        "   '''function_docstring'''\n",
        "   function_suite\n",
        "   return [expression]\n",
        "```\n",
        "\n",
        "Sebuah tanda bintang (`*`) ditempatkan sebelum nama variabel yang menampung nilai dari semua argumen variabel non-kata kunci. Semua nilai variabel dalam tanda bintang akan disimpan dalam sebuah `tuple`. `tuple` ini akan tetap kosong jika tidak ada argumen tambahan yang diberikan selama pemanggilan fungsi. Berikut adalah contoh sederhana dari kode tersebut."
      ]
    },
    {
      "cell_type": "code",
      "metadata": {
        "id": "e35VRFNfwYBt",
        "colab": {
          "base_uri": "https://localhost:8080/"
        },
        "outputId": "1f0d37f9-1e46-466b-aca1-70aeb0d88edb"
      },
      "source": [
        "def printinfo( arg1, *vartuple ):\n",
        "# def printinfo(arg1, arg2, arg3, arg4):\n",
        "   '''This prints a variable passed arguments'''\n",
        "   print('arg1     : ', arg1)\n",
        "   print('vartuple : ', vartuple)\n",
        "   print('')\n",
        "\n",
        "   for var in vartuple:\n",
        "      print('isi vartuple : ', var)\n",
        "\n",
        "# panggil fungsi printinfo\n",
        "printinfo( 10 )\n",
        "printinfo( 70, 60, 50, \"a\" )"
      ],
      "execution_count": null,
      "outputs": [
        {
          "output_type": "stream",
          "name": "stdout",
          "text": [
            "arg1     :  10\n",
            "vartuple :  ()\n",
            "\n",
            "arg1     :  70\n",
            "vartuple :  (60, 50, 'a')\n",
            "\n",
            "isi vartuple :  60\n",
            "isi vartuple :  50\n",
            "isi vartuple :  a\n"
          ]
        }
      ]
    },
    {
      "cell_type": "markdown",
      "metadata": {
        "id": "uXFZYCxKZIai"
      },
      "source": [
        "*Variable-length Arguments* memiliki dua jenis penulisan:\n",
        "\n",
        "* `*`(satu asterisk) : Semua argumen non-kata kunci akan disimpan dalam sebuah `tuple`.\n",
        "```py\n",
        "def functionname(args, *var_args_tuple ):\n",
        "   '''function_docstring'''\n",
        "   function_suite\n",
        "   return [expression]\n",
        "```\n",
        "\n",
        "* `**`(dua asterisk) : Semua argumen non-kata kunci akan disimpan dalam sebuah `dict`.\n",
        "```py\n",
        "def functionname(args, **var_args_dict ):\n",
        "   '''function_docstring'''\n",
        "   function_suite\n",
        "   return [expression]\n",
        "```\n",
        "\n",
        "Dengan menggunakan `*`, Anda bisa menangani sejumlah argumen yang tidak terbatas yang tidak diberi nama, dan mereka akan disimpan dalam sebuah tuple. Sementara dengan `**`, Anda bisa menangani argumen yang diberikan sebagai pasangan kunci-nilai, dan mereka akan disimpan dalam sebuah dictionary."
      ]
    },
    {
      "cell_type": "code",
      "metadata": {
        "colab": {
          "base_uri": "https://localhost:8080/"
        },
        "id": "ZSeg_P5__Mth",
        "outputId": "b3e96ffd-b509-40b6-b902-dd23c0aaaa2f"
      },
      "source": [
        "def person_car(total_data, **kwargs):\n",
        "  '''Create a function to print who owns what car'''\n",
        "  print('Total Data : ', total_data)\n",
        "  for key, value in kwargs.items():\n",
        "    print('Person : ', key)\n",
        "    print('Car    : ', value)\n",
        "    print('')\n",
        "\n",
        "person_car(3, jimmy='chevrolet', frank='ford', tina='honda')\n",
        "person_car(3)\n",
        "\n",
        "# Parameters (jimmy='chevrolet', frank='ford', tina='honda') will be equal to\n",
        "# kwargs = {\n",
        "#     'jimmy': 'chevrolet',\n",
        "#     'frank': 'ford',\n",
        "#     'tina': 'honda'\n",
        "# }"
      ],
      "execution_count": null,
      "outputs": [
        {
          "output_type": "stream",
          "name": "stdout",
          "text": [
            "Total Data :  3\n",
            "Person :  jimmy\n",
            "Car    :  chevrolet\n",
            "\n",
            "Person :  frank\n",
            "Car    :  ford\n",
            "\n",
            "Person :  tina\n",
            "Car    :  honda\n",
            "\n",
            "Total Data :  3\n"
          ]
        }
      ]
    },
    {
      "cell_type": "markdown",
      "metadata": {
        "id": "C72AESjfwYBv"
      },
      "source": [
        "### Anonymous Functions\n",
        "\n",
        "**Fungsi Anonim** (Anonymous Functions) adalah fungsi yang tidak memiliki nama. Fungsi ini didefinisikan menggunakan kata kunci `lambda` di Python, bukan dengan cara standar menggunakan `def`. Fungsi anonim umumnya digunakan untuk fungsi-fungsi kecil yang hanya dipakai sekali dan tidak memerlukan nama khusus.\n",
        "\n",
        "Fungsi anonim sering digunakan ketika Anda membutuhkan fungsi sementara tanpa harus mendeklarasikan fungsi dengan nama tertentu.\n",
        "\n",
        "### Ciri-ciri Fungsi Anonim:\n",
        "- Fungsi ini tidak menggunakan kata kunci `def`, melainkan menggunakan kata kunci `lambda`.\n",
        "- Fungsi anonim hanya mengandung satu ekspresi dan tidak dapat memiliki pernyataan atau ekspresi ganda.\n",
        "- Fungsi ini biasanya digunakan untuk operasi singkat, seperti yang diperlukan dalam operasi fungsi seperti `map()`, `filter()`, atau `sorted()`.\n",
        "\n",
        "### Sintaks Fungsi Anonim:\n",
        "```python\n",
        "lambda arg1, arg2, ... : expression\n",
        "```\n",
        "\n",
        "Contoh penggunaan fungsi anonim:\n",
        "```python\n",
        "# Fungsi anonim untuk penjumlahan dua angka\n",
        "add = lambda x, y: x + y\n",
        "\n",
        "# Memanggil fungsi anonim\n",
        "print(add(2, 3))  # Output: 5\n",
        "```\n",
        "\n",
        "Pada contoh di atas, `lambda` mendefinisikan fungsi anonim yang menerima dua argumen `x` dan `y`, kemudian mengembalikan hasil penjumlahan dari keduanya. Fungsi ini langsung disimpan dalam variabel `add`, yang kemudian dipanggil seperti fungsi biasa."
      ]
    },
    {
      "cell_type": "code",
      "metadata": {
        "id": "V1K6SPtKwYBx",
        "colab": {
          "base_uri": "https://localhost:8080/"
        },
        "outputId": "3def5224-a086-4d77-8fcc-7b19999f087d"
      },
      "source": [
        "sum = lambda arg1, arg2: arg1 + arg2\n",
        "\n",
        "# fungsi ini akan sama dengan fungsi berikut :\n",
        "# def sum(arg1, arg2):\n",
        "#     return arg1+arg2\n",
        "\n",
        "print(\"Value of total : \", sum( 10, 20 ))\n",
        "print(\"Value of total : \", sum( 20, 20 ))"
      ],
      "execution_count": null,
      "outputs": [
        {
          "output_type": "stream",
          "name": "stdout",
          "text": [
            "Value of total :  30\n",
            "Value of total :  40\n"
          ]
        }
      ]
    },
    {
      "cell_type": "markdown",
      "metadata": {
        "id": "tR0HAVaXwYBy"
      },
      "source": [
        "### `return` Statement\n",
        "\n",
        "Pernyataan `return [expression]` digunakan untuk keluar dari fungsi, dengan opsi untuk mengembalikan sebuah `expression` ke pemanggil. Pernyataan `return` tanpa argumen sama dengan `return None`.\n"
      ]
    },
    {
      "cell_type": "code",
      "metadata": {
        "id": "OVO-ksiqwYBz",
        "colab": {
          "base_uri": "https://localhost:8080/"
        },
        "outputId": "3141ef4c-24e7-4af9-f7ef-70dddc61c6ae"
      },
      "source": [
        "def sum(arg1, arg2):\n",
        "    total = arg1 + arg2\n",
        "    return total\n",
        "\n",
        "total = sum(10, 20)\n",
        "print(\"Result function : \", total)"
      ],
      "execution_count": null,
      "outputs": [
        {
          "output_type": "stream",
          "name": "stdout",
          "text": [
            "Result function :  30\n"
          ]
        }
      ]
    },
    {
      "cell_type": "markdown",
      "metadata": {
        "id": "ngA2KhwbwYB0"
      },
      "source": [
        "### Scope of Variables\n",
        "\n",
        "Tidak semua variabel dalam sebuah program dapat diakses di semua bagian program tersebut. Ini bergantung pada tempat di mana Anda mendeklarasikan variabel.\n",
        "\n",
        "Lingkup (scope) variabel adalah area dalam program di mana Anda bisa mengakses variabel tersebut. Ada dua jenis lingkup variabel di Python:\n",
        "\n",
        "- **Variabel Global** (Global variables)\n",
        "- **Variabel Lokal** (Local variables)\n",
        "\n",
        "**Variabel Global vs. Lokal**\n",
        "\n",
        "- **Variabel Lokal**: Variabel yang didefinisikan di dalam sebuah fungsi. Variabel ini hanya bisa diakses di dalam fungsi itu saja.\n",
        "  \n",
        "- **Variabel Global**: Variabel yang didefinisikan di luar fungsi. Variabel ini bisa diakses oleh semua fungsi dalam program.\n",
        "\n",
        "Jadi, **variabel lokal** hanya bisa digunakan dalam fungsi tempat variabel itu dideklarasikan, sementara **variabel global** bisa digunakan di mana saja dalam program, termasuk di dalam fungsi. Ketika Anda memanggil fungsi, variabel yang ada di dalam fungsi tersebut hanya bisa digunakan di dalam fungsi itu saja."
      ]
    },
    {
      "cell_type": "code",
      "metadata": {
        "id": "kWpz91yDwYB2",
        "colab": {
          "base_uri": "https://localhost:8080/"
        },
        "outputId": "357cc3d2-f035-4d91-dffe-49805bea82ce"
      },
      "source": [
        "# Deklarasikan variabel global\n",
        "total = 0\n",
        "\n",
        "# Buat fungsi sum\n",
        "def sum( arg1, arg2 ):\n",
        "   total = arg1 + arg2  # variabel total lokal dalam fungsi\n",
        "   print(\"Inside the function local total   : \", total)\n",
        "\n",
        "# Panggil fungsi\n",
        "sum( 10, 20 )\n",
        "\n",
        "# Cetak nilai variabel global total\n",
        "print(\"Outside the function global total : \", total)\n"
      ],
      "execution_count": null,
      "outputs": [
        {
          "output_type": "stream",
          "name": "stdout",
          "text": [
            "Inside the function local total   :  30\n",
            "Outside the function global total :  0\n"
          ]
        }
      ]
    },
    {
      "cell_type": "markdown",
      "metadata": {
        "id": "Xs7_QwE7jJJl"
      },
      "source": [
        "Mari kita periksa efek pernyataan `return` pada kode di atas dan masukkan ke variabel dengan nama yang sama. Kita akan melihat bahwa variabel `total` telah berubah dalam lingkup global."
      ]
    },
    {
      "cell_type": "code",
      "metadata": {
        "colab": {
          "base_uri": "https://localhost:8080/"
        },
        "id": "taVGIsPojY90",
        "outputId": "eb317c85-7aa8-4e01-b90d-82c5ce0c9cb4"
      },
      "source": [
        "# Deklarasikan variabel global\n",
        "total = 0\n",
        "\n",
        "# Buat fungsi sum\n",
        "def sum( arg1, arg2 ):\n",
        "   total = arg1 + arg2;\n",
        "   print(\"Inside the function local total   : \", total)\n",
        "   return total\n",
        "\n",
        "\n",
        "# Panggil fungsi\n",
        "print(\"Outside the function global total - before : \", total)\n",
        "total = sum( 10, 20 )\n",
        "print(\"Outside the function global total - after  : \", total)"
      ],
      "execution_count": null,
      "outputs": [
        {
          "output_type": "stream",
          "name": "stdout",
          "text": [
            "Outside the function global total - before :  0\n",
            "Inside the function local total   :  30\n",
            "Outside the function global total - after  :  30\n"
          ]
        }
      ]
    },
    {
      "cell_type": "markdown",
      "metadata": {
        "id": "PYrBRpiwj30j"
      },
      "source": [
        "### Docstring\n",
        "\n",
        "Docstring adalah sebuah literal string yang digunakan sebagai pernyataan pertama dalam sebuah modul, fungsi, kelas, atau definisi metode. Docstring ini menjadi atribut khusus `__doc__` dari objek tersebut.\n",
        "\n",
        "Setiap modul sebaiknya memiliki docstring, dan setiap fungsi serta kelas yang diekspor oleh sebuah modul juga harus memiliki docstring.\n",
        "\n",
        "Untuk konsistensi, selalu gunakan **'''tanda kutip tunggal tiga'''** atau **\"\"\"tanda kutip ganda tiga\"\"\"** di sekitar docstring.\n",
        "\n",
        "Tidak ada aturan ketat tentang cara menulis docstring. Anda dapat menulis docstring sesuai keinginan. Namun, untuk penjelasan yang jelas, docstring biasanya berisi 3 bagian berikut:\n",
        "1. **Tujuan** dari modul, fungsi, kelas, atau metode tersebut.\n",
        "2. **Deskripsi parameter input** beserta tipe datanya.\n",
        "3. **Deskripsi parameter output** (hanya jika fungsi mengembalikan sesuatu).\n",
        "\n",
        "Contoh penulisan docstring pada fungsi:\n",
        "\n",
        "```python\n",
        "def add_numbers(a, b):\n",
        "    \"\"\"\n",
        "    Fungsi ini digunakan untuk menjumlahkan dua angka.\n",
        "\n",
        "    Parameters:\n",
        "    a (int, float): Angka pertama yang akan dijumlahkan.\n",
        "    b (int, float): Angka kedua yang akan dijumlahkan.\n",
        "\n",
        "    Returns:\n",
        "    int, float: Hasil penjumlahan dari a dan b.\n",
        "    \"\"\"\n",
        "    return a + b\n",
        "```\n",
        "\n",
        "Pada contoh di atas, docstring memberikan:\n",
        "- **Tujuan fungsi**: Menjumlahkan dua angka.\n",
        "- **Deskripsi parameter**: Menyebutkan tipe data dan penjelasan singkat untuk masing-masing parameter (`a` dan `b`).\n",
        "- **Deskripsi hasil yang dikembalikan**: Menyebutkan tipe data yang dikembalikan oleh fungsi (`int` atau `float`).\n",
        "\n",
        "Docstring membantu pengguna atau programmer lain untuk memahami dengan jelas apa yang dilakukan oleh kode tersebut, apa parameter yang diperlukan, dan apa yang akan dikembalikan."
      ]
    },
    {
      "cell_type": "code",
      "metadata": {
        "id": "8XPckCkhx_2p"
      },
      "source": [
        "# contoh docstring\n",
        "\n",
        "def sum_number(num1, num2):\n",
        "  '''\n",
        "  This function is used to sum of 2 variables.\n",
        "  :param num1: Input number 1 | int or float\n",
        "  :param num2: Input number 2 | int or float\n",
        "\n",
        "  :return: num3: Sum of number | int or float\n",
        "  '''\n",
        "\n",
        "  num3 = num1 + num2\n",
        "  return num3"
      ],
      "execution_count": null,
      "outputs": []
    },
    {
      "cell_type": "code",
      "metadata": {
        "colab": {
          "base_uri": "https://localhost:8080/"
        },
        "id": "WECZpLi4lSsh",
        "outputId": "4c73561c-b09a-427a-ace2-ce57c77021cd"
      },
      "source": [
        "# Sintaks untuk mendapatkan penjelasan/docstring dari modul/fungsi/kelas tertentu\n",
        "\n",
        "print(sum_number.__doc__)"
      ],
      "execution_count": null,
      "outputs": [
        {
          "output_type": "stream",
          "name": "stdout",
          "text": [
            "\n",
            "  This function is used to sum of 2 variables.\n",
            "  :param num1: Input number 1 | int or float\n",
            "  :param num2: Input number 2 | int or float\n",
            "  \n",
            "  :return: num3: Sum of number | int or float\n",
            "  \n"
          ]
        }
      ]
    },
    {
      "cell_type": "markdown",
      "metadata": {
        "id": "SZD-J1k_uuja"
      },
      "source": [
        "# Module & Packages\n",
        "\n",
        "Bagian ini membahas tentang **modul** Python dan **paket** Python, dua mekanisme yang mempermudah pemrograman modular.\n",
        "\n",
        "Pemrograman modular merujuk pada proses memecah tugas pemrograman yang besar dan sulit menjadi bagian-bagian terpisah yang lebih kecil dan lebih mudah dikelola, yang disebut subtugas atau modul. Setiap modul individu kemudian dapat disatukan seperti blok bangunan untuk membuat aplikasi yang lebih besar.\n",
        "\n",
        "Ada beberapa keuntungan dari memodularisasi kode dalam aplikasi besar:\n",
        "\n",
        "- **Simplicity**: Alih-alih berfokus pada keseluruhan masalah yang ada, sebuah modul biasanya hanya berfokus pada satu bagian kecil dari masalah. Jika Anda bekerja pada modul tunggal, Anda akan memiliki ruang lingkup masalah yang lebih kecil untuk dipahami. Ini membuat pengembangan lebih mudah dan mengurangi kemungkinan kesalahan.\n",
        "\n",
        "- **Maintainability**: Modul-modul biasanya dirancang agar mewujudkan batasan logis antara berbagai domain masalah. Jika modul ditulis dengan cara yang meminimalkan ketergantungan antar modul, kemungkinan besar perubahan pada satu modul tidak akan berdampak pada bagian lain dari program. (**Anda bahkan bisa melakukan perubahan pada sebuah modul tanpa mengetahui aplikasi di luar modul tersebut.**) Ini membuat kerja tim dengan banyak programmer lebih mudah dan memungkinkan pengembangan aplikasi besar secara kolaboratif.\n",
        "\n",
        "- **Reusability**: Fungsionalitas yang didefinisikan dalam sebuah modul dapat dengan mudah digunakan kembali (melalui antarmuka yang didefinisikan dengan baik) oleh bagian-bagian lain dari aplikasi. **Hal ini menghilangkan kebutuhan untuk membuat kode duplikat**.\n",
        "\n",
        "\n",
        "- **Scoping**: Modul-modul biasanya mendefinisikan ruang nama terpisah, yang membantu menghindari tabrakan antar identifier di berbagai bagian program."
      ]
    },
    {
      "cell_type": "markdown",
      "metadata": {
        "id": "XAJklZOkuujb"
      },
      "source": [
        "## Python Modules: Overview\n",
        "\n",
        "Ada tiga cara berbeda untuk mendefinisikan modul di Python:\n",
        "\n",
        "- Modul bisa ditulis langsung dalam Python itu sendiri, seperti `Scrapy`, `Scikit-Learn`.\n",
        "- Modul bisa ditulis dalam C dan dimuat secara dinamis saat runtime, seperti modul `re` (regular expression).\n",
        "- Modul bawaan adalah modul yang sudah ada di dalam interpreter, seperti modul `time`, `os`, `sys`.\n",
        "\n",
        "Konten dari sebuah modul dapat diakses dengan cara yang sama di ketiga kasus tersebut, yaitu dengan menggunakan pernyataan `import`.\n",
        "\n",
        "Di sini, fokus utamanya adalah modul-modul yang ditulis dalam Python. Keuntungan dari modul yang ditulis dalam Python adalah mereka sangat mudah untuk dibuat. Yang perlu Anda lakukan adalah membuat file yang berisi kode Python yang sah, dan kemudian beri nama file tersebut dengan ekstensi `.py`. Itu saja! Tidak ada sintaks khusus atau trik yang diperlukan.\n",
        "\n",
        "Misalnya, katakanlah Anda telah membuat sebuah file bernama `person.py` yang berisi kode berikut:"
      ]
    },
    {
      "cell_type": "code",
      "metadata": {
        "id": "Gej3PYX1uujb"
      },
      "source": [
        "name = 'zack'\n",
        "devices = ['laptop', 'smartphone', 'tablet']\n",
        "\n",
        "def display(arg):\n",
        "    print(f'arg = {arg}')"
      ],
      "execution_count": null,
      "outputs": []
    },
    {
      "cell_type": "markdown",
      "metadata": {
        "id": "KQzJ6D66uujc"
      },
      "source": [
        "Beberapa objek didefinisikan dalam `person.py`:\n",
        "\n",
        "- `name` (sebuah **string**)\n",
        "- `devices` (sebuah **list**)\n",
        "- `display()` (sebuah **function**)\n",
        "\n",
        "Dengan asumsi `person.py` berada di lokasi yang tepat, yang akan Anda pelajari lebih lanjut nanti, objek-objek ini dapat diakses dengan mengimpor modul seperti berikut:\n",
        "\n",
        "```console\n",
        ">>> import person\n",
        ">>> print(person.name)\n",
        "zack\n",
        ">>> person.devices\n",
        "['laptop', 'smartphone', 'tablet']\n",
        ">>> person.display('Good Morning !')\n",
        "arg = 'Good Morning !'\n",
        "```\n",
        "\n",
        "Dalam contoh di atas:\n",
        "\n",
        "- `person.name` mengakses nilai dari variabel `name` yang ada di dalam file `person.py`.\n",
        "- `person.devices` mengakses daftar `devices` yang ada dalam modul tersebut.\n",
        "- `person.display('Good Morning !')` memanggil fungsi `display()` yang menerima argumen berupa string `'Good Morning !'`.\n",
        "\n",
        "Dengan mengimpor modul `person`, Anda bisa mengakses semua objek yang didefinisikan di dalamnya."
      ]
    },
    {
      "cell_type": "code",
      "metadata": {
        "colab": {
          "base_uri": "https://localhost:8080/"
        },
        "id": "eNtn_EU0xiei",
        "outputId": "69030118-660d-46ac-d114-ea2689be8c03"
      },
      "source": [
        "import person\n",
        "print(person.name)"
      ],
      "execution_count": null,
      "outputs": [
        {
          "output_type": "stream",
          "name": "stdout",
          "text": [
            "zack\n"
          ]
        }
      ]
    },
    {
      "cell_type": "markdown",
      "metadata": {
        "id": "UB-GSCaxuujc"
      },
      "source": [
        "## The Module Search Path\n",
        "\n",
        "Melanjutkan contoh di atas, mari kita lihat apa yang terjadi ketika Python mengeksekusi pernyataan:\n",
        "\n",
        "`import person`\n",
        "\n",
        "Ketika interpreter mengeksekusi pernyataan `import` di atas, ia mencari `person.py` dalam daftar direktori yang disusun dari sumber-sumber berikut:\n",
        "\n",
        "- Direktori tempat skrip dijalankan atau **direktori saat ini** jika interpreter dijalankan secara interaktif.\n",
        "- Daftar direktori yang terdapat dalam variabel lingkungan **PYTHONPATH**, jika variabel ini diset. (Format untuk PYTHONPATH bergantung pada sistem operasi, tetapi seharusnya meniru variabel lingkungan PATH.)\n",
        "\n",
        "Jalur pencarian yang dihasilkan dapat diakses dalam variabel Python `sys.path`, yang diperoleh dari modul bernama `sys`:\n",
        "\n",
        "```console\n",
        ">>> import sys\n",
        ">>> sys.path\n",
        "\n",
        "['', '/usr/local/anaconda3/lib/python37.zip', '/usr/local/anaconda3/lib/python3.7', '/usr/local/anaconda3/lib/python3.7/lib-dynload', '/usr/local/anaconda3/lib/python3.7/site-packages', '/usr/local/anaconda3/lib/python3.7/site-packages/aeosa']\n",
        "```\n",
        "\n",
        "Daftar `sys.path` ini menunjukkan urutan pencarian di mana Python akan mencari file modul (seperti `person.py`) ketika Anda menggunakan perintah `import`. Pencarian pertama akan dilakukan pada direktori saat ini (atau direktori dari mana skrip dijalankan), diikuti oleh direktori yang ada dalam PYTHONPATH dan lokasi lainnya sesuai konfigurasi sistem."
      ]
    },
    {
      "cell_type": "code",
      "metadata": {
        "colab": {
          "base_uri": "https://localhost:8080/"
        },
        "id": "Sc_s1L53zNJ7",
        "outputId": "163315ab-f481-4f05-b5fe-e893db60edb8"
      },
      "source": [
        "# Jika Anda menggunakan Google Collaboratory, Anda akan menemukan hasil yang serupa\n",
        "\n",
        "import sys\n",
        "print(sys.path)"
      ],
      "execution_count": null,
      "outputs": [
        {
          "output_type": "stream",
          "name": "stdout",
          "text": [
            "['', '/content', '/env/python', '/usr/lib/python37.zip', '/usr/lib/python3.7', '/usr/lib/python3.7/lib-dynload', '/usr/local/lib/python3.7/dist-packages', '/usr/lib/python3/dist-packages', '/usr/local/lib/python3.7/dist-packages/IPython/extensions', '/root/.ipython']\n"
          ]
        }
      ]
    },
    {
      "cell_type": "markdown",
      "metadata": {
        "id": "oDfFCTMRuujd"
      },
      "source": [
        "Dengan demikian, untuk memastikan modul Anda dapat ditemukan, Anda perlu melakukan salah satu dari hal berikut:\n",
        "\n",
        "- Tempatkan `person.py` di direktori tempat skrip input berada atau **direktori saat ini**, jika sedang dijalankan dalam mode interaktif.\n",
        "- **Modifikasi variabel lingkungan PYTHONPATH** agar mencakup direktori tempat `person.py` berada sebelum memulai interpreter.\n",
        "- Tempatkan `person.py` di salah satu **direktori yang sudah ada dalam variabel PYTHONPATH**.\n",
        "\n",
        "Sebenarnya ada satu opsi tambahan: Anda bisa meletakkan file modul di direktori mana pun yang Anda pilih, kemudian memodifikasi `sys.path` saat runtime sehingga mencakup direktori tersebut. Misalnya, jika direktori saat ini Anda berada di `/Users/ardhiraka/`, Anda bisa meletakkan `person.py` di direktori `/Users/ardhiraka/Desktop/H8Py` dan kemudian menjalankan pernyataan berikut:\n",
        "\n",
        "```console\n",
        ">>> sys.path.append(r'/Users/ardhiraka/Desktop/H8Py')\n",
        ">>> sys.path\n",
        "\n",
        "['', '/usr/local/anaconda3/lib/python37.zip', '/usr/local/anaconda3/lib/python3.7', '/usr/local/anaconda3/lib/python3.7/lib-dynload', '/usr/local/anaconda3/lib/python3.7/site-packages', '/usr/local/anaconda3/lib/python3.7/site-packages/aeosa', '/usr/local/', '/Users/ardhiraka/Desktop/H8Py']\n",
        "\n",
        "import person\n",
        "```\n",
        "\n",
        "Dengan cara ini, Python akan menambahkan direktori `/Users/ardhiraka/Desktop/H8Py` ke jalur pencarian (`sys.path`) sehingga Anda dapat mengimpor modul `person.py` dari lokasi tersebut."
      ]
    },
    {
      "cell_type": "markdown",
      "metadata": {
        "id": "b0bUuiKDuuje"
      },
      "source": [
        "Setelah sebuah modul diimpor, Anda dapat menentukan lokasi tempat modul tersebut ditemukan menggunakan atribut `__file__` dari modul tersebut:\n",
        "\n",
        "```console\n",
        ">>> import mod\n",
        ">>> mod.__file__\n",
        "'/Users/ardhiraka/Desktop/H8Py'\n",
        "\n",
        ">>> import re\n",
        ">>> re.__file__\n",
        "'/usr/local/anaconda3/lib/python3.7/re.py'\n",
        "```\n",
        "\n",
        "Bagian direktori dari `__file__` seharusnya berada di salah satu direktori yang ada dalam `sys.path`.\n",
        "\n",
        "Hal ini memungkinkan Anda untuk memverifikasi dari mana Python mengambil modul dan memastikan modul tersebut berada di jalur yang benar untuk dapat diakses."
      ]
    },
    {
      "cell_type": "markdown",
      "metadata": {
        "id": "X8bLWGYu-hr-"
      },
      "source": [
        "## Pernyataan import"
      ]
    },
    {
      "cell_type": "markdown",
      "metadata": {
        "id": "shXlikKbuujf"
      },
      "source": [
        "### Sintaks Default\n",
        "\n",
        "Konten modul tersedia untuk pemanggil dengan pernyataan `import`. Pernyataan `import` memiliki berbagai bentuk, seperti yang ditunjukkan di bawah ini.\n",
        "\n",
        "> `import <nama_modul>`\n",
        "\n",
        "Perhatikan bahwa ini tidak membuat konten modul langsung dapat diakses oleh pemanggil. Setiap modul memiliki tabel simbol pribadinya sendiri, yang berfungsi sebagai tabel simbol global untuk semua objek yang didefinisikan dalam modul tersebut. Oleh karena itu, modul menciptakan ruang nama (namespace) terpisah, seperti yang telah disebutkan sebelumnya.\n",
        "\n",
        "Pernyataan `import <nama_modul>` hanya menempatkan `<nama_modul>` ke dalam tabel simbol pemanggil. Objek-objek yang didefinisikan dalam modul tetap berada di dalam tabel simbol pribadi modul dan tidak dapat diakses langsung.\n",
        "\n",
        "Dari pemanggil, objek dalam modul hanya dapat diakses ketika diawali dengan `<nama_modul>` menggunakan notasi titik (`.`), seperti yang dijelaskan di bawah ini.\n",
        "\n",
        "Setelah pernyataan import berikut, `person` ditempatkan ke dalam tabel simbol lokal. Dengan demikian, `person` memiliki makna dalam konteks lokal pemanggil:\n",
        "\n",
        "```console\n",
        ">>> import person\n",
        ">>> person\n",
        "<module 'person' from '/Users/ardhiraka/Desktop/H8Py'>\n",
        "```\n",
        "\n",
        "Namun, `name` dan `devices` tetap berada di dalam tabel simbol pribadi modul dan tidak memiliki makna dalam konteks lokal:\n",
        "\n",
        "```console\n",
        ">>> name\n",
        "NameError: name 'name' is not defined\n",
        ">>> display('Good Morning')\n",
        "NameError: name 'display' is not defined\n",
        "```\n",
        "\n",
        "Untuk mengakses objek dalam konteks lokal, nama objek yang didefinisikan dalam modul harus diawali dengan `person`:\n",
        "\n",
        "```console\n",
        ">>> person.name\n",
        "'zack'\n",
        ">>> person.display('Good Morning')\n",
        "arg = Good Morning\n",
        "```\n",
        "\n",
        "Beberapa modul yang dipisahkan dengan koma dapat ditentukan dalam satu pernyataan import:\n",
        "\n",
        "`import <nama_modul_1>, <nama_modul_2>, <nama_modul_3>`\n",
        "\n",
        "----"
      ]
    },
    {
      "cell_type": "markdown",
      "metadata": {
        "id": "TiXhEr3Q-xlM"
      },
      "source": [
        "### `from <module_name> import <something>`\n",
        "\n",
        "Bentuk alternatif dari pernyataan `import` memungkinkan objek individual dari modul untuk diimpor langsung ke dalam tabel simbol pemanggil:\n",
        "\n",
        "> `from <nama_modul> import <sesuatu>`\n",
        "\n",
        "Setelah eksekusi pernyataan di atas, `<sesuatu>` dapat dirujuk dalam lingkungan pemanggil tanpa awalan `<nama_modul>`:\n",
        "\n",
        "```console\n",
        ">>> from person import name, display\n",
        ">>> name\n",
        "'zack'\n",
        ">>> display('Good Morning')\n",
        "arg = Good Morning\n",
        "```\n",
        "\n",
        "Karena bentuk `import` ini menempatkan nama objek langsung ke dalam tabel simbol pemanggil, setiap objek yang sudah ada dengan nama yang sama akan ditimpa:\n",
        "\n",
        "```console\n",
        ">>> devices = ['speaker', 'keyboard']\n",
        ">>> devices\n",
        "['speaker', 'keyboard']\n",
        "\n",
        ">>> from person import devices\n",
        ">>> devices\n",
        "['laptop', 'smartphone', 'tablet']\n",
        "```\n",
        "\n",
        "Anda bahkan bisa mengimpor **semua** objek dari modul sekaligus dengan cara berikut:\n",
        "\n",
        "`from <nama_modul> import *`\n",
        "\n",
        "Ini akan menempatkan nama-nama semua objek dari `<nama_modul>` ke dalam tabel simbol lokal.\n",
        "\n",
        "Contoh:\n",
        "\n",
        "```console\n",
        ">>> from person import *\n",
        ">>> name\n",
        "'zack'\n",
        ">>> devices\n",
        "['laptop', 'smartphone', 'tablet']\n",
        ">>> display('Good Morning')\n",
        "arg = Good Morning\n",
        "```\n",
        "\n",
        "Namun, **ini tidak disarankan** dalam kode produksi skala besar. Ini sedikit berbahaya karena Anda memasukkan nama ke dalam tabel simbol lokal. Kecuali jika Anda tahu semuanya dengan baik dan dapat yakin bahwa tidak akan ada konflik, Anda memiliki kemungkinan besar untuk menimpa nama yang sudah ada tanpa sengaja. Meski begitu, sintaks ini cukup berguna saat Anda hanya bereksperimen dengan interpreter interaktif, untuk tujuan pengujian atau penemuan, karena dengan cepat memberi Anda akses ke semua yang dimiliki modul tanpa banyak mengetik."
      ]
    },
    {
      "cell_type": "markdown",
      "metadata": {
        "id": "uOz-pXSe_5dR"
      },
      "source": [
        "### `from <module_name> import <something> as <alt_name>`\n",
        "\n",
        "Anda juga dapat mengimpor objek individual dan menempatkannya dalam tabel simbol lokal dengan nama alternatif:\n",
        "\n",
        "> `from <nama_modul> import <sesuatu> as <nama_alt>`\n",
        "\n",
        "Ini memungkinkan Anda untuk menempatkan nama-nama langsung ke dalam tabel simbol lokal tetapi menghindari konflik dengan nama-nama yang sudah ada sebelumnya:\n",
        "\n",
        "```console\n",
        ">>> name = 'alex'\n",
        ">>> devices = ['tv', 'ac', 'speaker']\n",
        "\n",
        ">>> from person import name as p_name, devices as p_devices\n",
        ">>> name\n",
        "'alex'\n",
        ">>> p_name\n",
        "'zack'\n",
        ">>> devices\n",
        "['tv', 'ac', 'speaker']\n",
        ">>> p_devices\n",
        "['laptop', 'smartphone', 'tablet']\n",
        "```\n",
        "\n",
        "Dengan cara ini, Anda bisa menggunakan nama lain (alias) untuk objek yang diimpor dan tetap mempertahankan nama asli di dalam modul untuk menghindari konflik nama yang mungkin terjadi.\n",
        "\n",
        "----"
      ]
    },
    {
      "cell_type": "markdown",
      "metadata": {
        "id": "OCUv3-CYA5PH"
      },
      "source": [
        "### `import <module_name> as <alt_name>`\n",
        "\n",
        "Anda juga dapat mengimpor seluruh modul dengan nama alternatif:\n",
        "\n",
        "> `import <nama_modul> as <nama_alt>`\n",
        "\n",
        "Contoh:\n",
        "\n",
        "```console\n",
        ">>> import person as my_person\n",
        ">>> my_person.name\n",
        "'zack'\n",
        ">>> my_person.display('Good Morning')\n",
        "arg = Good Morning\n",
        "```\n",
        "\n",
        "Dengan menggunakan alias (nama alternatif), Anda bisa mengimpor modul dan mengakses isinya menggunakan nama yang lebih pendek atau sesuai keinginan.\n",
        "\n",
        "Module juga bisa diimpor dari dalam definisi fungsi. Dalam hal ini, `import` hanya akan terjadi ketika fungsi dipanggil:\n",
        "\n",
        "```console\n",
        ">>> def greetings():\n",
        "...     from person import display\n",
        "...     display('Good Morning')\n",
        "...\n",
        "\n",
        ">>> greetings()\n",
        "arg = Good Morning\n",
        "```\n",
        "\n",
        "Namun, **Python 3 tidak mengizinkan** sintaks `import *` yang tidak terkontrol dari dalam fungsi:\n",
        "\n",
        "```console\n",
        ">>> def greetings():\n",
        "...     from person import *\n",
        "...     display('Good Morning')\n",
        "...\n",
        "SyntaxError: import * only allowed at module level\n",
        "```\n",
        "\n",
        "Hal ini bertujuan untuk menjaga konsistensi dan mencegah masalah dengan namespace yang bisa terjadi ketika semua objek dimasukkan ke dalam lingkungan lokal."
      ]
    },
    {
      "cell_type": "code",
      "metadata": {
        "id": "6KCByc1zBpvx"
      },
      "source": [
        "# # code ini akan error\n",
        "\n",
        "# def greetings():\n",
        "#   from person import *\n",
        "#   display('Good Morning')\n",
        "\n",
        "# greetings()"
      ],
      "execution_count": null,
      "outputs": []
    },
    {
      "cell_type": "code",
      "metadata": {
        "colab": {
          "base_uri": "https://localhost:8080/"
        },
        "id": "qJ8SnTNQDLYP",
        "outputId": "0d251c02-166c-477e-f2cf-b86361ed9d30"
      },
      "source": [
        "import person\n",
        "dir(person)"
      ],
      "execution_count": null,
      "outputs": [
        {
          "output_type": "execute_result",
          "data": {
            "text/plain": [
              "['__builtins__',\n",
              " '__cached__',\n",
              " '__doc__',\n",
              " '__file__',\n",
              " '__loader__',\n",
              " '__name__',\n",
              " '__package__',\n",
              " '__spec__',\n",
              " 'devices',\n",
              " 'display',\n",
              " 'name']"
            ]
          },
          "metadata": {},
          "execution_count": 7
        }
      ]
    },
    {
      "cell_type": "markdown",
      "metadata": {
        "id": "hja11LRNuujg"
      },
      "source": [
        "### `dir()` Function\n",
        "\n",
        "Fungsi bawaan `dir()` mengembalikan daftar nama yang terdefinisi dalam sebuah namespace. Tanpa argumen, ia menghasilkan daftar nama yang terurut secara alfabet dalam tabel simbol lokal saat ini:\n",
        "\n",
        "```console\n",
        ">>> dir()\n",
        "['__annotations__', '__builtins__', '__doc__', '__loader__', '__name__', '__package__', '__spec__']\n",
        "\n",
        ">>> mylist = [1, 2, 3, 4, 5]\n",
        ">>> dir()\n",
        "['__annotations__', '__builtins__', '__doc__', '__loader__', '__name__', '__package__', '__spec__', 'mylist']\n",
        "\n",
        ">>> color = 'red'\n",
        ">>> dir()\n",
        "['Bar', '__annotations__', '__builtins__', '__doc__', '__loader__', '__name__', '__package__', '__spec__', 'mylist', 'color']\n",
        "```\n",
        "\n",
        "Perhatikan bahwa pemanggilan pertama ke `dir()` di atas menampilkan beberapa nama yang secara otomatis didefinisikan dan sudah ada dalam namespace saat interpreter dimulai. Seiring variabel baru didefinisikan (`mylist` dan `color`), mereka muncul dalam pemanggilan `dir()` berikutnya.\n",
        "\n",
        "---\n",
        "\n",
        "Ini bisa sangat berguna untuk mengetahui apa yang telah ditambahkan ke dalam namespace setelah pernyataan `import`:\n",
        "\n",
        "```console\n",
        ">>> dir()\n",
        "['__annotations__', '__builtins__', '__doc__', '__loader__', '__name__', '__package__', '__spec__']\n",
        "\n",
        ">>> import person\n",
        ">>> dir(person)\n",
        "['__builtins__', '__cached__', '__doc__', '__file__', '__loader__', '__name__', '__package__', '__spec__', 'devices', 'display', 'name']\n",
        "```\n",
        "\n",
        "---\n",
        "\n",
        "Ketika diberikan argumen berupa nama sebuah variabel, `dir()` akan menampilkan fungsi bawaan yang ada untuk variabel tersebut. Sebagai contoh:"
      ]
    },
    {
      "cell_type": "code",
      "metadata": {
        "colab": {
          "base_uri": "https://localhost:8080/"
        },
        "id": "lycLKadMFJjy",
        "outputId": "94e7d979-b4a6-4090-f715-0ed1f75328fb"
      },
      "source": [
        "from person import name, devices\n",
        "dir(name)"
      ],
      "execution_count": null,
      "outputs": [
        {
          "output_type": "execute_result",
          "data": {
            "text/plain": [
              "['__add__',\n",
              " '__class__',\n",
              " '__contains__',\n",
              " '__delattr__',\n",
              " '__dir__',\n",
              " '__doc__',\n",
              " '__eq__',\n",
              " '__format__',\n",
              " '__ge__',\n",
              " '__getattribute__',\n",
              " '__getitem__',\n",
              " '__getnewargs__',\n",
              " '__gt__',\n",
              " '__hash__',\n",
              " '__init__',\n",
              " '__init_subclass__',\n",
              " '__iter__',\n",
              " '__le__',\n",
              " '__len__',\n",
              " '__lt__',\n",
              " '__mod__',\n",
              " '__mul__',\n",
              " '__ne__',\n",
              " '__new__',\n",
              " '__reduce__',\n",
              " '__reduce_ex__',\n",
              " '__repr__',\n",
              " '__rmod__',\n",
              " '__rmul__',\n",
              " '__setattr__',\n",
              " '__sizeof__',\n",
              " '__str__',\n",
              " '__subclasshook__',\n",
              " 'capitalize',\n",
              " 'casefold',\n",
              " 'center',\n",
              " 'count',\n",
              " 'encode',\n",
              " 'endswith',\n",
              " 'expandtabs',\n",
              " 'find',\n",
              " 'format',\n",
              " 'format_map',\n",
              " 'index',\n",
              " 'isalnum',\n",
              " 'isalpha',\n",
              " 'isascii',\n",
              " 'isdecimal',\n",
              " 'isdigit',\n",
              " 'isidentifier',\n",
              " 'islower',\n",
              " 'isnumeric',\n",
              " 'isprintable',\n",
              " 'isspace',\n",
              " 'istitle',\n",
              " 'isupper',\n",
              " 'join',\n",
              " 'ljust',\n",
              " 'lower',\n",
              " 'lstrip',\n",
              " 'maketrans',\n",
              " 'partition',\n",
              " 'replace',\n",
              " 'rfind',\n",
              " 'rindex',\n",
              " 'rjust',\n",
              " 'rpartition',\n",
              " 'rsplit',\n",
              " 'rstrip',\n",
              " 'split',\n",
              " 'splitlines',\n",
              " 'startswith',\n",
              " 'strip',\n",
              " 'swapcase',\n",
              " 'title',\n",
              " 'translate',\n",
              " 'upper',\n",
              " 'zfill']"
            ]
          },
          "metadata": {},
          "execution_count": 8
        }
      ]
    },
    {
      "cell_type": "markdown",
      "metadata": {
        "id": "FxXYBVv6uujh"
      },
      "source": [
        "### Executing a Module as a Script\n",
        "\n",
        "Sebuah file `.py` yang berisi modul pada dasarnya juga adalah skrip Python, dan tidak ada alasan mengapa file tersebut tidak bisa dijalankan sebagai skrip.\n",
        "\n",
        "Berikut adalah contoh `person.py` seperti yang telah didefinisikan sebelumnya:\n",
        "\n",
        "```py\n",
        "name = 'zack'\n",
        "devices = ['laptop', 'smartphone', 'tablet']\n",
        "\n",
        "def display(arg):\n",
        "    print(f'arg = {arg}')\n",
        "```\n",
        "\n",
        "File tersebut dapat dijalankan sebagai skrip dengan cara berikut:\n",
        "\n",
        "```console\n",
        "(base) ardhiraka@rakas-Macbook-Very-Pro ~ % python person.py\n",
        "(base) ardhiraka@rakas-Macbook-Very-Pro ~ %\n",
        "```\n",
        "\n",
        "Tidak ada kesalahan, jadi tampaknya berhasil. Namun, file tersebut tidak menghasilkan output yang menarik. Seperti yang ditulis, file tersebut hanya mendefinisikan objek, tetapi tidak melakukan apa pun dengan objek tersebut dan tidak menghasilkan output.\n",
        "\n",
        "---\n",
        "\n",
        "Sekarang mari kita ubah modul Python di atas agar menghasilkan output saat dijalankan sebagai skrip:\n",
        "\n",
        "`person2.py`\n",
        "\n",
        "```py\n",
        "name = 'zack'\n",
        "devices = ['laptop', 'smartphone', 'tablet']\n",
        "\n",
        "def display(arg):\n",
        "    print(f'arg = {arg}')\n",
        "\n",
        "print(name)\n",
        "print(devices)\n",
        "print(display('Good Morning'))\n",
        "```\n",
        "\n",
        "Sekarang file ini menghasilkan output yang lebih menarik:\n",
        "\n",
        "```console\n",
        "(base) ardhiraka@rakas-Macbook-Very-Pro ~ % python person2.py\n",
        "zack\n",
        "['laptop', 'smartphone', 'tablet']\n",
        "arg = Good Morning\n",
        "```\n",
        "\n",
        "---\n",
        "\n",
        "Namun, masalahnya adalah sekarang modul ini juga menghasilkan output saat diimpor sebagai modul:\n",
        "\n",
        "```console\n",
        ">>> import person2\n",
        "zack\n",
        "['laptop', 'smartphone', 'tablet']\n",
        "arg = Good Morning\n",
        "```\n",
        "\n",
        "Ini mungkin bukan yang Anda inginkan, karena biasanya modul tidak menghasilkan output saat diimpor.\n",
        "\n",
        "---\n",
        "\n",
        "Akan sangat berguna jika Anda bisa membedakan antara saat file dimuat sebagai modul atau dijalankan sebagai skrip mandiri.\n",
        "\n",
        "Saat sebuah file `.py` diimpor sebagai modul, Python akan menetapkan variabel khusus `__name__` dengan nama modul tersebut. Namun, jika sebuah file dijalankan sebagai skrip mandiri, `__name__` akan (secara kreatif) diatur menjadi string `'__main__'`. Menggunakan fakta ini, Anda bisa membedakan antara keduanya saat waktu eksekusi dan mengubah perilaku program sesuai dengan itu:\n",
        "\n",
        "`person3.py`\n",
        "\n",
        "```py\n",
        "name = 'zack'\n",
        "devices = ['laptop', 'smartphone', 'tablet']\n",
        "\n",
        "def display(arg):\n",
        "    print(f'arg = {arg}')\n",
        "\n",
        "if (__name__ == '__main__'):\n",
        "  print('Executing as standalone script')\n",
        "  print(name)\n",
        "  print(devices)\n",
        "  print(display('Good Morning'))\n",
        "```\n",
        "\n",
        "Sekarang, jika Anda menjalankan file ini sebagai skrip, Anda akan mendapatkan output berikut:\n",
        "\n",
        "```console\n",
        "(base) ardhiraka@rakas-Macbook-Very-Pro ~ % python person3.py\n",
        "Executing as standalone script\n",
        "zack\n",
        "['laptop', 'smartphone', 'tablet']\n",
        "arg = Good Morning\n",
        "```\n",
        "\n",
        "Namun, jika Anda mengimpor file ini sebagai modul, Anda tidak akan mendapatkan output yang sama seperti sebelumnya:\n",
        "\n",
        "```console\n",
        ">>> import person3\n",
        ">>> person3.display('Good Morning')\n",
        "arg = Good Morning\n",
        "```\n",
        "\n",
        "### Penjelasan\n",
        "- **`__name__`** adalah variabel khusus yang digunakan untuk mengetahui apakah skrip dijalankan langsung atau diimpor sebagai modul.\n",
        "- Ketika file dijalankan sebagai skrip, `__name__` akan bernilai `'__main__'`.\n",
        "- Ketika file diimpor sebagai modul, `__name__` akan bernilai nama modul tersebut (misalnya `person3`).\n",
        "\n",
        "Dengan menggunakan pernyataan ini, Anda dapat menulis skrip yang dapat digunakan baik sebagai modul maupun sebagai skrip mandiri, tergantung pada cara ia dipanggil."
      ]
    },
    {
      "cell_type": "markdown",
      "metadata": {
        "id": "VL0CBDnCuujh"
      },
      "source": [
        "### Reloading a Module\n",
        "\n",
        "Untuk alasan efisiensi, **sebuah modul hanya dimuat sekali per sesi interpreter**. Ini baik-baik saja untuk definisi fungsi dan kelas, yang biasanya merupakan bagian besar dari isi modul. Namun, sebuah modul juga bisa mengandung pernyataan yang dapat dieksekusi, biasanya untuk inisialisasi. Perlu diperhatikan bahwa pernyataan-pernyataan ini hanya akan dieksekusi pada saat pertama kali modul diimpor.\n",
        "\n",
        "Pertimbangkan file berikut `car.py`:\n",
        "\n",
        "```py\n",
        "brands = ['honda', 'toyota', 'ford']\n",
        "print('brands = ', brands)\n",
        "```\n",
        "\n",
        "Ketika modul `car` diimpor, berikut yang terjadi:\n",
        "\n",
        "```console\n",
        ">>> import car\n",
        "brands = ['honda', 'toyota', 'ford']\n",
        ">>> import car\n",
        ">>> import car\n",
        "\n",
        ">>> car.brands\n",
        "brands = ['honda', 'toyota', 'ford']\n",
        "```\n",
        "\n",
        "Pernyataan `print()` **tidak dijalankan pada impor berikutnya**. (Begitu juga dengan pernyataan penugasan, tetapi seperti yang ditunjukkan pada tampilan akhir dari nilai `car.brands`, hal itu tidak masalah. Setelah penugasan dilakukan, itu tetap ada.)\n",
        "\n",
        "Jika Anda membuat perubahan pada modul dan perlu **memuat ulang** modul tersebut, Anda perlu me-restart interpreter atau menggunakan fungsi bernama `reload()` dari modul `importlib`:\n",
        "\n",
        "```console\n",
        ">>> import car\n",
        "brands = ['honda', 'toyota', 'ford']\n",
        "\n",
        ">>> import car\n",
        "\n",
        ">>> import importlib\n",
        ">>> importlib.reload(car)\n",
        "brands = ['honda', 'toyota', 'ford']\n",
        "<module 'car' from '/Users/ardhiraka/Desktop/H8Py/car.py'>\n",
        "```\n",
        "\n",
        "Dengan menggunakan `reload()`, modul tersebut akan dieksekusi ulang, dan perubahan yang Anda buat pada kode modul akan diterapkan."
      ]
    },
    {
      "cell_type": "code",
      "metadata": {
        "id": "2ACA0smpKJmA"
      },
      "source": [
        "import car\n",
        "import importlib\n",
        "importlib.reload(car)"
      ],
      "execution_count": null,
      "outputs": []
    },
    {
      "cell_type": "markdown",
      "metadata": {
        "id": "6bvAKWo-uuji"
      },
      "source": [
        "## Python Packages\n",
        "\n",
        "Misalkan Anda telah mengembangkan aplikasi yang sangat besar yang mencakup banyak modul. Seiring dengan bertambahnya jumlah modul, menjadi sulit untuk melacak semuanya jika mereka ditempatkan di satu lokasi. Hal ini terutama terjadi jika mereka memiliki nama atau fungsionalitas yang serupa. Anda mungkin ingin memiliki cara untuk **mengelompokkan dan mengorganisir** mereka.\n",
        "\n",
        "Paket memungkinkan untuk struktur hierarkis dalam namespace modul menggunakan notasi titik (`.`). **Dengan cara yang sama seperti modul membantu menghindari tabrakan antara nama variabel global, paket membantu menghindari tabrakan antara nama modul.**\n",
        "\n",
        "Membuat paket cukup sederhana, karena menggunakan struktur file hierarkis bawaan dari sistem operasi. Pertimbangkan pengaturan berikut:\n",
        "\n",
        "<img src='https://files.realpython.com/media/pkg1.9af1c7aea48f.png' />\n",
        "\n",
        "Di sini, ada sebuah direktori bernama `pkg` yang berisi dua modul, `mod1.py` dan `mod2.py`. Isi dari modul-modul tersebut adalah:\n",
        "\n",
        "`mod1.py`\n",
        "\n",
        "```py\n",
        "kitchen_sets = ['fork', 'spoon', 'plate']\n",
        "kitchen_name = 'My Kitchen'\n",
        "color = 'red'\n",
        "```\n",
        "\n",
        "`mod2.py`\n",
        "\n",
        "```py\n",
        "artist_kits = ['guitar', 'bass', 'drum']\n",
        "artist_name = 'Queen'\n",
        "color = 'yellow'\n",
        "```\n",
        "----"
      ]
    },
    {
      "cell_type": "markdown",
      "metadata": {
        "id": "jnVaIrih1l3n"
      },
      "source": [
        "Dengan struktur ini, jika direktori `pkg` berada di lokasi yang dapat ditemukan (di salah satu direktori yang tercantum dalam `sys.path`), Anda dapat merujuk ke dua modul tersebut dengan notasi titik (`pkg.mod1`, `pkg.mod2`) dan mengimpor mereka dengan sintaks yang sudah Anda kenal:\n",
        "\n",
        "`import <folder/package><.module_name_1>, <folder/package>.<module_name_2>`\n",
        "\n",
        "```console\n",
        ">>> import pkg.mod1, pkg.mod2\n",
        ">>> pkg.mod1.kitchen_sets\n",
        "['fork', 'spoon', 'plate']\n",
        "\n",
        ">>> pkg.mod2.artist_kits\n",
        "['guitar', 'bass', 'drum']\n",
        "```\n",
        "\n",
        "`from <pakckage>.<module_name> import <something>`\n",
        "\n",
        "```console\n",
        ">>> from pkg.mod1 import kitchen_sets\n",
        ">>> kitchen_sets\n",
        "['fork', 'spoon', 'plate']\n",
        "```\n",
        "\n",
        "`from <package>.<module_name> import <something> as <alt_name>`\n",
        "\n",
        "```console\n",
        ">>> from pkg.mod1 import kitchen_sets as ks\n",
        ">>> ks\n",
        "['fork', 'spoon', 'plate']\n",
        "```\n",
        "\n",
        "---"
      ]
    },
    {
      "cell_type": "markdown",
      "metadata": {
        "id": "XQoI2gBN1WoG"
      },
      "source": [
        "Anda juga dapat mengimpor modul dengan pernyataan berikut:\n",
        "\n",
        "```py\n",
        "from <package_name> import <module_name>\n",
        "from <package_name> import <module_name> as <alt_name>\n",
        "```\n",
        "\n",
        "Contoh:\n",
        "\n",
        "```console\n",
        ">>> from pkg import mod1\n",
        ">>> mod1.kitchen_sets\n",
        "['fork', 'spoon', 'plate']\n",
        "\n",
        ">>> from pkg import mod2 as m2\n",
        ">>> m2.color\n",
        "'yellow'\n",
        "```\n",
        "\n",
        "Ini memberikan cara yang lebih bersih dan langsung untuk mengimpor modul tertentu dari sebuah paket tanpa memerlukan jalur lengkap (misalnya, `pkg.mod1`). Anda juga dapat menggunakan alias (`as <alt_name>`) untuk merujuk ke modul dengan nama yang berbeda, yang berguna untuk menghindari konflik atau memperpendek nama modul yang panjang."
      ]
    },
    {
      "cell_type": "markdown",
      "metadata": {
        "id": "NXBgzZo4uuji"
      },
      "source": [
        "## PIP\n",
        "\n",
        "Jadi, apa itu `pip`? `pip` adalah manajer paket untuk Python. Ini adalah **alat yang memungkinkan Anda untuk menginstal dan mengelola pustaka dan dependensi tambahan** yang tidak didistribusikan sebagai bagian dari pustaka standar.\n",
        "\n",
        "Manajemen paket sangat penting, sehingga `pip` telah disertakan dengan penginstal Python sejak versi 3.4 untuk Python 3 dan 2.7.9 untuk Python 2, dan banyak digunakan oleh banyak proyek Python, yang menjadikannya alat yang sangat penting bagi setiap Pythonista.\n",
        "\n",
        "Konsep manajer paket mungkin sudah familiar bagi Anda jika Anda datang dari bahasa lain. JavaScript menggunakan `npm` untuk manajemen paket, Ruby menggunakan `gem`, dan .NET menggunakan `NuGet`. Di Python, `pip` telah menjadi manajer paket standar.\n",
        "\n",
        "Penginstal Python menginstal `pip`, jadi seharusnya sudah siap digunakan, kecuali jika Anda menginstal versi lama Python. Anda dapat memverifikasi bahwa `pip` tersedia dengan menjalankan perintah berikut di konsol Anda:\n",
        "\n",
        "```sh\n",
        "$ pip --version\n",
        "\n",
        "pip 20.0.2 from /Library/Frameworks/Python.framework/Versions/3.7/lib/python3.7/site-packages/pip (python 3.7)\n",
        "```\n",
        "\n",
        "Anda harus melihat output serupa yang menampilkan versi `pip`, serta lokasi dan versi Python. Jika Anda menggunakan versi Python lama yang tidak menyertakan `pip`, maka Anda dapat menginstalnya dengan mengikuti petunjuk untuk sistem Anda di dokumentasi pemasangan `pip`."
      ]
    },
    {
      "cell_type": "code",
      "metadata": {
        "colab": {
          "base_uri": "https://localhost:8080/"
        },
        "id": "Mfnqi6WuNrNc",
        "outputId": "08b68fd1-7e9f-4d9c-88b7-49cfdac024c5"
      },
      "source": [
        "# Ini adalah kode untuk menginstal paket bernama TwitterApi\n",
        "\n",
        "!pip install TwitterAPI"
      ],
      "execution_count": null,
      "outputs": [
        {
          "output_type": "stream",
          "text": [
            "Collecting twitter_api\n",
            "  Downloading twitter_api-0.1.7-py2.py3-none-any.whl (7.1 kB)\n",
            "Collecting appier\n",
            "  Downloading appier-1.24.0-py2.py3-none-any.whl (287 kB)\n",
            "\u001b[K     |████████████████████████████████| 287 kB 7.6 MB/s \n",
            "\u001b[?25hInstalling collected packages: appier, twitter-api\n",
            "Successfully installed appier-1.24.0 twitter-api-0.1.7\n"
          ],
          "name": "stdout"
        }
      ]
    },
    {
      "cell_type": "markdown",
      "metadata": {
        "id": "Cr-4TXMWuujj"
      },
      "source": [
        "### Instalasi Paket Dasar\n",
        "\n",
        "PyPI (Python Package Index) menyimpan pustaka yang sangat populer untuk melakukan permintaan HTTP yang disebut `requests`. Anda dapat mempelajari lebih lanjut tentang pustaka ini di situs dokumentasi resminya. Langkah pertama adalah menginstal paket `requests` ke dalam lingkungan Anda. Anda dapat mengetahui lebih lanjut tentang perintah yang didukung oleh `pip` dengan menjalankannya dengan perintah bantuan:\n",
        "\n",
        "`pip help`\n",
        "\n",
        "Seperti yang Anda lihat, `pip` menyediakan perintah install untuk menginstal paket. Anda dapat menjalankan perintah ini untuk menginstal paket `requests`:\n",
        "\n",
        "`pip install requests`\n",
        "\n",
        "Anda akan melihat output yang serupa dengan yang di atas. **Anda menggunakan `pip` dengan perintah install diikuti dengan nama paket yang ingin Anda instal.** `pip` mencari paket tersebut di PyPI, menghitung dependensinya, dan menginstalnya untuk memastikan bahwa `requests` dapat berfungsi dengan baik."
      ]
    },
    {
      "cell_type": "code",
      "metadata": {
        "colab": {
          "base_uri": "https://localhost:8080/"
        },
        "id": "r0a8ehwM4PU1",
        "outputId": "03b7bab6-4fe4-4655-db1f-9475bea068fa"
      },
      "source": [
        "pip help"
      ],
      "execution_count": null,
      "outputs": [
        {
          "output_type": "stream",
          "name": "stdout",
          "text": [
            "\n",
            "Usage:   \n",
            "  pip3 <command> [options]\n",
            "\n",
            "Commands:\n",
            "  install                     Install packages.\n",
            "  download                    Download packages.\n",
            "  uninstall                   Uninstall packages.\n",
            "  freeze                      Output installed packages in requirements format.\n",
            "  list                        List installed packages.\n",
            "  show                        Show information about installed packages.\n",
            "  check                       Verify installed packages have compatible dependencies.\n",
            "  config                      Manage local and global configuration.\n",
            "  search                      Search PyPI for packages.\n",
            "  cache                       Inspect and manage pip's wheel cache.\n",
            "  wheel                       Build wheels from your requirements.\n",
            "  hash                        Compute hashes of package archives.\n",
            "  completion                  A helper command used for command completion.\n",
            "  debug                       Show information useful for debugging.\n",
            "  help                        Show help for commands.\n",
            "\n",
            "General Options:\n",
            "  -h, --help\n",
            "  Show help.\n",
            "  --isolated\n",
            "  Run pip in\n",
            "  an isolated\n",
            "  mode,\n",
            "  ignoring\n",
            "  environment\n",
            "  variables\n",
            "  and user co\n",
            "  nfiguration\n",
            "  .\n",
            "  -v, --verbose\n",
            "  Give more\n",
            "  output.\n",
            "  Option is\n",
            "  additive,\n",
            "  and can be\n",
            "  used up to\n",
            "  3 times.\n",
            "  -V, --version\n",
            "  Show\n",
            "  version and\n",
            "  exit.\n",
            "  -q, --quiet\n",
            "  Give less\n",
            "  output.\n",
            "  Option is\n",
            "  additive,\n",
            "  and can be\n",
            "  used up to\n",
            "  3 times (co\n",
            "  rresponding\n",
            "  to WARNING,\n",
            "  ERROR, and\n",
            "  CRITICAL\n",
            "  logging\n",
            "  levels).\n",
            "  --log <path>\n",
            "  Path to a\n",
            "  verbose\n",
            "  appending\n",
            "  log.\n",
            "  --no-input\n",
            "  Disable\n",
            "  prompting\n",
            "  for input.\n",
            "  --proxy <proxy>\n",
            "  Specify a\n",
            "  proxy in\n",
            "  the form [u\n",
            "  ser:passwd@\n",
            "  ]proxy.serv\n",
            "  er:port.\n",
            "  --retries <retries>\n",
            "  Maximum\n",
            "  number of\n",
            "  retries\n",
            "  each\n",
            "  connection\n",
            "  should\n",
            "  attempt\n",
            "  (default 5\n",
            "  times).\n",
            "  --timeout <sec>\n",
            "  Set the\n",
            "  socket\n",
            "  timeout\n",
            "  (default 15\n",
            "  seconds).\n",
            "  --exists-action <action>\n",
            "  Default\n",
            "  action when\n",
            "  a path\n",
            "  already\n",
            "  exists:\n",
            "  (s)witch,\n",
            "  (i)gnore,\n",
            "  (w)ipe,\n",
            "  (b)ackup,\n",
            "  (a)bort.\n",
            "  --trusted-host <hostname>\n",
            "  Mark this\n",
            "  host or\n",
            "  host:port\n",
            "  pair as\n",
            "  trusted,\n",
            "  even though\n",
            "  it does not\n",
            "  have valid\n",
            "  or any\n",
            "  HTTPS.\n",
            "  --cert <path>\n",
            "  Path to\n",
            "  PEM-encoded\n",
            "  CA\n",
            "  certificate\n",
            "  bundle. If\n",
            "  provided,\n",
            "  overrides\n",
            "  the\n",
            "  default.\n",
            "  See 'SSL\n",
            "  Certificate\n",
            "  Verificatio\n",
            "  n' in pip d\n",
            "  ocumentatio\n",
            "  n for more \n",
            "  information\n",
            "  .\n",
            "  --client-cert <path>\n",
            "  Path to SSL\n",
            "  client cert\n",
            "  ificate, a\n",
            "  single file\n",
            "  containing\n",
            "  the private\n",
            "  key and the\n",
            "  certificate\n",
            "  in PEM\n",
            "  format.\n",
            "  --cache-dir <dir>\n",
            "  Store the\n",
            "  cache data\n",
            "  in <dir>.\n",
            "  --no-cache-dir\n",
            "  Disable the\n",
            "  cache.\n",
            "  --disable-pip-version-check\n",
            "  Don't perio\n",
            "  dically\n",
            "  check PyPI\n",
            "  to\n",
            "  determine\n",
            "  whether a\n",
            "  new version\n",
            "  of pip is\n",
            "  available\n",
            "  for\n",
            "  download.\n",
            "  Implied\n",
            "  with --no-\n",
            "  index.\n",
            "  --no-color\n",
            "  Suppress\n",
            "  colored\n",
            "  output.\n",
            "  --no-python-version-warning\n",
            "  Silence\n",
            "  deprecation\n",
            "  warnings\n",
            "  for\n",
            "  upcoming\n",
            "  unsupported\n",
            "  Pythons.\n",
            "  --use-feature <feature>\n",
            "  Enable new \n",
            "  functionali\n",
            "  ty, that\n",
            "  may be\n",
            "  backward in\n",
            "  compatible.\n",
            "  --use-deprecated <feature>\n",
            "  Enable\n",
            "  deprecated \n",
            "  functionali\n",
            "  ty, that\n",
            "  will be\n",
            "  removed in\n",
            "  the future.\n"
          ]
        }
      ]
    },
    {
      "cell_type": "markdown",
      "metadata": {
        "id": "e6Sq9TRN3Qz1"
      },
      "source": [
        "Anda juga dapat melihat bahwa lingkungan saat ini menggunakan versi `pip` 18.1, tetapi versi 19.0.1 tersedia. Ini juga menunjukkan perintah yang harus Anda gunakan untuk memperbarui `pip`, jadi mari kita lakukan itu:\n",
        "\n",
        "`python -m pip install --upgrade pip`\n",
        "\n",
        "Perhatikan bahwa Anda menggunakan `python -m` untuk memperbarui `pip`. Switch `-m` memberi tahu Python untuk menjalankan modul sebagai executable. Ini diperlukan karena agar Anda dapat memperbarui `pip`, versi lama harus dihapus sebelum menginstal versi baru, dan menghapusnya saat menjalankan alat ini dapat menyebabkan kesalahan.\n",
        "\n",
        "Ketika Anda menjalankan `pip` sebagai modul, Python memuat modul ke dalam memori dan memungkinkan paket tersebut dihapus saat sedang digunakan. Anda dapat menjalankan paket seolah-olah mereka adalah skrip jika paket tersebut menyediakan skrip tingkat atas `__main__.py`.\n",
        "\n",
        "---"
      ]
    },
    {
      "cell_type": "markdown",
      "metadata": {
        "id": "McgnBP6k3kwR"
      },
      "source": [
        "Sekarang setelah Anda menginstal `requests` dan memperbarui `pip`, Anda dapat menggunakan perintah `list` untuk melihat paket-paket yang terpasang di lingkungan Anda:\n",
        "\n",
        "`pip list`\n",
        "\n",
        "Seperti yang Anda lihat, `pip` telah diperbarui ke versi 19.0.1 (versi terbaru saat ini), dan `requests` versi 2.21.0 telah terinstal.\n",
        "\n",
        "Perintah `pip install <package>` **selalu mencari versi terbaru** dari paket dan menginstalnya. Ia juga mencari dependensi yang tercantum dalam metadata paket dan menginstal dependensi tersebut untuk memastikan paket tersebut memiliki semua kebutuhan yang diperlukan.\n",
        "\n",
        "Seperti yang Anda lihat, beberapa paket telah terinstal. Anda dapat melihat metadata paket dengan menggunakan perintah show di `pip`:\n",
        "\n",
        "`pip show requests`\n",
        "    \n",
        "Metadata tersebut mencantumkan `certifi`, `chardet`, `idna`, dan `urllib3` sebagai dependensi, dan Anda bisa melihat bahwa mereka juga telah diinstal.\n",
        "\n",
        "Dengan paket `requests` yang telah terinstal, Anda dapat memodifikasi contoh di atas dan melihat betapa mudahnya untuk mengambil isi halaman web:\n",
        "\n",
        "```py\n",
        "# Di dalam using-requests.py\n",
        "\n",
        "import requests\n",
        "\n",
        "url = 'https://www.google.com'\n",
        "response = requests.get(url)\n",
        "print(f'Response returned: {response.status_code}, {response.reason}')\n",
        "print(response.text)\n",
        "```\n",
        "\n",
        "Anda dapat mengimpor paket `requests` seperti paket standar lainnya karena sekarang sudah terinstal di lingkungan Anda.\n",
        "\n",
        "Seperti yang Anda lihat, `requests.get()` menangani koneksi HTTP untuk Anda dan mengembalikan objek respons yang mirip dengan contoh sebelumnya tetapi dengan beberapa perbaikan antarmuka.\n",
        "\n",
        "Anda tidak perlu menangani pengkodean halaman karena `requests` akan menangani itu untuk Anda dalam sebagian besar situasi. Namun, `requests` menyediakan antarmuka fleksibel untuk menangani kasus khusus melalui objek `requests.Response`.\n",
        "\n",
        "---"
      ]
    },
    {
      "cell_type": "markdown",
      "metadata": {
        "id": "yZoizXbRuujj"
      },
      "source": [
        "### Menggunakan File Requirement\n",
        "\n",
        "Perintah `pip install` selalu menginstal versi terbaru dari sebuah paket, tetapi terkadang Anda ingin menginstal versi spesifik yang Anda tahu bekerja dengan kode Anda.\n",
        "\n",
        "Anda ingin membuat spesifikasi dependensi dan versi yang Anda gunakan untuk mengembangkan dan menguji aplikasi Anda, sehingga tidak ada kejutan saat Anda menggunakan aplikasi di produksi.\n",
        "\n",
        "**File requirement memungkinkan Anda untuk menentukan dengan tepat paket dan versi mana yang harus diinstal.** Menjalankan `pip help` menunjukkan bahwa ada perintah freeze yang mengeluarkan daftar paket yang terinstal dalam format requirement. Anda dapat menggunakan perintah ini dan mengalihkan output ke file untuk menghasilkan file requirement:\n",
        "\n",
        "```console\n",
        "pip freeze > requirements.txt\n",
        "cat requirements.txt\n",
        "```\n",
        "\n",
        "Perintah freeze akan menuliskan semua paket dan versinya ke output standar, sehingga Anda dapat mengalihkan output ke file yang bisa digunakan untuk menginstal requirement yang persis sama ke sistem lain. Konvensinya adalah menamai file ini dengan `requirements.txt`, tetapi Anda bisa memberi nama apa pun yang Anda inginkan.\n",
        "\n",
        "Saat Anda ingin mereplikasi lingkungan di sistem lain, Anda dapat menjalankan `pip install` dengan menentukan file requirement menggunakan switch `-r`:\n",
        "\n",
        "> `pip install -r requirements.txt`\n",
        "\n",
        "Versi paket akan sesuai dengan yang terdaftar dalam `requirements.txt`:\n",
        "\n",
        "`pip list`\n",
        "\n",
        "Anda dapat mengirimkan file `requirements.txt` ke kontrol sumber dan menggunakannya untuk membuat lingkungan yang sama persis di mesin lain."
      ]
    },
    {
      "cell_type": "markdown",
      "metadata": {
        "id": "7WJPxWM6uujj"
      },
      "source": [
        "### Mencari Paket yang Bisa Digunakan\n",
        "\n",
        "Seiring Anda menjadi Pythonista yang lebih berpengalaman, akan ada sekumpulan paket yang sudah Anda hafal dan akan Anda gunakan di sebagian besar aplikasi Anda. Paket seperti `requests` dan `pytest` adalah kandidat yang baik untuk menjadi alat yang berguna di kotak alat Python Anda.\n",
        "\n",
        "Namun, akan ada kalanya Anda perlu menyelesaikan masalah yang berbeda, dan Anda ingin mencari alat atau pustaka lain yang dapat membantu Anda. Seperti yang telah Anda lihat sebelumnya, `pip` help menunjukkan bahwa ada perintah pencarian yang mencari paket-paket yang diterbitkan ke PyPI.\n",
        "\n",
        "Mari kita lihat bagaimana perintah ini bisa membantu kita:\n",
        "\n",
        "`pip help search`\n",
        "\n",
        "Perintah ini memerlukan serangkaian opsi yang terdaftar di atas dan sebuah `<query>`. Query ini hanyalah sebuah string untuk mencari dan akan mencocokkan paket-paket beserta deskripsinya.\n",
        "\n",
        "Misalnya, aplikasi Anda perlu mengakses layanan yang menggunakan OAuth2 untuk otorisasi. Idealnya, ada pustaka yang bekerja dengan `requests` atau dengan antarmuka serupa yang dapat membantu kita. Mari kita cari di PyPI menggunakan pip:\n",
        "\n",
        "`pip search requests oauth`\n",
        "\n",
        "Istilah pencarian ini menghasilkan kumpulan paket yang cukup luas. Beberapa di antaranya tampaknya spesifik untuk layanan atau teknologi tertentu seperti `django-oauth`. Lainnya terlihat menjanjikan, seperti `requests-oauth`. Sayangnya, tidak ada banyak informasi selain deskripsi singkat.\n",
        "\n",
        "Sebagian besar waktu, Anda ingin mencari paket langsung di situs web PyPI. PyPI menyediakan kemampuan pencarian untuk indeksnya dan cara untuk memfilter hasil berdasarkan metadata yang terungkap dalam paket, seperti framework, topik, status pengembangan, dan sebagainya.\n",
        "\n",
        "Pencarian untuk istilah yang sama di PyPI menghasilkan banyak hasil, tetapi Anda dapat memfilternya dengan kategori yang berbeda. Misalnya, Anda dapat memperluas kategori *Intended Audience* dan memilih *Developers* karena Anda menginginkan pustaka yang membantu Anda dalam pengembangan aplikasi Anda. Juga, Anda mungkin ingin memilih paket yang stabil dan siap produksi. Anda dapat memperluas kategori *Development Status* dan memilih *Production/Stable*:\n",
        "\n",
        "<img src='https://files.realpython.com/media/search_results.1151d72a4b9b.png' />\n",
        "\n",
        "Anda dapat menerapkan filter tambahan dan menyesuaikan istilah pencarian hingga Anda menemukan paket yang Anda cari.\n",
        "\n",
        "Hasil pencarian memberikan tautan ke halaman paket, yang berisi lebih banyak informasi dan semoga dokumentasi. Mari kita lihat informasi untuk `requests-oauth2`:\n",
        "\n",
        "<img src='https://files.realpython.com/media/request_oauth_page.a5c341a27a69.png' />\n",
        "\n",
        "Halaman proyek menyediakan lebih banyak informasi, dan sepertinya memiliki tautan ke homepage proyek. Tautan ini membawa Anda ke repositori proyek di GitHub. Di sana, Anda dapat melihat informasi lebih lanjut tentang proyek dan beberapa contoh penggunaan.\n",
        "\n",
        "Menemukan repositori kode sumber asli bisa menjadi sumber daya yang sangat berharga. Di sana, Anda dapat menemukan beberapa petunjuk tentang status proyek dengan melihat tanggal commit terakhir, jumlah pull request, dan masalah yang masih terbuka, dan sebagainya.\n",
        "\n",
        "Pilihan lain untuk menemukan paket adalah dengan mencarikannya di Google. Pustaka Python yang banyak digunakan akan muncul di bagian atas hasil pencarian Google, dan Anda harus dapat menemukan tautan ke paket di PyPI atau repositori kode sumbernya.\n",
        "\n",
        "Menemukan paket yang tepat mungkin membutuhkan waktu dan penelitian, tetapi akan mempercepat proses pengembangan Anda setelah Anda menemukannya."
      ]
    },
    {
      "cell_type": "markdown",
      "metadata": {
        "id": "PvhZ8A9duujj"
      },
      "source": [
        "### Uninstalling Packages\n",
        "\n",
        "Terkadang, Anda perlu menghapus sebuah paket. Mungkin Anda menemukan pustaka yang lebih baik untuk menggantikannya, atau paket tersebut sudah tidak dibutuhkan lagi. Menghapus paket bisa sedikit rumit.\n",
        "\n",
        "Perhatikan bahwa saat Anda menginstal `requests`, `pip` juga menginstal dependensi lainnya. Semakin banyak paket yang Anda instal, semakin besar kemungkinan beberapa paket bergantung pada dependensi yang sama. Di sinilah perintah `show` pada pip sangat berguna.\n",
        "\n",
        "Sebelum Anda menghapus sebuah paket, pastikan untuk menjalankan perintah `show` untuk paket tersebut:\n",
        "\n",
        "`pip show requests`\n",
        "\n",
        "Perhatikan dua kolom terakhir yaitu **Requires** dan **Required-by**. Perintah `show` memberi tahu kita bahwa `requests` membutuhkan `urllib3`, `certifi`, `chardet`, dan `idna`. Anda mungkin ingin menghapus kedua paket tersebut. Anda juga bisa melihat bahwa `requests` tidak diperlukan oleh paket lain, sehingga aman untuk menghapusnya.\n",
        "\n",
        "Anda harus menjalankan perintah `show` pada semua dependensi `requests` untuk memastikan tidak ada pustaka lain yang bergantung pada dependensi tersebut. Setelah Anda memahami urutan dependensi dari paket-paket yang ingin Anda hapus, Anda bisa menghapusnya menggunakan perintah `uninstall`:\n",
        "\n",
        "`pip uninstall certifi`\n",
        "\n",
        "Menghapus sebuah paket akan menampilkan daftar file yang akan dihapus dan meminta konfirmasi. Jika Anda yakin ingin menghapus paket tersebut setelah memeriksa dependensinya dan memastikan tidak ada yang bergantung padanya, Anda bisa menambahkan opsi `-y` untuk melewatkan daftar file dan konfirmasi:\n",
        "\n",
        "`pip uninstall urllib3 -y`\n",
        "\n",
        "---"
      ]
    },
    {
      "cell_type": "markdown",
      "metadata": {
        "id": "0N0k1tAJuujj"
      },
      "source": [
        "### Alternatif untuk pip\n",
        "\n",
        "`pip` adalah alat yang sangat penting bagi semua Pythonista, dan digunakan oleh banyak aplikasi serta proyek untuk manajemen paket. Tutorial ini telah membantu Anda memahami dasar-dasar penggunaan `pip`, tetapi komunitas Python sangat aktif dalam menyediakan alat dan pustaka luar biasa bagi pengembang lain untuk digunakan. Beberapa alternatif untuk `pip` yang berusaha menyederhanakan dan meningkatkan manajemen paket di antaranya adalah:\n",
        "\n",
        "- **Conda**:\n",
        "  - Conda adalah sistem manajemen paket dan lingkungan yang sangat populer, terutama dalam ekosistem ilmu data dan komputasi ilmiah. Conda memungkinkan pengguna untuk mengelola dependensi dan lingkungan secara lebih efisien, terutama ketika bekerja dengan pustaka besar yang bergantung pada pustaka sistem tertentu. Conda dapat mengelola lebih dari sekadar paket Python, seperti pustaka R dan pustaka lainnya.\n",
        "  \n",
        "- **Pipenv**:\n",
        "  - Pipenv adalah alat yang dirancang untuk menangani manajemen paket dan lingkungan virtual dalam satu alat. Pipenv menyatukan pengelolaan dependensi dan lingkungan ke dalam satu sistem, serta membuat penggunaan file `Pipfile` dan `Pipfile.lock` yang lebih mudah dan otomatis. Hal ini membantu dalam menciptakan lingkungan yang lebih konsisten dan dapat diprediksi, terutama dalam pengembangan aplikasi Python.\n",
        "\n",
        "- **Poetry**:\n",
        "  - Poetry adalah alat manajemen paket dan pembuatan proyek Python yang bertujuan untuk menyederhanakan manajemen dependensi serta pembuatan dan penerbitan paket. Poetry menggunakan file `pyproject.toml` untuk konfigurasi, yang lebih sesuai dengan standar Python yang lebih baru dan mempermudah pengelolaan proyek. Poetry juga menangani pembuatan paket dan pengelolaan dependensi dalam satu alat yang terintegrasi.\n",
        "\n",
        "Setiap alat ini memiliki kelebihan dan kekurangannya masing-masing, jadi pemilihan alat yang tepat bergantung pada kebutuhan spesifik Anda dan jenis proyek yang sedang dikerjakan."
      ]
    }
  ]
}