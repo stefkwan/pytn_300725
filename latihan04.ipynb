{
 "cells": [
  {
   "cell_type": "code",
   "execution_count": 2,
   "id": "32cf3bfb",
   "metadata": {},
   "outputs": [
    {
     "data": {
      "text/plain": [
       "np.int64(9)"
      ]
     },
     "execution_count": 2,
     "metadata": {},
     "output_type": "execute_result"
    }
   ],
   "source": [
    "import numpy as np\n",
    "data = np.array([3,1,4,1,5,9,2,6,5,3,5])\n",
    "max(data)"
   ]
  },
  {
   "cell_type": "code",
   "execution_count": 22,
   "id": "4eb40eed",
   "metadata": {},
   "outputs": [
    {
     "name": "stdout",
     "output_type": "stream",
     "text": [
      "[0 2 3 0 5 0]\n",
      "10\n"
     ]
    }
   ],
   "source": [
    "import numpy as np\n",
    "data = np.array([-1,2,3,-4,5,-6])\n",
    "\n",
    "for i in range(len(data)):\n",
    "    if data[i] < 0:\n",
    "        data[i] = 0\n",
    "    else:\n",
    "        data[i] = data[i]*1\n",
    "print(data)\n",
    "print(sum(data))\n",
    "   \n"
   ]
  },
  {
   "cell_type": "code",
   "execution_count": 43,
   "id": "3b756c43",
   "metadata": {},
   "outputs": [
    {
     "name": "stdout",
     "output_type": "stream",
     "text": [
      "7\n"
     ]
    }
   ],
   "source": [
    "import numpy as np\n",
    "data1 = np.array([1,3,7,8,12])\n",
    "value_target = 6\n",
    "data_target = np.ones(data1.size)*value_target\n",
    "data2 = np.array([data_target])\n",
    "data3 = data1 - data2\n",
    "data4 = data3.astype(int)[0]\n",
    "for i in range(len(data4)):\n",
    "    if data4[i] < 0:\n",
    "        data4[i] = data4[i] * -1\n",
    "    else:\n",
    "        data4[i] = data4[i]\n",
    "min_index = np.argmin(data4)\n",
    "print(data1[min_index])\n"
   ]
  },
  {
   "cell_type": "code",
   "execution_count": 49,
   "id": "762b6c44",
   "metadata": {},
   "outputs": [
    {
     "name": "stdout",
     "output_type": "stream",
     "text": [
      "B\n"
     ]
    }
   ],
   "source": [
    "score = input(\"Enter Score: \")\n",
    "if float(score) < 0:\n",
    "    print(\"Input a value betwen 0 and 1\")\n",
    "elif float(score) > 1:\n",
    "    print(\"Input a value betwen 0 and 1\")\n",
    "elif float(score) >= 0.9:\n",
    "    print(\"A\")\n",
    "elif float(score) >= 0.8:\n",
    "    print(\"B\")\n",
    "elif float(score) >= 0.7:\n",
    "    print(\"C\")\n",
    "elif float(score) >= 0.6:\n",
    "    print(\"D\")\n",
    "else:\n",
    "    print(\"F\")\n"
   ]
  }
 ],
 "metadata": {
  "kernelspec": {
   "display_name": "base",
   "language": "python",
   "name": "python3"
  },
  "language_info": {
   "codemirror_mode": {
    "name": "ipython",
    "version": 3
   },
   "file_extension": ".py",
   "mimetype": "text/x-python",
   "name": "python",
   "nbconvert_exporter": "python",
   "pygments_lexer": "ipython3",
   "version": "3.13.5"
  }
 },
 "nbformat": 4,
 "nbformat_minor": 5
}
