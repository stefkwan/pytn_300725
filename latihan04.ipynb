{
 "cells": [
  {
   "cell_type": "code",
   "execution_count": null,
   "id": "32cf3bfb",
   "metadata": {},
   "outputs": [
    {
     "data": {
      "text/plain": [
       "np.int64(9)"
      ]
     },
     "execution_count": 2,
     "metadata": {},
     "output_type": "execute_result"
    }
   ],
   "source": [
    "import numpy as np\n",
    "data = np.array([3, 1, 4, 1, 5, 9, 2, 6, 5, 3, 5])\n",
    "max(data)"
   ]
  },
  {
   "cell_type": "code",
   "execution_count": 6,
   "id": "4eb40eed",
   "metadata": {},
   "outputs": [
    {
     "name": "stdout",
     "output_type": "stream",
     "text": [
      "2\n",
      "3\n",
      "5\n",
      "10 3\n"
     ]
    },
    {
     "data": {
      "text/plain": [
       "3.3333333333333335"
      ]
     },
     "execution_count": 6,
     "metadata": {},
     "output_type": "execute_result"
    }
   ],
   "source": [
    "import numpy as np\n",
    "data = np.array([-1, 2, 3, -4, 5, -6])\n",
    "\n",
    "\n",
    "def getposave(d):\n",
    "    d = d.copy()  # supaya tidak nimpa data awal\n",
    "    jumlah = 0\n",
    "    count = 0\n",
    "    for i in d:\n",
    "        if i >= 0:\n",
    "            print(i)\n",
    "            count = count+1\n",
    "            jumlah = jumlah + i\n",
    "\n",
    "    print(jumlah, count)\n",
    "    ave = jumlah / count\n",
    "\n",
    "    return ave\n",
    "\n",
    "\n",
    "getposave(data)"
   ]
  },
  {
   "cell_type": "code",
   "execution_count": 12,
   "id": "3b756c43",
   "metadata": {},
   "outputs": [
    {
     "name": "stdout",
     "output_type": "stream",
     "text": [
      "7\n"
     ]
    }
   ],
   "source": [
    "import numpy as np\n",
    "data1 = np.array([1, 3, 7, 8, 12])\n",
    "value_target = 6\n",
    "\n",
    "\n",
    "def cariterdekat(arr, target):\n",
    "    data_target = np.ones(arr.size) * target\n",
    "    data2 = np.array(data_target)\n",
    "    data3 = arr - data2\n",
    "    data4 = np.absolute(data3)\n",
    "    min_index = np.argmin(data4)\n",
    "    print(arr[min_index])\n",
    "\n",
    "\n",
    "cariterdekat(data1, value_target)"
   ]
  },
  {
   "cell_type": "code",
   "execution_count": 13,
   "id": "762b6c44",
   "metadata": {},
   "outputs": [
    {
     "name": "stdout",
     "output_type": "stream",
     "text": [
      "Input a value betwen 0 and 1\n"
     ]
    }
   ],
   "source": [
    "score = input(\"Enter Score: \")\n",
    "if float(score) < 0:\n",
    "    print(\"Input a value betwen 0 and 1\")\n",
    "elif float(score) > 1:\n",
    "    print(\"Input a value betwen 0 and 1\")\n",
    "elif float(score) >= 0.9:\n",
    "    print(\"A\")\n",
    "elif float(score) >= 0.8:\n",
    "    print(\"B\")\n",
    "elif float(score) >= 0.7:\n",
    "    print(\"C\")\n",
    "elif float(score) >= 0.6:\n",
    "    print(\"D\")\n",
    "else:\n",
    "    print(\"F\")"
   ]
  }
 ],
 "metadata": {
  "kernelspec": {
   "display_name": "base",
   "language": "python",
   "name": "python3"
  },
  "language_info": {
   "codemirror_mode": {
    "name": "ipython",
    "version": 3
   },
   "file_extension": ".py",
   "mimetype": "text/x-python",
   "name": "python",
   "nbconvert_exporter": "python",
   "pygments_lexer": "ipython3",
   "version": "3.11.7"
  }
 },
 "nbformat": 4,
 "nbformat_minor": 5
}
