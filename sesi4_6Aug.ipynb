{
 "cells": [
  {
   "cell_type": "markdown",
   "id": "12075163",
   "metadata": {},
   "source": [
    "# Numpy\n",
    "\n",
    "Numpy adalah package Python yang umumnya digunakan untuk manipulasi angka, tipe data numeric.\n",
    "\n",
    "Numerical Python (Numpy) dan biasanya disingkat lagi jadi \"np\"\n"
   ]
  },
  {
   "cell_type": "code",
   "execution_count": 1,
   "id": "eacedcfb",
   "metadata": {},
   "outputs": [],
   "source": [
    "import numpy as np"
   ]
  },
  {
   "cell_type": "markdown",
   "id": "08b650c5",
   "metadata": {},
   "source": [
    "selain function2 yang memudahkan kalkulasi matematik, Numpy juga punya tipe data yang memudahkan matematik\n",
    "\n",
    "Numpy Array\n",
    "\n",
    "mirip list tapi dia banyak bawaan fungsionalitas yang berasumsi isinya angka semua\n"
   ]
  },
  {
   "cell_type": "code",
   "execution_count": 2,
   "id": "71384ede",
   "metadata": {},
   "outputs": [
    {
     "data": {
      "text/plain": [
       "[1, 2, 3, 4, 5, 6]"
      ]
     },
     "execution_count": 2,
     "metadata": {},
     "output_type": "execute_result"
    }
   ],
   "source": [
    "a = [1, 2, 3]\n",
    "b = [4, 5, 6]\n",
    "\n",
    "# nambahkan list ke list\n",
    "a + b"
   ]
  },
  {
   "cell_type": "code",
   "execution_count": null,
   "id": "bfcd247a",
   "metadata": {},
   "outputs": [
    {
     "data": {
      "text/plain": [
       "array([5, 7, 9])"
      ]
     },
     "execution_count": 3,
     "metadata": {},
     "output_type": "execute_result"
    }
   ],
   "source": [
    "# kalau pakai numpy array\n",
    "\n",
    "a = np.array([1, 2, 3])\n",
    "b = np.array([4, 5, 6])\n",
    "\n",
    "# nambah array ke array\n",
    "a + b\n",
    "\n"
   ]
  },
  {
   "cell_type": "markdown",
   "id": "87248f38",
   "metadata": {},
   "source": [
    "CRUD - Create Read Update Delete\n",
    "\n",
    "## Create\n",
    "\n",
    "cara membuat numpy array\n"
   ]
  },
  {
   "cell_type": "code",
   "execution_count": 4,
   "id": "7dc79fd0",
   "metadata": {},
   "outputs": [
    {
     "name": "stdout",
     "output_type": "stream",
     "text": [
      "[1 2 3]\n",
      "<class 'numpy.ndarray'>\n"
     ]
    }
   ],
   "source": [
    "# 1. ubah list jadi numpy array dengan function np.array()\n",
    "\n",
    "a = np.array([1, 2, 3])\n",
    "print(a)\n",
    "print(type(a))"
   ]
  },
  {
   "cell_type": "code",
   "execution_count": 58,
   "id": "1c9baac2",
   "metadata": {},
   "outputs": [
    {
     "name": "stdout",
     "output_type": "stream",
     "text": [
      "[[1 2 3]\n",
      " [4 5 6]]\n"
     ]
    }
   ],
   "source": [
    "a2 = np.array([[1, 2, 3], [4, 5, 6]])\n",
    "print(a2)"
   ]
  },
  {
   "cell_type": "code",
   "execution_count": 5,
   "id": "3f1f6cd1",
   "metadata": {},
   "outputs": [
    {
     "name": "stdout",
     "output_type": "stream",
     "text": [
      "1\n",
      "1\n",
      "2\n",
      "3\n"
     ]
    }
   ],
   "source": [
    "import numpy as np\n",
    "a = np.array([42])\n",
    "b = np.array([1, 2, 3, 4, 5])\n",
    "c = np.array([[1, 2, 3], [4, 5, 6]])\n",
    "d = np.array([[[1, 2, 3], [4, 5, 6]], [[1, 2, 3], [4, 5, 6]]])\n",
    "\n",
    "print(a.ndim)\n",
    "print(b.ndim)\n",
    "print(c.ndim)\n",
    "print(d.ndim)"
   ]
  },
  {
   "cell_type": "code",
   "execution_count": 7,
   "id": "2f8826eb",
   "metadata": {},
   "outputs": [
    {
     "name": "stdout",
     "output_type": "stream",
     "text": [
      "[1. 1. 1.]\n",
      "<class 'numpy.ndarray'>\n"
     ]
    }
   ],
   "source": [
    "# 2. kita bisa buat numpy array yang isinya angka 1 semua\n",
    "\n",
    "b = np.ones(3)\n",
    "print(b)\n",
    "print(type(b))"
   ]
  },
  {
   "cell_type": "code",
   "execution_count": 7,
   "id": "582a6062",
   "metadata": {},
   "outputs": [
    {
     "name": "stdout",
     "output_type": "stream",
     "text": [
      "[[3. 3. 3. 3.]\n",
      " [3. 3. 3. 3.]\n",
      " [3. 3. 3. 3.]]\n"
     ]
    }
   ],
   "source": [
    "b2 = np.ones((3, 4)) * 3\n",
    "print(b2)"
   ]
  },
  {
   "cell_type": "code",
   "execution_count": 9,
   "id": "410e046b",
   "metadata": {},
   "outputs": [
    {
     "name": "stdout",
     "output_type": "stream",
     "text": [
      "[0. 0. 0. 0. 0.]\n",
      "<class 'numpy.ndarray'>\n"
     ]
    }
   ],
   "source": [
    "# 2b. kita bisa buat numpy array yang isinya angka 0 semua\n",
    "\n",
    "b = np.zeros(5)\n",
    "print(b)\n",
    "print(type(b))"
   ]
  },
  {
   "cell_type": "code",
   "execution_count": 62,
   "id": "1e587640",
   "metadata": {},
   "outputs": [
    {
     "name": "stdout",
     "output_type": "stream",
     "text": [
      "[[8. 8. 8.]\n",
      " [8. 8. 8.]\n",
      " [8. 8. 8.]\n",
      " [8. 8. 8.]\n",
      " [8. 8. 8.]]\n"
     ]
    }
   ],
   "source": [
    "b2 = np.zeros((5, 3)) + 8\n",
    "print(b2)"
   ]
  },
  {
   "cell_type": "code",
   "execution_count": 12,
   "id": "b3af073f",
   "metadata": {},
   "outputs": [
    {
     "name": "stdout",
     "output_type": "stream",
     "text": [
      "[0 1 2 3 4]\n",
      "[18 19 20 21 22 23 24 25 26 27 28 29]\n",
      "[ 3000  2200  1400   600  -200 -1000 -1800 -2600]\n"
     ]
    }
   ],
   "source": [
    "# 3. kita bisa buat numpy array yang isinya angka urut, kayak range\n",
    "\n",
    "# 5 angka dari 0 +1 +1 sampai ada 5 angka\n",
    "c = np.arange(5)\n",
    "print(c)\n",
    "\n",
    "# start, end, incrementnya +1\n",
    "c = np.arange(18, 30)\n",
    "print(c)\n",
    "\n",
    "# start, end, increment\n",
    "c = np.arange(3000, -3000, -800)\n",
    "print(c)"
   ]
  },
  {
   "cell_type": "code",
   "execution_count": 10,
   "id": "7acf79d1",
   "metadata": {},
   "outputs": [
    {
     "name": "stdout",
     "output_type": "stream",
     "text": [
      "[[0 1]\n",
      " [2 3]\n",
      " [4 5]]\n",
      "---\n",
      "[[ 17  34]\n",
      " [ 51  68]\n",
      " [ 85 102]]\n"
     ]
    }
   ],
   "source": [
    "c2 = np.arange(6).reshape((3, 2))\n",
    "print(c2)\n",
    "\n",
    "print(\"---\")\n",
    "\n",
    "# start end increment\n",
    "c2 = np.arange(17, 110, 17).reshape((3, 2))\n",
    "print(c2)"
   ]
  },
  {
   "cell_type": "code",
   "execution_count": 12,
   "id": "9e3cae40",
   "metadata": {},
   "outputs": [
    {
     "name": "stdout",
     "output_type": "stream",
     "text": [
      "[0.71399574 0.43915224 0.47267952 0.1975985  0.20339029 0.49806994\n",
      " 0.10573299 0.98400276 0.56927965 0.83170109]\n",
      "[0.44620537 0.24464018 0.91272691 0.73276779 0.35807179 0.70175911\n",
      " 0.83361041 0.67555375 0.65805574 0.05413458]\n"
     ]
    }
   ],
   "source": [
    "# untuk latihan biasanya kita suka bikin2 angka random\n",
    "# 4. kita pakai randomizer\n",
    "\n",
    "d = np.random.random(10)\n",
    "print(d)\n",
    "\n",
    "\n",
    "j = np.random.random (10)\n",
    "print(j)"
   ]
  },
  {
   "cell_type": "code",
   "execution_count": 72,
   "id": "99a053a9",
   "metadata": {},
   "outputs": [
    {
     "name": "stdout",
     "output_type": "stream",
     "text": [
      "[[0.73408928 0.09687259 0.41314339 0.56006812 0.63631171]\n",
      " [0.18603733 0.188702   0.77935335 0.72719524 0.70193587]]\n"
     ]
    }
   ],
   "source": [
    "d2 = np.random.random(10).reshape((2, 5))\n",
    "print(d2)"
   ]
  },
  {
   "cell_type": "markdown",
   "id": "fa486d51",
   "metadata": {},
   "source": [
    "dia akan buatkan angka random antara 0 dan 1\n",
    "\n",
    "tapi angka antara 0 dan 1 ini kan jarang kita perlukan, biasanya kita mau test buat data random spesifik.\n",
    "\n",
    "kita bisa pakai teknik \"broadcast\" dan just roundup/ roundown untuk membuat dataset yang kita mau\n"
   ]
  },
  {
   "cell_type": "code",
   "execution_count": 18,
   "id": "9f458b39",
   "metadata": {},
   "outputs": [
    {
     "data": {
      "text/plain": [
       "array([62.26155874, 60.75833117, 62.78498697, 61.53242719, 62.09819513,\n",
       "       62.1339106 , 62.22731387, 61.31383255, 60.36948883, 60.46042581])"
      ]
     },
     "execution_count": 18,
     "metadata": {},
     "output_type": "execute_result"
    }
   ],
   "source": [
    "(d + 20) * 3"
   ]
  },
  {
   "cell_type": "code",
   "execution_count": 19,
   "id": "a63f016d",
   "metadata": {},
   "outputs": [
    {
     "data": {
      "text/plain": [
       "array([3, 1, 5, 1, 4, 5, 4, 3, 6, 5, 4, 2, 2, 6, 3, 6, 4, 4, 6, 3, 4, 2,\n",
       "       5, 6, 3, 3, 3, 6, 1, 1, 4, 3, 4, 4, 4, 6, 1, 6, 5, 2, 6, 5, 1, 4,\n",
       "       2, 6, 3, 2, 6, 3, 1, 2, 1, 6, 5, 2, 1, 6, 4, 5, 4, 5, 3, 4, 6, 5,\n",
       "       6, 3, 4, 5, 1, 6, 4, 3, 2, 3, 3, 5, 5, 5, 3, 3, 6, 4, 6, 2, 3, 3,\n",
       "       6, 1, 5, 2, 6, 4, 3, 5, 3, 3, 4, 1])"
      ]
     },
     "execution_count": 19,
     "metadata": {},
     "output_type": "execute_result"
    }
   ],
   "source": [
    "# contoh, dataset hasil lempar dadu (1-6) 100x\n",
    "\n",
    "#dadu100 = ((np.random.random(100) * 6) + 1).astype(int)\n",
    "dadu100 = (np.random.random(100) *6 + 1).astype(int)\n",
    "dadu100"
   ]
  },
  {
   "cell_type": "markdown",
   "id": "5bba0e27",
   "metadata": {},
   "source": [
    "selain random.random kita bisa juga generate data dummy seperti ini dengan distribusi data tipe lain misalnya normal distribution\n"
   ]
  },
  {
   "cell_type": "markdown",
   "id": "1ca44fe5",
   "metadata": {},
   "source": [
    "## Read\n",
    "\n",
    "kita bisa ambil data dari numpy array menggunakan:\n",
    "\n",
    "- indexing (ambil 1 angka dengan 1 index)\n",
    "- slicing (ambil beberapa angka dengan beberapa index)\n"
   ]
  },
  {
   "cell_type": "code",
   "execution_count": 20,
   "id": "53496662",
   "metadata": {},
   "outputs": [
    {
     "data": {
      "text/plain": [
       "np.int64(5)"
      ]
     },
     "execution_count": 20,
     "metadata": {},
     "output_type": "execute_result"
    }
   ],
   "source": [
    "# kita mau ambil hasil lempar dadu ke-10\n",
    "dadu100[9]"
   ]
  },
  {
   "cell_type": "code",
   "execution_count": 21,
   "id": "0845b461",
   "metadata": {},
   "outputs": [
    {
     "data": {
      "text/plain": [
       "array([5, 3, 1, 2, 3])"
      ]
     },
     "execution_count": 21,
     "metadata": {},
     "output_type": "execute_result"
    }
   ],
   "source": [
    "# kita mau ambil hasil lempar dadu ke-10,20,30,40,50\n",
    "dadu100[[9, 19, 29, 39, 49]]"
   ]
  },
  {
   "cell_type": "code",
   "execution_count": 22,
   "id": "550764bb",
   "metadata": {},
   "outputs": [
    {
     "data": {
      "text/plain": [
       "array([5, 3, 1, 2, 3])"
      ]
     },
     "execution_count": 22,
     "metadata": {},
     "output_type": "execute_result"
    }
   ],
   "source": [
    "# untuk slicing kita bisa pakai range kalau kita punya pattern tertentu\n",
    "dadu100[range(9, 50, 10)]"
   ]
  },
  {
   "cell_type": "code",
   "execution_count": 23,
   "id": "d3b78d4a",
   "metadata": {},
   "outputs": [
    {
     "data": {
      "text/plain": [
       "array([5, 1, 4, 5, 4, 3])"
      ]
     },
     "execution_count": 23,
     "metadata": {},
     "output_type": "execute_result"
    }
   ],
   "source": [
    "# kalau mau ambil beberapa item yang urut juga bisa\n",
    "# misalnya hasil lempar ke 3-8\n",
    "dadu100[2:8]"
   ]
  },
  {
   "cell_type": "markdown",
   "id": "4b2dd31d",
   "metadata": {},
   "source": [
    "# Numpy array 2D\n",
    "\n",
    "create dan read\n",
    "\n",
    "- cek jumlah dimensi, \"shape\", \"ndim\"\n",
    "- cek total item dalam array, \"size\"\n",
    "- jadi perlu 2 set index untuk indexing dan slicing\n",
    "- ubah dari 1D ke 2D dan sebaliknya kita gunakan \"reshape\"\n"
   ]
  },
  {
   "cell_type": "code",
   "execution_count": 24,
   "id": "8bc70ac4",
   "metadata": {},
   "outputs": [
    {
     "data": {
      "text/plain": [
       "array([[2, 1, 6, 1, 6, 5, 2, 6, 2, 5],\n",
       "       [4, 2, 2, 5, 6, 3, 5, 1, 3, 5],\n",
       "       [1, 5, 2, 1, 3, 6, 4, 2, 4, 2]])"
      ]
     },
     "execution_count": 24,
     "metadata": {},
     "output_type": "execute_result"
    }
   ],
   "source": [
    "# mau buat hasil lempar dadu 10x oleh 3org berbeda\n",
    "# 3 row, 10 column\n",
    "\n",
    "dadu3 = ((np.random.random(30) * 6) + 1).astype(int)\n",
    "dadu3 = dadu3.reshape((3, 10))\n",
    "dadu3"
   ]
  },
  {
   "cell_type": "code",
   "execution_count": 25,
   "id": "bdf3889e",
   "metadata": {},
   "outputs": [
    {
     "name": "stdout",
     "output_type": "stream",
     "text": [
      "(3, 10) (jumlah_row, jumlah_col)\n",
      "2 jumlah dimensi np array ini\n",
      "30 jumlah item dalam np array ini\n"
     ]
    }
   ],
   "source": [
    "# shape, ndim, size\n",
    "print(dadu3.shape, \"(jumlah_row, jumlah_col)\")\n",
    "print(dadu3.ndim, \"jumlah dimensi np array ini\")\n",
    "print(dadu3.size, \"jumlah item dalam np array ini\")"
   ]
  },
  {
   "cell_type": "code",
   "execution_count": 26,
   "id": "64478f7b",
   "metadata": {},
   "outputs": [
    {
     "data": {
      "text/plain": [
       "np.int64(2)"
      ]
     },
     "execution_count": 26,
     "metadata": {},
     "output_type": "execute_result"
    }
   ],
   "source": [
    "# indexing dan slicing\n",
    "\n",
    "# ambil hasil lempar dadu orang ke-3, lemparan ke-8\n",
    "dadu3[(2, 7)]\n",
    "dadu3[2, 7]\n",
    "\n",
    "# index 1 item di numpy array 2D bentuknya jadi tuple (row, col)"
   ]
  },
  {
   "cell_type": "code",
   "execution_count": 27,
   "id": "7768aa62",
   "metadata": {},
   "outputs": [
    {
     "data": {
      "text/plain": [
       "array([6, 1, 2])"
      ]
     },
     "execution_count": 27,
     "metadata": {},
     "output_type": "execute_result"
    }
   ],
   "source": [
    "# ambil hasil lempar dadu semua orang, lemparan ke-8\n",
    "dadu3[:, 7]\n",
    "dadu3[0:4, 7]"
   ]
  },
  {
   "cell_type": "code",
   "execution_count": 28,
   "id": "fb434100",
   "metadata": {},
   "outputs": [
    {
     "data": {
      "text/plain": [
       "array([[2, 1, 6, 1, 6, 5, 2, 6, 2, 5],\n",
       "       [4, 2, 2, 5, 6, 3, 5, 1, 3, 5],\n",
       "       [1, 5, 2, 1, 3, 6, 4, 2, 4, 2]])"
      ]
     },
     "execution_count": 28,
     "metadata": {},
     "output_type": "execute_result"
    }
   ],
   "source": [
    "dadu3"
   ]
  },
  {
   "cell_type": "code",
   "execution_count": 29,
   "id": "87343a9f",
   "metadata": {},
   "outputs": [
    {
     "data": {
      "text/plain": [
       "array([[6, 2],\n",
       "       [1, 3]])"
      ]
     },
     "execution_count": 29,
     "metadata": {},
     "output_type": "execute_result"
    }
   ],
   "source": [
    "# hasil lempar dadu orang ke 1 dan 2 (row 0 dan 1), lemparan ke 8 dan 9 (col 7 dan 8)\n",
    "dadu3[0:2, 7:9]"
   ]
  },
  {
   "cell_type": "markdown",
   "id": "c2930a4b",
   "metadata": {},
   "source": [
    "## Operations\n",
    "\n",
    "Membuat kalkulasi matematik dengan numpy array\n",
    "\n",
    "Misalnya kita punya stok barang dan harga beli, harga jual, kita mau hitung profit\n"
   ]
  },
  {
   "cell_type": "code",
   "execution_count": 48,
   "id": "5df8b763",
   "metadata": {},
   "outputs": [
    {
     "name": "stdout",
     "output_type": "stream",
     "text": [
      "[10 30  4 12  5  8]\n",
      "[1000 2000 3000 4000 5000 6000]\n",
      "[1300. 2600. 3900. 5200. 6500. 7800.]\n"
     ]
    }
   ],
   "source": [
    "n_stok = np.array([10, 30, 4, 12, 5, 8])\n",
    "n_beli = np.arange(1000, 7000, 1000)\n",
    "n_jual = n_beli * 1.3\n",
    "\n",
    "print(n_stok)\n",
    "print(n_beli)\n",
    "print(n_jual)"
   ]
  },
  {
   "cell_type": "code",
   "execution_count": 50,
   "id": "453c30be",
   "metadata": {},
   "outputs": [
    {
     "data": {
      "text/plain": [
       "array([ 300.,  600.,  900., 1200., 1500., 1800.])"
      ]
     },
     "execution_count": 50,
     "metadata": {},
     "output_type": "execute_result"
    }
   ],
   "source": [
    "# hitung profit per penjualan\n",
    "n_profit_per_item = n_jual - n_beli\n",
    "n_profit_per_item"
   ]
  },
  {
   "cell_type": "code",
   "execution_count": null,
   "id": "84405438",
   "metadata": {},
   "outputs": [
    {
     "data": {
      "text/plain": [
       "60900.0"
      ]
     },
     "execution_count": 52,
     "metadata": {},
     "output_type": "execute_result"
    }
   ],
   "source": [
    "# kalau terjual habis\n",
    "total_profit = n_profit_per_item * n_stok\n",
    "total_profit.sum()  # total"
   ]
  },
  {
   "cell_type": "code",
   "execution_count": null,
   "id": "134d12e0",
   "metadata": {},
   "outputs": [
    {
     "data": {
      "text/plain": [
       "10150.0"
      ]
     },
     "execution_count": 53,
     "metadata": {},
     "output_type": "execute_result"
    }
   ],
   "source": [
    "# rata-rata\n",
    "total_profit.mean()"
   ]
  },
  {
   "cell_type": "code",
   "execution_count": 55,
   "id": "900ae447",
   "metadata": {},
   "outputs": [
    {
     "name": "stdout",
     "output_type": "stream",
     "text": [
      "3000.0 18000.0\n"
     ]
    }
   ],
   "source": [
    "print(total_profit.min(), total_profit.max())"
   ]
  },
  {
   "cell_type": "code",
   "execution_count": 56,
   "id": "5cd8f309",
   "metadata": {},
   "outputs": [
    {
     "data": {
      "text/plain": [
       "10950.0"
      ]
     },
     "execution_count": 56,
     "metadata": {},
     "output_type": "execute_result"
    }
   ],
   "source": [
    "np.median(total_profit)"
   ]
  },
  {
   "cell_type": "markdown",
   "id": "405c827b",
   "metadata": {},
   "source": [
    "## Matrices\n",
    "\n",
    "Numpy array 2 dimensi dimana setiap row punya jumlah kolom yang sama (tidak bolong bolong) dan tentu isinya angka semua\n",
    "\n",
    "contoh: https://docs.google.com/spreadsheets/d/1s9IpaaXUrYPHcni8daiplru8zly1mtn67CIMmUb15aQ/edit?usp=sharing\n",
    "\n",
    "dot product: https://www.mathsisfun.com/algebra/matrix-multiplying.html\n"
   ]
  },
  {
   "cell_type": "code",
   "execution_count": 75,
   "id": "836b62f4",
   "metadata": {},
   "outputs": [
    {
     "data": {
      "text/plain": [
       "array([[ 5,  3,  7],\n",
       "       [10,  1,  2]])"
      ]
     },
     "execution_count": 75,
     "metadata": {},
     "output_type": "execute_result"
    }
   ],
   "source": [
    "# dot product\n",
    "m_roti = np.array([[5, 3, 7],\n",
    "                   [10, 1, 2]])\n",
    "m_hargaroti = np.array([2000, 3000, 1500]).reshape((3, 1))\n",
    "\n",
    "m_roti"
   ]
  },
  {
   "cell_type": "code",
   "execution_count": 76,
   "id": "0113689c",
   "metadata": {},
   "outputs": [
    {
     "data": {
      "text/plain": [
       "array([[2000],\n",
       "       [3000],\n",
       "       [1500]])"
      ]
     },
     "execution_count": 76,
     "metadata": {},
     "output_type": "execute_result"
    }
   ],
   "source": [
    "m_hargaroti"
   ]
  },
  {
   "cell_type": "code",
   "execution_count": 77,
   "id": "4d256f0a",
   "metadata": {},
   "outputs": [
    {
     "data": {
      "text/plain": [
       "array([[29500],\n",
       "       [26000]])"
      ]
     },
     "execution_count": 77,
     "metadata": {},
     "output_type": "execute_result"
    }
   ],
   "source": [
    "m_roti.dot(m_hargaroti)"
   ]
  },
  {
   "cell_type": "markdown",
   "id": "0aa7f01f",
   "metadata": {},
   "source": [
    "total penjualan senin 29500, selasa 26000\n"
   ]
  },
  {
   "cell_type": "markdown",
   "id": "b6c99bc9",
   "metadata": {},
   "source": [
    "## Latihan\n"
   ]
  },
  {
   "cell_type": "code",
   "execution_count": 78,
   "id": "87098021",
   "metadata": {},
   "outputs": [
    {
     "data": {
      "text/plain": [
       "9"
      ]
     },
     "execution_count": 78,
     "metadata": {},
     "output_type": "execute_result"
    }
   ],
   "source": [
    "import numpy as np\n",
    "\n",
    "data = np.array([3, 1, 4, 1, 5, 9, 2, 6, 5, 3, 5])\n",
    "max(data)"
   ]
  },
  {
   "cell_type": "code",
   "execution_count": 79,
   "id": "2d83a34f",
   "metadata": {},
   "outputs": [
    {
     "data": {
      "text/plain": [
       "9"
      ]
     },
     "execution_count": 79,
     "metadata": {},
     "output_type": "execute_result"
    }
   ],
   "source": [
    "data.max()"
   ]
  },
  {
   "cell_type": "code",
   "execution_count": 80,
   "id": "ed73fb0d",
   "metadata": {},
   "outputs": [
    {
     "data": {
      "text/plain": [
       "1"
      ]
     },
     "execution_count": 80,
     "metadata": {},
     "output_type": "execute_result"
    }
   ],
   "source": [
    "data.min()"
   ]
  },
  {
   "cell_type": "code",
   "execution_count": null,
   "id": "90b5358e",
   "metadata": {},
   "outputs": [],
   "source": []
  }
 ],
 "metadata": {
  "kernelspec": {
   "display_name": "base",
   "language": "python",
   "name": "python3"
  },
  "language_info": {
   "codemirror_mode": {
    "name": "ipython",
    "version": 3
   },
   "file_extension": ".py",
   "mimetype": "text/x-python",
   "name": "python",
   "nbconvert_exporter": "python",
   "pygments_lexer": "ipython3",
   "version": "3.13.5"
  }
 },
 "nbformat": 4,
 "nbformat_minor": 5
}
